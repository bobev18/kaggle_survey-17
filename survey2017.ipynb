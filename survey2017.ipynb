{
 "cells": [
  {
   "cell_type": "code",
   "execution_count": 3,
   "metadata": {
    "collapsed": false
   },
   "outputs": [],
   "source": [
    "import numpy as np\n",
    "import matplotlib.pyplot as plt\n",
    "import pandas as pd\n",
    "import mglearn\n",
    "from IPython.display import display\n",
    "\n",
    "#%matplotlib notebook\n",
    "\n",
    "import sys\n",
    "import sklearn\n",
    "#import pandas as pd\n",
    "import matplotlib as mpl\n",
    "#import matplotlib.pyplot as plt\n",
    "import seaborn as sns\n",
    "\n",
    "import re\n",
    "\n",
    "%matplotlib inline\n",
    "\n",
    "pd.options.display.max_rows = 10"
   ]
  },
  {
   "cell_type": "markdown",
   "metadata": {},
   "source": [
    "### Зареждане и проверка на формата на данните:"
   ]
  },
  {
   "cell_type": "code",
   "execution_count": 4,
   "metadata": {
    "collapsed": false
   },
   "outputs": [
    {
     "name": "stdout",
     "output_type": "stream",
     "text": [
      "multiple choice: (16716, 228)\n",
      "free form: (16716, 62)\n"
     ]
    }
   ],
   "source": [
    "multi = pd.read_csv('data/multipleChoiceResponses.csv', encoding='latin_1', low_memory=False)\n",
    "free  = pd.read_csv('data/freeformResponses.csv', encoding='latin_1', low_memory=False)\n",
    "print('multiple choice:', multi.shape)\n",
    "print('free form:', free.shape)"
   ]
  },
  {
   "cell_type": "markdown",
   "metadata": {},
   "source": [
    "Ще започна с `multiple coice` данните, защото ми се вижда по-лесно."
   ]
  },
  {
   "cell_type": "markdown",
   "metadata": {
    "collapsed": true
   },
   "source": [
    "### Наименования на колоните"
   ]
  },
  {
   "cell_type": "code",
   "execution_count": 5,
   "metadata": {
    "collapsed": false
   },
   "outputs": [
    {
     "data": {
      "text/plain": [
       "Index(['GenderSelect', 'Country', 'Age', 'EmploymentStatus', 'StudentStatus',\n",
       "       'LearningDataScience', 'CodeWriter', 'CareerSwitcher',\n",
       "       'CurrentJobTitleSelect', 'TitleFit',\n",
       "       ...\n",
       "       'JobFactorExperienceLevel', 'JobFactorDepartment', 'JobFactorTitle',\n",
       "       'JobFactorCompanyFunding', 'JobFactorImpact', 'JobFactorRemote',\n",
       "       'JobFactorIndustry', 'JobFactorLeaderReputation', 'JobFactorDiversity',\n",
       "       'JobFactorPublishingOpportunity'],\n",
       "      dtype='object', length=228)"
      ]
     },
     "execution_count": 5,
     "metadata": {},
     "output_type": "execute_result"
    }
   ],
   "source": [
    "multi.columns"
   ]
  },
  {
   "cell_type": "markdown",
   "metadata": {},
   "source": [
    "Всъщност имаме фаил с информация за колоните. Да не забравя, че тук може да се изпълняват bash команди."
   ]
  },
  {
   "cell_type": "code",
   "execution_count": 6,
   "metadata": {
    "collapsed": false
   },
   "outputs": [
    {
     "name": "stdout",
     "output_type": "stream",
     "text": [
      "Column,Question,Asked\r",
      "\r\n",
      "GenderSelect,Select your gender identity. - Selected Choice,All\r",
      "\r\n",
      "GenderFreeForm,Select your gender identity. - A different identity - Text,All\r",
      "\r\n",
      "Country,Select the country you currently live in.,All\r",
      "\r\n",
      "Age,What's your age?,All\r",
      "\r\n",
      "EmploymentStatus,What's your current employment status?,All\r",
      "\r\n",
      "StudentStatus,Are you currently enrolled as a student at a degree granting school?,Non-worker\r",
      "\r\n",
      "LearningDataScience,Are you currently focused on learning data science skills either formally or informally?,Non-worker\r",
      "\r\n",
      "KaggleMotivationFreeForm,What's your motivation for being a Kaggle user?,Non-switcher\r",
      "\r\n",
      "CodeWriter,\"Do you write code to analyze data in your current job, freelance contracts, or most recent job if retired?\",Worker1\r",
      "\r\n"
     ]
    }
   ],
   "source": [
    "!head data/schema.csv"
   ]
  },
  {
   "cell_type": "markdown",
   "metadata": {},
   "source": [
    "schema.csv файла съдържа информация за:\n",
    " * наименованието на колоната използвано в другите файлове\n",
    " * въпроса зададен в анкетата, на който съответстват отговорите в данните\n",
    " * дали въпроса е за \"множествен избор\" или в свободна форма\n",
    " * дали въпроса е зададен на определена подгрупа респонденти"
   ]
  },
  {
   "cell_type": "markdown",
   "metadata": {},
   "source": [
    "<a name=\"numeric_column_names\"></a>Повечето от данните са категории а не числови 😣."
   ]
  },
  {
   "cell_type": "code",
   "execution_count": 7,
   "metadata": {
    "collapsed": false,
    "scrolled": true
   },
   "outputs": [
    {
     "name": "stdout",
     "output_type": "stream",
     "text": [
      "Index(['Age', 'LearningCategorySelftTaught', 'LearningCategoryOnlineCourses',\n",
      "       'LearningCategoryWork', 'LearningCategoryUniversity',\n",
      "       'LearningCategoryKaggle', 'LearningCategoryOther', 'TimeGatheringData',\n",
      "       'TimeModelBuilding', 'TimeProduction', 'TimeVisualizing',\n",
      "       'TimeFindingInsights', 'TimeOtherSelect'],\n",
      "      dtype='object')\n"
     ]
    }
   ],
   "source": [
    "numeric_column_names = multi.describe().columns\n",
    "print(numeric_column_names)"
   ]
  },
  {
   "cell_type": "markdown",
   "metadata": {},
   "source": [
    "Колко празни са колоните с числови стойности? ([модел](#model))"
   ]
  },
  {
   "cell_type": "code",
   "execution_count": 8,
   "metadata": {
    "collapsed": false,
    "scrolled": true
   },
   "outputs": [
    {
     "name": "stdout",
     "output_type": "stream",
     "text": [
      "Age # not NaNs: 331\n",
      "LearningCategorySelftTaught # not NaNs: 3607\n",
      "LearningCategoryOnlineCourses # not NaNs: 3590\n",
      "LearningCategoryWork # not NaNs: 3605\n",
      "LearningCategoryUniversity # not NaNs: 3594\n",
      "LearningCategoryKaggle # not NaNs: 3590\n",
      "LearningCategoryOther # not NaNs: 3622\n",
      "TimeGatheringData # not NaNs: 9186\n",
      "TimeModelBuilding # not NaNs: 9188\n",
      "TimeProduction # not NaNs: 9199\n",
      "TimeVisualizing # not NaNs: 9187\n",
      "TimeFindingInsights # not NaNs: 9193\n",
      "TimeOtherSelect # not NaNs: 9203\n"
     ]
    }
   ],
   "source": [
    "for col in numeric_column_names:\n",
    "    print(col, '# not NaNs:', sum(multi[col].isnull()))"
   ]
  },
  {
   "cell_type": "markdown",
   "metadata": {},
   "source": [
    "### Статистика на избрани колони:"
   ]
  },
  {
   "cell_type": "markdown",
   "metadata": {},
   "source": [
    "#### Пол"
   ]
  },
  {
   "cell_type": "code",
   "execution_count": 9,
   "metadata": {
    "collapsed": false
   },
   "outputs": [
    {
     "name": "stdout",
     "output_type": "stream",
     "text": [
      "Male                                                 13610\n",
      "Female                                                2778\n",
      "A different identity                                   159\n",
      "Non-binary, genderqueer, or gender non-conforming       74\n",
      "Name: GenderSelect, dtype: int64\n"
     ]
    }
   ],
   "source": [
    "print(multi.GenderSelect.value_counts())"
   ]
  },
  {
   "cell_type": "markdown",
   "metadata": {},
   "source": [
    "Може и графгики:"
   ]
  },
  {
   "cell_type": "code",
   "execution_count": 10,
   "metadata": {
    "collapsed": false
   },
   "outputs": [
    {
     "data": {
      "image/png": "[encoded data removed]",
      "text/plain": [
       "<matplotlib.figure.Figure at 0x7ff03a011c50>"
      ]
     },
     "metadata": {},
     "output_type": "display_data"
    }
   ],
   "source": [
    "multi.GenderSelect.value_counts().plot(kind='bar');#, legend=True);"
   ]
  },
  {
   "cell_type": "markdown",
   "metadata": {},
   "source": [
    "#### Държава:"
   ]
  },
  {
   "cell_type": "code",
   "execution_count": 11,
   "metadata": {
    "collapsed": false
   },
   "outputs": [
    {
     "name": "stdout",
     "output_type": "stream",
     "text": [
      "United States     4197\n",
      "India             2704\n",
      "Other             1023\n",
      "Russia             578\n",
      "United Kingdom     535\n",
      "                  ... \n",
      "Romania             59\n",
      "Belarus             54\n",
      "Norway              53\n",
      "Czech Republic      53\n",
      "Chile               51\n",
      "Name: Country, Length: 52, dtype: int64\n"
     ]
    }
   ],
   "source": [
    "print(multi.Country.value_counts())"
   ]
  },
  {
   "cell_type": "markdown",
   "metadata": {},
   "source": [
    "Целта на курса е догодина България да е в статистиката 😆"
   ]
  },
  {
   "cell_type": "markdown",
   "metadata": {},
   "source": [
    "#### Възраст:"
   ]
  },
  {
   "cell_type": "code",
   "execution_count": 12,
   "metadata": {
    "collapsed": false
   },
   "outputs": [
    {
     "name": "stdout",
     "output_type": "stream",
     "text": [
      "25.0    969\n",
      "24.0    898\n",
      "26.0    886\n",
      "27.0    842\n",
      "23.0    839\n",
      "       ... \n",
      "83.0      1\n",
      "94.0      1\n",
      "10.0      1\n",
      "82.0      1\n",
      "9.0       1\n",
      "Name: Age, Length: 84, dtype: int64\n"
     ]
    }
   ],
   "source": [
    "print(multi.Age.value_counts());"
   ]
  },
  {
   "cell_type": "markdown",
   "metadata": {},
   "source": [
    "Интересно - точно десет от анкетираните са на 100 години 👴. Да видим и графично."
   ]
  },
  {
   "cell_type": "code",
   "execution_count": 13,
   "metadata": {
    "collapsed": false
   },
   "outputs": [
    {
     "name": "stdout",
     "output_type": "stream",
     "text": [
      "cannot convert float NaN to integer\n"
     ]
    },
    {
     "data": {
      "image/png": "[encoded data removed]",
      "text/plain": [
       "<matplotlib.figure.Figure at 0x7feff714fb70>"
      ]
     },
     "metadata": {},
     "output_type": "display_data"
    }
   ],
   "source": [
    "try:\n",
    "    sns.distplot(multi.Age);\n",
    "except ValueError as e:\n",
    "    print(e)"
   ]
  },
  {
   "cell_type": "markdown",
   "metadata": {},
   "source": [
    "Разбира се че ще има NaNs. Втори опит:"
   ]
  },
  {
   "cell_type": "code",
   "execution_count": 14,
   "metadata": {
    "collapsed": false
   },
   "outputs": [
    {
     "data": {
      "image/png": "[encoded data removed]",
      "text/plain": [
       "<matplotlib.figure.Figure at 0x7feff70a2668>"
      ]
     },
     "metadata": {},
     "output_type": "display_data"
    }
   ],
   "source": [
    "sns.distplot(multi.Age[multi.Age.notnull()]);"
   ]
  },
  {
   "cell_type": "markdown",
   "metadata": {},
   "source": [
    "#### Заплати:"
   ]
  },
  {
   "cell_type": "code",
   "execution_count": 15,
   "metadata": {
    "collapsed": false
   },
   "outputs": [
    {
     "name": "stdout",
     "output_type": "stream",
     "text": [
      "unsupported operand type(s) for /: 'str' and 'int'\n"
     ]
    },
    {
     "data": {
      "image/png": "[encoded data removed]",
      "text/plain": [
       "<matplotlib.figure.Figure at 0x7feff6fe51d0>"
      ]
     },
     "metadata": {},
     "output_type": "display_data"
    }
   ],
   "source": [
    "try:\n",
    "    sns.distplot(multi.CompensationAmount[multi.CompensationAmount.notnull()]);\n",
    "except TypeError as e:\n",
    "    print(e)"
   ]
  },
  {
   "cell_type": "markdown",
   "metadata": {},
   "source": [
    "Чудесно, сега и типа ще оправяме. След малко опити установих, че това е някаква легендарна структура, която миксира `float` за NaNs и `String` за числовите стойности:"
   ]
  },
  {
   "cell_type": "code",
   "execution_count": 16,
   "metadata": {
    "collapsed": false
   },
   "outputs": [
    {
     "name": "stdout",
     "output_type": "stream",
     "text": [
      "nan <class 'float'>\n",
      "nan <class 'float'>\n",
      "nan <class 'float'>\n",
      "250,000 <class 'str'>\n",
      "nan <class 'float'>\n",
      "nan <class 'float'>\n",
      "nan <class 'float'>\n",
      "nan <class 'float'>\n",
      "80000 <class 'str'>\n",
      "1200000 <class 'str'>\n",
      "nan <class 'float'>\n",
      "95,000 <class 'str'>\n",
      "nan <class 'float'>\n",
      "nan <class 'float'>\n",
      "1100000 <class 'str'>\n",
      "120,000 <class 'str'>\n",
      "nan <class 'float'>\n",
      "nan <class 'float'>\n",
      "nan <class 'float'>\n",
      "nan <class 'float'>\n"
     ]
    }
   ],
   "source": [
    "multi[:20].CompensationAmount.apply(lambda x: print(x, type(x)));"
   ]
  },
  {
   "cell_type": "markdown",
   "metadata": {},
   "source": [
    "Следващия ред по принцип работи, но дава \"FUTURE WARNING\" 😕! (Отрязването [:0] е за да демонстрирам Warning-a без да печатам данните.)"
   ]
  },
  {
   "cell_type": "code",
   "execution_count": 17,
   "metadata": {
    "collapsed": false
   },
   "outputs": [
    {
     "name": "stderr",
     "output_type": "stream",
     "text": [
      "/home/bob/.local/lib/python3.6/site-packages/ipykernel_launcher.py:1: FutureWarning: convert_objects is deprecated.  To re-infer data dtypes for object columns, use Series.infer_objects()\n",
      "For all other conversions use the data-type specific converters pd.to_datetime, pd.to_timedelta and pd.to_numeric.\n",
      "  \"\"\"Entry point for launching an IPython kernel.\n"
     ]
    },
    {
     "data": {
      "text/plain": [
       "Series([], Name: CompensationAmount, dtype: object)"
      ]
     },
     "execution_count": 17,
     "metadata": {},
     "output_type": "execute_result"
    }
   ],
   "source": [
    "multi[:0].CompensationAmount.convert_objects(convert_numeric=True)"
   ]
  },
  {
   "cell_type": "markdown",
   "metadata": {},
   "source": [
    "Ще пробвам да сменя типа по друг начин:"
   ]
  },
  {
   "cell_type": "code",
   "execution_count": 18,
   "metadata": {
    "collapsed": false
   },
   "outputs": [
    {
     "name": "stdout",
     "output_type": "stream",
     "text": [
      "Unable to parse string \"250,000\" at position 3\n"
     ]
    }
   ],
   "source": [
    "try:\n",
    "    pd.to_numeric(multi.CompensationAmount, errors='raise')\n",
    "except ValueError as e:\n",
    "    print(e)"
   ]
  },
  {
   "cell_type": "markdown",
   "metadata": {},
   "source": [
    "Освен запетайка за хилядите, имаме още един чупещ символ - тире. Преди да презапишем в дата фрейма ще направим проверка."
   ]
  },
  {
   "cell_type": "code",
   "execution_count": 19,
   "metadata": {
    "collapsed": false
   },
   "outputs": [
    {
     "data": {
      "text/html": [
       "<div>\n",
       "<style scoped>\n",
       "    .dataframe tbody tr th:only-of-type {\n",
       "        vertical-align: middle;\n",
       "    }\n",
       "\n",
       "    .dataframe tbody tr th {\n",
       "        vertical-align: top;\n",
       "    }\n",
       "\n",
       "    .dataframe thead th {\n",
       "        text-align: right;\n",
       "    }\n",
       "</style>\n",
       "<table border=\"1\" class=\"dataframe\">\n",
       "  <thead>\n",
       "    <tr style=\"text-align: right;\">\n",
       "      <th></th>\n",
       "      <th>new</th>\n",
       "      <th>original</th>\n",
       "    </tr>\n",
       "  </thead>\n",
       "  <tbody>\n",
       "    <tr>\n",
       "      <th>10364</th>\n",
       "      <td>NaN</td>\n",
       "      <td>NaN</td>\n",
       "    </tr>\n",
       "    <tr>\n",
       "      <th>10365</th>\n",
       "      <td>NaN</td>\n",
       "      <td>-</td>\n",
       "    </tr>\n",
       "    <tr>\n",
       "      <th>10366</th>\n",
       "      <td>NaN</td>\n",
       "      <td>NaN</td>\n",
       "    </tr>\n",
       "    <tr>\n",
       "      <th>10367</th>\n",
       "      <td>NaN</td>\n",
       "      <td>NaN</td>\n",
       "    </tr>\n",
       "    <tr>\n",
       "      <th>10368</th>\n",
       "      <td>NaN</td>\n",
       "      <td>NaN</td>\n",
       "    </tr>\n",
       "    <tr>\n",
       "      <th>10369</th>\n",
       "      <td>NaN</td>\n",
       "      <td>NaN</td>\n",
       "    </tr>\n",
       "    <tr>\n",
       "      <th>10370</th>\n",
       "      <td>12000000.0</td>\n",
       "      <td>12,000,000</td>\n",
       "    </tr>\n",
       "    <tr>\n",
       "      <th>10371</th>\n",
       "      <td>NaN</td>\n",
       "      <td>NaN</td>\n",
       "    </tr>\n",
       "    <tr>\n",
       "      <th>10372</th>\n",
       "      <td>130000.0</td>\n",
       "      <td>130000</td>\n",
       "    </tr>\n",
       "    <tr>\n",
       "      <th>10373</th>\n",
       "      <td>90000.0</td>\n",
       "      <td>90000</td>\n",
       "    </tr>\n",
       "  </tbody>\n",
       "</table>\n",
       "</div>"
      ],
      "text/plain": [
       "              new    original\n",
       "10364         NaN         NaN\n",
       "10365         NaN           -\n",
       "10366         NaN         NaN\n",
       "10367         NaN         NaN\n",
       "10368         NaN         NaN\n",
       "10369         NaN         NaN\n",
       "10370  12000000.0  12,000,000\n",
       "10371         NaN         NaN\n",
       "10372    130000.0      130000\n",
       "10373     90000.0       90000"
      ]
     },
     "execution_count": 19,
     "metadata": {},
     "output_type": "execute_result"
    }
   ],
   "source": [
    "temp = pd.to_numeric(multi.CompensationAmount.str.replace(',', '').replace('-', ''), errors='raise')\n",
    "pd.DataFrame(data={'original': multi.CompensationAmount.iloc[10364:10374], 'new': temp[10364:10374]})"
   ]
  },
  {
   "cell_type": "markdown",
   "metadata": {},
   "source": [
    "Сега да омажем DataFrame-a"
   ]
  },
  {
   "cell_type": "code",
   "execution_count": 20,
   "metadata": {
    "collapsed": false
   },
   "outputs": [],
   "source": [
    "multi.CompensationAmount = pd.to_numeric(multi.CompensationAmount.str.replace(',', '').str.replace('-', ''), errors='raise')"
   ]
  },
  {
   "cell_type": "markdown",
   "metadata": {},
   "source": [
    "Графика"
   ]
  },
  {
   "cell_type": "code",
   "execution_count": 21,
   "metadata": {
    "collapsed": false
   },
   "outputs": [
    {
     "data": {
      "image/png": "[encoded data removed]",
      "text/plain": [
       "<matplotlib.figure.Figure at 0x7feff2771e80>"
      ]
     },
     "metadata": {},
     "output_type": "display_data"
    }
   ],
   "source": [
    "sns.distplot(multi.CompensationAmount[multi.CompensationAmount.notnull()]);"
   ]
  },
  {
   "cell_type": "markdown",
   "metadata": {},
   "source": [
    "Я, някакви високи стойности изкривяват графиката."
   ]
  },
  {
   "cell_type": "code",
   "execution_count": 22,
   "metadata": {
    "collapsed": false
   },
   "outputs": [
    {
     "name": "stdout",
     "output_type": "stream",
     "text": [
      "       CompensationAmount\n",
      "10525                 0.0\n",
      "11978                 0.0\n",
      "5960                  0.0\n",
      "1693                  0.0\n",
      "6420                  0.0\n",
      "       CompensationAmount\n",
      "9747         7.500000e+08\n",
      "13418        8.000000e+08\n",
      "5761         1.194000e+09\n",
      "804          1.000000e+11\n",
      "5458         1.000000e+11\n"
     ]
    }
   ],
   "source": [
    "compensation = pd.DataFrame(multi.CompensationAmount[multi.CompensationAmount.notnull()])\n",
    "print(compensation.sort_values('CompensationAmount').head(5))\n",
    "print(compensation.sort_values('CompensationAmount').tail(5))"
   ]
  },
  {
   "cell_type": "markdown",
   "metadata": {},
   "source": [
    "Да видим дали превръщането към една валута ще помогне:"
   ]
  },
  {
   "cell_type": "code",
   "execution_count": 23,
   "metadata": {
    "collapsed": false
   },
   "outputs": [
    {
     "data": {
      "text/html": [
       "<div>\n",
       "<style scoped>\n",
       "    .dataframe tbody tr th:only-of-type {\n",
       "        vertical-align: middle;\n",
       "    }\n",
       "\n",
       "    .dataframe tbody tr th {\n",
       "        vertical-align: top;\n",
       "    }\n",
       "\n",
       "    .dataframe thead th {\n",
       "        text-align: right;\n",
       "    }\n",
       "</style>\n",
       "<table border=\"1\" class=\"dataframe\">\n",
       "  <thead>\n",
       "    <tr style=\"text-align: right;\">\n",
       "      <th></th>\n",
       "      <th>Unnamed: 0</th>\n",
       "      <th>originCountry</th>\n",
       "      <th>exchangeRate</th>\n",
       "    </tr>\n",
       "  </thead>\n",
       "  <tbody>\n",
       "    <tr>\n",
       "      <th>0</th>\n",
       "      <td>1</td>\n",
       "      <td>USD</td>\n",
       "      <td>1.000000</td>\n",
       "    </tr>\n",
       "    <tr>\n",
       "      <th>1</th>\n",
       "      <td>2</td>\n",
       "      <td>EUR</td>\n",
       "      <td>1.195826</td>\n",
       "    </tr>\n",
       "    <tr>\n",
       "      <th>2</th>\n",
       "      <td>3</td>\n",
       "      <td>INR</td>\n",
       "      <td>0.015620</td>\n",
       "    </tr>\n",
       "    <tr>\n",
       "      <th>3</th>\n",
       "      <td>4</td>\n",
       "      <td>GBP</td>\n",
       "      <td>1.324188</td>\n",
       "    </tr>\n",
       "    <tr>\n",
       "      <th>4</th>\n",
       "      <td>5</td>\n",
       "      <td>BRL</td>\n",
       "      <td>0.321350</td>\n",
       "    </tr>\n",
       "    <tr>\n",
       "      <th>5</th>\n",
       "      <td>6</td>\n",
       "      <td>RUB</td>\n",
       "      <td>0.017402</td>\n",
       "    </tr>\n",
       "    <tr>\n",
       "      <th>6</th>\n",
       "      <td>7</td>\n",
       "      <td>CAD</td>\n",
       "      <td>0.823688</td>\n",
       "    </tr>\n",
       "    <tr>\n",
       "      <th>7</th>\n",
       "      <td>8</td>\n",
       "      <td>AUD</td>\n",
       "      <td>0.802310</td>\n",
       "    </tr>\n",
       "    <tr>\n",
       "      <th>8</th>\n",
       "      <td>9</td>\n",
       "      <td>JPY</td>\n",
       "      <td>0.009108</td>\n",
       "    </tr>\n",
       "    <tr>\n",
       "      <th>9</th>\n",
       "      <td>10</td>\n",
       "      <td>CNY</td>\n",
       "      <td>0.153000</td>\n",
       "    </tr>\n",
       "  </tbody>\n",
       "</table>\n",
       "</div>"
      ],
      "text/plain": [
       "   Unnamed: 0 originCountry  exchangeRate\n",
       "0           1           USD      1.000000\n",
       "1           2           EUR      1.195826\n",
       "2           3           INR      0.015620\n",
       "3           4           GBP      1.324188\n",
       "4           5           BRL      0.321350\n",
       "5           6           RUB      0.017402\n",
       "6           7           CAD      0.823688\n",
       "7           8           AUD      0.802310\n",
       "8           9           JPY      0.009108\n",
       "9          10           CNY      0.153000"
      ]
     },
     "execution_count": 23,
     "metadata": {},
     "output_type": "execute_result"
    }
   ],
   "source": [
    "rates = pd.read_csv('data/conversionRates.csv', encoding='latin_1', low_memory=False)\n",
    "rates[:10]"
   ]
  },
  {
   "cell_type": "markdown",
   "metadata": {},
   "source": [
    "Искам да ползвам валутния код за индекс - за целта стойностите трябва да са уникални:"
   ]
  },
  {
   "cell_type": "code",
   "execution_count": 24,
   "metadata": {
    "collapsed": false
   },
   "outputs": [
    {
     "name": "stdout",
     "output_type": "stream",
     "text": [
      "Има ли дупликати в originCountry? False\n"
     ]
    }
   ],
   "source": [
    "print('Има ли дупликати в originCountry?', all(rates.originCountry.duplicated()))"
   ]
  },
  {
   "cell_type": "markdown",
   "metadata": {},
   "source": [
    "Тогава да сменим индекса:"
   ]
  },
  {
   "cell_type": "code",
   "execution_count": 25,
   "metadata": {
    "collapsed": false
   },
   "outputs": [
    {
     "name": "stdout",
     "output_type": "stream",
     "text": [
      "Index(['Unnamed: 0', 'exchangeRate'], dtype='object')\n"
     ]
    }
   ],
   "source": [
    "rates = rates.set_index('originCountry')\n",
    "print(rates.columns)"
   ]
  },
  {
   "cell_type": "markdown",
   "metadata": {},
   "source": [
    "Да разкараме излишната колона:"
   ]
  },
  {
   "cell_type": "code",
   "execution_count": 26,
   "metadata": {
    "collapsed": false,
    "scrolled": true
   },
   "outputs": [
    {
     "data": {
      "text/html": [
       "<div>\n",
       "<style scoped>\n",
       "    .dataframe tbody tr th:only-of-type {\n",
       "        vertical-align: middle;\n",
       "    }\n",
       "\n",
       "    .dataframe tbody tr th {\n",
       "        vertical-align: top;\n",
       "    }\n",
       "\n",
       "    .dataframe thead th {\n",
       "        text-align: right;\n",
       "    }\n",
       "</style>\n",
       "<table border=\"1\" class=\"dataframe\">\n",
       "  <thead>\n",
       "    <tr style=\"text-align: right;\">\n",
       "      <th></th>\n",
       "      <th>exchangeRate</th>\n",
       "    </tr>\n",
       "    <tr>\n",
       "      <th>originCountry</th>\n",
       "      <th></th>\n",
       "    </tr>\n",
       "  </thead>\n",
       "  <tbody>\n",
       "    <tr>\n",
       "      <th>USD</th>\n",
       "      <td>1.000000</td>\n",
       "    </tr>\n",
       "    <tr>\n",
       "      <th>EUR</th>\n",
       "      <td>1.195826</td>\n",
       "    </tr>\n",
       "    <tr>\n",
       "      <th>INR</th>\n",
       "      <td>0.015620</td>\n",
       "    </tr>\n",
       "    <tr>\n",
       "      <th>GBP</th>\n",
       "      <td>1.324188</td>\n",
       "    </tr>\n",
       "    <tr>\n",
       "      <th>BRL</th>\n",
       "      <td>0.321350</td>\n",
       "    </tr>\n",
       "    <tr>\n",
       "      <th>RUB</th>\n",
       "      <td>0.017402</td>\n",
       "    </tr>\n",
       "    <tr>\n",
       "      <th>CAD</th>\n",
       "      <td>0.823688</td>\n",
       "    </tr>\n",
       "    <tr>\n",
       "      <th>AUD</th>\n",
       "      <td>0.802310</td>\n",
       "    </tr>\n",
       "    <tr>\n",
       "      <th>JPY</th>\n",
       "      <td>0.009108</td>\n",
       "    </tr>\n",
       "    <tr>\n",
       "      <th>CNY</th>\n",
       "      <td>0.153000</td>\n",
       "    </tr>\n",
       "  </tbody>\n",
       "</table>\n",
       "</div>"
      ],
      "text/plain": [
       "               exchangeRate\n",
       "originCountry              \n",
       "USD                1.000000\n",
       "EUR                1.195826\n",
       "INR                0.015620\n",
       "GBP                1.324188\n",
       "BRL                0.321350\n",
       "RUB                0.017402\n",
       "CAD                0.823688\n",
       "AUD                0.802310\n",
       "JPY                0.009108\n",
       "CNY                0.153000"
      ]
     },
     "execution_count": 26,
     "metadata": {},
     "output_type": "execute_result"
    }
   ],
   "source": [
    "rates = rates.drop('Unnamed: 0', axis=1)\n",
    "rates[:10]"
   ]
  },
  {
   "cell_type": "markdown",
   "metadata": {},
   "source": [
    "Сега да проверим какви са данните за влутния код - има ли стойности в compensation за които липсва код"
   ]
  },
  {
   "cell_type": "code",
   "execution_count": 27,
   "metadata": {
    "collapsed": false
   },
   "outputs": [
    {
     "name": "stdout",
     "output_type": "stream",
     "text": [
      "общо данни: 16716 \n",
      "не-NaN compensation: 5217 \n",
      "не-NaN compensation с валутен код NaN: 843\n",
      "ползваеми данни: 4374\n"
     ]
    }
   ],
   "source": [
    "side_by_side = pd.DataFrame(data={'compensation': multi.CompensationAmount,\n",
    "                                  'code': multi.CompensationCurrency})\n",
    "print('общо данни:', len(side_by_side), '\\nне-NaN compensation:',\n",
    "      sum(side_by_side['compensation'].notnull()),\n",
    "      '\\nне-NaN compensation с валутен код NaN:',\n",
    "      sum(side_by_side.code[side_by_side['compensation'].notnull()].isnull()))\n",
    "\n",
    "some_partial_df = side_by_side.code[side_by_side['compensation'].notnull()]\n",
    "another_partial_df = some_partial_df[some_partial_df.notnull()]\n",
    "print('ползваеми данни:', len(another_partial_df))\n",
    "# another_partial_df"
   ]
  },
  {
   "cell_type": "markdown",
   "metadata": {},
   "source": [
    "Тъй като искам само да видя нормална графика, няма да бутам основния дата фрейм а ще си направя нов, който съдържа само данните с които ще чартая."
   ]
  },
  {
   "cell_type": "code",
   "execution_count": 28,
   "metadata": {
    "collapsed": false
   },
   "outputs": [
    {
     "data": {
      "text/html": [
       "<div>\n",
       "<style scoped>\n",
       "    .dataframe tbody tr th:only-of-type {\n",
       "        vertical-align: middle;\n",
       "    }\n",
       "\n",
       "    .dataframe tbody tr th {\n",
       "        vertical-align: top;\n",
       "    }\n",
       "\n",
       "    .dataframe thead th {\n",
       "        text-align: right;\n",
       "    }\n",
       "</style>\n",
       "<table border=\"1\" class=\"dataframe\">\n",
       "  <thead>\n",
       "    <tr style=\"text-align: right;\">\n",
       "      <th></th>\n",
       "      <th>GenderSelect</th>\n",
       "      <th>Country</th>\n",
       "      <th>Age</th>\n",
       "      <th>EmploymentStatus</th>\n",
       "      <th>StudentStatus</th>\n",
       "      <th>LearningDataScience</th>\n",
       "      <th>CodeWriter</th>\n",
       "      <th>CareerSwitcher</th>\n",
       "      <th>CurrentJobTitleSelect</th>\n",
       "      <th>TitleFit</th>\n",
       "      <th>...</th>\n",
       "      <th>JobFactorExperienceLevel</th>\n",
       "      <th>JobFactorDepartment</th>\n",
       "      <th>JobFactorTitle</th>\n",
       "      <th>JobFactorCompanyFunding</th>\n",
       "      <th>JobFactorImpact</th>\n",
       "      <th>JobFactorRemote</th>\n",
       "      <th>JobFactorIndustry</th>\n",
       "      <th>JobFactorLeaderReputation</th>\n",
       "      <th>JobFactorDiversity</th>\n",
       "      <th>JobFactorPublishingOpportunity</th>\n",
       "    </tr>\n",
       "  </thead>\n",
       "  <tbody>\n",
       "    <tr>\n",
       "      <th>3</th>\n",
       "      <td>Male</td>\n",
       "      <td>United States</td>\n",
       "      <td>56.0</td>\n",
       "      <td>Independent contractor, freelancer, or self-em...</td>\n",
       "      <td>NaN</td>\n",
       "      <td>NaN</td>\n",
       "      <td>Yes</td>\n",
       "      <td>NaN</td>\n",
       "      <td>Operations Research Practitioner</td>\n",
       "      <td>Poorly</td>\n",
       "      <td>...</td>\n",
       "      <td>NaN</td>\n",
       "      <td>NaN</td>\n",
       "      <td>NaN</td>\n",
       "      <td>NaN</td>\n",
       "      <td>NaN</td>\n",
       "      <td>NaN</td>\n",
       "      <td>NaN</td>\n",
       "      <td>NaN</td>\n",
       "      <td>NaN</td>\n",
       "      <td>NaN</td>\n",
       "    </tr>\n",
       "    <tr>\n",
       "      <th>8</th>\n",
       "      <td>Female</td>\n",
       "      <td>Australia</td>\n",
       "      <td>43.0</td>\n",
       "      <td>Employed full-time</td>\n",
       "      <td>NaN</td>\n",
       "      <td>NaN</td>\n",
       "      <td>Yes</td>\n",
       "      <td>NaN</td>\n",
       "      <td>Business Analyst</td>\n",
       "      <td>Fine</td>\n",
       "      <td>...</td>\n",
       "      <td>NaN</td>\n",
       "      <td>NaN</td>\n",
       "      <td>NaN</td>\n",
       "      <td>NaN</td>\n",
       "      <td>NaN</td>\n",
       "      <td>NaN</td>\n",
       "      <td>NaN</td>\n",
       "      <td>NaN</td>\n",
       "      <td>NaN</td>\n",
       "      <td>NaN</td>\n",
       "    </tr>\n",
       "    <tr>\n",
       "      <th>9</th>\n",
       "      <td>Male</td>\n",
       "      <td>Russia</td>\n",
       "      <td>33.0</td>\n",
       "      <td>Employed full-time</td>\n",
       "      <td>NaN</td>\n",
       "      <td>NaN</td>\n",
       "      <td>Yes</td>\n",
       "      <td>NaN</td>\n",
       "      <td>Software Developer/Software Engineer</td>\n",
       "      <td>Fine</td>\n",
       "      <td>...</td>\n",
       "      <td>NaN</td>\n",
       "      <td>NaN</td>\n",
       "      <td>NaN</td>\n",
       "      <td>NaN</td>\n",
       "      <td>NaN</td>\n",
       "      <td>NaN</td>\n",
       "      <td>NaN</td>\n",
       "      <td>NaN</td>\n",
       "      <td>NaN</td>\n",
       "      <td>NaN</td>\n",
       "    </tr>\n",
       "    <tr>\n",
       "      <th>11</th>\n",
       "      <td>Male</td>\n",
       "      <td>India</td>\n",
       "      <td>27.0</td>\n",
       "      <td>Employed full-time</td>\n",
       "      <td>NaN</td>\n",
       "      <td>NaN</td>\n",
       "      <td>Yes</td>\n",
       "      <td>NaN</td>\n",
       "      <td>Data Scientist</td>\n",
       "      <td>Fine</td>\n",
       "      <td>...</td>\n",
       "      <td>NaN</td>\n",
       "      <td>NaN</td>\n",
       "      <td>NaN</td>\n",
       "      <td>NaN</td>\n",
       "      <td>NaN</td>\n",
       "      <td>NaN</td>\n",
       "      <td>NaN</td>\n",
       "      <td>NaN</td>\n",
       "      <td>NaN</td>\n",
       "      <td>NaN</td>\n",
       "    </tr>\n",
       "    <tr>\n",
       "      <th>14</th>\n",
       "      <td>Male</td>\n",
       "      <td>Taiwan</td>\n",
       "      <td>26.0</td>\n",
       "      <td>Employed full-time</td>\n",
       "      <td>NaN</td>\n",
       "      <td>NaN</td>\n",
       "      <td>Yes</td>\n",
       "      <td>NaN</td>\n",
       "      <td>Software Developer/Software Engineer</td>\n",
       "      <td>Fine</td>\n",
       "      <td>...</td>\n",
       "      <td>NaN</td>\n",
       "      <td>NaN</td>\n",
       "      <td>NaN</td>\n",
       "      <td>NaN</td>\n",
       "      <td>NaN</td>\n",
       "      <td>NaN</td>\n",
       "      <td>NaN</td>\n",
       "      <td>NaN</td>\n",
       "      <td>NaN</td>\n",
       "      <td>NaN</td>\n",
       "    </tr>\n",
       "    <tr>\n",
       "      <th>...</th>\n",
       "      <td>...</td>\n",
       "      <td>...</td>\n",
       "      <td>...</td>\n",
       "      <td>...</td>\n",
       "      <td>...</td>\n",
       "      <td>...</td>\n",
       "      <td>...</td>\n",
       "      <td>...</td>\n",
       "      <td>...</td>\n",
       "      <td>...</td>\n",
       "      <td>...</td>\n",
       "      <td>...</td>\n",
       "      <td>...</td>\n",
       "      <td>...</td>\n",
       "      <td>...</td>\n",
       "      <td>...</td>\n",
       "      <td>...</td>\n",
       "      <td>...</td>\n",
       "      <td>...</td>\n",
       "      <td>...</td>\n",
       "      <td>...</td>\n",
       "    </tr>\n",
       "    <tr>\n",
       "      <th>16507</th>\n",
       "      <td>Male</td>\n",
       "      <td>Other</td>\n",
       "      <td>56.0</td>\n",
       "      <td>Employed full-time</td>\n",
       "      <td>NaN</td>\n",
       "      <td>NaN</td>\n",
       "      <td>Yes</td>\n",
       "      <td>NaN</td>\n",
       "      <td>DBA/Database Engineer</td>\n",
       "      <td>Poorly</td>\n",
       "      <td>...</td>\n",
       "      <td>NaN</td>\n",
       "      <td>NaN</td>\n",
       "      <td>NaN</td>\n",
       "      <td>NaN</td>\n",
       "      <td>NaN</td>\n",
       "      <td>NaN</td>\n",
       "      <td>NaN</td>\n",
       "      <td>NaN</td>\n",
       "      <td>NaN</td>\n",
       "      <td>NaN</td>\n",
       "    </tr>\n",
       "    <tr>\n",
       "      <th>16517</th>\n",
       "      <td>Male</td>\n",
       "      <td>Germany</td>\n",
       "      <td>34.0</td>\n",
       "      <td>Employed full-time</td>\n",
       "      <td>NaN</td>\n",
       "      <td>NaN</td>\n",
       "      <td>Yes</td>\n",
       "      <td>NaN</td>\n",
       "      <td>Software Developer/Software Engineer</td>\n",
       "      <td>Fine</td>\n",
       "      <td>...</td>\n",
       "      <td>NaN</td>\n",
       "      <td>NaN</td>\n",
       "      <td>NaN</td>\n",
       "      <td>NaN</td>\n",
       "      <td>NaN</td>\n",
       "      <td>NaN</td>\n",
       "      <td>NaN</td>\n",
       "      <td>NaN</td>\n",
       "      <td>NaN</td>\n",
       "      <td>NaN</td>\n",
       "    </tr>\n",
       "    <tr>\n",
       "      <th>16525</th>\n",
       "      <td>Male</td>\n",
       "      <td>United States</td>\n",
       "      <td>50.0</td>\n",
       "      <td>Employed full-time</td>\n",
       "      <td>NaN</td>\n",
       "      <td>NaN</td>\n",
       "      <td>Yes</td>\n",
       "      <td>NaN</td>\n",
       "      <td>Data Scientist</td>\n",
       "      <td>Perfectly</td>\n",
       "      <td>...</td>\n",
       "      <td>NaN</td>\n",
       "      <td>NaN</td>\n",
       "      <td>NaN</td>\n",
       "      <td>NaN</td>\n",
       "      <td>NaN</td>\n",
       "      <td>NaN</td>\n",
       "      <td>NaN</td>\n",
       "      <td>NaN</td>\n",
       "      <td>NaN</td>\n",
       "      <td>NaN</td>\n",
       "    </tr>\n",
       "    <tr>\n",
       "      <th>16577</th>\n",
       "      <td>Male</td>\n",
       "      <td>Norway</td>\n",
       "      <td>32.0</td>\n",
       "      <td>Employed full-time</td>\n",
       "      <td>NaN</td>\n",
       "      <td>NaN</td>\n",
       "      <td>Yes</td>\n",
       "      <td>NaN</td>\n",
       "      <td>Data Analyst</td>\n",
       "      <td>Perfectly</td>\n",
       "      <td>...</td>\n",
       "      <td>NaN</td>\n",
       "      <td>NaN</td>\n",
       "      <td>NaN</td>\n",
       "      <td>NaN</td>\n",
       "      <td>NaN</td>\n",
       "      <td>NaN</td>\n",
       "      <td>NaN</td>\n",
       "      <td>NaN</td>\n",
       "      <td>NaN</td>\n",
       "      <td>NaN</td>\n",
       "    </tr>\n",
       "    <tr>\n",
       "      <th>16700</th>\n",
       "      <td>Male</td>\n",
       "      <td>South Korea</td>\n",
       "      <td>45.0</td>\n",
       "      <td>Independent contractor, freelancer, or self-em...</td>\n",
       "      <td>NaN</td>\n",
       "      <td>NaN</td>\n",
       "      <td>Yes</td>\n",
       "      <td>NaN</td>\n",
       "      <td>Data Scientist</td>\n",
       "      <td>Fine</td>\n",
       "      <td>...</td>\n",
       "      <td>NaN</td>\n",
       "      <td>NaN</td>\n",
       "      <td>NaN</td>\n",
       "      <td>NaN</td>\n",
       "      <td>NaN</td>\n",
       "      <td>NaN</td>\n",
       "      <td>NaN</td>\n",
       "      <td>NaN</td>\n",
       "      <td>NaN</td>\n",
       "      <td>NaN</td>\n",
       "    </tr>\n",
       "  </tbody>\n",
       "</table>\n",
       "<p>4374 rows × 228 columns</p>\n",
       "</div>"
      ],
      "text/plain": [
       "      GenderSelect        Country   Age  \\\n",
       "3             Male  United States  56.0   \n",
       "8           Female      Australia  43.0   \n",
       "9             Male         Russia  33.0   \n",
       "11            Male          India  27.0   \n",
       "14            Male         Taiwan  26.0   \n",
       "...            ...            ...   ...   \n",
       "16507         Male          Other  56.0   \n",
       "16517         Male        Germany  34.0   \n",
       "16525         Male  United States  50.0   \n",
       "16577         Male         Norway  32.0   \n",
       "16700         Male    South Korea  45.0   \n",
       "\n",
       "                                        EmploymentStatus StudentStatus  \\\n",
       "3      Independent contractor, freelancer, or self-em...           NaN   \n",
       "8                                     Employed full-time           NaN   \n",
       "9                                     Employed full-time           NaN   \n",
       "11                                    Employed full-time           NaN   \n",
       "14                                    Employed full-time           NaN   \n",
       "...                                                  ...           ...   \n",
       "16507                                 Employed full-time           NaN   \n",
       "16517                                 Employed full-time           NaN   \n",
       "16525                                 Employed full-time           NaN   \n",
       "16577                                 Employed full-time           NaN   \n",
       "16700  Independent contractor, freelancer, or self-em...           NaN   \n",
       "\n",
       "      LearningDataScience CodeWriter CareerSwitcher  \\\n",
       "3                     NaN        Yes            NaN   \n",
       "8                     NaN        Yes            NaN   \n",
       "9                     NaN        Yes            NaN   \n",
       "11                    NaN        Yes            NaN   \n",
       "14                    NaN        Yes            NaN   \n",
       "...                   ...        ...            ...   \n",
       "16507                 NaN        Yes            NaN   \n",
       "16517                 NaN        Yes            NaN   \n",
       "16525                 NaN        Yes            NaN   \n",
       "16577                 NaN        Yes            NaN   \n",
       "16700                 NaN        Yes            NaN   \n",
       "\n",
       "                      CurrentJobTitleSelect   TitleFit  \\\n",
       "3          Operations Research Practitioner     Poorly   \n",
       "8                          Business Analyst       Fine   \n",
       "9      Software Developer/Software Engineer       Fine   \n",
       "11                           Data Scientist       Fine   \n",
       "14     Software Developer/Software Engineer       Fine   \n",
       "...                                     ...        ...   \n",
       "16507                 DBA/Database Engineer     Poorly   \n",
       "16517  Software Developer/Software Engineer       Fine   \n",
       "16525                        Data Scientist  Perfectly   \n",
       "16577                          Data Analyst  Perfectly   \n",
       "16700                        Data Scientist       Fine   \n",
       "\n",
       "                   ...               JobFactorExperienceLevel  \\\n",
       "3                  ...                                    NaN   \n",
       "8                  ...                                    NaN   \n",
       "9                  ...                                    NaN   \n",
       "11                 ...                                    NaN   \n",
       "14                 ...                                    NaN   \n",
       "...                ...                                    ...   \n",
       "16507              ...                                    NaN   \n",
       "16517              ...                                    NaN   \n",
       "16525              ...                                    NaN   \n",
       "16577              ...                                    NaN   \n",
       "16700              ...                                    NaN   \n",
       "\n",
       "      JobFactorDepartment JobFactorTitle JobFactorCompanyFunding  \\\n",
       "3                     NaN            NaN                     NaN   \n",
       "8                     NaN            NaN                     NaN   \n",
       "9                     NaN            NaN                     NaN   \n",
       "11                    NaN            NaN                     NaN   \n",
       "14                    NaN            NaN                     NaN   \n",
       "...                   ...            ...                     ...   \n",
       "16507                 NaN            NaN                     NaN   \n",
       "16517                 NaN            NaN                     NaN   \n",
       "16525                 NaN            NaN                     NaN   \n",
       "16577                 NaN            NaN                     NaN   \n",
       "16700                 NaN            NaN                     NaN   \n",
       "\n",
       "      JobFactorImpact JobFactorRemote JobFactorIndustry  \\\n",
       "3                 NaN             NaN               NaN   \n",
       "8                 NaN             NaN               NaN   \n",
       "9                 NaN             NaN               NaN   \n",
       "11                NaN             NaN               NaN   \n",
       "14                NaN             NaN               NaN   \n",
       "...               ...             ...               ...   \n",
       "16507             NaN             NaN               NaN   \n",
       "16517             NaN             NaN               NaN   \n",
       "16525             NaN             NaN               NaN   \n",
       "16577             NaN             NaN               NaN   \n",
       "16700             NaN             NaN               NaN   \n",
       "\n",
       "      JobFactorLeaderReputation JobFactorDiversity  \\\n",
       "3                           NaN                NaN   \n",
       "8                           NaN                NaN   \n",
       "9                           NaN                NaN   \n",
       "11                          NaN                NaN   \n",
       "14                          NaN                NaN   \n",
       "...                         ...                ...   \n",
       "16507                       NaN                NaN   \n",
       "16517                       NaN                NaN   \n",
       "16525                       NaN                NaN   \n",
       "16577                       NaN                NaN   \n",
       "16700                       NaN                NaN   \n",
       "\n",
       "      JobFactorPublishingOpportunity  \n",
       "3                                NaN  \n",
       "8                                NaN  \n",
       "9                                NaN  \n",
       "11                               NaN  \n",
       "14                               NaN  \n",
       "...                              ...  \n",
       "16507                            NaN  \n",
       "16517                            NaN  \n",
       "16525                            NaN  \n",
       "16577                            NaN  \n",
       "16700                            NaN  \n",
       "\n",
       "[4374 rows x 228 columns]"
      ]
     },
     "execution_count": 28,
     "metadata": {},
     "output_type": "execute_result"
    }
   ],
   "source": [
    "plotable_compensation = multi.dropna(axis=0, subset=['CompensationCurrency', 'CompensationAmount'])\n",
    "plotable_compensation"
   ]
  },
  {
   "cell_type": "markdown",
   "metadata": {},
   "source": [
    "Да калкулираме компенсацията в USD:"
   ]
  },
  {
   "cell_type": "code",
   "execution_count": 29,
   "metadata": {
    "collapsed": false
   },
   "outputs": [
    {
     "name": "stdout",
     "output_type": "stream",
     "text": [
      "('the label [SPL] is not in the [index]', 'occurred at index 12623')\n"
     ]
    }
   ],
   "source": [
    "try:\n",
    "    plotable_compensation['compensation'] = plotable_compensation.apply(lambda row:\n",
    "        row['CompensationAmount'] * rates.loc[row['CompensationCurrency']], axis=1)\n",
    "except KeyError as e:\n",
    "    print(e)"
   ]
  },
  {
   "cell_type": "markdown",
   "metadata": {},
   "source": [
    "Разбира се че ще има нечия заплата дадена в [Себоргийско](https://bg.wikipedia.org/wiki/%D0%A1%D0%B5%D0%B1%D0%BE%D1%80%D0%B3%D0%B0) Луиджино, а други изненади има ли?"
   ]
  },
  {
   "cell_type": "code",
   "execution_count": 30,
   "metadata": {
    "collapsed": false
   },
   "outputs": [
    {
     "data": {
      "text/plain": [
       "{'SPL'}"
      ]
     },
     "execution_count": 30,
     "metadata": {},
     "output_type": "execute_result"
    }
   ],
   "source": [
    "set(plotable_compensation.CompensationCurrency.unique()) - set(rates.index)"
   ]
  },
  {
   "cell_type": "markdown",
   "metadata": {},
   "source": [
    "Просто ще го добавим - проверих курса USD/SPL = 6"
   ]
  },
  {
   "cell_type": "code",
   "execution_count": 31,
   "metadata": {
    "collapsed": false
   },
   "outputs": [
    {
     "name": "stdout",
     "output_type": "stream",
     "text": [
      "Валути използвани в multipleChoiceResponses.csv, но липсващи в conversionRates.csv: []\n"
     ]
    }
   ],
   "source": [
    "rates.loc['SPL'] = 6.0\n",
    "print('Валути използвани в multipleChoiceResponses.csv, но липсващи в conversionRates.csv:',\\\n",
    "      list(set(plotable_compensation.CompensationCurrency.unique()) - set(rates.index)))"
   ]
  },
  {
   "cell_type": "markdown",
   "metadata": {},
   "source": [
    "Пореден опит за калкулираме компенсацията в USD:"
   ]
  },
  {
   "cell_type": "code",
   "execution_count": 32,
   "metadata": {
    "collapsed": false
   },
   "outputs": [
    {
     "name": "stderr",
     "output_type": "stream",
     "text": [
      "/home/bob/.local/lib/python3.6/site-packages/ipykernel_launcher.py:2: SettingWithCopyWarning: \n",
      "A value is trying to be set on a copy of a slice from a DataFrame.\n",
      "Try using .loc[row_indexer,col_indexer] = value instead\n",
      "\n",
      "See the caveats in the documentation: http://pandas.pydata.org/pandas-docs/stable/indexing.html#indexing-view-versus-copy\n",
      "  \n"
     ]
    },
    {
     "data": {
      "text/plain": [
       "3        250000.000\n",
       "8         64184.800\n",
       "9         20882.400\n",
       "11         1483.900\n",
       "14        36634.400\n",
       "            ...    \n",
       "16507     50000.000\n",
       "16517    100449.384\n",
       "16525    200000.000\n",
       "16577     89686.950\n",
       "16700     10000.000\n",
       "Name: compensation, Length: 4374, dtype: float64"
      ]
     },
     "execution_count": 32,
     "metadata": {},
     "output_type": "execute_result"
    }
   ],
   "source": [
    "plotable_compensation['compensation'] = plotable_compensation.apply(\n",
    "    lambda row: row['CompensationAmount'] * rates.loc[row['CompensationCurrency']], axis=1)\n",
    "plotable_compensation.compensation"
   ]
  },
  {
   "cell_type": "markdown",
   "metadata": {},
   "source": [
    "Мина. Да видим графиката:"
   ]
  },
  {
   "cell_type": "code",
   "execution_count": 33,
   "metadata": {
    "collapsed": false
   },
   "outputs": [
    {
     "data": {
      "image/png": "[encoded data removed]",
      "text/plain": [
       "<matplotlib.figure.Figure at 0x7feff2710fd0>"
      ]
     },
     "metadata": {},
     "output_type": "display_data"
    }
   ],
   "source": [
    "fig, axes = plt.subplots(1, 2, figsize=(10, 7), sharey=False)\n",
    "sns.distplot(compensation.CompensationAmount, ax=axes[0])\n",
    "sns.distplot(plotable_compensation.compensation, ax=axes[1]);"
   ]
  },
  {
   "cell_type": "markdown",
   "metadata": {},
   "source": [
    "Явно корекцията от валутния курс не е достатъчна. Да видим данните - какви са тия милиони?"
   ]
  },
  {
   "cell_type": "code",
   "execution_count": 34,
   "metadata": {
    "collapsed": false
   },
   "outputs": [
    {
     "data": {
      "text/html": [
       "<div>\n",
       "<style scoped>\n",
       "    .dataframe tbody tr th:only-of-type {\n",
       "        vertical-align: middle;\n",
       "    }\n",
       "\n",
       "    .dataframe tbody tr th {\n",
       "        vertical-align: top;\n",
       "    }\n",
       "\n",
       "    .dataframe thead th {\n",
       "        text-align: right;\n",
       "    }\n",
       "</style>\n",
       "<table border=\"1\" class=\"dataframe\">\n",
       "  <thead>\n",
       "    <tr style=\"text-align: right;\">\n",
       "      <th></th>\n",
       "      <th>CompensationAmount</th>\n",
       "      <th>compensation</th>\n",
       "      <th>CompensationCurrency</th>\n",
       "      <th>Country</th>\n",
       "    </tr>\n",
       "  </thead>\n",
       "  <tbody>\n",
       "    <tr>\n",
       "      <th>5458</th>\n",
       "      <td>100000000000.00</td>\n",
       "      <td>28297400000.00</td>\n",
       "      <td>ILS</td>\n",
       "      <td>United Kingdom</td>\n",
       "    </tr>\n",
       "    <tr>\n",
       "      <th>804</th>\n",
       "      <td>100000000000.00</td>\n",
       "      <td>209000000.00</td>\n",
       "      <td>AMD</td>\n",
       "      <td>United States</td>\n",
       "    </tr>\n",
       "    <tr>\n",
       "      <th>3013</th>\n",
       "      <td>9999999.00</td>\n",
       "      <td>9999999.00</td>\n",
       "      <td>USD</td>\n",
       "      <td>People 's Republic of China</td>\n",
       "    </tr>\n",
       "    <tr>\n",
       "      <th>15678</th>\n",
       "      <td>14000000.00</td>\n",
       "      <td>4498900.00</td>\n",
       "      <td>BRL</td>\n",
       "      <td>Brazil</td>\n",
       "    </tr>\n",
       "    <tr>\n",
       "      <th>12531</th>\n",
       "      <td>2500000.00</td>\n",
       "      <td>2500000.00</td>\n",
       "      <td>USD</td>\n",
       "      <td>United States</td>\n",
       "    </tr>\n",
       "    <tr>\n",
       "      <th>4481</th>\n",
       "      <td>2400000.00</td>\n",
       "      <td>2395468.80</td>\n",
       "      <td>BSD</td>\n",
       "      <td>Other</td>\n",
       "    </tr>\n",
       "    <tr>\n",
       "      <th>12808</th>\n",
       "      <td>2000000.00</td>\n",
       "      <td>2000000.00</td>\n",
       "      <td>USD</td>\n",
       "      <td>United Kingdom</td>\n",
       "    </tr>\n",
       "    <tr>\n",
       "      <th>11970</th>\n",
       "      <td>25000000.00</td>\n",
       "      <td>1059875.00</td>\n",
       "      <td>ETB</td>\n",
       "      <td>Other</td>\n",
       "    </tr>\n",
       "    <tr>\n",
       "      <th>8880</th>\n",
       "      <td>1000000.00</td>\n",
       "      <td>1000000.00</td>\n",
       "      <td>USD</td>\n",
       "      <td>Taiwan</td>\n",
       "    </tr>\n",
       "    <tr>\n",
       "      <th>1514</th>\n",
       "      <td>1000000.00</td>\n",
       "      <td>1000000.00</td>\n",
       "      <td>USD</td>\n",
       "      <td>United States</td>\n",
       "    </tr>\n",
       "    <tr>\n",
       "      <th>993</th>\n",
       "      <td>1000000.00</td>\n",
       "      <td>1000000.00</td>\n",
       "      <td>USD</td>\n",
       "      <td>United States</td>\n",
       "    </tr>\n",
       "    <tr>\n",
       "      <th>11689</th>\n",
       "      <td>1000000.00</td>\n",
       "      <td>1000000.00</td>\n",
       "      <td>USD</td>\n",
       "      <td>United States</td>\n",
       "    </tr>\n",
       "    <tr>\n",
       "      <th>10601</th>\n",
       "      <td>7000000.00</td>\n",
       "      <td>699090.00</td>\n",
       "      <td>VEF</td>\n",
       "      <td>Other</td>\n",
       "    </tr>\n",
       "    <tr>\n",
       "      <th>12623</th>\n",
       "      <td>115000.00</td>\n",
       "      <td>690000.00</td>\n",
       "      <td>SPL</td>\n",
       "      <td>United States</td>\n",
       "    </tr>\n",
       "    <tr>\n",
       "      <th>2538</th>\n",
       "      <td>450000.00</td>\n",
       "      <td>595884.60</td>\n",
       "      <td>GBP</td>\n",
       "      <td>United Kingdom</td>\n",
       "    </tr>\n",
       "    <tr>\n",
       "      <th>15494</th>\n",
       "      <td>550000.00</td>\n",
       "      <td>550000.00</td>\n",
       "      <td>USD</td>\n",
       "      <td>United States</td>\n",
       "    </tr>\n",
       "    <tr>\n",
       "      <th>9224</th>\n",
       "      <td>500000.00</td>\n",
       "      <td>500000.00</td>\n",
       "      <td>USD</td>\n",
       "      <td>United States</td>\n",
       "    </tr>\n",
       "    <tr>\n",
       "      <th>419</th>\n",
       "      <td>470000.00</td>\n",
       "      <td>470000.00</td>\n",
       "      <td>USD</td>\n",
       "      <td>United States</td>\n",
       "    </tr>\n",
       "    <tr>\n",
       "      <th>9206</th>\n",
       "      <td>3000000.00</td>\n",
       "      <td>459000.00</td>\n",
       "      <td>CNY</td>\n",
       "      <td>People 's Republic of China</td>\n",
       "    </tr>\n",
       "    <tr>\n",
       "      <th>6357</th>\n",
       "      <td>400000.00</td>\n",
       "      <td>400000.00</td>\n",
       "      <td>USD</td>\n",
       "      <td>United States</td>\n",
       "    </tr>\n",
       "  </tbody>\n",
       "</table>\n",
       "</div>"
      ],
      "text/plain": [
       "       CompensationAmount   compensation CompensationCurrency  \\\n",
       "5458      100000000000.00 28297400000.00                  ILS   \n",
       "804       100000000000.00   209000000.00                  AMD   \n",
       "3013           9999999.00     9999999.00                  USD   \n",
       "15678         14000000.00     4498900.00                  BRL   \n",
       "12531          2500000.00     2500000.00                  USD   \n",
       "4481           2400000.00     2395468.80                  BSD   \n",
       "12808          2000000.00     2000000.00                  USD   \n",
       "11970         25000000.00     1059875.00                  ETB   \n",
       "8880           1000000.00     1000000.00                  USD   \n",
       "1514           1000000.00     1000000.00                  USD   \n",
       "993            1000000.00     1000000.00                  USD   \n",
       "11689          1000000.00     1000000.00                  USD   \n",
       "10601          7000000.00      699090.00                  VEF   \n",
       "12623           115000.00      690000.00                  SPL   \n",
       "2538            450000.00      595884.60                  GBP   \n",
       "15494           550000.00      550000.00                  USD   \n",
       "9224            500000.00      500000.00                  USD   \n",
       "419             470000.00      470000.00                  USD   \n",
       "9206           3000000.00      459000.00                  CNY   \n",
       "6357            400000.00      400000.00                  USD   \n",
       "\n",
       "                           Country  \n",
       "5458                United Kingdom  \n",
       "804                  United States  \n",
       "3013   People 's Republic of China  \n",
       "15678                       Brazil  \n",
       "12531                United States  \n",
       "4481                         Other  \n",
       "12808               United Kingdom  \n",
       "11970                        Other  \n",
       "8880                        Taiwan  \n",
       "1514                 United States  \n",
       "993                  United States  \n",
       "11689                United States  \n",
       "10601                        Other  \n",
       "12623                United States  \n",
       "2538                United Kingdom  \n",
       "15494                United States  \n",
       "9224                 United States  \n",
       "419                  United States  \n",
       "9206   People 's Republic of China  \n",
       "6357                 United States  "
      ]
     },
     "execution_count": 34,
     "metadata": {},
     "output_type": "execute_result"
    }
   ],
   "source": [
    "pd.options.display.max_rows = 20\n",
    "pd.set_option('display.float_format', '{:.2f}'.format)\n",
    "\n",
    "selected = plotable_compensation.sort_values('compensation', ascending=False)[['CompensationAmount',\n",
    "                                    'compensation', 'CompensationCurrency', 'Country']]\n",
    "selected.head(20)"
   ]
  },
  {
   "cell_type": "markdown",
   "metadata": {},
   "source": [
    "Не можах да излъжа Pandas, хем да ми форматира числата без научна нотация, хем да маркира с цвят. Плзването на highlight изглежда ресет-ва формата на нотацията. "
   ]
  },
  {
   "cell_type": "code",
   "execution_count": 35,
   "metadata": {
    "collapsed": false
   },
   "outputs": [
    {
     "data": {
      "text/html": [
       "<style  type=\"text/css\" >\n",
       "    #T_088d2eb2_cb7a_11e7_8637_000c292c5b3frow0_col1 {\n",
       "            background:  lightblue;\n",
       "        }    #T_088d2eb2_cb7a_11e7_8637_000c292c5b3frow1_col1 {\n",
       "            background:  lightblue;\n",
       "        }    #T_088d2eb2_cb7a_11e7_8637_000c292c5b3frow2_col1 {\n",
       "            background:  lightblue;\n",
       "        }    #T_088d2eb2_cb7a_11e7_8637_000c292c5b3frow3_col1 {\n",
       "            background:  lightblue;\n",
       "        }    #T_088d2eb2_cb7a_11e7_8637_000c292c5b3frow4_col1 {\n",
       "            background:  lightblue;\n",
       "        }    #T_088d2eb2_cb7a_11e7_8637_000c292c5b3frow5_col1 {\n",
       "            background:  lightblue;\n",
       "        }    #T_088d2eb2_cb7a_11e7_8637_000c292c5b3frow6_col1 {\n",
       "            background:  lightblue;\n",
       "        }    #T_088d2eb2_cb7a_11e7_8637_000c292c5b3frow7_col1 {\n",
       "            background:  lightblue;\n",
       "        }    #T_088d2eb2_cb7a_11e7_8637_000c292c5b3frow8_col1 {\n",
       "            background:  lightblue;\n",
       "        }    #T_088d2eb2_cb7a_11e7_8637_000c292c5b3frow9_col1 {\n",
       "            background:  lightblue;\n",
       "        }    #T_088d2eb2_cb7a_11e7_8637_000c292c5b3frow10_col1 {\n",
       "            background:  lightblue;\n",
       "        }    #T_088d2eb2_cb7a_11e7_8637_000c292c5b3frow11_col1 {\n",
       "            background:  lightblue;\n",
       "        }</style>  \n",
       "<table id=\"T_088d2eb2_cb7a_11e7_8637_000c292c5b3f\" > \n",
       "<thead>    <tr> \n",
       "        <th class=\"blank level0\" ></th> \n",
       "        <th class=\"col_heading level0 col0\" >CompensationAmount</th> \n",
       "        <th class=\"col_heading level0 col1\" >compensation</th> \n",
       "        <th class=\"col_heading level0 col2\" >CompensationCurrency</th> \n",
       "        <th class=\"col_heading level0 col3\" >Country</th> \n",
       "    </tr></thead> \n",
       "<tbody>    <tr> \n",
       "        <th id=\"T_088d2eb2_cb7a_11e7_8637_000c292c5b3flevel0_row0\" class=\"row_heading level0 row0\" >5458</th> \n",
       "        <td id=\"T_088d2eb2_cb7a_11e7_8637_000c292c5b3frow0_col0\" class=\"data row0 col0\" >1e+11</td> \n",
       "        <td id=\"T_088d2eb2_cb7a_11e7_8637_000c292c5b3frow0_col1\" class=\"data row0 col1\" >2.82974e+10</td> \n",
       "        <td id=\"T_088d2eb2_cb7a_11e7_8637_000c292c5b3frow0_col2\" class=\"data row0 col2\" >ILS</td> \n",
       "        <td id=\"T_088d2eb2_cb7a_11e7_8637_000c292c5b3frow0_col3\" class=\"data row0 col3\" >United Kingdom</td> \n",
       "    </tr>    <tr> \n",
       "        <th id=\"T_088d2eb2_cb7a_11e7_8637_000c292c5b3flevel0_row1\" class=\"row_heading level0 row1\" >804</th> \n",
       "        <td id=\"T_088d2eb2_cb7a_11e7_8637_000c292c5b3frow1_col0\" class=\"data row1 col0\" >1e+11</td> \n",
       "        <td id=\"T_088d2eb2_cb7a_11e7_8637_000c292c5b3frow1_col1\" class=\"data row1 col1\" >2.09e+08</td> \n",
       "        <td id=\"T_088d2eb2_cb7a_11e7_8637_000c292c5b3frow1_col2\" class=\"data row1 col2\" >AMD</td> \n",
       "        <td id=\"T_088d2eb2_cb7a_11e7_8637_000c292c5b3frow1_col3\" class=\"data row1 col3\" >United States</td> \n",
       "    </tr>    <tr> \n",
       "        <th id=\"T_088d2eb2_cb7a_11e7_8637_000c292c5b3flevel0_row2\" class=\"row_heading level0 row2\" >3013</th> \n",
       "        <td id=\"T_088d2eb2_cb7a_11e7_8637_000c292c5b3frow2_col0\" class=\"data row2 col0\" >1e+07</td> \n",
       "        <td id=\"T_088d2eb2_cb7a_11e7_8637_000c292c5b3frow2_col1\" class=\"data row2 col1\" >1e+07</td> \n",
       "        <td id=\"T_088d2eb2_cb7a_11e7_8637_000c292c5b3frow2_col2\" class=\"data row2 col2\" >USD</td> \n",
       "        <td id=\"T_088d2eb2_cb7a_11e7_8637_000c292c5b3frow2_col3\" class=\"data row2 col3\" >People 's Republic of China</td> \n",
       "    </tr>    <tr> \n",
       "        <th id=\"T_088d2eb2_cb7a_11e7_8637_000c292c5b3flevel0_row3\" class=\"row_heading level0 row3\" >15678</th> \n",
       "        <td id=\"T_088d2eb2_cb7a_11e7_8637_000c292c5b3frow3_col0\" class=\"data row3 col0\" >1.4e+07</td> \n",
       "        <td id=\"T_088d2eb2_cb7a_11e7_8637_000c292c5b3frow3_col1\" class=\"data row3 col1\" >4.4989e+06</td> \n",
       "        <td id=\"T_088d2eb2_cb7a_11e7_8637_000c292c5b3frow3_col2\" class=\"data row3 col2\" >BRL</td> \n",
       "        <td id=\"T_088d2eb2_cb7a_11e7_8637_000c292c5b3frow3_col3\" class=\"data row3 col3\" >Brazil</td> \n",
       "    </tr>    <tr> \n",
       "        <th id=\"T_088d2eb2_cb7a_11e7_8637_000c292c5b3flevel0_row4\" class=\"row_heading level0 row4\" >12531</th> \n",
       "        <td id=\"T_088d2eb2_cb7a_11e7_8637_000c292c5b3frow4_col0\" class=\"data row4 col0\" >2.5e+06</td> \n",
       "        <td id=\"T_088d2eb2_cb7a_11e7_8637_000c292c5b3frow4_col1\" class=\"data row4 col1\" >2.5e+06</td> \n",
       "        <td id=\"T_088d2eb2_cb7a_11e7_8637_000c292c5b3frow4_col2\" class=\"data row4 col2\" >USD</td> \n",
       "        <td id=\"T_088d2eb2_cb7a_11e7_8637_000c292c5b3frow4_col3\" class=\"data row4 col3\" >United States</td> \n",
       "    </tr>    <tr> \n",
       "        <th id=\"T_088d2eb2_cb7a_11e7_8637_000c292c5b3flevel0_row5\" class=\"row_heading level0 row5\" >4481</th> \n",
       "        <td id=\"T_088d2eb2_cb7a_11e7_8637_000c292c5b3frow5_col0\" class=\"data row5 col0\" >2.4e+06</td> \n",
       "        <td id=\"T_088d2eb2_cb7a_11e7_8637_000c292c5b3frow5_col1\" class=\"data row5 col1\" >2.39547e+06</td> \n",
       "        <td id=\"T_088d2eb2_cb7a_11e7_8637_000c292c5b3frow5_col2\" class=\"data row5 col2\" >BSD</td> \n",
       "        <td id=\"T_088d2eb2_cb7a_11e7_8637_000c292c5b3frow5_col3\" class=\"data row5 col3\" >Other</td> \n",
       "    </tr>    <tr> \n",
       "        <th id=\"T_088d2eb2_cb7a_11e7_8637_000c292c5b3flevel0_row6\" class=\"row_heading level0 row6\" >12808</th> \n",
       "        <td id=\"T_088d2eb2_cb7a_11e7_8637_000c292c5b3frow6_col0\" class=\"data row6 col0\" >2e+06</td> \n",
       "        <td id=\"T_088d2eb2_cb7a_11e7_8637_000c292c5b3frow6_col1\" class=\"data row6 col1\" >2e+06</td> \n",
       "        <td id=\"T_088d2eb2_cb7a_11e7_8637_000c292c5b3frow6_col2\" class=\"data row6 col2\" >USD</td> \n",
       "        <td id=\"T_088d2eb2_cb7a_11e7_8637_000c292c5b3frow6_col3\" class=\"data row6 col3\" >United Kingdom</td> \n",
       "    </tr>    <tr> \n",
       "        <th id=\"T_088d2eb2_cb7a_11e7_8637_000c292c5b3flevel0_row7\" class=\"row_heading level0 row7\" >11970</th> \n",
       "        <td id=\"T_088d2eb2_cb7a_11e7_8637_000c292c5b3frow7_col0\" class=\"data row7 col0\" >2.5e+07</td> \n",
       "        <td id=\"T_088d2eb2_cb7a_11e7_8637_000c292c5b3frow7_col1\" class=\"data row7 col1\" >1.05988e+06</td> \n",
       "        <td id=\"T_088d2eb2_cb7a_11e7_8637_000c292c5b3frow7_col2\" class=\"data row7 col2\" >ETB</td> \n",
       "        <td id=\"T_088d2eb2_cb7a_11e7_8637_000c292c5b3frow7_col3\" class=\"data row7 col3\" >Other</td> \n",
       "    </tr>    <tr> \n",
       "        <th id=\"T_088d2eb2_cb7a_11e7_8637_000c292c5b3flevel0_row8\" class=\"row_heading level0 row8\" >8880</th> \n",
       "        <td id=\"T_088d2eb2_cb7a_11e7_8637_000c292c5b3frow8_col0\" class=\"data row8 col0\" >1e+06</td> \n",
       "        <td id=\"T_088d2eb2_cb7a_11e7_8637_000c292c5b3frow8_col1\" class=\"data row8 col1\" >1e+06</td> \n",
       "        <td id=\"T_088d2eb2_cb7a_11e7_8637_000c292c5b3frow8_col2\" class=\"data row8 col2\" >USD</td> \n",
       "        <td id=\"T_088d2eb2_cb7a_11e7_8637_000c292c5b3frow8_col3\" class=\"data row8 col3\" >Taiwan</td> \n",
       "    </tr>    <tr> \n",
       "        <th id=\"T_088d2eb2_cb7a_11e7_8637_000c292c5b3flevel0_row9\" class=\"row_heading level0 row9\" >1514</th> \n",
       "        <td id=\"T_088d2eb2_cb7a_11e7_8637_000c292c5b3frow9_col0\" class=\"data row9 col0\" >1e+06</td> \n",
       "        <td id=\"T_088d2eb2_cb7a_11e7_8637_000c292c5b3frow9_col1\" class=\"data row9 col1\" >1e+06</td> \n",
       "        <td id=\"T_088d2eb2_cb7a_11e7_8637_000c292c5b3frow9_col2\" class=\"data row9 col2\" >USD</td> \n",
       "        <td id=\"T_088d2eb2_cb7a_11e7_8637_000c292c5b3frow9_col3\" class=\"data row9 col3\" >United States</td> \n",
       "    </tr>    <tr> \n",
       "        <th id=\"T_088d2eb2_cb7a_11e7_8637_000c292c5b3flevel0_row10\" class=\"row_heading level0 row10\" >993</th> \n",
       "        <td id=\"T_088d2eb2_cb7a_11e7_8637_000c292c5b3frow10_col0\" class=\"data row10 col0\" >1e+06</td> \n",
       "        <td id=\"T_088d2eb2_cb7a_11e7_8637_000c292c5b3frow10_col1\" class=\"data row10 col1\" >1e+06</td> \n",
       "        <td id=\"T_088d2eb2_cb7a_11e7_8637_000c292c5b3frow10_col2\" class=\"data row10 col2\" >USD</td> \n",
       "        <td id=\"T_088d2eb2_cb7a_11e7_8637_000c292c5b3frow10_col3\" class=\"data row10 col3\" >United States</td> \n",
       "    </tr>    <tr> \n",
       "        <th id=\"T_088d2eb2_cb7a_11e7_8637_000c292c5b3flevel0_row11\" class=\"row_heading level0 row11\" >11689</th> \n",
       "        <td id=\"T_088d2eb2_cb7a_11e7_8637_000c292c5b3frow11_col0\" class=\"data row11 col0\" >1e+06</td> \n",
       "        <td id=\"T_088d2eb2_cb7a_11e7_8637_000c292c5b3frow11_col1\" class=\"data row11 col1\" >1e+06</td> \n",
       "        <td id=\"T_088d2eb2_cb7a_11e7_8637_000c292c5b3frow11_col2\" class=\"data row11 col2\" >USD</td> \n",
       "        <td id=\"T_088d2eb2_cb7a_11e7_8637_000c292c5b3frow11_col3\" class=\"data row11 col3\" >United States</td> \n",
       "    </tr>    <tr> \n",
       "        <th id=\"T_088d2eb2_cb7a_11e7_8637_000c292c5b3flevel0_row12\" class=\"row_heading level0 row12\" >10601</th> \n",
       "        <td id=\"T_088d2eb2_cb7a_11e7_8637_000c292c5b3frow12_col0\" class=\"data row12 col0\" >7e+06</td> \n",
       "        <td id=\"T_088d2eb2_cb7a_11e7_8637_000c292c5b3frow12_col1\" class=\"data row12 col1\" >699090</td> \n",
       "        <td id=\"T_088d2eb2_cb7a_11e7_8637_000c292c5b3frow12_col2\" class=\"data row12 col2\" >VEF</td> \n",
       "        <td id=\"T_088d2eb2_cb7a_11e7_8637_000c292c5b3frow12_col3\" class=\"data row12 col3\" >Other</td> \n",
       "    </tr>    <tr> \n",
       "        <th id=\"T_088d2eb2_cb7a_11e7_8637_000c292c5b3flevel0_row13\" class=\"row_heading level0 row13\" >12623</th> \n",
       "        <td id=\"T_088d2eb2_cb7a_11e7_8637_000c292c5b3frow13_col0\" class=\"data row13 col0\" >115000</td> \n",
       "        <td id=\"T_088d2eb2_cb7a_11e7_8637_000c292c5b3frow13_col1\" class=\"data row13 col1\" >690000</td> \n",
       "        <td id=\"T_088d2eb2_cb7a_11e7_8637_000c292c5b3frow13_col2\" class=\"data row13 col2\" >SPL</td> \n",
       "        <td id=\"T_088d2eb2_cb7a_11e7_8637_000c292c5b3frow13_col3\" class=\"data row13 col3\" >United States</td> \n",
       "    </tr>    <tr> \n",
       "        <th id=\"T_088d2eb2_cb7a_11e7_8637_000c292c5b3flevel0_row14\" class=\"row_heading level0 row14\" >2538</th> \n",
       "        <td id=\"T_088d2eb2_cb7a_11e7_8637_000c292c5b3frow14_col0\" class=\"data row14 col0\" >450000</td> \n",
       "        <td id=\"T_088d2eb2_cb7a_11e7_8637_000c292c5b3frow14_col1\" class=\"data row14 col1\" >595885</td> \n",
       "        <td id=\"T_088d2eb2_cb7a_11e7_8637_000c292c5b3frow14_col2\" class=\"data row14 col2\" >GBP</td> \n",
       "        <td id=\"T_088d2eb2_cb7a_11e7_8637_000c292c5b3frow14_col3\" class=\"data row14 col3\" >United Kingdom</td> \n",
       "    </tr>    <tr> \n",
       "        <th id=\"T_088d2eb2_cb7a_11e7_8637_000c292c5b3flevel0_row15\" class=\"row_heading level0 row15\" >15494</th> \n",
       "        <td id=\"T_088d2eb2_cb7a_11e7_8637_000c292c5b3frow15_col0\" class=\"data row15 col0\" >550000</td> \n",
       "        <td id=\"T_088d2eb2_cb7a_11e7_8637_000c292c5b3frow15_col1\" class=\"data row15 col1\" >550000</td> \n",
       "        <td id=\"T_088d2eb2_cb7a_11e7_8637_000c292c5b3frow15_col2\" class=\"data row15 col2\" >USD</td> \n",
       "        <td id=\"T_088d2eb2_cb7a_11e7_8637_000c292c5b3frow15_col3\" class=\"data row15 col3\" >United States</td> \n",
       "    </tr>    <tr> \n",
       "        <th id=\"T_088d2eb2_cb7a_11e7_8637_000c292c5b3flevel0_row16\" class=\"row_heading level0 row16\" >9224</th> \n",
       "        <td id=\"T_088d2eb2_cb7a_11e7_8637_000c292c5b3frow16_col0\" class=\"data row16 col0\" >500000</td> \n",
       "        <td id=\"T_088d2eb2_cb7a_11e7_8637_000c292c5b3frow16_col1\" class=\"data row16 col1\" >500000</td> \n",
       "        <td id=\"T_088d2eb2_cb7a_11e7_8637_000c292c5b3frow16_col2\" class=\"data row16 col2\" >USD</td> \n",
       "        <td id=\"T_088d2eb2_cb7a_11e7_8637_000c292c5b3frow16_col3\" class=\"data row16 col3\" >United States</td> \n",
       "    </tr>    <tr> \n",
       "        <th id=\"T_088d2eb2_cb7a_11e7_8637_000c292c5b3flevel0_row17\" class=\"row_heading level0 row17\" >419</th> \n",
       "        <td id=\"T_088d2eb2_cb7a_11e7_8637_000c292c5b3frow17_col0\" class=\"data row17 col0\" >470000</td> \n",
       "        <td id=\"T_088d2eb2_cb7a_11e7_8637_000c292c5b3frow17_col1\" class=\"data row17 col1\" >470000</td> \n",
       "        <td id=\"T_088d2eb2_cb7a_11e7_8637_000c292c5b3frow17_col2\" class=\"data row17 col2\" >USD</td> \n",
       "        <td id=\"T_088d2eb2_cb7a_11e7_8637_000c292c5b3frow17_col3\" class=\"data row17 col3\" >United States</td> \n",
       "    </tr>    <tr> \n",
       "        <th id=\"T_088d2eb2_cb7a_11e7_8637_000c292c5b3flevel0_row18\" class=\"row_heading level0 row18\" >9206</th> \n",
       "        <td id=\"T_088d2eb2_cb7a_11e7_8637_000c292c5b3frow18_col0\" class=\"data row18 col0\" >3e+06</td> \n",
       "        <td id=\"T_088d2eb2_cb7a_11e7_8637_000c292c5b3frow18_col1\" class=\"data row18 col1\" >459000</td> \n",
       "        <td id=\"T_088d2eb2_cb7a_11e7_8637_000c292c5b3frow18_col2\" class=\"data row18 col2\" >CNY</td> \n",
       "        <td id=\"T_088d2eb2_cb7a_11e7_8637_000c292c5b3frow18_col3\" class=\"data row18 col3\" >People 's Republic of China</td> \n",
       "    </tr>    <tr> \n",
       "        <th id=\"T_088d2eb2_cb7a_11e7_8637_000c292c5b3flevel0_row19\" class=\"row_heading level0 row19\" >6357</th> \n",
       "        <td id=\"T_088d2eb2_cb7a_11e7_8637_000c292c5b3frow19_col0\" class=\"data row19 col0\" >400000</td> \n",
       "        <td id=\"T_088d2eb2_cb7a_11e7_8637_000c292c5b3frow19_col1\" class=\"data row19 col1\" >400000</td> \n",
       "        <td id=\"T_088d2eb2_cb7a_11e7_8637_000c292c5b3frow19_col2\" class=\"data row19 col2\" >USD</td> \n",
       "        <td id=\"T_088d2eb2_cb7a_11e7_8637_000c292c5b3frow19_col3\" class=\"data row19 col3\" >United States</td> \n",
       "    </tr></tbody> \n",
       "</table> "
      ],
      "text/plain": [
       "<pandas.io.formats.style.Styler at 0x7feff26f3048>"
      ]
     },
     "execution_count": 35,
     "metadata": {},
     "output_type": "execute_result"
    }
   ],
   "source": [
    "# pd.reset_option('display.float_format')\n",
    "selected[:20].style.apply(lambda x:\n",
    "                     ['background: lightblue' if x.name == 'compensation' and\n",
    "                      isinstance(z, float) and z >= 1e+06 else\n",
    "                      '' for i,z in x.iteritems()])"
   ]
  },
  {
   "cell_type": "markdown",
   "metadata": {},
   "source": [
    "ОК, тия с най-големите суми са очевидни тролове, останалите с милион и на горе са допуснали техническа грешка при броя на нулите."
   ]
  },
  {
   "cell_type": "code",
   "execution_count": 36,
   "metadata": {
    "collapsed": false
   },
   "outputs": [
    {
     "name": "stdout",
     "output_type": "stream",
     "text": [
      "редове за премахване: Int64Index([5458, 804, 3013, 15678, 12531, 4481, 12808, 11970, 8880, 1514, 993,\n",
      "            11689],\n",
      "           dtype='int64')\n"
     ]
    },
    {
     "data": {
      "text/html": [
       "<style  type=\"text/css\" >\n",
       "    #T_088d2eb3_cb7a_11e7_8637_000c292c5b3frow0_col1 {\n",
       "            background:  lightgreen;\n",
       "        }    #T_088d2eb3_cb7a_11e7_8637_000c292c5b3frow1_col1 {\n",
       "            background:  lightgreen;\n",
       "        }    #T_088d2eb3_cb7a_11e7_8637_000c292c5b3frow2_col1 {\n",
       "            background:  lightgreen;\n",
       "        }    #T_088d2eb3_cb7a_11e7_8637_000c292c5b3frow3_col1 {\n",
       "            background:  lightgreen;\n",
       "        }    #T_088d2eb3_cb7a_11e7_8637_000c292c5b3frow4_col1 {\n",
       "            background:  lightgreen;\n",
       "        }    #T_088d2eb3_cb7a_11e7_8637_000c292c5b3frow5_col1 {\n",
       "            background:  lightgreen;\n",
       "        }    #T_088d2eb3_cb7a_11e7_8637_000c292c5b3frow6_col1 {\n",
       "            background:  lightgreen;\n",
       "        }    #T_088d2eb3_cb7a_11e7_8637_000c292c5b3frow7_col1 {\n",
       "            background:  lightgreen;\n",
       "        }    #T_088d2eb3_cb7a_11e7_8637_000c292c5b3frow8_col1 {\n",
       "            background:  lightgreen;\n",
       "        }    #T_088d2eb3_cb7a_11e7_8637_000c292c5b3frow9_col1 {\n",
       "            background:  lightgreen;\n",
       "        }</style>  \n",
       "<table id=\"T_088d2eb3_cb7a_11e7_8637_000c292c5b3f\" > \n",
       "<thead>    <tr> \n",
       "        <th class=\"blank level0\" ></th> \n",
       "        <th class=\"col_heading level0 col0\" >CompensationAmount</th> \n",
       "        <th class=\"col_heading level0 col1\" >compensation</th> \n",
       "        <th class=\"col_heading level0 col2\" >CompensationCurrency</th> \n",
       "        <th class=\"col_heading level0 col3\" >Country</th> \n",
       "    </tr></thead> \n",
       "<tbody>    <tr> \n",
       "        <th id=\"T_088d2eb3_cb7a_11e7_8637_000c292c5b3flevel0_row0\" class=\"row_heading level0 row0\" >10601</th> \n",
       "        <td id=\"T_088d2eb3_cb7a_11e7_8637_000c292c5b3frow0_col0\" class=\"data row0 col0\" >7e+06</td> \n",
       "        <td id=\"T_088d2eb3_cb7a_11e7_8637_000c292c5b3frow0_col1\" class=\"data row0 col1\" >699090</td> \n",
       "        <td id=\"T_088d2eb3_cb7a_11e7_8637_000c292c5b3frow0_col2\" class=\"data row0 col2\" >VEF</td> \n",
       "        <td id=\"T_088d2eb3_cb7a_11e7_8637_000c292c5b3frow0_col3\" class=\"data row0 col3\" >Other</td> \n",
       "    </tr>    <tr> \n",
       "        <th id=\"T_088d2eb3_cb7a_11e7_8637_000c292c5b3flevel0_row1\" class=\"row_heading level0 row1\" >12623</th> \n",
       "        <td id=\"T_088d2eb3_cb7a_11e7_8637_000c292c5b3frow1_col0\" class=\"data row1 col0\" >115000</td> \n",
       "        <td id=\"T_088d2eb3_cb7a_11e7_8637_000c292c5b3frow1_col1\" class=\"data row1 col1\" >690000</td> \n",
       "        <td id=\"T_088d2eb3_cb7a_11e7_8637_000c292c5b3frow1_col2\" class=\"data row1 col2\" >SPL</td> \n",
       "        <td id=\"T_088d2eb3_cb7a_11e7_8637_000c292c5b3frow1_col3\" class=\"data row1 col3\" >United States</td> \n",
       "    </tr>    <tr> \n",
       "        <th id=\"T_088d2eb3_cb7a_11e7_8637_000c292c5b3flevel0_row2\" class=\"row_heading level0 row2\" >2538</th> \n",
       "        <td id=\"T_088d2eb3_cb7a_11e7_8637_000c292c5b3frow2_col0\" class=\"data row2 col0\" >450000</td> \n",
       "        <td id=\"T_088d2eb3_cb7a_11e7_8637_000c292c5b3frow2_col1\" class=\"data row2 col1\" >595885</td> \n",
       "        <td id=\"T_088d2eb3_cb7a_11e7_8637_000c292c5b3frow2_col2\" class=\"data row2 col2\" >GBP</td> \n",
       "        <td id=\"T_088d2eb3_cb7a_11e7_8637_000c292c5b3frow2_col3\" class=\"data row2 col3\" >United Kingdom</td> \n",
       "    </tr>    <tr> \n",
       "        <th id=\"T_088d2eb3_cb7a_11e7_8637_000c292c5b3flevel0_row3\" class=\"row_heading level0 row3\" >15494</th> \n",
       "        <td id=\"T_088d2eb3_cb7a_11e7_8637_000c292c5b3frow3_col0\" class=\"data row3 col0\" >550000</td> \n",
       "        <td id=\"T_088d2eb3_cb7a_11e7_8637_000c292c5b3frow3_col1\" class=\"data row3 col1\" >550000</td> \n",
       "        <td id=\"T_088d2eb3_cb7a_11e7_8637_000c292c5b3frow3_col2\" class=\"data row3 col2\" >USD</td> \n",
       "        <td id=\"T_088d2eb3_cb7a_11e7_8637_000c292c5b3frow3_col3\" class=\"data row3 col3\" >United States</td> \n",
       "    </tr>    <tr> \n",
       "        <th id=\"T_088d2eb3_cb7a_11e7_8637_000c292c5b3flevel0_row4\" class=\"row_heading level0 row4\" >9224</th> \n",
       "        <td id=\"T_088d2eb3_cb7a_11e7_8637_000c292c5b3frow4_col0\" class=\"data row4 col0\" >500000</td> \n",
       "        <td id=\"T_088d2eb3_cb7a_11e7_8637_000c292c5b3frow4_col1\" class=\"data row4 col1\" >500000</td> \n",
       "        <td id=\"T_088d2eb3_cb7a_11e7_8637_000c292c5b3frow4_col2\" class=\"data row4 col2\" >USD</td> \n",
       "        <td id=\"T_088d2eb3_cb7a_11e7_8637_000c292c5b3frow4_col3\" class=\"data row4 col3\" >United States</td> \n",
       "    </tr>    <tr> \n",
       "        <th id=\"T_088d2eb3_cb7a_11e7_8637_000c292c5b3flevel0_row5\" class=\"row_heading level0 row5\" >419</th> \n",
       "        <td id=\"T_088d2eb3_cb7a_11e7_8637_000c292c5b3frow5_col0\" class=\"data row5 col0\" >470000</td> \n",
       "        <td id=\"T_088d2eb3_cb7a_11e7_8637_000c292c5b3frow5_col1\" class=\"data row5 col1\" >470000</td> \n",
       "        <td id=\"T_088d2eb3_cb7a_11e7_8637_000c292c5b3frow5_col2\" class=\"data row5 col2\" >USD</td> \n",
       "        <td id=\"T_088d2eb3_cb7a_11e7_8637_000c292c5b3frow5_col3\" class=\"data row5 col3\" >United States</td> \n",
       "    </tr>    <tr> \n",
       "        <th id=\"T_088d2eb3_cb7a_11e7_8637_000c292c5b3flevel0_row6\" class=\"row_heading level0 row6\" >9206</th> \n",
       "        <td id=\"T_088d2eb3_cb7a_11e7_8637_000c292c5b3frow6_col0\" class=\"data row6 col0\" >3e+06</td> \n",
       "        <td id=\"T_088d2eb3_cb7a_11e7_8637_000c292c5b3frow6_col1\" class=\"data row6 col1\" >459000</td> \n",
       "        <td id=\"T_088d2eb3_cb7a_11e7_8637_000c292c5b3frow6_col2\" class=\"data row6 col2\" >CNY</td> \n",
       "        <td id=\"T_088d2eb3_cb7a_11e7_8637_000c292c5b3frow6_col3\" class=\"data row6 col3\" >People 's Republic of China</td> \n",
       "    </tr>    <tr> \n",
       "        <th id=\"T_088d2eb3_cb7a_11e7_8637_000c292c5b3flevel0_row7\" class=\"row_heading level0 row7\" >6357</th> \n",
       "        <td id=\"T_088d2eb3_cb7a_11e7_8637_000c292c5b3frow7_col0\" class=\"data row7 col0\" >400000</td> \n",
       "        <td id=\"T_088d2eb3_cb7a_11e7_8637_000c292c5b3frow7_col1\" class=\"data row7 col1\" >400000</td> \n",
       "        <td id=\"T_088d2eb3_cb7a_11e7_8637_000c292c5b3frow7_col2\" class=\"data row7 col2\" >USD</td> \n",
       "        <td id=\"T_088d2eb3_cb7a_11e7_8637_000c292c5b3frow7_col3\" class=\"data row7 col3\" >United States</td> \n",
       "    </tr>    <tr> \n",
       "        <th id=\"T_088d2eb3_cb7a_11e7_8637_000c292c5b3flevel0_row8\" class=\"row_heading level0 row8\" >6301</th> \n",
       "        <td id=\"T_088d2eb3_cb7a_11e7_8637_000c292c5b3frow8_col0\" class=\"data row8 col0\" >400000</td> \n",
       "        <td id=\"T_088d2eb3_cb7a_11e7_8637_000c292c5b3frow8_col1\" class=\"data row8 col1\" >400000</td> \n",
       "        <td id=\"T_088d2eb3_cb7a_11e7_8637_000c292c5b3frow8_col2\" class=\"data row8 col2\" >USD</td> \n",
       "        <td id=\"T_088d2eb3_cb7a_11e7_8637_000c292c5b3frow8_col3\" class=\"data row8 col3\" >Australia</td> \n",
       "    </tr>    <tr> \n",
       "        <th id=\"T_088d2eb3_cb7a_11e7_8637_000c292c5b3flevel0_row9\" class=\"row_heading level0 row9\" >3743</th> \n",
       "        <td id=\"T_088d2eb3_cb7a_11e7_8637_000c292c5b3frow9_col0\" class=\"data row9 col0\" >400000</td> \n",
       "        <td id=\"T_088d2eb3_cb7a_11e7_8637_000c292c5b3frow9_col1\" class=\"data row9 col1\" >400000</td> \n",
       "        <td id=\"T_088d2eb3_cb7a_11e7_8637_000c292c5b3frow9_col2\" class=\"data row9 col2\" >USD</td> \n",
       "        <td id=\"T_088d2eb3_cb7a_11e7_8637_000c292c5b3frow9_col3\" class=\"data row9 col3\" >Other</td> \n",
       "    </tr>    <tr> \n",
       "        <th id=\"T_088d2eb3_cb7a_11e7_8637_000c292c5b3flevel0_row10\" class=\"row_heading level0 row10\" >7621</th> \n",
       "        <td id=\"T_088d2eb3_cb7a_11e7_8637_000c292c5b3frow10_col0\" class=\"data row10 col0\" >500000</td> \n",
       "        <td id=\"T_088d2eb3_cb7a_11e7_8637_000c292c5b3frow10_col1\" class=\"data row10 col1\" >371294</td> \n",
       "        <td id=\"T_088d2eb3_cb7a_11e7_8637_000c292c5b3frow10_col2\" class=\"data row10 col2\" >SGD</td> \n",
       "        <td id=\"T_088d2eb3_cb7a_11e7_8637_000c292c5b3frow10_col3\" class=\"data row10 col3\" >Singapore</td> \n",
       "    </tr>    <tr> \n",
       "        <th id=\"T_088d2eb3_cb7a_11e7_8637_000c292c5b3flevel0_row11\" class=\"row_heading level0 row11\" >8669</th> \n",
       "        <td id=\"T_088d2eb3_cb7a_11e7_8637_000c292c5b3frow11_col0\" class=\"data row11 col0\" >275000</td> \n",
       "        <td id=\"T_088d2eb3_cb7a_11e7_8637_000c292c5b3frow11_col1\" class=\"data row11 col1\" >364152</td> \n",
       "        <td id=\"T_088d2eb3_cb7a_11e7_8637_000c292c5b3frow11_col2\" class=\"data row11 col2\" >GBP</td> \n",
       "        <td id=\"T_088d2eb3_cb7a_11e7_8637_000c292c5b3frow11_col3\" class=\"data row11 col3\" >United Kingdom</td> \n",
       "    </tr>    <tr> \n",
       "        <th id=\"T_088d2eb3_cb7a_11e7_8637_000c292c5b3flevel0_row12\" class=\"row_heading level0 row12\" >9247</th> \n",
       "        <td id=\"T_088d2eb3_cb7a_11e7_8637_000c292c5b3frow12_col0\" class=\"data row12 col0\" >2.3e+07</td> \n",
       "        <td id=\"T_088d2eb3_cb7a_11e7_8637_000c292c5b3frow12_col1\" class=\"data row12 col1\" >359260</td> \n",
       "        <td id=\"T_088d2eb3_cb7a_11e7_8637_000c292c5b3frow12_col2\" class=\"data row12 col2\" >INR</td> \n",
       "        <td id=\"T_088d2eb3_cb7a_11e7_8637_000c292c5b3frow12_col3\" class=\"data row12 col3\" >India</td> \n",
       "    </tr>    <tr> \n",
       "        <th id=\"T_088d2eb3_cb7a_11e7_8637_000c292c5b3flevel0_row13\" class=\"row_heading level0 row13\" >4803</th> \n",
       "        <td id=\"T_088d2eb3_cb7a_11e7_8637_000c292c5b3frow13_col0\" class=\"data row13 col0\" >350000</td> \n",
       "        <td id=\"T_088d2eb3_cb7a_11e7_8637_000c292c5b3frow13_col1\" class=\"data row13 col1\" >350000</td> \n",
       "        <td id=\"T_088d2eb3_cb7a_11e7_8637_000c292c5b3frow13_col2\" class=\"data row13 col2\" >USD</td> \n",
       "        <td id=\"T_088d2eb3_cb7a_11e7_8637_000c292c5b3frow13_col3\" class=\"data row13 col3\" >United States</td> \n",
       "    </tr>    <tr> \n",
       "        <th id=\"T_088d2eb3_cb7a_11e7_8637_000c292c5b3flevel0_row14\" class=\"row_heading level0 row14\" >1338</th> \n",
       "        <td id=\"T_088d2eb3_cb7a_11e7_8637_000c292c5b3frow14_col0\" class=\"data row14 col0\" >350000</td> \n",
       "        <td id=\"T_088d2eb3_cb7a_11e7_8637_000c292c5b3frow14_col1\" class=\"data row14 col1\" >350000</td> \n",
       "        <td id=\"T_088d2eb3_cb7a_11e7_8637_000c292c5b3frow14_col2\" class=\"data row14 col2\" >USD</td> \n",
       "        <td id=\"T_088d2eb3_cb7a_11e7_8637_000c292c5b3frow14_col3\" class=\"data row14 col3\" >United States</td> \n",
       "    </tr>    <tr> \n",
       "        <th id=\"T_088d2eb3_cb7a_11e7_8637_000c292c5b3flevel0_row15\" class=\"row_heading level0 row15\" >4908</th> \n",
       "        <td id=\"T_088d2eb3_cb7a_11e7_8637_000c292c5b3frow15_col0\" class=\"data row15 col0\" >350000</td> \n",
       "        <td id=\"T_088d2eb3_cb7a_11e7_8637_000c292c5b3frow15_col1\" class=\"data row15 col1\" >350000</td> \n",
       "        <td id=\"T_088d2eb3_cb7a_11e7_8637_000c292c5b3frow15_col2\" class=\"data row15 col2\" >USD</td> \n",
       "        <td id=\"T_088d2eb3_cb7a_11e7_8637_000c292c5b3frow15_col3\" class=\"data row15 col3\" >United States</td> \n",
       "    </tr>    <tr> \n",
       "        <th id=\"T_088d2eb3_cb7a_11e7_8637_000c292c5b3flevel0_row16\" class=\"row_heading level0 row16\" >4567</th> \n",
       "        <td id=\"T_088d2eb3_cb7a_11e7_8637_000c292c5b3frow16_col0\" class=\"data row16 col0\" >350000</td> \n",
       "        <td id=\"T_088d2eb3_cb7a_11e7_8637_000c292c5b3frow16_col1\" class=\"data row16 col1\" >350000</td> \n",
       "        <td id=\"T_088d2eb3_cb7a_11e7_8637_000c292c5b3frow16_col2\" class=\"data row16 col2\" >USD</td> \n",
       "        <td id=\"T_088d2eb3_cb7a_11e7_8637_000c292c5b3frow16_col3\" class=\"data row16 col3\" >United States</td> \n",
       "    </tr>    <tr> \n",
       "        <th id=\"T_088d2eb3_cb7a_11e7_8637_000c292c5b3flevel0_row17\" class=\"row_heading level0 row17\" >11167</th> \n",
       "        <td id=\"T_088d2eb3_cb7a_11e7_8637_000c292c5b3frow17_col0\" class=\"data row17 col0\" >350000</td> \n",
       "        <td id=\"T_088d2eb3_cb7a_11e7_8637_000c292c5b3frow17_col1\" class=\"data row17 col1\" >350000</td> \n",
       "        <td id=\"T_088d2eb3_cb7a_11e7_8637_000c292c5b3frow17_col2\" class=\"data row17 col2\" >PAB</td> \n",
       "        <td id=\"T_088d2eb3_cb7a_11e7_8637_000c292c5b3frow17_col3\" class=\"data row17 col3\" >Russia</td> \n",
       "    </tr>    <tr> \n",
       "        <th id=\"T_088d2eb3_cb7a_11e7_8637_000c292c5b3flevel0_row18\" class=\"row_heading level0 row18\" >1427</th> \n",
       "        <td id=\"T_088d2eb3_cb7a_11e7_8637_000c292c5b3frow18_col0\" class=\"data row18 col0\" >350000</td> \n",
       "        <td id=\"T_088d2eb3_cb7a_11e7_8637_000c292c5b3frow18_col1\" class=\"data row18 col1\" >350000</td> \n",
       "        <td id=\"T_088d2eb3_cb7a_11e7_8637_000c292c5b3frow18_col2\" class=\"data row18 col2\" >USD</td> \n",
       "        <td id=\"T_088d2eb3_cb7a_11e7_8637_000c292c5b3frow18_col3\" class=\"data row18 col3\" >United States</td> \n",
       "    </tr>    <tr> \n",
       "        <th id=\"T_088d2eb3_cb7a_11e7_8637_000c292c5b3flevel0_row19\" class=\"row_heading level0 row19\" >11630</th> \n",
       "        <td id=\"T_088d2eb3_cb7a_11e7_8637_000c292c5b3frow19_col0\" class=\"data row19 col0\" >350000</td> \n",
       "        <td id=\"T_088d2eb3_cb7a_11e7_8637_000c292c5b3frow19_col1\" class=\"data row19 col1\" >350000</td> \n",
       "        <td id=\"T_088d2eb3_cb7a_11e7_8637_000c292c5b3frow19_col2\" class=\"data row19 col2\" >USD</td> \n",
       "        <td id=\"T_088d2eb3_cb7a_11e7_8637_000c292c5b3frow19_col3\" class=\"data row19 col3\" >United States</td> \n",
       "    </tr></tbody> \n",
       "</table> "
      ],
      "text/plain": [
       "<pandas.io.formats.style.Styler at 0x7feff2710160>"
      ]
     },
     "execution_count": 36,
     "metadata": {},
     "output_type": "execute_result"
    }
   ],
   "source": [
    "# selected.drop((selected['compensation'] >= 1e+7).index, inplace=True)\n",
    "# selected\n",
    "rows_to_delete = selected[selected['compensation'] >= 1e+6].index\n",
    "print('редове за премахване:', rows_to_delete)\n",
    "selected.drop(rows_to_delete, inplace=True)\n",
    "selected[:20].style.apply(lambda x: ['background: lightgreen' if x.name == 'compensation' and isinstance(z, float) and z >= 400000 else '' for i,z in x.iteritems()])"
   ]
  },
  {
   "cell_type": "markdown",
   "metadata": {},
   "source": [
    "Да видим графиката:"
   ]
  },
  {
   "cell_type": "code",
   "execution_count": 37,
   "metadata": {
    "collapsed": false
   },
   "outputs": [
    {
     "data": {
      "image/png": "[encoded data removed]",
      "text/plain": [
       "<matplotlib.figure.Figure at 0x7feff27102e8>"
      ]
     },
     "metadata": {},
     "output_type": "display_data"
    }
   ],
   "source": [
    "fig, axes = plt.subplots(1, 2, figsize=(10, 7), sharey=False)\n",
    "sns.distplot(compensation.CompensationAmount, ax=axes[0])\n",
    "sns.distplot(selected.compensation, ax=axes[1]);"
   ]
  },
  {
   "cell_type": "markdown",
   "metadata": {},
   "source": [
    "Така е по-добре."
   ]
  },
  {
   "cell_type": "markdown",
   "metadata": {},
   "source": [
    "#### Платформа за обучение:"
   ]
  },
  {
   "cell_type": "code",
   "execution_count": 38,
   "metadata": {
    "collapsed": false
   },
   "outputs": [
    {
     "data": {
      "text/plain": [
       "0        College/University,Conferences,Podcasts,Trade ...\n",
       "1                                                   Kaggle\n",
       "2        Arxiv,College/University,Kaggle,Online courses...\n",
       "3        Blogs,College/University,Conferences,Friends n...\n",
       "4                        Arxiv,Conferences,Kaggle,Textbook\n",
       "5        Kaggle,Online courses,Stack Overflow Q&A,Textbook\n",
       "6            Arxiv,Blogs,Kaggle,Personal Projects,Textbook\n",
       "7        College/University,Kaggle,Online courses,Stack...\n",
       "8        Blogs,Company internal community,Conferences,F...\n",
       "9        Arxiv,Blogs,Conferences,Kaggle,Non-Kaggle onli...\n",
       "                               ...                        \n",
       "16706                                                  NaN\n",
       "16707                                                  NaN\n",
       "16708                                                  NaN\n",
       "16709                                                  NaN\n",
       "16710                                                  NaN\n",
       "16711                                                  NaN\n",
       "16712    Kaggle,Non-Kaggle online communities,Online co...\n",
       "16713                                                  NaN\n",
       "16714                                                  NaN\n",
       "16715                                                  NaN\n",
       "Name: LearningPlatformSelect, Length: 16716, dtype: object"
      ]
     },
     "execution_count": 38,
     "metadata": {},
     "output_type": "execute_result"
    }
   ],
   "source": [
    "pd.options.display.max_rows = 20\n",
    "multi.LearningPlatformSelect"
   ]
  },
  {
   "cell_type": "code",
   "execution_count": 39,
   "metadata": {
    "collapsed": true
   },
   "outputs": [],
   "source": [
    "pd.options.display.max_rows = 10"
   ]
  },
  {
   "cell_type": "markdown",
   "metadata": {},
   "source": [
    "`DataFrame` обекти се форматират в таблици - така е по-четимо."
   ]
  },
  {
   "cell_type": "code",
   "execution_count": 40,
   "metadata": {
    "collapsed": false
   },
   "outputs": [
    {
     "data": {
      "text/html": [
       "<div>\n",
       "<style scoped>\n",
       "    .dataframe tbody tr th:only-of-type {\n",
       "        vertical-align: middle;\n",
       "    }\n",
       "\n",
       "    .dataframe tbody tr th {\n",
       "        vertical-align: top;\n",
       "    }\n",
       "\n",
       "    .dataframe thead th {\n",
       "        text-align: right;\n",
       "    }\n",
       "</style>\n",
       "<table border=\"1\" class=\"dataframe\">\n",
       "  <thead>\n",
       "    <tr style=\"text-align: right;\">\n",
       "      <th></th>\n",
       "      <th>LearningPlatformSelect</th>\n",
       "    </tr>\n",
       "  </thead>\n",
       "  <tbody>\n",
       "    <tr>\n",
       "      <th>Kaggle</th>\n",
       "      <td>210</td>\n",
       "    </tr>\n",
       "    <tr>\n",
       "      <th>Online courses</th>\n",
       "      <td>209</td>\n",
       "    </tr>\n",
       "    <tr>\n",
       "      <th>Personal Projects</th>\n",
       "      <td>155</td>\n",
       "    </tr>\n",
       "    <tr>\n",
       "      <th>College/University</th>\n",
       "      <td>127</td>\n",
       "    </tr>\n",
       "    <tr>\n",
       "      <th>YouTube Videos</th>\n",
       "      <td>127</td>\n",
       "    </tr>\n",
       "    <tr>\n",
       "      <th>...</th>\n",
       "      <td>...</td>\n",
       "    </tr>\n",
       "    <tr>\n",
       "      <th>Blogs,Friends network,Online courses,Trade book,YouTube Videos</th>\n",
       "      <td>1</td>\n",
       "    </tr>\n",
       "    <tr>\n",
       "      <th>Arxiv,Blogs,Kaggle,Non-Kaggle online communities,Personal Projects,Textbook</th>\n",
       "      <td>1</td>\n",
       "    </tr>\n",
       "    <tr>\n",
       "      <th>Arxiv,Conferences,Stack Overflow Q&amp;A,YouTube Videos</th>\n",
       "      <td>1</td>\n",
       "    </tr>\n",
       "    <tr>\n",
       "      <th>Blogs,Conferences,Friends network,Kaggle,Official documentation,Online courses,Podcasts,Stack Overflow Q&amp;A,Textbook</th>\n",
       "      <td>1</td>\n",
       "    </tr>\n",
       "    <tr>\n",
       "      <th>Arxiv,Friends network,Kaggle,Personal Projects,Stack Overflow Q&amp;A</th>\n",
       "      <td>1</td>\n",
       "    </tr>\n",
       "  </tbody>\n",
       "</table>\n",
       "<p>5362 rows × 1 columns</p>\n",
       "</div>"
      ],
      "text/plain": [
       "                                                    LearningPlatformSelect\n",
       "Kaggle                                                                 210\n",
       "Online courses                                                         209\n",
       "Personal Projects                                                      155\n",
       "College/University                                                     127\n",
       "YouTube Videos                                                         127\n",
       "...                                                                    ...\n",
       "Blogs,Friends network,Online courses,Trade book...                       1\n",
       "Arxiv,Blogs,Kaggle,Non-Kaggle online communitie...                       1\n",
       "Arxiv,Conferences,Stack Overflow Q&A,YouTube Vi...                       1\n",
       "Blogs,Conferences,Friends network,Kaggle,Offici...                       1\n",
       "Arxiv,Friends network,Kaggle,Personal Projects,...                       1\n",
       "\n",
       "[5362 rows x 1 columns]"
      ]
     },
     "execution_count": 40,
     "metadata": {},
     "output_type": "execute_result"
    }
   ],
   "source": [
    "pd.DataFrame(multi.LearningPlatformSelect.value_counts())"
   ]
  },
  {
   "cell_type": "markdown",
   "metadata": {},
   "source": [
    "Ясно е, че отговорите на въпроса са конкатанирани в стринг и ще трябва да се разбият на отделни колони. За целта първо ще зачистим NaNs."
   ]
  },
  {
   "cell_type": "code",
   "execution_count": 41,
   "metadata": {
    "collapsed": false
   },
   "outputs": [
    {
     "data": {
      "text/plain": [
       "0        College/University,Conferences,Podcasts,Trade ...\n",
       "1                                                   Kaggle\n",
       "2        Arxiv,College/University,Kaggle,Online courses...\n",
       "3        Blogs,College/University,Conferences,Friends n...\n",
       "4                        Arxiv,Conferences,Kaggle,Textbook\n",
       "                               ...                        \n",
       "16711                                                     \n",
       "16712    Kaggle,Non-Kaggle online communities,Online co...\n",
       "16713                                                     \n",
       "16714                                                     \n",
       "16715                                                     \n",
       "Name: LearningPlatformSelect, Length: 16716, dtype: object"
      ]
     },
     "execution_count": 41,
     "metadata": {},
     "output_type": "execute_result"
    }
   ],
   "source": [
    "multi['LearningPlatformSelect'] = multi['LearningPlatformSelect'].fillna('')\n",
    "multi.LearningPlatformSelect"
   ]
  },
  {
   "cell_type": "markdown",
   "metadata": {},
   "source": [
    "Да съберем речник от възможните стойности:"
   ]
  },
  {
   "cell_type": "code",
   "execution_count": 42,
   "metadata": {
    "collapsed": false
   },
   "outputs": [
    {
     "name": "stdout",
     "output_type": "stream",
     "text": [
      "Брой платформи: 19\n",
      "{'Podcasts', 'Tutoring/mentoring', 'Kaggle', 'Blogs', 'Online courses', 'YouTube Videos', 'Newsletters', 'Textbook', 'Official documentation', 'Personal Projects', 'Stack Overflow Q&A', 'College/University', 'Friends network', 'Non-Kaggle online communities', 'Other', 'Arxiv', 'Trade book', 'Company internal community', 'Conferences'}\n"
     ]
    }
   ],
   "source": [
    "accumulator = set([])\n",
    "multi.apply(lambda row: accumulator.update(set(row['LearningPlatformSelect'].split(','))), axis=1)\n",
    "accumulator = accumulator - set([''])\n",
    "print('Брой платформи:',len(accumulator))\n",
    "print(accumulator)"
   ]
  },
  {
   "cell_type": "markdown",
   "metadata": {},
   "source": [
    "Имам чувството, че този фичър няма да е единствения, при който ще е нужно подобно преформатиране. Затова ще си напиша процедура. (вариант с scikit-learn трансформер ще пробвам в следващия notebook)"
   ]
  },
  {
   "cell_type": "code",
   "execution_count": 43,
   "metadata": {
    "collapsed": false
   },
   "outputs": [],
   "source": [
    "def TextToOneHot(source_df, target_feature, categories=None,\\\n",
    "                 separator=',', fillna='NA', drop_target_at_fin=False):\n",
    "    # Returns new DataFrame with OneHotEncoding of Categories\n",
    "    #    extracted from the text of the target feature.\n",
    "    \n",
    "    # backup the data\n",
    "    df = source_df.copy()\n",
    "    \n",
    "    # clear NaNs\n",
    "    df[target_feature] = df[target_feature].fillna(fillna)\n",
    "    \n",
    "    # extract categories, if not provided\n",
    "    if not categories:\n",
    "        categories = set([])\n",
    "        df.apply(lambda row: categories.update(set(row[target_feature].split(separator))), axis=1)\n",
    "        \n",
    "    # loop the categories and map to new features\n",
    "    pattern = re.compile('[\\W]+')\n",
    "    for category in categories:\n",
    "        new_feature_name = target_feature + '_' + category.replace(' ', '_')\n",
    "        new_feature_name = pattern.sub('', new_feature_name)\n",
    "        df[new_feature_name] = df.apply(lambda row: float(bool(row[target_feature].count(category))), axis=1)\n",
    "    \n",
    "    if drop_target_at_fin:\n",
    "        df.drop(target_feature, axis=1, inplace=True)\n",
    "    \n",
    "    return df\n"
   ]
  },
  {
   "cell_type": "markdown",
   "metadata": {},
   "source": [
    "Първо ще тествам с откъс от данните - приготвям dummy_df:"
   ]
  },
  {
   "cell_type": "code",
   "execution_count": 44,
   "metadata": {
    "collapsed": false
   },
   "outputs": [
    {
     "data": {
      "text/html": [
       "<div>\n",
       "<style scoped>\n",
       "    .dataframe tbody tr th:only-of-type {\n",
       "        vertical-align: middle;\n",
       "    }\n",
       "\n",
       "    .dataframe tbody tr th {\n",
       "        vertical-align: top;\n",
       "    }\n",
       "\n",
       "    .dataframe thead th {\n",
       "        text-align: right;\n",
       "    }\n",
       "</style>\n",
       "<table border=\"1\" class=\"dataframe\">\n",
       "  <thead>\n",
       "    <tr style=\"text-align: right;\">\n",
       "      <th></th>\n",
       "      <th>PersonalProjectsChallengeFreeForm</th>\n",
       "      <th>LearningPlatformSelect</th>\n",
       "      <th>LearningPlatformCommunityFreeForm</th>\n",
       "    </tr>\n",
       "  </thead>\n",
       "  <tbody>\n",
       "    <tr>\n",
       "      <th>0</th>\n",
       "      <td>Dataset aggregator/platform (i.e. Socrata/Kagg...</td>\n",
       "      <td>Arxiv,College/University,Kaggle,Online courses...</td>\n",
       "      <td>Very useful</td>\n",
       "    </tr>\n",
       "    <tr>\n",
       "      <th>1</th>\n",
       "      <td>GitHub</td>\n",
       "      <td>Arxiv,Conferences,Kaggle,Textbook</td>\n",
       "      <td>Very useful</td>\n",
       "    </tr>\n",
       "    <tr>\n",
       "      <th>2</th>\n",
       "      <td>Dataset aggregator/platform (i.e. Socrata/Kagg...</td>\n",
       "      <td>Arxiv,Blogs,Kaggle,Personal Projects,Textbook</td>\n",
       "      <td>Somewhat useful</td>\n",
       "    </tr>\n",
       "    <tr>\n",
       "      <th>3</th>\n",
       "      <td>I collect my own data (e.g. web-scraping)</td>\n",
       "      <td>Arxiv,Blogs,Conferences,Kaggle,Non-Kaggle onli...</td>\n",
       "      <td>Somewhat useful</td>\n",
       "    </tr>\n",
       "    <tr>\n",
       "      <th>4</th>\n",
       "      <td>Dataset aggregator/platform (i.e. Socrata/Kagg...</td>\n",
       "      <td>Arxiv,College/University,Kaggle,Stack Overflow...</td>\n",
       "      <td>Somewhat useful</td>\n",
       "    </tr>\n",
       "    <tr>\n",
       "      <th>...</th>\n",
       "      <td>...</td>\n",
       "      <td>...</td>\n",
       "      <td>...</td>\n",
       "    </tr>\n",
       "    <tr>\n",
       "      <th>8</th>\n",
       "      <td>University/Non-profit research group websites</td>\n",
       "      <td>None</td>\n",
       "      <td>Very useful</td>\n",
       "    </tr>\n",
       "    <tr>\n",
       "      <th>9</th>\n",
       "      <td>Dataset aggregator/platform (i.e. Socrata/Kagg...</td>\n",
       "      <td>Arxiv,Blogs,College/University,Kaggle,Newslett...</td>\n",
       "      <td>Very useful</td>\n",
       "    </tr>\n",
       "    <tr>\n",
       "      <th>10</th>\n",
       "      <td>Dataset aggregator/platform (i.e. Socrata/Kagg...</td>\n",
       "      <td>Arxiv,Blogs,College/University,Company interna...</td>\n",
       "      <td>Somewhat useful</td>\n",
       "    </tr>\n",
       "    <tr>\n",
       "      <th>11</th>\n",
       "      <td>University/Non-profit research group websites</td>\n",
       "      <td>Arxiv,Kaggle,Official documentation,Online cou...</td>\n",
       "      <td>Somewhat useful</td>\n",
       "    </tr>\n",
       "    <tr>\n",
       "      <th>12</th>\n",
       "      <td>Dataset aggregator/platform (i.e. Socrata/Kagg...</td>\n",
       "      <td>Arxiv,Blogs,Conferences,Kaggle,Non-Kaggle onli...</td>\n",
       "      <td>Very useful</td>\n",
       "    </tr>\n",
       "  </tbody>\n",
       "</table>\n",
       "<p>13 rows × 3 columns</p>\n",
       "</div>"
      ],
      "text/plain": [
       "                    PersonalProjectsChallengeFreeForm  \\\n",
       "0   Dataset aggregator/platform (i.e. Socrata/Kagg...   \n",
       "1                                              GitHub   \n",
       "2   Dataset aggregator/platform (i.e. Socrata/Kagg...   \n",
       "3           I collect my own data (e.g. web-scraping)   \n",
       "4   Dataset aggregator/platform (i.e. Socrata/Kagg...   \n",
       "..                                                ...   \n",
       "8       University/Non-profit research group websites   \n",
       "9   Dataset aggregator/platform (i.e. Socrata/Kagg...   \n",
       "10  Dataset aggregator/platform (i.e. Socrata/Kagg...   \n",
       "11      University/Non-profit research group websites   \n",
       "12  Dataset aggregator/platform (i.e. Socrata/Kagg...   \n",
       "\n",
       "                               LearningPlatformSelect  \\\n",
       "0   Arxiv,College/University,Kaggle,Online courses...   \n",
       "1                   Arxiv,Conferences,Kaggle,Textbook   \n",
       "2       Arxiv,Blogs,Kaggle,Personal Projects,Textbook   \n",
       "3   Arxiv,Blogs,Conferences,Kaggle,Non-Kaggle onli...   \n",
       "4   Arxiv,College/University,Kaggle,Stack Overflow...   \n",
       "..                                                ...   \n",
       "8                                                None   \n",
       "9   Arxiv,Blogs,College/University,Kaggle,Newslett...   \n",
       "10  Arxiv,Blogs,College/University,Company interna...   \n",
       "11  Arxiv,Kaggle,Official documentation,Online cou...   \n",
       "12  Arxiv,Blogs,Conferences,Kaggle,Non-Kaggle onli...   \n",
       "\n",
       "   LearningPlatformCommunityFreeForm  \n",
       "0                        Very useful  \n",
       "1                        Very useful  \n",
       "2                    Somewhat useful  \n",
       "3                    Somewhat useful  \n",
       "4                    Somewhat useful  \n",
       "..                               ...  \n",
       "8                        Very useful  \n",
       "9                        Very useful  \n",
       "10                   Somewhat useful  \n",
       "11                   Somewhat useful  \n",
       "12                       Very useful  \n",
       "\n",
       "[13 rows x 3 columns]"
      ]
     },
     "execution_count": 44,
     "metadata": {},
     "output_type": "execute_result"
    }
   ],
   "source": [
    "dummy_data = [\n",
    "    [\"Dataset aggregator/platform (i.e. Socrata/Kaggle Datasets/data.world/etc.)\",\n",
    "    \"Arxiv,College/University,Kaggle,Online courses,YouTube Videos\", \"Very useful\"],\n",
    "    [\"GitHub\", \"Arxiv,Conferences,Kaggle,Textbook\", \"Very useful\"],\n",
    "    [\"Dataset aggregator/platform (i.e. Socrata/Kaggle Datasets/data.world/etc.)\",\n",
    "    \"Arxiv,Blogs,Kaggle,Personal Projects,Textbook\", \"Somewhat useful\"],\n",
    "    [\"I collect my own data (e.g. web-scraping)\",\n",
    "    \"Arxiv,Blogs,Conferences,Kaggle,Non-Kaggle online communities,Official documentation,Online courses,\\\n",
    "    Personal Projects,Podcasts,Stack Overflow Q&A,Textbook,YouTube Videos\",\n",
    "    \"Somewhat useful\"],\n",
    "    [\"Dataset aggregator/platform (i.e. Socrata/Kaggle Datasets/data.world/etc.)\",\n",
    "    \"Arxiv,College/University,Kaggle,Stack Overflow Q&A,Textbook,Tutoring/mentoring\",\n",
    "    \"Somewhat useful\"],\n",
    "    [\"Dataset aggregator/platform (i.e. Socrata/Kaggle Datasets/data.world/etc.)\",\n",
    "    \"Arxiv,Blogs,Company internal community,Conferences,Kaggle,Non-Kaggle online communities,Personal Projects,\\\n",
    "    Podcasts,Stack Overflow Q&A,Textbook,YouTube Videos\", \"Very useful\"],\n",
    "    [\"Google Search\", \"Arxiv,Blogs,College/University,Company internal community,Conferences,Kaggle,Newsletters,\\\n",
    "    Non-Kaggle online communities,Official documentation,Online courses,Personal Projects,Podcasts,\\\n",
    "    Stack Overflow Q&A,Textbook,Trade book,Tutoring/mentoring,YouTube Videos\", \"Very useful\"],\n",
    "    [\"I collect my own data (e.g. web-scraping)\",\n",
    "    \"Arxiv,Blogs,Kaggle,Online courses,Personal Projects,Stack Overflow Q&A,YouTube Videos\", \"Very useful\"],\n",
    "    [\"University/Non-profit research group websites\",\n",
    "    \"Arxiv,Blogs,College/University,Conferences,Kaggle,Non-Kaggle online communities,Official documentation,\\\n",
    "    Stack Overflow Q&A\", \"Very useful\"],\n",
    "    [\"Dataset aggregator/platform (i.e. Socrata/Kaggle Datasets/data.world/etc.)\",\n",
    "    \"Arxiv,Blogs,College/University,Kaggle,Newsletters,Stack Overflow Q&A,YouTube Videos\", \"Very useful\"],\n",
    "    [\"Dataset aggregator/platform (i.e. Socrata/Kaggle Datasets/data.world/etc.)\",\n",
    "    \"Arxiv,Blogs,College/University,Company internal community,Friends network,Kaggle,\\\n",
    "    Non-Kaggle online communities,Official documentation,Online courses,Personal Projects,\\\n",
    "    Stack Overflow Q&A,Textbook,YouTube Videos\", \"Somewhat useful\"],\n",
    "    [\"University/Non-profit research group websites\",\n",
    "    \"Arxiv,Kaggle,Official documentation,Online courses,Stack Overflow Q&A,YouTube Videos\", \"Somewhat useful\"],\n",
    "    [\"Dataset aggregator/platform (i.e. Socrata/Kaggle Datasets/data.world/etc.)\",\n",
    "    \"Arxiv,Blogs,Conferences,Kaggle,Non-Kaggle online communities\", \"Very useful\"]\n",
    "]\n",
    "\n",
    "dummy_df = pd.DataFrame(data=dummy_data)\n",
    "dummy_df.columns = ['PersonalProjectsChallengeFreeForm','LearningPlatformSelect','LearningPlatformCommunityFreeForm']\n",
    "\n",
    "# adding NaN to make it more realistic\n",
    "dummy_df['LearningPlatformSelect'][8] = None\n",
    "dummy_df"
   ]
  },
  {
   "cell_type": "markdown",
   "metadata": {},
   "source": [
    "Прилагаме процедурата за енкодинг и получаваме една камара колони:"
   ]
  },
  {
   "cell_type": "code",
   "execution_count": 45,
   "metadata": {
    "collapsed": false
   },
   "outputs": [
    {
     "data": {
      "text/html": [
       "<div>\n",
       "<style scoped>\n",
       "    .dataframe tbody tr th:only-of-type {\n",
       "        vertical-align: middle;\n",
       "    }\n",
       "\n",
       "    .dataframe tbody tr th {\n",
       "        vertical-align: top;\n",
       "    }\n",
       "\n",
       "    .dataframe thead th {\n",
       "        text-align: right;\n",
       "    }\n",
       "</style>\n",
       "<table border=\"1\" class=\"dataframe\">\n",
       "  <thead>\n",
       "    <tr style=\"text-align: right;\">\n",
       "      <th></th>\n",
       "      <th>PersonalProjectsChallengeFreeForm</th>\n",
       "      <th>LearningPlatformSelect</th>\n",
       "      <th>LearningPlatformCommunityFreeForm</th>\n",
       "      <th>LearningPlatformSelect_Podcasts</th>\n",
       "      <th>LearningPlatformSelect_Tutoringmentoring</th>\n",
       "      <th>LearningPlatformSelect_Kaggle</th>\n",
       "      <th>LearningPlatformSelect_Blogs</th>\n",
       "      <th>LearningPlatformSelect_Online_courses</th>\n",
       "      <th>LearningPlatformSelect_YouTube_Videos</th>\n",
       "      <th>LearningPlatformSelect_Newsletters</th>\n",
       "      <th>...</th>\n",
       "      <th>LearningPlatformSelect_____Stack_Overflow_QA</th>\n",
       "      <th>LearningPlatformSelect_Stack_Overflow_QA</th>\n",
       "      <th>LearningPlatformSelect_CollegeUniversity</th>\n",
       "      <th>LearningPlatformSelect_Friends_network</th>\n",
       "      <th>LearningPlatformSelect_NonKaggle_online_communities</th>\n",
       "      <th>LearningPlatformSelect_Arxiv</th>\n",
       "      <th>LearningPlatformSelect_Trade_book</th>\n",
       "      <th>LearningPlatformSelect_Company_internal_community</th>\n",
       "      <th>LearningPlatformSelect_Conferences</th>\n",
       "      <th>LearningPlatformSelect_____NonKaggle_online_communities</th>\n",
       "    </tr>\n",
       "  </thead>\n",
       "  <tbody>\n",
       "    <tr>\n",
       "      <th>0</th>\n",
       "      <td>Dataset aggregator/platform (i.e. Socrata/Kagg...</td>\n",
       "      <td>Arxiv,College/University,Kaggle,Online courses...</td>\n",
       "      <td>Very useful</td>\n",
       "      <td>0.00</td>\n",
       "      <td>0.00</td>\n",
       "      <td>1.00</td>\n",
       "      <td>0.00</td>\n",
       "      <td>1.00</td>\n",
       "      <td>1.00</td>\n",
       "      <td>0.00</td>\n",
       "      <td>...</td>\n",
       "      <td>0.00</td>\n",
       "      <td>0.00</td>\n",
       "      <td>1.00</td>\n",
       "      <td>0.00</td>\n",
       "      <td>0.00</td>\n",
       "      <td>1.00</td>\n",
       "      <td>0.00</td>\n",
       "      <td>0.00</td>\n",
       "      <td>0.00</td>\n",
       "      <td>0.00</td>\n",
       "    </tr>\n",
       "    <tr>\n",
       "      <th>1</th>\n",
       "      <td>GitHub</td>\n",
       "      <td>Arxiv,Conferences,Kaggle,Textbook</td>\n",
       "      <td>Very useful</td>\n",
       "      <td>0.00</td>\n",
       "      <td>0.00</td>\n",
       "      <td>1.00</td>\n",
       "      <td>0.00</td>\n",
       "      <td>0.00</td>\n",
       "      <td>0.00</td>\n",
       "      <td>0.00</td>\n",
       "      <td>...</td>\n",
       "      <td>0.00</td>\n",
       "      <td>0.00</td>\n",
       "      <td>0.00</td>\n",
       "      <td>0.00</td>\n",
       "      <td>0.00</td>\n",
       "      <td>1.00</td>\n",
       "      <td>0.00</td>\n",
       "      <td>0.00</td>\n",
       "      <td>1.00</td>\n",
       "      <td>0.00</td>\n",
       "    </tr>\n",
       "    <tr>\n",
       "      <th>2</th>\n",
       "      <td>Dataset aggregator/platform (i.e. Socrata/Kagg...</td>\n",
       "      <td>Arxiv,Blogs,Kaggle,Personal Projects,Textbook</td>\n",
       "      <td>Somewhat useful</td>\n",
       "      <td>0.00</td>\n",
       "      <td>0.00</td>\n",
       "      <td>1.00</td>\n",
       "      <td>1.00</td>\n",
       "      <td>0.00</td>\n",
       "      <td>0.00</td>\n",
       "      <td>0.00</td>\n",
       "      <td>...</td>\n",
       "      <td>0.00</td>\n",
       "      <td>0.00</td>\n",
       "      <td>0.00</td>\n",
       "      <td>0.00</td>\n",
       "      <td>0.00</td>\n",
       "      <td>1.00</td>\n",
       "      <td>0.00</td>\n",
       "      <td>0.00</td>\n",
       "      <td>0.00</td>\n",
       "      <td>0.00</td>\n",
       "    </tr>\n",
       "    <tr>\n",
       "      <th>3</th>\n",
       "      <td>I collect my own data (e.g. web-scraping)</td>\n",
       "      <td>Arxiv,Blogs,Conferences,Kaggle,Non-Kaggle onli...</td>\n",
       "      <td>Somewhat useful</td>\n",
       "      <td>1.00</td>\n",
       "      <td>0.00</td>\n",
       "      <td>1.00</td>\n",
       "      <td>1.00</td>\n",
       "      <td>1.00</td>\n",
       "      <td>1.00</td>\n",
       "      <td>0.00</td>\n",
       "      <td>...</td>\n",
       "      <td>0.00</td>\n",
       "      <td>1.00</td>\n",
       "      <td>0.00</td>\n",
       "      <td>0.00</td>\n",
       "      <td>1.00</td>\n",
       "      <td>1.00</td>\n",
       "      <td>0.00</td>\n",
       "      <td>0.00</td>\n",
       "      <td>1.00</td>\n",
       "      <td>0.00</td>\n",
       "    </tr>\n",
       "    <tr>\n",
       "      <th>4</th>\n",
       "      <td>Dataset aggregator/platform (i.e. Socrata/Kagg...</td>\n",
       "      <td>Arxiv,College/University,Kaggle,Stack Overflow...</td>\n",
       "      <td>Somewhat useful</td>\n",
       "      <td>0.00</td>\n",
       "      <td>1.00</td>\n",
       "      <td>1.00</td>\n",
       "      <td>0.00</td>\n",
       "      <td>0.00</td>\n",
       "      <td>0.00</td>\n",
       "      <td>0.00</td>\n",
       "      <td>...</td>\n",
       "      <td>0.00</td>\n",
       "      <td>1.00</td>\n",
       "      <td>1.00</td>\n",
       "      <td>0.00</td>\n",
       "      <td>0.00</td>\n",
       "      <td>1.00</td>\n",
       "      <td>0.00</td>\n",
       "      <td>0.00</td>\n",
       "      <td>0.00</td>\n",
       "      <td>0.00</td>\n",
       "    </tr>\n",
       "    <tr>\n",
       "      <th>...</th>\n",
       "      <td>...</td>\n",
       "      <td>...</td>\n",
       "      <td>...</td>\n",
       "      <td>...</td>\n",
       "      <td>...</td>\n",
       "      <td>...</td>\n",
       "      <td>...</td>\n",
       "      <td>...</td>\n",
       "      <td>...</td>\n",
       "      <td>...</td>\n",
       "      <td>...</td>\n",
       "      <td>...</td>\n",
       "      <td>...</td>\n",
       "      <td>...</td>\n",
       "      <td>...</td>\n",
       "      <td>...</td>\n",
       "      <td>...</td>\n",
       "      <td>...</td>\n",
       "      <td>...</td>\n",
       "      <td>...</td>\n",
       "      <td>...</td>\n",
       "    </tr>\n",
       "    <tr>\n",
       "      <th>8</th>\n",
       "      <td>University/Non-profit research group websites</td>\n",
       "      <td>NA</td>\n",
       "      <td>Very useful</td>\n",
       "      <td>0.00</td>\n",
       "      <td>0.00</td>\n",
       "      <td>0.00</td>\n",
       "      <td>0.00</td>\n",
       "      <td>0.00</td>\n",
       "      <td>0.00</td>\n",
       "      <td>0.00</td>\n",
       "      <td>...</td>\n",
       "      <td>0.00</td>\n",
       "      <td>0.00</td>\n",
       "      <td>0.00</td>\n",
       "      <td>0.00</td>\n",
       "      <td>0.00</td>\n",
       "      <td>0.00</td>\n",
       "      <td>0.00</td>\n",
       "      <td>0.00</td>\n",
       "      <td>0.00</td>\n",
       "      <td>0.00</td>\n",
       "    </tr>\n",
       "    <tr>\n",
       "      <th>9</th>\n",
       "      <td>Dataset aggregator/platform (i.e. Socrata/Kagg...</td>\n",
       "      <td>Arxiv,Blogs,College/University,Kaggle,Newslett...</td>\n",
       "      <td>Very useful</td>\n",
       "      <td>0.00</td>\n",
       "      <td>0.00</td>\n",
       "      <td>1.00</td>\n",
       "      <td>1.00</td>\n",
       "      <td>0.00</td>\n",
       "      <td>1.00</td>\n",
       "      <td>1.00</td>\n",
       "      <td>...</td>\n",
       "      <td>0.00</td>\n",
       "      <td>1.00</td>\n",
       "      <td>1.00</td>\n",
       "      <td>0.00</td>\n",
       "      <td>0.00</td>\n",
       "      <td>1.00</td>\n",
       "      <td>0.00</td>\n",
       "      <td>0.00</td>\n",
       "      <td>0.00</td>\n",
       "      <td>0.00</td>\n",
       "    </tr>\n",
       "    <tr>\n",
       "      <th>10</th>\n",
       "      <td>Dataset aggregator/platform (i.e. Socrata/Kagg...</td>\n",
       "      <td>Arxiv,Blogs,College/University,Company interna...</td>\n",
       "      <td>Somewhat useful</td>\n",
       "      <td>0.00</td>\n",
       "      <td>0.00</td>\n",
       "      <td>1.00</td>\n",
       "      <td>1.00</td>\n",
       "      <td>1.00</td>\n",
       "      <td>1.00</td>\n",
       "      <td>0.00</td>\n",
       "      <td>...</td>\n",
       "      <td>1.00</td>\n",
       "      <td>1.00</td>\n",
       "      <td>1.00</td>\n",
       "      <td>1.00</td>\n",
       "      <td>1.00</td>\n",
       "      <td>1.00</td>\n",
       "      <td>0.00</td>\n",
       "      <td>1.00</td>\n",
       "      <td>0.00</td>\n",
       "      <td>1.00</td>\n",
       "    </tr>\n",
       "    <tr>\n",
       "      <th>11</th>\n",
       "      <td>University/Non-profit research group websites</td>\n",
       "      <td>Arxiv,Kaggle,Official documentation,Online cou...</td>\n",
       "      <td>Somewhat useful</td>\n",
       "      <td>0.00</td>\n",
       "      <td>0.00</td>\n",
       "      <td>1.00</td>\n",
       "      <td>0.00</td>\n",
       "      <td>1.00</td>\n",
       "      <td>1.00</td>\n",
       "      <td>0.00</td>\n",
       "      <td>...</td>\n",
       "      <td>0.00</td>\n",
       "      <td>1.00</td>\n",
       "      <td>0.00</td>\n",
       "      <td>0.00</td>\n",
       "      <td>0.00</td>\n",
       "      <td>1.00</td>\n",
       "      <td>0.00</td>\n",
       "      <td>0.00</td>\n",
       "      <td>0.00</td>\n",
       "      <td>0.00</td>\n",
       "    </tr>\n",
       "    <tr>\n",
       "      <th>12</th>\n",
       "      <td>Dataset aggregator/platform (i.e. Socrata/Kagg...</td>\n",
       "      <td>Arxiv,Blogs,Conferences,Kaggle,Non-Kaggle onli...</td>\n",
       "      <td>Very useful</td>\n",
       "      <td>0.00</td>\n",
       "      <td>0.00</td>\n",
       "      <td>1.00</td>\n",
       "      <td>1.00</td>\n",
       "      <td>0.00</td>\n",
       "      <td>0.00</td>\n",
       "      <td>0.00</td>\n",
       "      <td>...</td>\n",
       "      <td>0.00</td>\n",
       "      <td>0.00</td>\n",
       "      <td>0.00</td>\n",
       "      <td>0.00</td>\n",
       "      <td>1.00</td>\n",
       "      <td>1.00</td>\n",
       "      <td>0.00</td>\n",
       "      <td>0.00</td>\n",
       "      <td>1.00</td>\n",
       "      <td>0.00</td>\n",
       "    </tr>\n",
       "  </tbody>\n",
       "</table>\n",
       "<p>13 rows × 26 columns</p>\n",
       "</div>"
      ],
      "text/plain": [
       "                    PersonalProjectsChallengeFreeForm  \\\n",
       "0   Dataset aggregator/platform (i.e. Socrata/Kagg...   \n",
       "1                                              GitHub   \n",
       "2   Dataset aggregator/platform (i.e. Socrata/Kagg...   \n",
       "3           I collect my own data (e.g. web-scraping)   \n",
       "4   Dataset aggregator/platform (i.e. Socrata/Kagg...   \n",
       "..                                                ...   \n",
       "8       University/Non-profit research group websites   \n",
       "9   Dataset aggregator/platform (i.e. Socrata/Kagg...   \n",
       "10  Dataset aggregator/platform (i.e. Socrata/Kagg...   \n",
       "11      University/Non-profit research group websites   \n",
       "12  Dataset aggregator/platform (i.e. Socrata/Kagg...   \n",
       "\n",
       "                               LearningPlatformSelect  \\\n",
       "0   Arxiv,College/University,Kaggle,Online courses...   \n",
       "1                   Arxiv,Conferences,Kaggle,Textbook   \n",
       "2       Arxiv,Blogs,Kaggle,Personal Projects,Textbook   \n",
       "3   Arxiv,Blogs,Conferences,Kaggle,Non-Kaggle onli...   \n",
       "4   Arxiv,College/University,Kaggle,Stack Overflow...   \n",
       "..                                                ...   \n",
       "8                                                  NA   \n",
       "9   Arxiv,Blogs,College/University,Kaggle,Newslett...   \n",
       "10  Arxiv,Blogs,College/University,Company interna...   \n",
       "11  Arxiv,Kaggle,Official documentation,Online cou...   \n",
       "12  Arxiv,Blogs,Conferences,Kaggle,Non-Kaggle onli...   \n",
       "\n",
       "   LearningPlatformCommunityFreeForm  LearningPlatformSelect_Podcasts  \\\n",
       "0                        Very useful                             0.00   \n",
       "1                        Very useful                             0.00   \n",
       "2                    Somewhat useful                             0.00   \n",
       "3                    Somewhat useful                             1.00   \n",
       "4                    Somewhat useful                             0.00   \n",
       "..                               ...                              ...   \n",
       "8                        Very useful                             0.00   \n",
       "9                        Very useful                             0.00   \n",
       "10                   Somewhat useful                             0.00   \n",
       "11                   Somewhat useful                             0.00   \n",
       "12                       Very useful                             0.00   \n",
       "\n",
       "    LearningPlatformSelect_Tutoringmentoring  LearningPlatformSelect_Kaggle  \\\n",
       "0                                       0.00                           1.00   \n",
       "1                                       0.00                           1.00   \n",
       "2                                       0.00                           1.00   \n",
       "3                                       0.00                           1.00   \n",
       "4                                       1.00                           1.00   \n",
       "..                                       ...                            ...   \n",
       "8                                       0.00                           0.00   \n",
       "9                                       0.00                           1.00   \n",
       "10                                      0.00                           1.00   \n",
       "11                                      0.00                           1.00   \n",
       "12                                      0.00                           1.00   \n",
       "\n",
       "    LearningPlatformSelect_Blogs  LearningPlatformSelect_Online_courses  \\\n",
       "0                           0.00                                   1.00   \n",
       "1                           0.00                                   0.00   \n",
       "2                           1.00                                   0.00   \n",
       "3                           1.00                                   1.00   \n",
       "4                           0.00                                   0.00   \n",
       "..                           ...                                    ...   \n",
       "8                           0.00                                   0.00   \n",
       "9                           1.00                                   0.00   \n",
       "10                          1.00                                   1.00   \n",
       "11                          0.00                                   1.00   \n",
       "12                          1.00                                   0.00   \n",
       "\n",
       "    LearningPlatformSelect_YouTube_Videos  LearningPlatformSelect_Newsletters  \\\n",
       "0                                    1.00                                0.00   \n",
       "1                                    0.00                                0.00   \n",
       "2                                    0.00                                0.00   \n",
       "3                                    1.00                                0.00   \n",
       "4                                    0.00                                0.00   \n",
       "..                                    ...                                 ...   \n",
       "8                                    0.00                                0.00   \n",
       "9                                    1.00                                1.00   \n",
       "10                                   1.00                                0.00   \n",
       "11                                   1.00                                0.00   \n",
       "12                                   0.00                                0.00   \n",
       "\n",
       "                             ...                             \\\n",
       "0                            ...                              \n",
       "1                            ...                              \n",
       "2                            ...                              \n",
       "3                            ...                              \n",
       "4                            ...                              \n",
       "..                           ...                              \n",
       "8                            ...                              \n",
       "9                            ...                              \n",
       "10                           ...                              \n",
       "11                           ...                              \n",
       "12                           ...                              \n",
       "\n",
       "    LearningPlatformSelect_____Stack_Overflow_QA  \\\n",
       "0                                           0.00   \n",
       "1                                           0.00   \n",
       "2                                           0.00   \n",
       "3                                           0.00   \n",
       "4                                           0.00   \n",
       "..                                           ...   \n",
       "8                                           0.00   \n",
       "9                                           0.00   \n",
       "10                                          1.00   \n",
       "11                                          0.00   \n",
       "12                                          0.00   \n",
       "\n",
       "    LearningPlatformSelect_Stack_Overflow_QA  \\\n",
       "0                                       0.00   \n",
       "1                                       0.00   \n",
       "2                                       0.00   \n",
       "3                                       1.00   \n",
       "4                                       1.00   \n",
       "..                                       ...   \n",
       "8                                       0.00   \n",
       "9                                       1.00   \n",
       "10                                      1.00   \n",
       "11                                      1.00   \n",
       "12                                      0.00   \n",
       "\n",
       "    LearningPlatformSelect_CollegeUniversity  \\\n",
       "0                                       1.00   \n",
       "1                                       0.00   \n",
       "2                                       0.00   \n",
       "3                                       0.00   \n",
       "4                                       1.00   \n",
       "..                                       ...   \n",
       "8                                       0.00   \n",
       "9                                       1.00   \n",
       "10                                      1.00   \n",
       "11                                      0.00   \n",
       "12                                      0.00   \n",
       "\n",
       "    LearningPlatformSelect_Friends_network  \\\n",
       "0                                     0.00   \n",
       "1                                     0.00   \n",
       "2                                     0.00   \n",
       "3                                     0.00   \n",
       "4                                     0.00   \n",
       "..                                     ...   \n",
       "8                                     0.00   \n",
       "9                                     0.00   \n",
       "10                                    1.00   \n",
       "11                                    0.00   \n",
       "12                                    0.00   \n",
       "\n",
       "    LearningPlatformSelect_NonKaggle_online_communities  \\\n",
       "0                                                0.00     \n",
       "1                                                0.00     \n",
       "2                                                0.00     \n",
       "3                                                1.00     \n",
       "4                                                0.00     \n",
       "..                                                ...     \n",
       "8                                                0.00     \n",
       "9                                                0.00     \n",
       "10                                               1.00     \n",
       "11                                               0.00     \n",
       "12                                               1.00     \n",
       "\n",
       "    LearningPlatformSelect_Arxiv  LearningPlatformSelect_Trade_book  \\\n",
       "0                           1.00                               0.00   \n",
       "1                           1.00                               0.00   \n",
       "2                           1.00                               0.00   \n",
       "3                           1.00                               0.00   \n",
       "4                           1.00                               0.00   \n",
       "..                           ...                                ...   \n",
       "8                           0.00                               0.00   \n",
       "9                           1.00                               0.00   \n",
       "10                          1.00                               0.00   \n",
       "11                          1.00                               0.00   \n",
       "12                          1.00                               0.00   \n",
       "\n",
       "    LearningPlatformSelect_Company_internal_community  \\\n",
       "0                                                0.00   \n",
       "1                                                0.00   \n",
       "2                                                0.00   \n",
       "3                                                0.00   \n",
       "4                                                0.00   \n",
       "..                                                ...   \n",
       "8                                                0.00   \n",
       "9                                                0.00   \n",
       "10                                               1.00   \n",
       "11                                               0.00   \n",
       "12                                               0.00   \n",
       "\n",
       "    LearningPlatformSelect_Conferences  \\\n",
       "0                                 0.00   \n",
       "1                                 1.00   \n",
       "2                                 0.00   \n",
       "3                                 1.00   \n",
       "4                                 0.00   \n",
       "..                                 ...   \n",
       "8                                 0.00   \n",
       "9                                 0.00   \n",
       "10                                0.00   \n",
       "11                                0.00   \n",
       "12                                1.00   \n",
       "\n",
       "    LearningPlatformSelect_____NonKaggle_online_communities  \n",
       "0                                                0.00        \n",
       "1                                                0.00        \n",
       "2                                                0.00        \n",
       "3                                                0.00        \n",
       "4                                                0.00        \n",
       "..                                                ...        \n",
       "8                                                0.00        \n",
       "9                                                0.00        \n",
       "10                                               1.00        \n",
       "11                                               0.00        \n",
       "12                                               0.00        \n",
       "\n",
       "[13 rows x 26 columns]"
      ]
     },
     "execution_count": 45,
     "metadata": {},
     "output_type": "execute_result"
    }
   ],
   "source": [
    "new_df = TextToOneHot(dummy_df, 'LearningPlatformSelect')\n",
    "new_df"
   ]
  },
  {
   "cell_type": "markdown",
   "metadata": {},
   "source": [
    "Бъркане по колоните на сляпо е доста безполезно. Преди да избера друг подход трябва да си определя цел:\n",
    " * да изследвам определени отношения между характеристики - например:\n",
    "    * има ли зависимост между пол и заплата (Compensation)\n",
    " * да тренирам конкретен модел - например:\n",
    "    * предсказване на Compensation въз основа на избрани характеристики възраст и държава\n",
    "    * предсказване на Compensation въз основа на всички multipleChoice характеристики\n",
    "    * предсказване на Compensation въз основа на multipleChoice + Freeform характеристики\n",
    "    \n",
    "Предполагам, че ще потренирам по избрани характеристики. Ако е нужно лесно могат да се добавят други характеристики в последствие. "
   ]
  },
  {
   "cell_type": "markdown",
   "metadata": {},
   "source": [
    "### Моделиране<a name=\"model\"></a>"
   ]
  },
  {
   "cell_type": "markdown",
   "metadata": {},
   "source": [
    "#### Подбор на данните"
   ]
  },
  {
   "cell_type": "markdown",
   "metadata": {},
   "source": [
    "Реших, че е най-интересно да моделирам Compensation въз основа на избрани характеристики, като възраст, държава и др.\n",
    "\n",
    "\n",
    "\n",
    "\n",
    "\n",
    "Първо да извадим избраните колони в нови DataFrame-и x & y."
   ]
  },
  {
   "cell_type": "code",
   "execution_count": 187,
   "metadata": {
    "collapsed": false,
    "scrolled": true
   },
   "outputs": [
    {
     "data": {
      "text/html": [
       "<div>\n",
       "<style scoped>\n",
       "    .dataframe tbody tr th:only-of-type {\n",
       "        vertical-align: middle;\n",
       "    }\n",
       "\n",
       "    .dataframe tbody tr th {\n",
       "        vertical-align: top;\n",
       "    }\n",
       "\n",
       "    .dataframe thead th {\n",
       "        text-align: right;\n",
       "    }\n",
       "</style>\n",
       "<table border=\"1\" class=\"dataframe\">\n",
       "  <thead>\n",
       "    <tr style=\"text-align: right;\">\n",
       "      <th></th>\n",
       "      <th>Age</th>\n",
       "      <th>Country</th>\n",
       "      <th>Job</th>\n",
       "      <th>Platform</th>\n",
       "      <th>Sex</th>\n",
       "    </tr>\n",
       "  </thead>\n",
       "  <tbody>\n",
       "    <tr>\n",
       "      <th>0</th>\n",
       "      <td>nan</td>\n",
       "      <td>NaN</td>\n",
       "      <td>DBA/Database Engineer</td>\n",
       "      <td>College/University,Conferences,Podcasts,Trade ...</td>\n",
       "      <td>Non-binary, genderqueer, or gender non-conforming</td>\n",
       "    </tr>\n",
       "    <tr>\n",
       "      <th>1</th>\n",
       "      <td>30.00</td>\n",
       "      <td>United States</td>\n",
       "      <td>NaN</td>\n",
       "      <td>Kaggle</td>\n",
       "      <td>Female</td>\n",
       "    </tr>\n",
       "    <tr>\n",
       "      <th>2</th>\n",
       "      <td>28.00</td>\n",
       "      <td>Canada</td>\n",
       "      <td>NaN</td>\n",
       "      <td>Arxiv,College/University,Kaggle,Online courses...</td>\n",
       "      <td>Male</td>\n",
       "    </tr>\n",
       "    <tr>\n",
       "      <th>3</th>\n",
       "      <td>56.00</td>\n",
       "      <td>United States</td>\n",
       "      <td>Operations Research Practitioner</td>\n",
       "      <td>Blogs,College/University,Conferences,Friends n...</td>\n",
       "      <td>Male</td>\n",
       "    </tr>\n",
       "    <tr>\n",
       "      <th>4</th>\n",
       "      <td>38.00</td>\n",
       "      <td>Taiwan</td>\n",
       "      <td>Computer Scientist</td>\n",
       "      <td>Arxiv,Conferences,Kaggle,Textbook</td>\n",
       "      <td>Male</td>\n",
       "    </tr>\n",
       "    <tr>\n",
       "      <th>...</th>\n",
       "      <td>...</td>\n",
       "      <td>...</td>\n",
       "      <td>...</td>\n",
       "      <td>...</td>\n",
       "      <td>...</td>\n",
       "    </tr>\n",
       "    <tr>\n",
       "      <th>16711</th>\n",
       "      <td>24.00</td>\n",
       "      <td>Other</td>\n",
       "      <td>NaN</td>\n",
       "      <td></td>\n",
       "      <td>Female</td>\n",
       "    </tr>\n",
       "    <tr>\n",
       "      <th>16712</th>\n",
       "      <td>25.00</td>\n",
       "      <td>Indonesia</td>\n",
       "      <td>Programmer</td>\n",
       "      <td>Kaggle,Non-Kaggle online communities,Online co...</td>\n",
       "      <td>Male</td>\n",
       "    </tr>\n",
       "    <tr>\n",
       "      <th>16713</th>\n",
       "      <td>25.00</td>\n",
       "      <td>Taiwan</td>\n",
       "      <td>NaN</td>\n",
       "      <td></td>\n",
       "      <td>Female</td>\n",
       "    </tr>\n",
       "    <tr>\n",
       "      <th>16714</th>\n",
       "      <td>16.00</td>\n",
       "      <td>Singapore</td>\n",
       "      <td>NaN</td>\n",
       "      <td></td>\n",
       "      <td>Female</td>\n",
       "    </tr>\n",
       "    <tr>\n",
       "      <th>16715</th>\n",
       "      <td>27.00</td>\n",
       "      <td>Japan</td>\n",
       "      <td>Programmer</td>\n",
       "      <td></td>\n",
       "      <td>Male</td>\n",
       "    </tr>\n",
       "  </tbody>\n",
       "</table>\n",
       "<p>16716 rows × 5 columns</p>\n",
       "</div>"
      ],
      "text/plain": [
       "        Age        Country                               Job  \\\n",
       "0       nan            NaN             DBA/Database Engineer   \n",
       "1     30.00  United States                               NaN   \n",
       "2     28.00         Canada                               NaN   \n",
       "3     56.00  United States  Operations Research Practitioner   \n",
       "4     38.00         Taiwan                Computer Scientist   \n",
       "...     ...            ...                               ...   \n",
       "16711 24.00          Other                               NaN   \n",
       "16712 25.00      Indonesia                        Programmer   \n",
       "16713 25.00         Taiwan                               NaN   \n",
       "16714 16.00      Singapore                               NaN   \n",
       "16715 27.00          Japan                        Programmer   \n",
       "\n",
       "                                                Platform  \\\n",
       "0      College/University,Conferences,Podcasts,Trade ...   \n",
       "1                                                 Kaggle   \n",
       "2      Arxiv,College/University,Kaggle,Online courses...   \n",
       "3      Blogs,College/University,Conferences,Friends n...   \n",
       "4                      Arxiv,Conferences,Kaggle,Textbook   \n",
       "...                                                  ...   \n",
       "16711                                                      \n",
       "16712  Kaggle,Non-Kaggle online communities,Online co...   \n",
       "16713                                                      \n",
       "16714                                                      \n",
       "16715                                                      \n",
       "\n",
       "                                                     Sex  \n",
       "0      Non-binary, genderqueer, or gender non-conforming  \n",
       "1                                                 Female  \n",
       "2                                                   Male  \n",
       "3                                                   Male  \n",
       "4                                                   Male  \n",
       "...                                                  ...  \n",
       "16711                                             Female  \n",
       "16712                                               Male  \n",
       "16713                                             Female  \n",
       "16714                                             Female  \n",
       "16715                                               Male  \n",
       "\n",
       "[16716 rows x 5 columns]"
      ]
     },
     "execution_count": 187,
     "metadata": {},
     "output_type": "execute_result"
    }
   ],
   "source": [
    "x = pd.DataFrame(data={'Sex': multi.GenderSelect, 'Age': multi.Age, 'Country': multi.Country, 'Job': multi.CurrentJobTitleSelect, 'Platform': multi.LearningPlatformSelect})\n",
    "x"
   ]
  },
  {
   "cell_type": "code",
   "execution_count": 188,
   "metadata": {
    "collapsed": false
   },
   "outputs": [
    {
     "name": "stdout",
     "output_type": "stream",
     "text": [
      "Age брой NaN: 331\n",
      "Country брой NaN: 121\n",
      "Job брой NaN: 4886\n",
      "Platform брой NaN: 0\n",
      "Sex брой NaN: 95\n"
     ]
    }
   ],
   "source": [
    "for col in x.columns:\n",
    "    print(col, 'брой NaN:', sum(x[col].isnull()) )"
   ]
  },
  {
   "cell_type": "markdown",
   "metadata": {},
   "source": [
    "За Y ще ползваме вече обработената колона 'compensation' в която компенсацията е сметната в USD. Тя в наивно именования датасет 'plotable_compensation'."
   ]
  },
  {
   "cell_type": "code",
   "execution_count": 189,
   "metadata": {
    "collapsed": false
   },
   "outputs": [
    {
     "data": {
      "text/html": [
       "<div>\n",
       "<style scoped>\n",
       "    .dataframe tbody tr th:only-of-type {\n",
       "        vertical-align: middle;\n",
       "    }\n",
       "\n",
       "    .dataframe tbody tr th {\n",
       "        vertical-align: top;\n",
       "    }\n",
       "\n",
       "    .dataframe thead th {\n",
       "        text-align: right;\n",
       "    }\n",
       "</style>\n",
       "<table border=\"1\" class=\"dataframe\">\n",
       "  <thead>\n",
       "    <tr style=\"text-align: right;\">\n",
       "      <th></th>\n",
       "      <th>Compensation</th>\n",
       "    </tr>\n",
       "  </thead>\n",
       "  <tbody>\n",
       "    <tr>\n",
       "      <th>3</th>\n",
       "      <td>250000.00</td>\n",
       "    </tr>\n",
       "    <tr>\n",
       "      <th>8</th>\n",
       "      <td>64184.80</td>\n",
       "    </tr>\n",
       "    <tr>\n",
       "      <th>9</th>\n",
       "      <td>20882.40</td>\n",
       "    </tr>\n",
       "    <tr>\n",
       "      <th>11</th>\n",
       "      <td>1483.90</td>\n",
       "    </tr>\n",
       "    <tr>\n",
       "      <th>14</th>\n",
       "      <td>36634.40</td>\n",
       "    </tr>\n",
       "    <tr>\n",
       "      <th>...</th>\n",
       "      <td>...</td>\n",
       "    </tr>\n",
       "    <tr>\n",
       "      <th>16507</th>\n",
       "      <td>50000.00</td>\n",
       "    </tr>\n",
       "    <tr>\n",
       "      <th>16517</th>\n",
       "      <td>100449.38</td>\n",
       "    </tr>\n",
       "    <tr>\n",
       "      <th>16525</th>\n",
       "      <td>200000.00</td>\n",
       "    </tr>\n",
       "    <tr>\n",
       "      <th>16577</th>\n",
       "      <td>89686.95</td>\n",
       "    </tr>\n",
       "    <tr>\n",
       "      <th>16700</th>\n",
       "      <td>10000.00</td>\n",
       "    </tr>\n",
       "  </tbody>\n",
       "</table>\n",
       "<p>4374 rows × 1 columns</p>\n",
       "</div>"
      ],
      "text/plain": [
       "       Compensation\n",
       "3         250000.00\n",
       "8          64184.80\n",
       "9          20882.40\n",
       "11          1483.90\n",
       "14         36634.40\n",
       "...             ...\n",
       "16507      50000.00\n",
       "16517     100449.38\n",
       "16525     200000.00\n",
       "16577      89686.95\n",
       "16700      10000.00\n",
       "\n",
       "[4374 rows x 1 columns]"
      ]
     },
     "execution_count": 189,
     "metadata": {},
     "output_type": "execute_result"
    }
   ],
   "source": [
    "y = pd.DataFrame(data={'Compensation': plotable_compensation.compensation})\n",
    "y"
   ]
  },
  {
   "cell_type": "markdown",
   "metadata": {},
   "source": [
    "Опа, тук сме затрили редовете с NaN стойности, та \"формите\" на датасетовете x & y не съвпадат:"
   ]
  },
  {
   "cell_type": "code",
   "execution_count": 190,
   "metadata": {
    "collapsed": false
   },
   "outputs": [
    {
     "name": "stdout",
     "output_type": "stream",
     "text": [
      "x:  (16716, 5)\n",
      "y:  (4374, 1)\n"
     ]
    }
   ],
   "source": [
    "print('x: ', x.shape)\n",
    "print('y: ', y.shape)"
   ]
  },
  {
   "cell_type": "markdown",
   "metadata": {},
   "source": [
    "Тъй като индексите на у са запазени, можем да затрием съответните редове от х:"
   ]
  },
  {
   "cell_type": "code",
   "execution_count": 191,
   "metadata": {
    "collapsed": false
   },
   "outputs": [
    {
     "name": "stdout",
     "output_type": "stream",
     "text": [
      "x:  (4374, 5)\n",
      "y:  (4374, 1)\n"
     ]
    }
   ],
   "source": [
    "x = x.reindex(y.index)\n",
    "print('x: ', x.shape)\n",
    "print('y: ', y.shape)"
   ]
  },
  {
   "cell_type": "markdown",
   "metadata": {},
   "source": [
    "Да нацепим💪 данните на тренировачни и тестови:"
   ]
  },
  {
   "cell_type": "code",
   "execution_count": 192,
   "metadata": {
    "collapsed": false,
    "scrolled": true
   },
   "outputs": [
    {
     "name": "stdout",
     "output_type": "stream",
     "text": [
      "(3061, 5)\n",
      "(1313, 5)\n",
      "(3061, 1)\n",
      "(1313, 1)\n"
     ]
    }
   ],
   "source": [
    "from sklearn.model_selection import train_test_split\n",
    "\n",
    "# %reset_selective -f [xy]_t....?\n",
    "\n",
    "x_train, x_test, y_train, y_test = train_test_split(x, y,\n",
    "                                                    test_size=0.3,\n",
    "                                                    random_state=1337)\n",
    "\n",
    "[ print(z.shape) for z in [x_train, x_test, y_train, y_test] ];"
   ]
  },
  {
   "cell_type": "markdown",
   "metadata": {},
   "source": [
    "Въпрос - трябваше ли да разделя данните преди да зачистя NaN записите от у? Аз поне не виждам причина. "
   ]
  },
  {
   "cell_type": "markdown",
   "metadata": {},
   "source": [
    "Този път ще ползвам **CountVectorizer** за да хвана уникалните стойности за категорията Platform. "
   ]
  },
  {
   "cell_type": "code",
   "execution_count": 193,
   "metadata": {
    "collapsed": false
   },
   "outputs": [
    {
     "name": "stdout",
     "output_type": "stream",
     "text": [
      "Намерени категории: 19\n"
     ]
    },
    {
     "data": {
      "text/plain": [
       "['arxiv',\n",
       " 'blogs',\n",
       " 'college/university',\n",
       " 'company internal community',\n",
       " 'conferences',\n",
       " 'friends network',\n",
       " 'kaggle',\n",
       " 'newsletters',\n",
       " 'non-kaggle online communities',\n",
       " 'official documentation',\n",
       " 'online courses',\n",
       " 'other',\n",
       " 'personal projects',\n",
       " 'podcasts',\n",
       " 'stack overflow q&a',\n",
       " 'textbook',\n",
       " 'trade book',\n",
       " 'tutoring/mentoring',\n",
       " 'youtube videos']"
      ]
     },
     "execution_count": 193,
     "metadata": {},
     "output_type": "execute_result"
    }
   ],
   "source": [
    "from sklearn.feature_extraction.text import CountVectorizer\n",
    "\n",
    "# cv = CountVectorizer(token_pattern=r'(?<=(,|\\A))[^,\"]+?(?=[,$])')\n",
    "# cv = CountVectorizer(token_pattern=r'(?<=(,|^))[^,\"]+?(?=[,$])')\n",
    "cv = CountVectorizer(token_pattern=r'[^,]+')\n",
    "\n",
    "cv.fit(x_train.Platform)\n",
    "print('Намерени категории:', len(cv.get_feature_names()))\n",
    "cv.get_feature_names()"
   ]
  },
  {
   "cell_type": "markdown",
   "metadata": {},
   "source": [
    "Каква е разликата между **.vocabulary_.items()** и **.get_feature_names()**"
   ]
  },
  {
   "cell_type": "code",
   "execution_count": 194,
   "metadata": {
    "collapsed": false
   },
   "outputs": [
    {
     "data": {
      "text/plain": [
       "set()"
      ]
     },
     "execution_count": 194,
     "metadata": {},
     "output_type": "execute_result"
    }
   ],
   "source": [
    "set(cv.get_feature_names()) - set(cv.vocabulary_.keys())"
   ]
  },
  {
   "cell_type": "markdown",
   "metadata": {},
   "source": [
    "Проверка на резултатите спрямо предишния речник."
   ]
  },
  {
   "cell_type": "code",
   "execution_count": 195,
   "metadata": {
    "collapsed": false
   },
   "outputs": [
    {
     "data": {
      "text/plain": [
       "set()"
      ]
     },
     "execution_count": 195,
     "metadata": {},
     "output_type": "execute_result"
    }
   ],
   "source": [
    "cv.vocabulary_.items()\n",
    "set([ z.lower() for z in accumulator]) - set(cv.vocabulary_.keys())"
   ]
  },
  {
   "cell_type": "code",
   "execution_count": 196,
   "metadata": {
    "collapsed": false
   },
   "outputs": [
    {
     "name": "stdout",
     "output_type": "stream",
     "text": [
      "[[0 1 0 0 0 0 1 0 0 0 1 0 0 0 1 0 0 0 1]\n",
      " [0 0 0 1 0 0 0 0 0 0 1 0 1 0 0 1 0 0 1]\n",
      " [0 1 1 0 0 0 1 0 0 0 1 0 0 0 1 0 0 0 1]\n",
      " [1 1 0 1 1 0 1 0 0 0 1 0 0 1 0 1 0 1 1]\n",
      " [1 1 1 0 1 0 1 0 0 1 1 0 0 0 0 0 0 1 1]\n",
      " [0 1 0 0 0 0 0 1 0 0 0 0 0 0 0 1 0 0 0]\n",
      " [0 1 1 0 0 0 1 0 1 1 0 0 1 0 1 0 0 0 0]\n",
      " [0 1 0 0 1 1 1 0 0 0 0 0 1 0 1 0 0 0 0]\n",
      " [0 0 0 0 0 0 1 0 0 0 1 0 0 0 0 0 0 0 1]\n",
      " [0 1 0 1 0 1 1 0 0 0 1 0 0 0 1 1 0 1 1]\n",
      " [0 0 0 0 0 0 0 0 0 0 0 0 0 0 0 0 0 0 1]\n",
      " [1 1 1 0 1 1 1 0 0 1 1 0 1 1 1 1 0 0 0]\n",
      " [0 0 0 0 1 0 0 0 0 0 1 0 0 1 1 1 0 0 1]\n",
      " [1 1 0 1 0 0 1 0 1 0 0 0 1 0 0 0 0 0 0]\n",
      " [1 1 0 1 0 1 1 1 1 1 1 0 1 0 1 1 0 0 1]\n",
      " [0 0 0 0 0 0 1 1 1 0 1 0 1 1 0 0 0 0 0]\n",
      " [0 0 1 0 1 0 1 0 0 0 0 0 1 0 0 1 0 0 0]\n",
      " [1 0 1 0 0 0 1 0 0 0 1 0 1 1 1 1 0 0 0]\n",
      " [0 0 0 1 0 0 1 0 0 0 1 0 0 0 1 0 0 0 0]\n",
      " [0 1 0 0 0 0 0 1 0 0 1 0 1 0 1 0 0 0 0]]\n"
     ]
    }
   ],
   "source": [
    "encoded_platforms_matrix = cv.fit_transform(x_train.Platform)\n",
    "print(encoded_platforms_matrix[:20].todense())"
   ]
  },
  {
   "cell_type": "code",
   "execution_count": 200,
   "metadata": {
    "collapsed": false
   },
   "outputs": [
    {
     "data": {
      "text/html": [
       "<div>\n",
       "<style scoped>\n",
       "    .dataframe tbody tr th:only-of-type {\n",
       "        vertical-align: middle;\n",
       "    }\n",
       "\n",
       "    .dataframe tbody tr th {\n",
       "        vertical-align: top;\n",
       "    }\n",
       "\n",
       "    .dataframe thead th {\n",
       "        text-align: right;\n",
       "    }\n",
       "</style>\n",
       "<table border=\"1\" class=\"dataframe\">\n",
       "  <thead>\n",
       "    <tr style=\"text-align: right;\">\n",
       "      <th></th>\n",
       "      <th>arxiv</th>\n",
       "      <th>blogs</th>\n",
       "      <th>college/university</th>\n",
       "      <th>company internal community</th>\n",
       "      <th>conferences</th>\n",
       "      <th>friends network</th>\n",
       "      <th>kaggle</th>\n",
       "      <th>newsletters</th>\n",
       "      <th>non-kaggle online communities</th>\n",
       "      <th>official documentation</th>\n",
       "      <th>online courses</th>\n",
       "      <th>other</th>\n",
       "      <th>personal projects</th>\n",
       "      <th>podcasts</th>\n",
       "      <th>stack overflow q&amp;a</th>\n",
       "      <th>textbook</th>\n",
       "      <th>trade book</th>\n",
       "      <th>tutoring/mentoring</th>\n",
       "      <th>youtube videos</th>\n",
       "    </tr>\n",
       "  </thead>\n",
       "  <tbody>\n",
       "    <tr>\n",
       "      <th>8416</th>\n",
       "      <td>0</td>\n",
       "      <td>1</td>\n",
       "      <td>0</td>\n",
       "      <td>0</td>\n",
       "      <td>0</td>\n",
       "      <td>0</td>\n",
       "      <td>1</td>\n",
       "      <td>0</td>\n",
       "      <td>0</td>\n",
       "      <td>0</td>\n",
       "      <td>1</td>\n",
       "      <td>0</td>\n",
       "      <td>0</td>\n",
       "      <td>0</td>\n",
       "      <td>1</td>\n",
       "      <td>0</td>\n",
       "      <td>0</td>\n",
       "      <td>0</td>\n",
       "      <td>1</td>\n",
       "    </tr>\n",
       "    <tr>\n",
       "      <th>3587</th>\n",
       "      <td>0</td>\n",
       "      <td>0</td>\n",
       "      <td>0</td>\n",
       "      <td>1</td>\n",
       "      <td>0</td>\n",
       "      <td>0</td>\n",
       "      <td>0</td>\n",
       "      <td>0</td>\n",
       "      <td>0</td>\n",
       "      <td>0</td>\n",
       "      <td>1</td>\n",
       "      <td>0</td>\n",
       "      <td>1</td>\n",
       "      <td>0</td>\n",
       "      <td>0</td>\n",
       "      <td>1</td>\n",
       "      <td>0</td>\n",
       "      <td>0</td>\n",
       "      <td>1</td>\n",
       "    </tr>\n",
       "    <tr>\n",
       "      <th>11542</th>\n",
       "      <td>0</td>\n",
       "      <td>1</td>\n",
       "      <td>1</td>\n",
       "      <td>0</td>\n",
       "      <td>0</td>\n",
       "      <td>0</td>\n",
       "      <td>1</td>\n",
       "      <td>0</td>\n",
       "      <td>0</td>\n",
       "      <td>0</td>\n",
       "      <td>1</td>\n",
       "      <td>0</td>\n",
       "      <td>0</td>\n",
       "      <td>0</td>\n",
       "      <td>1</td>\n",
       "      <td>0</td>\n",
       "      <td>0</td>\n",
       "      <td>0</td>\n",
       "      <td>1</td>\n",
       "    </tr>\n",
       "    <tr>\n",
       "      <th>5581</th>\n",
       "      <td>1</td>\n",
       "      <td>1</td>\n",
       "      <td>0</td>\n",
       "      <td>1</td>\n",
       "      <td>1</td>\n",
       "      <td>0</td>\n",
       "      <td>1</td>\n",
       "      <td>0</td>\n",
       "      <td>0</td>\n",
       "      <td>0</td>\n",
       "      <td>1</td>\n",
       "      <td>0</td>\n",
       "      <td>0</td>\n",
       "      <td>1</td>\n",
       "      <td>0</td>\n",
       "      <td>1</td>\n",
       "      <td>0</td>\n",
       "      <td>1</td>\n",
       "      <td>1</td>\n",
       "    </tr>\n",
       "    <tr>\n",
       "      <th>16134</th>\n",
       "      <td>1</td>\n",
       "      <td>1</td>\n",
       "      <td>1</td>\n",
       "      <td>0</td>\n",
       "      <td>1</td>\n",
       "      <td>0</td>\n",
       "      <td>1</td>\n",
       "      <td>0</td>\n",
       "      <td>0</td>\n",
       "      <td>1</td>\n",
       "      <td>1</td>\n",
       "      <td>0</td>\n",
       "      <td>0</td>\n",
       "      <td>0</td>\n",
       "      <td>0</td>\n",
       "      <td>0</td>\n",
       "      <td>0</td>\n",
       "      <td>1</td>\n",
       "      <td>1</td>\n",
       "    </tr>\n",
       "    <tr>\n",
       "      <th>...</th>\n",
       "      <td>...</td>\n",
       "      <td>...</td>\n",
       "      <td>...</td>\n",
       "      <td>...</td>\n",
       "      <td>...</td>\n",
       "      <td>...</td>\n",
       "      <td>...</td>\n",
       "      <td>...</td>\n",
       "      <td>...</td>\n",
       "      <td>...</td>\n",
       "      <td>...</td>\n",
       "      <td>...</td>\n",
       "      <td>...</td>\n",
       "      <td>...</td>\n",
       "      <td>...</td>\n",
       "      <td>...</td>\n",
       "      <td>...</td>\n",
       "      <td>...</td>\n",
       "      <td>...</td>\n",
       "    </tr>\n",
       "    <tr>\n",
       "      <th>10424</th>\n",
       "      <td>0</td>\n",
       "      <td>0</td>\n",
       "      <td>0</td>\n",
       "      <td>0</td>\n",
       "      <td>0</td>\n",
       "      <td>0</td>\n",
       "      <td>0</td>\n",
       "      <td>0</td>\n",
       "      <td>0</td>\n",
       "      <td>1</td>\n",
       "      <td>1</td>\n",
       "      <td>0</td>\n",
       "      <td>0</td>\n",
       "      <td>0</td>\n",
       "      <td>1</td>\n",
       "      <td>0</td>\n",
       "      <td>0</td>\n",
       "      <td>0</td>\n",
       "      <td>0</td>\n",
       "    </tr>\n",
       "    <tr>\n",
       "      <th>3547</th>\n",
       "      <td>0</td>\n",
       "      <td>1</td>\n",
       "      <td>1</td>\n",
       "      <td>0</td>\n",
       "      <td>1</td>\n",
       "      <td>1</td>\n",
       "      <td>1</td>\n",
       "      <td>0</td>\n",
       "      <td>0</td>\n",
       "      <td>0</td>\n",
       "      <td>0</td>\n",
       "      <td>0</td>\n",
       "      <td>1</td>\n",
       "      <td>1</td>\n",
       "      <td>1</td>\n",
       "      <td>0</td>\n",
       "      <td>0</td>\n",
       "      <td>0</td>\n",
       "      <td>0</td>\n",
       "    </tr>\n",
       "    <tr>\n",
       "      <th>2598</th>\n",
       "      <td>1</td>\n",
       "      <td>0</td>\n",
       "      <td>0</td>\n",
       "      <td>1</td>\n",
       "      <td>1</td>\n",
       "      <td>0</td>\n",
       "      <td>1</td>\n",
       "      <td>0</td>\n",
       "      <td>0</td>\n",
       "      <td>0</td>\n",
       "      <td>0</td>\n",
       "      <td>0</td>\n",
       "      <td>0</td>\n",
       "      <td>0</td>\n",
       "      <td>1</td>\n",
       "      <td>0</td>\n",
       "      <td>0</td>\n",
       "      <td>0</td>\n",
       "      <td>1</td>\n",
       "    </tr>\n",
       "    <tr>\n",
       "      <th>728</th>\n",
       "      <td>1</td>\n",
       "      <td>1</td>\n",
       "      <td>1</td>\n",
       "      <td>0</td>\n",
       "      <td>1</td>\n",
       "      <td>1</td>\n",
       "      <td>1</td>\n",
       "      <td>0</td>\n",
       "      <td>0</td>\n",
       "      <td>0</td>\n",
       "      <td>0</td>\n",
       "      <td>0</td>\n",
       "      <td>0</td>\n",
       "      <td>0</td>\n",
       "      <td>1</td>\n",
       "      <td>0</td>\n",
       "      <td>0</td>\n",
       "      <td>1</td>\n",
       "      <td>0</td>\n",
       "    </tr>\n",
       "    <tr>\n",
       "      <th>10373</th>\n",
       "      <td>1</td>\n",
       "      <td>1</td>\n",
       "      <td>1</td>\n",
       "      <td>0</td>\n",
       "      <td>1</td>\n",
       "      <td>0</td>\n",
       "      <td>1</td>\n",
       "      <td>1</td>\n",
       "      <td>0</td>\n",
       "      <td>0</td>\n",
       "      <td>1</td>\n",
       "      <td>0</td>\n",
       "      <td>0</td>\n",
       "      <td>0</td>\n",
       "      <td>1</td>\n",
       "      <td>0</td>\n",
       "      <td>0</td>\n",
       "      <td>0</td>\n",
       "      <td>0</td>\n",
       "    </tr>\n",
       "  </tbody>\n",
       "</table>\n",
       "<p>3061 rows × 19 columns</p>\n",
       "</div>"
      ],
      "text/plain": [
       "       arxiv  blogs  college/university  company internal community  \\\n",
       "8416       0      1                   0                           0   \n",
       "3587       0      0                   0                           1   \n",
       "11542      0      1                   1                           0   \n",
       "5581       1      1                   0                           1   \n",
       "16134      1      1                   1                           0   \n",
       "...      ...    ...                 ...                         ...   \n",
       "10424      0      0                   0                           0   \n",
       "3547       0      1                   1                           0   \n",
       "2598       1      0                   0                           1   \n",
       "728        1      1                   1                           0   \n",
       "10373      1      1                   1                           0   \n",
       "\n",
       "       conferences  friends network  kaggle  newsletters  \\\n",
       "8416             0                0       1            0   \n",
       "3587             0                0       0            0   \n",
       "11542            0                0       1            0   \n",
       "5581             1                0       1            0   \n",
       "16134            1                0       1            0   \n",
       "...            ...              ...     ...          ...   \n",
       "10424            0                0       0            0   \n",
       "3547             1                1       1            0   \n",
       "2598             1                0       1            0   \n",
       "728              1                1       1            0   \n",
       "10373            1                0       1            1   \n",
       "\n",
       "       non-kaggle online communities  official documentation  online courses  \\\n",
       "8416                               0                       0               1   \n",
       "3587                               0                       0               1   \n",
       "11542                              0                       0               1   \n",
       "5581                               0                       0               1   \n",
       "16134                              0                       1               1   \n",
       "...                              ...                     ...             ...   \n",
       "10424                              0                       1               1   \n",
       "3547                               0                       0               0   \n",
       "2598                               0                       0               0   \n",
       "728                                0                       0               0   \n",
       "10373                              0                       0               1   \n",
       "\n",
       "       other  personal projects  podcasts  stack overflow q&a  textbook  \\\n",
       "8416       0                  0         0                   1         0   \n",
       "3587       0                  1         0                   0         1   \n",
       "11542      0                  0         0                   1         0   \n",
       "5581       0                  0         1                   0         1   \n",
       "16134      0                  0         0                   0         0   \n",
       "...      ...                ...       ...                 ...       ...   \n",
       "10424      0                  0         0                   1         0   \n",
       "3547       0                  1         1                   1         0   \n",
       "2598       0                  0         0                   1         0   \n",
       "728        0                  0         0                   1         0   \n",
       "10373      0                  0         0                   1         0   \n",
       "\n",
       "       trade book  tutoring/mentoring  youtube videos  \n",
       "8416            0                   0               1  \n",
       "3587            0                   0               1  \n",
       "11542           0                   0               1  \n",
       "5581            0                   1               1  \n",
       "16134           0                   1               1  \n",
       "...           ...                 ...             ...  \n",
       "10424           0                   0               0  \n",
       "3547            0                   0               0  \n",
       "2598            0                   0               1  \n",
       "728             0                   1               0  \n",
       "10373           0                   0               0  \n",
       "\n",
       "[3061 rows x 19 columns]"
      ]
     },
     "execution_count": 200,
     "metadata": {},
     "output_type": "execute_result"
    }
   ],
   "source": [
    "encoded_platforms = pd.DataFrame(data=encoded_platforms_matrix.todense(), index=x_train.index, columns=cv.get_feature_names())\n",
    "encoded_platforms"
   ]
  },
  {
   "cell_type": "code",
   "execution_count": 198,
   "metadata": {
    "collapsed": false
   },
   "outputs": [
    {
     "data": {
      "text/plain": [
       "'Blogs,Kaggle,Online courses,Stack Overflow Q&A,YouTube Videos'"
      ]
     },
     "execution_count": 198,
     "metadata": {},
     "output_type": "execute_result"
    }
   ],
   "source": [
    "x_train.iloc[0].Platform"
   ]
  },
  {
   "cell_type": "code",
   "execution_count": 199,
   "metadata": {
    "collapsed": false
   },
   "outputs": [
    {
     "data": {
      "text/html": [
       "<div>\n",
       "<style scoped>\n",
       "    .dataframe tbody tr th:only-of-type {\n",
       "        vertical-align: middle;\n",
       "    }\n",
       "\n",
       "    .dataframe tbody tr th {\n",
       "        vertical-align: top;\n",
       "    }\n",
       "\n",
       "    .dataframe thead th {\n",
       "        text-align: right;\n",
       "    }\n",
       "</style>\n",
       "<table border=\"1\" class=\"dataframe\">\n",
       "  <thead>\n",
       "    <tr style=\"text-align: right;\">\n",
       "      <th></th>\n",
       "      <th>Age</th>\n",
       "      <th>Country</th>\n",
       "      <th>Job</th>\n",
       "      <th>Platform</th>\n",
       "      <th>Sex</th>\n",
       "    </tr>\n",
       "  </thead>\n",
       "  <tbody>\n",
       "    <tr>\n",
       "      <th>8416</th>\n",
       "      <td>27.00</td>\n",
       "      <td>Israel</td>\n",
       "      <td>Scientist/Researcher</td>\n",
       "      <td>Blogs,Kaggle,Online courses,Stack Overflow Q&amp;A...</td>\n",
       "      <td>Female</td>\n",
       "    </tr>\n",
       "    <tr>\n",
       "      <th>3587</th>\n",
       "      <td>56.00</td>\n",
       "      <td>United States</td>\n",
       "      <td>Statistician</td>\n",
       "      <td>Company internal community,Online courses,Pers...</td>\n",
       "      <td>Male</td>\n",
       "    </tr>\n",
       "    <tr>\n",
       "      <th>11542</th>\n",
       "      <td>35.00</td>\n",
       "      <td>Other</td>\n",
       "      <td>Data Scientist</td>\n",
       "      <td>Blogs,College/University,Kaggle,Online courses...</td>\n",
       "      <td>Male</td>\n",
       "    </tr>\n",
       "    <tr>\n",
       "      <th>5581</th>\n",
       "      <td>34.00</td>\n",
       "      <td>United States</td>\n",
       "      <td>Other</td>\n",
       "      <td>Arxiv,Blogs,Company internal community,Confere...</td>\n",
       "      <td>Male</td>\n",
       "    </tr>\n",
       "    <tr>\n",
       "      <th>16134</th>\n",
       "      <td>29.00</td>\n",
       "      <td>Romania</td>\n",
       "      <td>Researcher</td>\n",
       "      <td>Arxiv,Blogs,College/University,Conferences,Kag...</td>\n",
       "      <td>Female</td>\n",
       "    </tr>\n",
       "    <tr>\n",
       "      <th>...</th>\n",
       "      <td>...</td>\n",
       "      <td>...</td>\n",
       "      <td>...</td>\n",
       "      <td>...</td>\n",
       "      <td>...</td>\n",
       "    </tr>\n",
       "    <tr>\n",
       "      <th>10424</th>\n",
       "      <td>31.00</td>\n",
       "      <td>Chile</td>\n",
       "      <td>Data Scientist</td>\n",
       "      <td>Official documentation,Online courses,Stack Ov...</td>\n",
       "      <td>Female</td>\n",
       "    </tr>\n",
       "    <tr>\n",
       "      <th>3547</th>\n",
       "      <td>26.00</td>\n",
       "      <td>Mexico</td>\n",
       "      <td>Computer Scientist</td>\n",
       "      <td>Blogs,College/University,Conferences,Friends n...</td>\n",
       "      <td>Male</td>\n",
       "    </tr>\n",
       "    <tr>\n",
       "      <th>2598</th>\n",
       "      <td>43.00</td>\n",
       "      <td>South Africa</td>\n",
       "      <td>Data Scientist</td>\n",
       "      <td>Arxiv,Company internal community,Conferences,K...</td>\n",
       "      <td>Male</td>\n",
       "    </tr>\n",
       "    <tr>\n",
       "      <th>728</th>\n",
       "      <td>25.00</td>\n",
       "      <td>United States</td>\n",
       "      <td>Scientist/Researcher</td>\n",
       "      <td>Arxiv,Blogs,College/University,Conferences,Fri...</td>\n",
       "      <td>Male</td>\n",
       "    </tr>\n",
       "    <tr>\n",
       "      <th>10373</th>\n",
       "      <td>27.00</td>\n",
       "      <td>Canada</td>\n",
       "      <td>Data Scientist</td>\n",
       "      <td>Arxiv,Blogs,College/University,Conferences,Kag...</td>\n",
       "      <td>Male</td>\n",
       "    </tr>\n",
       "  </tbody>\n",
       "</table>\n",
       "<p>3061 rows × 5 columns</p>\n",
       "</div>"
      ],
      "text/plain": [
       "        Age        Country                   Job  \\\n",
       "8416  27.00         Israel  Scientist/Researcher   \n",
       "3587  56.00  United States          Statistician   \n",
       "11542 35.00          Other        Data Scientist   \n",
       "5581  34.00  United States                 Other   \n",
       "16134 29.00        Romania            Researcher   \n",
       "...     ...            ...                   ...   \n",
       "10424 31.00          Chile        Data Scientist   \n",
       "3547  26.00         Mexico    Computer Scientist   \n",
       "2598  43.00   South Africa        Data Scientist   \n",
       "728   25.00  United States  Scientist/Researcher   \n",
       "10373 27.00         Canada        Data Scientist   \n",
       "\n",
       "                                                Platform     Sex  \n",
       "8416   Blogs,Kaggle,Online courses,Stack Overflow Q&A...  Female  \n",
       "3587   Company internal community,Online courses,Pers...    Male  \n",
       "11542  Blogs,College/University,Kaggle,Online courses...    Male  \n",
       "5581   Arxiv,Blogs,Company internal community,Confere...    Male  \n",
       "16134  Arxiv,Blogs,College/University,Conferences,Kag...  Female  \n",
       "...                                                  ...     ...  \n",
       "10424  Official documentation,Online courses,Stack Ov...  Female  \n",
       "3547   Blogs,College/University,Conferences,Friends n...    Male  \n",
       "2598   Arxiv,Company internal community,Conferences,K...    Male  \n",
       "728    Arxiv,Blogs,College/University,Conferences,Fri...    Male  \n",
       "10373  Arxiv,Blogs,College/University,Conferences,Kag...    Male  \n",
       "\n",
       "[3061 rows x 5 columns]"
      ]
     },
     "execution_count": 199,
     "metadata": {},
     "output_type": "execute_result"
    }
   ],
   "source": [
    "x_train"
   ]
  },
  {
   "cell_type": "code",
   "execution_count": 201,
   "metadata": {
    "collapsed": false
   },
   "outputs": [
    {
     "data": {
      "text/html": [
       "<div>\n",
       "<style scoped>\n",
       "    .dataframe tbody tr th:only-of-type {\n",
       "        vertical-align: middle;\n",
       "    }\n",
       "\n",
       "    .dataframe tbody tr th {\n",
       "        vertical-align: top;\n",
       "    }\n",
       "\n",
       "    .dataframe thead th {\n",
       "        text-align: right;\n",
       "    }\n",
       "</style>\n",
       "<table border=\"1\" class=\"dataframe\">\n",
       "  <thead>\n",
       "    <tr style=\"text-align: right;\">\n",
       "      <th></th>\n",
       "      <th>Age</th>\n",
       "      <th>Country</th>\n",
       "      <th>Job</th>\n",
       "      <th>Platform</th>\n",
       "      <th>Sex</th>\n",
       "      <th>arxiv</th>\n",
       "      <th>blogs</th>\n",
       "      <th>college/university</th>\n",
       "      <th>company internal community</th>\n",
       "      <th>conferences</th>\n",
       "      <th>...</th>\n",
       "      <th>official documentation</th>\n",
       "      <th>online courses</th>\n",
       "      <th>other</th>\n",
       "      <th>personal projects</th>\n",
       "      <th>podcasts</th>\n",
       "      <th>stack overflow q&amp;a</th>\n",
       "      <th>textbook</th>\n",
       "      <th>trade book</th>\n",
       "      <th>tutoring/mentoring</th>\n",
       "      <th>youtube videos</th>\n",
       "    </tr>\n",
       "  </thead>\n",
       "  <tbody>\n",
       "    <tr>\n",
       "      <th>8416</th>\n",
       "      <td>27.00</td>\n",
       "      <td>Israel</td>\n",
       "      <td>Scientist/Researcher</td>\n",
       "      <td>Blogs,Kaggle,Online courses,Stack Overflow Q&amp;A...</td>\n",
       "      <td>Female</td>\n",
       "      <td>0</td>\n",
       "      <td>1</td>\n",
       "      <td>0</td>\n",
       "      <td>0</td>\n",
       "      <td>0</td>\n",
       "      <td>...</td>\n",
       "      <td>0</td>\n",
       "      <td>1</td>\n",
       "      <td>0</td>\n",
       "      <td>0</td>\n",
       "      <td>0</td>\n",
       "      <td>1</td>\n",
       "      <td>0</td>\n",
       "      <td>0</td>\n",
       "      <td>0</td>\n",
       "      <td>1</td>\n",
       "    </tr>\n",
       "    <tr>\n",
       "      <th>3587</th>\n",
       "      <td>56.00</td>\n",
       "      <td>United States</td>\n",
       "      <td>Statistician</td>\n",
       "      <td>Company internal community,Online courses,Pers...</td>\n",
       "      <td>Male</td>\n",
       "      <td>0</td>\n",
       "      <td>0</td>\n",
       "      <td>0</td>\n",
       "      <td>1</td>\n",
       "      <td>0</td>\n",
       "      <td>...</td>\n",
       "      <td>0</td>\n",
       "      <td>1</td>\n",
       "      <td>0</td>\n",
       "      <td>1</td>\n",
       "      <td>0</td>\n",
       "      <td>0</td>\n",
       "      <td>1</td>\n",
       "      <td>0</td>\n",
       "      <td>0</td>\n",
       "      <td>1</td>\n",
       "    </tr>\n",
       "    <tr>\n",
       "      <th>11542</th>\n",
       "      <td>35.00</td>\n",
       "      <td>Other</td>\n",
       "      <td>Data Scientist</td>\n",
       "      <td>Blogs,College/University,Kaggle,Online courses...</td>\n",
       "      <td>Male</td>\n",
       "      <td>0</td>\n",
       "      <td>1</td>\n",
       "      <td>1</td>\n",
       "      <td>0</td>\n",
       "      <td>0</td>\n",
       "      <td>...</td>\n",
       "      <td>0</td>\n",
       "      <td>1</td>\n",
       "      <td>0</td>\n",
       "      <td>0</td>\n",
       "      <td>0</td>\n",
       "      <td>1</td>\n",
       "      <td>0</td>\n",
       "      <td>0</td>\n",
       "      <td>0</td>\n",
       "      <td>1</td>\n",
       "    </tr>\n",
       "    <tr>\n",
       "      <th>5581</th>\n",
       "      <td>34.00</td>\n",
       "      <td>United States</td>\n",
       "      <td>Other</td>\n",
       "      <td>Arxiv,Blogs,Company internal community,Confere...</td>\n",
       "      <td>Male</td>\n",
       "      <td>1</td>\n",
       "      <td>1</td>\n",
       "      <td>0</td>\n",
       "      <td>1</td>\n",
       "      <td>1</td>\n",
       "      <td>...</td>\n",
       "      <td>0</td>\n",
       "      <td>1</td>\n",
       "      <td>0</td>\n",
       "      <td>0</td>\n",
       "      <td>1</td>\n",
       "      <td>0</td>\n",
       "      <td>1</td>\n",
       "      <td>0</td>\n",
       "      <td>1</td>\n",
       "      <td>1</td>\n",
       "    </tr>\n",
       "    <tr>\n",
       "      <th>16134</th>\n",
       "      <td>29.00</td>\n",
       "      <td>Romania</td>\n",
       "      <td>Researcher</td>\n",
       "      <td>Arxiv,Blogs,College/University,Conferences,Kag...</td>\n",
       "      <td>Female</td>\n",
       "      <td>1</td>\n",
       "      <td>1</td>\n",
       "      <td>1</td>\n",
       "      <td>0</td>\n",
       "      <td>1</td>\n",
       "      <td>...</td>\n",
       "      <td>1</td>\n",
       "      <td>1</td>\n",
       "      <td>0</td>\n",
       "      <td>0</td>\n",
       "      <td>0</td>\n",
       "      <td>0</td>\n",
       "      <td>0</td>\n",
       "      <td>0</td>\n",
       "      <td>1</td>\n",
       "      <td>1</td>\n",
       "    </tr>\n",
       "    <tr>\n",
       "      <th>...</th>\n",
       "      <td>...</td>\n",
       "      <td>...</td>\n",
       "      <td>...</td>\n",
       "      <td>...</td>\n",
       "      <td>...</td>\n",
       "      <td>...</td>\n",
       "      <td>...</td>\n",
       "      <td>...</td>\n",
       "      <td>...</td>\n",
       "      <td>...</td>\n",
       "      <td>...</td>\n",
       "      <td>...</td>\n",
       "      <td>...</td>\n",
       "      <td>...</td>\n",
       "      <td>...</td>\n",
       "      <td>...</td>\n",
       "      <td>...</td>\n",
       "      <td>...</td>\n",
       "      <td>...</td>\n",
       "      <td>...</td>\n",
       "      <td>...</td>\n",
       "    </tr>\n",
       "    <tr>\n",
       "      <th>10424</th>\n",
       "      <td>31.00</td>\n",
       "      <td>Chile</td>\n",
       "      <td>Data Scientist</td>\n",
       "      <td>Official documentation,Online courses,Stack Ov...</td>\n",
       "      <td>Female</td>\n",
       "      <td>0</td>\n",
       "      <td>0</td>\n",
       "      <td>0</td>\n",
       "      <td>0</td>\n",
       "      <td>0</td>\n",
       "      <td>...</td>\n",
       "      <td>1</td>\n",
       "      <td>1</td>\n",
       "      <td>0</td>\n",
       "      <td>0</td>\n",
       "      <td>0</td>\n",
       "      <td>1</td>\n",
       "      <td>0</td>\n",
       "      <td>0</td>\n",
       "      <td>0</td>\n",
       "      <td>0</td>\n",
       "    </tr>\n",
       "    <tr>\n",
       "      <th>3547</th>\n",
       "      <td>26.00</td>\n",
       "      <td>Mexico</td>\n",
       "      <td>Computer Scientist</td>\n",
       "      <td>Blogs,College/University,Conferences,Friends n...</td>\n",
       "      <td>Male</td>\n",
       "      <td>0</td>\n",
       "      <td>1</td>\n",
       "      <td>1</td>\n",
       "      <td>0</td>\n",
       "      <td>1</td>\n",
       "      <td>...</td>\n",
       "      <td>0</td>\n",
       "      <td>0</td>\n",
       "      <td>0</td>\n",
       "      <td>1</td>\n",
       "      <td>1</td>\n",
       "      <td>1</td>\n",
       "      <td>0</td>\n",
       "      <td>0</td>\n",
       "      <td>0</td>\n",
       "      <td>0</td>\n",
       "    </tr>\n",
       "    <tr>\n",
       "      <th>2598</th>\n",
       "      <td>43.00</td>\n",
       "      <td>South Africa</td>\n",
       "      <td>Data Scientist</td>\n",
       "      <td>Arxiv,Company internal community,Conferences,K...</td>\n",
       "      <td>Male</td>\n",
       "      <td>1</td>\n",
       "      <td>0</td>\n",
       "      <td>0</td>\n",
       "      <td>1</td>\n",
       "      <td>1</td>\n",
       "      <td>...</td>\n",
       "      <td>0</td>\n",
       "      <td>0</td>\n",
       "      <td>0</td>\n",
       "      <td>0</td>\n",
       "      <td>0</td>\n",
       "      <td>1</td>\n",
       "      <td>0</td>\n",
       "      <td>0</td>\n",
       "      <td>0</td>\n",
       "      <td>1</td>\n",
       "    </tr>\n",
       "    <tr>\n",
       "      <th>728</th>\n",
       "      <td>25.00</td>\n",
       "      <td>United States</td>\n",
       "      <td>Scientist/Researcher</td>\n",
       "      <td>Arxiv,Blogs,College/University,Conferences,Fri...</td>\n",
       "      <td>Male</td>\n",
       "      <td>1</td>\n",
       "      <td>1</td>\n",
       "      <td>1</td>\n",
       "      <td>0</td>\n",
       "      <td>1</td>\n",
       "      <td>...</td>\n",
       "      <td>0</td>\n",
       "      <td>0</td>\n",
       "      <td>0</td>\n",
       "      <td>0</td>\n",
       "      <td>0</td>\n",
       "      <td>1</td>\n",
       "      <td>0</td>\n",
       "      <td>0</td>\n",
       "      <td>1</td>\n",
       "      <td>0</td>\n",
       "    </tr>\n",
       "    <tr>\n",
       "      <th>10373</th>\n",
       "      <td>27.00</td>\n",
       "      <td>Canada</td>\n",
       "      <td>Data Scientist</td>\n",
       "      <td>Arxiv,Blogs,College/University,Conferences,Kag...</td>\n",
       "      <td>Male</td>\n",
       "      <td>1</td>\n",
       "      <td>1</td>\n",
       "      <td>1</td>\n",
       "      <td>0</td>\n",
       "      <td>1</td>\n",
       "      <td>...</td>\n",
       "      <td>0</td>\n",
       "      <td>1</td>\n",
       "      <td>0</td>\n",
       "      <td>0</td>\n",
       "      <td>0</td>\n",
       "      <td>1</td>\n",
       "      <td>0</td>\n",
       "      <td>0</td>\n",
       "      <td>0</td>\n",
       "      <td>0</td>\n",
       "    </tr>\n",
       "  </tbody>\n",
       "</table>\n",
       "<p>3061 rows × 24 columns</p>\n",
       "</div>"
      ],
      "text/plain": [
       "        Age        Country                   Job  \\\n",
       "8416  27.00         Israel  Scientist/Researcher   \n",
       "3587  56.00  United States          Statistician   \n",
       "11542 35.00          Other        Data Scientist   \n",
       "5581  34.00  United States                 Other   \n",
       "16134 29.00        Romania            Researcher   \n",
       "...     ...            ...                   ...   \n",
       "10424 31.00          Chile        Data Scientist   \n",
       "3547  26.00         Mexico    Computer Scientist   \n",
       "2598  43.00   South Africa        Data Scientist   \n",
       "728   25.00  United States  Scientist/Researcher   \n",
       "10373 27.00         Canada        Data Scientist   \n",
       "\n",
       "                                                Platform     Sex  arxiv  \\\n",
       "8416   Blogs,Kaggle,Online courses,Stack Overflow Q&A...  Female      0   \n",
       "3587   Company internal community,Online courses,Pers...    Male      0   \n",
       "11542  Blogs,College/University,Kaggle,Online courses...    Male      0   \n",
       "5581   Arxiv,Blogs,Company internal community,Confere...    Male      1   \n",
       "16134  Arxiv,Blogs,College/University,Conferences,Kag...  Female      1   \n",
       "...                                                  ...     ...    ...   \n",
       "10424  Official documentation,Online courses,Stack Ov...  Female      0   \n",
       "3547   Blogs,College/University,Conferences,Friends n...    Male      0   \n",
       "2598   Arxiv,Company internal community,Conferences,K...    Male      1   \n",
       "728    Arxiv,Blogs,College/University,Conferences,Fri...    Male      1   \n",
       "10373  Arxiv,Blogs,College/University,Conferences,Kag...    Male      1   \n",
       "\n",
       "       blogs  college/university  company internal community  conferences  \\\n",
       "8416       1                   0                           0            0   \n",
       "3587       0                   0                           1            0   \n",
       "11542      1                   1                           0            0   \n",
       "5581       1                   0                           1            1   \n",
       "16134      1                   1                           0            1   \n",
       "...      ...                 ...                         ...          ...   \n",
       "10424      0                   0                           0            0   \n",
       "3547       1                   1                           0            1   \n",
       "2598       0                   0                           1            1   \n",
       "728        1                   1                           0            1   \n",
       "10373      1                   1                           0            1   \n",
       "\n",
       "            ...        official documentation  online courses  other  \\\n",
       "8416        ...                             0               1      0   \n",
       "3587        ...                             0               1      0   \n",
       "11542       ...                             0               1      0   \n",
       "5581        ...                             0               1      0   \n",
       "16134       ...                             1               1      0   \n",
       "...         ...                           ...             ...    ...   \n",
       "10424       ...                             1               1      0   \n",
       "3547        ...                             0               0      0   \n",
       "2598        ...                             0               0      0   \n",
       "728         ...                             0               0      0   \n",
       "10373       ...                             0               1      0   \n",
       "\n",
       "       personal projects  podcasts  stack overflow q&a  textbook  trade book  \\\n",
       "8416                   0         0                   1         0           0   \n",
       "3587                   1         0                   0         1           0   \n",
       "11542                  0         0                   1         0           0   \n",
       "5581                   0         1                   0         1           0   \n",
       "16134                  0         0                   0         0           0   \n",
       "...                  ...       ...                 ...       ...         ...   \n",
       "10424                  0         0                   1         0           0   \n",
       "3547                   1         1                   1         0           0   \n",
       "2598                   0         0                   1         0           0   \n",
       "728                    0         0                   1         0           0   \n",
       "10373                  0         0                   1         0           0   \n",
       "\n",
       "       tutoring/mentoring  youtube videos  \n",
       "8416                    0               1  \n",
       "3587                    0               1  \n",
       "11542                   0               1  \n",
       "5581                    1               1  \n",
       "16134                   1               1  \n",
       "...                   ...             ...  \n",
       "10424                   0               0  \n",
       "3547                    0               0  \n",
       "2598                    0               1  \n",
       "728                     1               0  \n",
       "10373                   0               0  \n",
       "\n",
       "[3061 rows x 24 columns]"
      ]
     },
     "execution_count": 201,
     "metadata": {},
     "output_type": "execute_result"
    }
   ],
   "source": [
    "concatenated = pd.concat([x_train, encoded_platforms], axis=1)\n",
    "concatenated"
   ]
  },
  {
   "cell_type": "code",
   "execution_count": 206,
   "metadata": {
    "collapsed": false
   },
   "outputs": [
    {
     "data": {
      "text/html": [
       "<div>\n",
       "<style scoped>\n",
       "    .dataframe tbody tr th:only-of-type {\n",
       "        vertical-align: middle;\n",
       "    }\n",
       "\n",
       "    .dataframe tbody tr th {\n",
       "        vertical-align: top;\n",
       "    }\n",
       "\n",
       "    .dataframe thead th {\n",
       "        text-align: right;\n",
       "    }\n",
       "</style>\n",
       "<table border=\"1\" class=\"dataframe\">\n",
       "  <thead>\n",
       "    <tr style=\"text-align: right;\">\n",
       "      <th></th>\n",
       "      <th>Age</th>\n",
       "      <th>Country</th>\n",
       "      <th>Job</th>\n",
       "      <th>Sex</th>\n",
       "      <th>arxiv</th>\n",
       "      <th>blogs</th>\n",
       "      <th>college/university</th>\n",
       "      <th>company internal community</th>\n",
       "      <th>conferences</th>\n",
       "      <th>friends network</th>\n",
       "      <th>...</th>\n",
       "      <th>official documentation</th>\n",
       "      <th>online courses</th>\n",
       "      <th>other</th>\n",
       "      <th>personal projects</th>\n",
       "      <th>podcasts</th>\n",
       "      <th>stack overflow q&amp;a</th>\n",
       "      <th>textbook</th>\n",
       "      <th>trade book</th>\n",
       "      <th>tutoring/mentoring</th>\n",
       "      <th>youtube videos</th>\n",
       "    </tr>\n",
       "  </thead>\n",
       "  <tbody>\n",
       "    <tr>\n",
       "      <th>8416</th>\n",
       "      <td>27.00</td>\n",
       "      <td>Israel</td>\n",
       "      <td>Scientist/Researcher</td>\n",
       "      <td>Female</td>\n",
       "      <td>0</td>\n",
       "      <td>1</td>\n",
       "      <td>0</td>\n",
       "      <td>0</td>\n",
       "      <td>0</td>\n",
       "      <td>0</td>\n",
       "      <td>...</td>\n",
       "      <td>0</td>\n",
       "      <td>1</td>\n",
       "      <td>0</td>\n",
       "      <td>0</td>\n",
       "      <td>0</td>\n",
       "      <td>1</td>\n",
       "      <td>0</td>\n",
       "      <td>0</td>\n",
       "      <td>0</td>\n",
       "      <td>1</td>\n",
       "    </tr>\n",
       "    <tr>\n",
       "      <th>3587</th>\n",
       "      <td>56.00</td>\n",
       "      <td>United States</td>\n",
       "      <td>Statistician</td>\n",
       "      <td>Male</td>\n",
       "      <td>0</td>\n",
       "      <td>0</td>\n",
       "      <td>0</td>\n",
       "      <td>1</td>\n",
       "      <td>0</td>\n",
       "      <td>0</td>\n",
       "      <td>...</td>\n",
       "      <td>0</td>\n",
       "      <td>1</td>\n",
       "      <td>0</td>\n",
       "      <td>1</td>\n",
       "      <td>0</td>\n",
       "      <td>0</td>\n",
       "      <td>1</td>\n",
       "      <td>0</td>\n",
       "      <td>0</td>\n",
       "      <td>1</td>\n",
       "    </tr>\n",
       "    <tr>\n",
       "      <th>11542</th>\n",
       "      <td>35.00</td>\n",
       "      <td>Other</td>\n",
       "      <td>Data Scientist</td>\n",
       "      <td>Male</td>\n",
       "      <td>0</td>\n",
       "      <td>1</td>\n",
       "      <td>1</td>\n",
       "      <td>0</td>\n",
       "      <td>0</td>\n",
       "      <td>0</td>\n",
       "      <td>...</td>\n",
       "      <td>0</td>\n",
       "      <td>1</td>\n",
       "      <td>0</td>\n",
       "      <td>0</td>\n",
       "      <td>0</td>\n",
       "      <td>1</td>\n",
       "      <td>0</td>\n",
       "      <td>0</td>\n",
       "      <td>0</td>\n",
       "      <td>1</td>\n",
       "    </tr>\n",
       "    <tr>\n",
       "      <th>5581</th>\n",
       "      <td>34.00</td>\n",
       "      <td>United States</td>\n",
       "      <td>Other</td>\n",
       "      <td>Male</td>\n",
       "      <td>1</td>\n",
       "      <td>1</td>\n",
       "      <td>0</td>\n",
       "      <td>1</td>\n",
       "      <td>1</td>\n",
       "      <td>0</td>\n",
       "      <td>...</td>\n",
       "      <td>0</td>\n",
       "      <td>1</td>\n",
       "      <td>0</td>\n",
       "      <td>0</td>\n",
       "      <td>1</td>\n",
       "      <td>0</td>\n",
       "      <td>1</td>\n",
       "      <td>0</td>\n",
       "      <td>1</td>\n",
       "      <td>1</td>\n",
       "    </tr>\n",
       "    <tr>\n",
       "      <th>16134</th>\n",
       "      <td>29.00</td>\n",
       "      <td>Romania</td>\n",
       "      <td>Researcher</td>\n",
       "      <td>Female</td>\n",
       "      <td>1</td>\n",
       "      <td>1</td>\n",
       "      <td>1</td>\n",
       "      <td>0</td>\n",
       "      <td>1</td>\n",
       "      <td>0</td>\n",
       "      <td>...</td>\n",
       "      <td>1</td>\n",
       "      <td>1</td>\n",
       "      <td>0</td>\n",
       "      <td>0</td>\n",
       "      <td>0</td>\n",
       "      <td>0</td>\n",
       "      <td>0</td>\n",
       "      <td>0</td>\n",
       "      <td>1</td>\n",
       "      <td>1</td>\n",
       "    </tr>\n",
       "    <tr>\n",
       "      <th>...</th>\n",
       "      <td>...</td>\n",
       "      <td>...</td>\n",
       "      <td>...</td>\n",
       "      <td>...</td>\n",
       "      <td>...</td>\n",
       "      <td>...</td>\n",
       "      <td>...</td>\n",
       "      <td>...</td>\n",
       "      <td>...</td>\n",
       "      <td>...</td>\n",
       "      <td>...</td>\n",
       "      <td>...</td>\n",
       "      <td>...</td>\n",
       "      <td>...</td>\n",
       "      <td>...</td>\n",
       "      <td>...</td>\n",
       "      <td>...</td>\n",
       "      <td>...</td>\n",
       "      <td>...</td>\n",
       "      <td>...</td>\n",
       "      <td>...</td>\n",
       "    </tr>\n",
       "    <tr>\n",
       "      <th>10424</th>\n",
       "      <td>31.00</td>\n",
       "      <td>Chile</td>\n",
       "      <td>Data Scientist</td>\n",
       "      <td>Female</td>\n",
       "      <td>0</td>\n",
       "      <td>0</td>\n",
       "      <td>0</td>\n",
       "      <td>0</td>\n",
       "      <td>0</td>\n",
       "      <td>0</td>\n",
       "      <td>...</td>\n",
       "      <td>1</td>\n",
       "      <td>1</td>\n",
       "      <td>0</td>\n",
       "      <td>0</td>\n",
       "      <td>0</td>\n",
       "      <td>1</td>\n",
       "      <td>0</td>\n",
       "      <td>0</td>\n",
       "      <td>0</td>\n",
       "      <td>0</td>\n",
       "    </tr>\n",
       "    <tr>\n",
       "      <th>3547</th>\n",
       "      <td>26.00</td>\n",
       "      <td>Mexico</td>\n",
       "      <td>Computer Scientist</td>\n",
       "      <td>Male</td>\n",
       "      <td>0</td>\n",
       "      <td>1</td>\n",
       "      <td>1</td>\n",
       "      <td>0</td>\n",
       "      <td>1</td>\n",
       "      <td>1</td>\n",
       "      <td>...</td>\n",
       "      <td>0</td>\n",
       "      <td>0</td>\n",
       "      <td>0</td>\n",
       "      <td>1</td>\n",
       "      <td>1</td>\n",
       "      <td>1</td>\n",
       "      <td>0</td>\n",
       "      <td>0</td>\n",
       "      <td>0</td>\n",
       "      <td>0</td>\n",
       "    </tr>\n",
       "    <tr>\n",
       "      <th>2598</th>\n",
       "      <td>43.00</td>\n",
       "      <td>South Africa</td>\n",
       "      <td>Data Scientist</td>\n",
       "      <td>Male</td>\n",
       "      <td>1</td>\n",
       "      <td>0</td>\n",
       "      <td>0</td>\n",
       "      <td>1</td>\n",
       "      <td>1</td>\n",
       "      <td>0</td>\n",
       "      <td>...</td>\n",
       "      <td>0</td>\n",
       "      <td>0</td>\n",
       "      <td>0</td>\n",
       "      <td>0</td>\n",
       "      <td>0</td>\n",
       "      <td>1</td>\n",
       "      <td>0</td>\n",
       "      <td>0</td>\n",
       "      <td>0</td>\n",
       "      <td>1</td>\n",
       "    </tr>\n",
       "    <tr>\n",
       "      <th>728</th>\n",
       "      <td>25.00</td>\n",
       "      <td>United States</td>\n",
       "      <td>Scientist/Researcher</td>\n",
       "      <td>Male</td>\n",
       "      <td>1</td>\n",
       "      <td>1</td>\n",
       "      <td>1</td>\n",
       "      <td>0</td>\n",
       "      <td>1</td>\n",
       "      <td>1</td>\n",
       "      <td>...</td>\n",
       "      <td>0</td>\n",
       "      <td>0</td>\n",
       "      <td>0</td>\n",
       "      <td>0</td>\n",
       "      <td>0</td>\n",
       "      <td>1</td>\n",
       "      <td>0</td>\n",
       "      <td>0</td>\n",
       "      <td>1</td>\n",
       "      <td>0</td>\n",
       "    </tr>\n",
       "    <tr>\n",
       "      <th>10373</th>\n",
       "      <td>27.00</td>\n",
       "      <td>Canada</td>\n",
       "      <td>Data Scientist</td>\n",
       "      <td>Male</td>\n",
       "      <td>1</td>\n",
       "      <td>1</td>\n",
       "      <td>1</td>\n",
       "      <td>0</td>\n",
       "      <td>1</td>\n",
       "      <td>0</td>\n",
       "      <td>...</td>\n",
       "      <td>0</td>\n",
       "      <td>1</td>\n",
       "      <td>0</td>\n",
       "      <td>0</td>\n",
       "      <td>0</td>\n",
       "      <td>1</td>\n",
       "      <td>0</td>\n",
       "      <td>0</td>\n",
       "      <td>0</td>\n",
       "      <td>0</td>\n",
       "    </tr>\n",
       "  </tbody>\n",
       "</table>\n",
       "<p>3061 rows × 23 columns</p>\n",
       "</div>"
      ],
      "text/plain": [
       "        Age        Country                   Job     Sex  arxiv  blogs  \\\n",
       "8416  27.00         Israel  Scientist/Researcher  Female      0      1   \n",
       "3587  56.00  United States          Statistician    Male      0      0   \n",
       "11542 35.00          Other        Data Scientist    Male      0      1   \n",
       "5581  34.00  United States                 Other    Male      1      1   \n",
       "16134 29.00        Romania            Researcher  Female      1      1   \n",
       "...     ...            ...                   ...     ...    ...    ...   \n",
       "10424 31.00          Chile        Data Scientist  Female      0      0   \n",
       "3547  26.00         Mexico    Computer Scientist    Male      0      1   \n",
       "2598  43.00   South Africa        Data Scientist    Male      1      0   \n",
       "728   25.00  United States  Scientist/Researcher    Male      1      1   \n",
       "10373 27.00         Canada        Data Scientist    Male      1      1   \n",
       "\n",
       "       college/university  company internal community  conferences  \\\n",
       "8416                    0                           0            0   \n",
       "3587                    0                           1            0   \n",
       "11542                   1                           0            0   \n",
       "5581                    0                           1            1   \n",
       "16134                   1                           0            1   \n",
       "...                   ...                         ...          ...   \n",
       "10424                   0                           0            0   \n",
       "3547                    1                           0            1   \n",
       "2598                    0                           1            1   \n",
       "728                     1                           0            1   \n",
       "10373                   1                           0            1   \n",
       "\n",
       "       friends network       ...        official documentation  \\\n",
       "8416                 0       ...                             0   \n",
       "3587                 0       ...                             0   \n",
       "11542                0       ...                             0   \n",
       "5581                 0       ...                             0   \n",
       "16134                0       ...                             1   \n",
       "...                ...       ...                           ...   \n",
       "10424                0       ...                             1   \n",
       "3547                 1       ...                             0   \n",
       "2598                 0       ...                             0   \n",
       "728                  1       ...                             0   \n",
       "10373                0       ...                             0   \n",
       "\n",
       "       online courses  other  personal projects  podcasts  stack overflow q&a  \\\n",
       "8416                1      0                  0         0                   1   \n",
       "3587                1      0                  1         0                   0   \n",
       "11542               1      0                  0         0                   1   \n",
       "5581                1      0                  0         1                   0   \n",
       "16134               1      0                  0         0                   0   \n",
       "...               ...    ...                ...       ...                 ...   \n",
       "10424               1      0                  0         0                   1   \n",
       "3547                0      0                  1         1                   1   \n",
       "2598                0      0                  0         0                   1   \n",
       "728                 0      0                  0         0                   1   \n",
       "10373               1      0                  0         0                   1   \n",
       "\n",
       "       textbook  trade book  tutoring/mentoring  youtube videos  \n",
       "8416          0           0                   0               1  \n",
       "3587          1           0                   0               1  \n",
       "11542         0           0                   0               1  \n",
       "5581          1           0                   1               1  \n",
       "16134         0           0                   1               1  \n",
       "...         ...         ...                 ...             ...  \n",
       "10424         0           0                   0               0  \n",
       "3547          0           0                   0               0  \n",
       "2598          0           0                   0               1  \n",
       "728           0           0                   1               0  \n",
       "10373         0           0                   0               0  \n",
       "\n",
       "[3061 rows x 23 columns]"
      ]
     },
     "execution_count": 206,
     "metadata": {},
     "output_type": "execute_result"
    }
   ],
   "source": [
    "x_train = concatenated.drop(['Platform'], axis=1)\n",
    "x_train"
   ]
  },
  {
   "cell_type": "markdown",
   "metadata": {},
   "source": [
    "Пфффу. Останалите може директно с OneHot. "
   ]
  },
  {
   "cell_type": "code",
   "execution_count": 220,
   "metadata": {
    "collapsed": false
   },
   "outputs": [
    {
     "name": "stdout",
     "output_type": "stream",
     "text": [
      "could not convert string to float: 'Male'\n"
     ]
    }
   ],
   "source": [
    "from sklearn.preprocessing import OneHotEncoder\n",
    "\n",
    "try:\n",
    "    tmp = OneHotEncoder().fit(x_train)\n",
    "    tmp\n",
    "except ValueError as e:\n",
    "    print(e)"
   ]
  },
  {
   "cell_type": "markdown",
   "metadata": {},
   "source": [
    "Трябва ли да фейл-на една регресия преди да си оправя данните?"
   ]
  },
  {
   "cell_type": "code",
   "execution_count": null,
   "metadata": {
    "collapsed": false
   },
   "outputs": [],
   "source": [
    "from sklearn.linear_model import LinearRegression\n",
    "\n",
    "regressor = LinearRegression()\n",
    "try:\n",
    "    regressor.fit(x_train, y_train)\n",
    "except ValueError as e:\n",
    "    print(e)\n",
    "    \n",
    "try:\n",
    "    regressor.fit(x_train, y_train)\n",
    "except ValueError as e:\n",
    "    print(e)"
   ]
  },
  {
   "cell_type": "code",
   "execution_count": null,
   "metadata": {
    "collapsed": false
   },
   "outputs": [],
   "source": [
    "for feature in ['Age', 'ProdTime']:\n",
    "    print('брой нулеви записи за', feature, ' :',\n",
    "          len(x_train[feature]) - len(x_train[feature].nonzero()[0]))\n",
    "for feature in ['Age', 'ProdTime']:\n",
    "    print('брой NaN записи за', feature, ' :', x_train[feature].isnull().sum())"
   ]
  },
  {
   "cell_type": "code",
   "execution_count": null,
   "metadata": {
    "collapsed": false
   },
   "outputs": [],
   "source": [
    "x_train['Age'] = x_train['Age'].fillna(x_train['Age'].mean())\n",
    "x_train['ProdTime'] = x_train['ProdTime'].fillna(0)"
   ]
  },
  {
   "cell_type": "code",
   "execution_count": null,
   "metadata": {
    "collapsed": false
   },
   "outputs": [],
   "source": [
    "regressor.fit(x_train[['Age', 'ProdTime']], y_train)"
   ]
  },
  {
   "cell_type": "code",
   "execution_count": null,
   "metadata": {
    "collapsed": false
   },
   "outputs": [],
   "source": [
    "regressor.score(x_train[['Age', 'ProdTime']], y_train)"
   ]
  },
  {
   "cell_type": "code",
   "execution_count": null,
   "metadata": {
    "collapsed": false
   },
   "outputs": [],
   "source": [
    "allpoints = pd.DataFrame(data={'age': x_train['Age'], 'Money': y_train['Compensation']})\n",
    "print(allpoints.shape)\n",
    "print(allpoints.columns)\n",
    "print(y_train.columns)\n",
    "print(allpoints.Money[:10])\n",
    "sns.set()\n",
    "g = sns.PairGrid(allpoints)\n",
    "g = g.map(plt.scatter)"
   ]
  },
  {
   "cell_type": "code",
   "execution_count": null,
   "metadata": {
    "collapsed": false
   },
   "outputs": [],
   "source": [
    "from mpl_toolkits.mplot3d import Axes3D\n",
    "\n",
    "threedee = plt.figure(figsize=(10, 10)).gca(projection='3d')\n",
    "threedee.scatter( x_train['Age'], x_train['ProdTime'], y_train)\n",
    "threedee.set_xlabel('Age')\n",
    "threedee.set_ylabel('Time')\n",
    "threedee.set_zlabel('$')\n",
    "plt.show()"
   ]
  },
  {
   "cell_type": "markdown",
   "metadata": {},
   "source": [
    "Как е на български outliers?"
   ]
  },
  {
   "cell_type": "code",
   "execution_count": null,
   "metadata": {
    "collapsed": false
   },
   "outputs": [],
   "source": [
    "allpoints.sort_values('Money', ascending=False)"
   ]
  },
  {
   "cell_type": "code",
   "execution_count": null,
   "metadata": {
    "collapsed": false
   },
   "outputs": [],
   "source": [
    "for column in x_train.columns:\n",
    "    print(column, 'len:', len(x_train.index),\n",
    "          '; nonzero:', len(x_train[column].nonzero()[0]),\n",
    "          '; isnull:', len(x_train[column].isnull()) )"
   ]
  },
  {
   "cell_type": "markdown",
   "metadata": {},
   "source": [
    "DELME---- -- - Разликата за nonzero е ОК, въпроса е да няма NaN. Y няма да го проверявам за NaN, защото вече филтрирахме само записите с данни. Все пак може да има нулеви стойности:\n",
    "\n",
    "\n",
    "    print('брой нулеви записи:', len(y_train) - len(y_train.Compensation.nonzero()[0]))\n",
    "    print(len(y_train))\n",
    "    print(len(y_train.Compensation.nonzero()[0]))\n",
    "\n",
    "----- --- ------\n"
   ]
  },
  {
   "cell_type": "markdown",
   "metadata": {},
   "source": [
    "От не-цифровите полета, само Platform е текст от изброени категории, останалите - Job, Country & Sex - съдържат по една категория на запис. Следователно могат да се енкоднат с OneHotEncoder."
   ]
  },
  {
   "cell_type": "code",
   "execution_count": null,
   "metadata": {
    "collapsed": false
   },
   "outputs": [],
   "source": [
    "from sklearn.preprocessing import OneHotEncoder\n",
    "# enc = OneHotEncoder()\n",
    "\n",
    "categorical_columns = x_train.dtypes[x_train.dtypes == 'object'].index\n",
    "print(categorical_columns)"
   ]
  },
  {
   "cell_type": "code",
   "execution_count": null,
   "metadata": {
    "collapsed": false
   },
   "outputs": [],
   "source": [
    "try:\n",
    "    fitted_one_hot_encoder = OneHotEncoder(categorical_features=categorical_columns).fit(x_train)\n",
    "except ValueError as e:\n",
    "    print(e)"
   ]
  },
  {
   "cell_type": "markdown",
   "metadata": {},
   "source": [
    "О!😨😦😶 OneHotEncoder работи само с цифрови данни?! Това съм го проспал. Поне не само аз смятам, че е тъпо [issue](https://github.com/scikit-learn/scikit-learn/issues/7493#issuecomment-330026533). Да видим - мога да енкодна на парче, но губя цялата инфраструктура като `.classes_` и `.inverse_transform`. Поне ще енкапсулирам Label и OneHot в едно."
   ]
  },
  {
   "cell_type": "code",
   "execution_count": null,
   "metadata": {
    "collapsed": false
   },
   "outputs": [],
   "source": [
    "def TooHotEncoder(data):\n",
    "    \n",
    "    def encode_(data, columns, encoders):\n",
    "        # applys encoders to DataFrame\n",
    "        return pd.DataFrame({col: encoders[col].transform(data[col]) for col in columns},\n",
    "                            index = data.index)\n",
    "    # prep\n",
    "    categorical_columns = data.dtypes[data.dtypes == 'object'].index\n",
    "    data = data.fillna(\"\")\n",
    "    \n",
    "    # generate label encoders\n",
    "    label_encoders = {col: LabelEncoder().fit(data[col]) for col in categorical_columns}\n",
    "    \n",
    "    # apply encoders\n",
    "    label_encoded = encode_(data, categorical_columns, label_encoders)\n",
    "    \n",
    "    # generate one hot encoder\n",
    "    one_hot_encoder = OneHotEncoder().fit(label_encoded)\n",
    "    \n",
    "    hot_encoded = one_hot_encoder.transform(label_encoded)\n",
    "    \n",
    "    return label_encoders, label_encoded, one_hot_encoder, hot_encoded.todense()\n",
    "    "
   ]
  },
  {
   "cell_type": "markdown",
   "metadata": {},
   "source": [
    "Май има грешка в 4та лекция. In [47] до In [49] използват fit-ват по `train`, а в In [50] същите енкодери се ползват върху `x_train`. Не знам това ОК ли е - нали енкодване с включени тест данни leak-ва инфо (в случая `x_test` е част от `train`). \n",
    "\n",
    "Да видим как работи енкапсулирания енкодер:"
   ]
  },
  {
   "cell_type": "code",
   "execution_count": null,
   "metadata": {
    "collapsed": false
   },
   "outputs": [],
   "source": [
    "from sklearn.preprocessing import LabelEncoder\n",
    "\n",
    "label_encoders, label_encoded, one_hot_encoder, hot_encoded = TooHotEncoder(x_train)\n",
    "hot_encoded"
   ]
  },
  {
   "cell_type": "markdown",
   "metadata": {},
   "source": [
    "-----------------------"
   ]
  },
  {
   "cell_type": "markdown",
   "metadata": {},
   "source": [
    "-----------------------"
   ]
  },
  {
   "cell_type": "markdown",
   "metadata": {},
   "source": [
    "Май е малко късно за **Pipeline**, но ще го пробвам."
   ]
  },
  {
   "cell_type": "code",
   "execution_count": 219,
   "metadata": {
    "collapsed": false
   },
   "outputs": [
    {
     "ename": "JoblibValueError",
     "evalue": "JoblibValueError\n___________________________________________________________________________\nMultiprocessing exception:\n...........................................................................\n/usr/lib/python3.6/runpy.py in _run_module_as_main(mod_name='ipykernel_launcher', alter_argv=1)\n    188         sys.exit(msg)\n    189     main_globals = sys.modules[\"__main__\"].__dict__\n    190     if alter_argv:\n    191         sys.argv[0] = mod_spec.origin\n    192     return _run_code(code, main_globals, None,\n--> 193                      \"__main__\", mod_spec)\n        mod_spec = ModuleSpec(name='ipykernel_launcher', loader=<_f...b/python3.6/site-packages/ipykernel_launcher.py')\n    194 \n    195 def run_module(mod_name, init_globals=None,\n    196                run_name=None, alter_sys=False):\n    197     \"\"\"Execute a module's code without importing it\n\n...........................................................................\n/usr/lib/python3.6/runpy.py in _run_code(code=<code object <module> at 0x7ff038aff1e0, file \"/...3.6/site-packages/ipykernel_launcher.py\", line 5>, run_globals={'__annotations__': {}, '__builtins__': <module 'builtins' (built-in)>, '__cached__': '/home/bob/.local/lib/python3.6/site-packages/__pycache__/ipykernel_launcher.cpython-36.pyc', '__doc__': 'Entry point for launching an IPython kernel.\\n\\nTh...orts until\\nafter removing the cwd from sys.path.\\n', '__file__': '/home/bob/.local/lib/python3.6/site-packages/ipykernel_launcher.py', '__loader__': <_frozen_importlib_external.SourceFileLoader object>, '__name__': '__main__', '__package__': '', '__spec__': ModuleSpec(name='ipykernel_launcher', loader=<_f...b/python3.6/site-packages/ipykernel_launcher.py'), 'app': <module 'ipykernel.kernelapp' from '/home/bob/.l.../python3.6/site-packages/ipykernel/kernelapp.py'>, ...}, init_globals=None, mod_name='__main__', mod_spec=ModuleSpec(name='ipykernel_launcher', loader=<_f...b/python3.6/site-packages/ipykernel_launcher.py'), pkg_name='', script_name=None)\n     80                        __cached__ = cached,\n     81                        __doc__ = None,\n     82                        __loader__ = loader,\n     83                        __package__ = pkg_name,\n     84                        __spec__ = mod_spec)\n---> 85     exec(code, run_globals)\n        code = <code object <module> at 0x7ff038aff1e0, file \"/...3.6/site-packages/ipykernel_launcher.py\", line 5>\n        run_globals = {'__annotations__': {}, '__builtins__': <module 'builtins' (built-in)>, '__cached__': '/home/bob/.local/lib/python3.6/site-packages/__pycache__/ipykernel_launcher.cpython-36.pyc', '__doc__': 'Entry point for launching an IPython kernel.\\n\\nTh...orts until\\nafter removing the cwd from sys.path.\\n', '__file__': '/home/bob/.local/lib/python3.6/site-packages/ipykernel_launcher.py', '__loader__': <_frozen_importlib_external.SourceFileLoader object>, '__name__': '__main__', '__package__': '', '__spec__': ModuleSpec(name='ipykernel_launcher', loader=<_f...b/python3.6/site-packages/ipykernel_launcher.py'), 'app': <module 'ipykernel.kernelapp' from '/home/bob/.l.../python3.6/site-packages/ipykernel/kernelapp.py'>, ...}\n     86     return run_globals\n     87 \n     88 def _run_module_code(code, init_globals=None,\n     89                     mod_name=None, mod_spec=None,\n\n...........................................................................\n/home/bob/.local/lib/python3.6/site-packages/ipykernel_launcher.py in <module>()\n     11     # This is added back by InteractiveShellApp.init_path()\n     12     if sys.path[0] == '':\n     13         del sys.path[0]\n     14 \n     15     from ipykernel import kernelapp as app\n---> 16     app.launch_new_instance()\n\n...........................................................................\n/home/bob/.local/lib/python3.6/site-packages/traitlets/config/application.py in launch_instance(cls=<class 'ipykernel.kernelapp.IPKernelApp'>, argv=None, **kwargs={})\n    653 \n    654         If a global instance already exists, this reinitializes and starts it\n    655         \"\"\"\n    656         app = cls.instance(**kwargs)\n    657         app.initialize(argv)\n--> 658         app.start()\n        app.start = <bound method IPKernelApp.start of <ipykernel.kernelapp.IPKernelApp object>>\n    659 \n    660 #-----------------------------------------------------------------------------\n    661 # utility functions, for convenience\n    662 #-----------------------------------------------------------------------------\n\n...........................................................................\n/home/bob/.local/lib/python3.6/site-packages/ipykernel/kernelapp.py in start(self=<ipykernel.kernelapp.IPKernelApp object>)\n    472             return self.subapp.start()\n    473         if self.poller is not None:\n    474             self.poller.start()\n    475         self.kernel.start()\n    476         try:\n--> 477             ioloop.IOLoop.instance().start()\n    478         except KeyboardInterrupt:\n    479             pass\n    480 \n    481 launch_new_instance = IPKernelApp.launch_instance\n\n...........................................................................\n/home/bob/.local/lib/python3.6/site-packages/zmq/eventloop/ioloop.py in start(self=<zmq.eventloop.ioloop.ZMQIOLoop object>)\n    172             )\n    173         return loop\n    174     \n    175     def start(self):\n    176         try:\n--> 177             super(ZMQIOLoop, self).start()\n        self.start = <bound method ZMQIOLoop.start of <zmq.eventloop.ioloop.ZMQIOLoop object>>\n    178         except ZMQError as e:\n    179             if e.errno == ETERM:\n    180                 # quietly return on ETERM\n    181                 pass\n\n...........................................................................\n/home/bob/.local/lib/python3.6/site-packages/tornado/ioloop.py in start(self=<zmq.eventloop.ioloop.ZMQIOLoop object>)\n    883                 self._events.update(event_pairs)\n    884                 while self._events:\n    885                     fd, events = self._events.popitem()\n    886                     try:\n    887                         fd_obj, handler_func = self._handlers[fd]\n--> 888                         handler_func(fd_obj, events)\n        handler_func = <function wrap.<locals>.null_wrapper>\n        fd_obj = <zmq.sugar.socket.Socket object>\n        events = 1\n    889                     except (OSError, IOError) as e:\n    890                         if errno_from_exception(e) == errno.EPIPE:\n    891                             # Happens when the client closes the connection\n    892                             pass\n\n...........................................................................\n/home/bob/.local/lib/python3.6/site-packages/tornado/stack_context.py in null_wrapper(*args=(<zmq.sugar.socket.Socket object>, 1), **kwargs={})\n    272         # Fast path when there are no active contexts.\n    273         def null_wrapper(*args, **kwargs):\n    274             try:\n    275                 current_state = _state.contexts\n    276                 _state.contexts = cap_contexts[0]\n--> 277                 return fn(*args, **kwargs)\n        args = (<zmq.sugar.socket.Socket object>, 1)\n        kwargs = {}\n    278             finally:\n    279                 _state.contexts = current_state\n    280         null_wrapper._wrapped = True\n    281         return null_wrapper\n\n...........................................................................\n/home/bob/.local/lib/python3.6/site-packages/zmq/eventloop/zmqstream.py in _handle_events(self=<zmq.eventloop.zmqstream.ZMQStream object>, fd=<zmq.sugar.socket.Socket object>, events=1)\n    435             # dispatch events:\n    436             if events & IOLoop.ERROR:\n    437                 gen_log.error(\"got POLLERR event on ZMQStream, which doesn't make sense\")\n    438                 return\n    439             if events & IOLoop.READ:\n--> 440                 self._handle_recv()\n        self._handle_recv = <bound method ZMQStream._handle_recv of <zmq.eventloop.zmqstream.ZMQStream object>>\n    441                 if not self.socket:\n    442                     return\n    443             if events & IOLoop.WRITE:\n    444                 self._handle_send()\n\n...........................................................................\n/home/bob/.local/lib/python3.6/site-packages/zmq/eventloop/zmqstream.py in _handle_recv(self=<zmq.eventloop.zmqstream.ZMQStream object>)\n    467                 gen_log.error(\"RECV Error: %s\"%zmq.strerror(e.errno))\n    468         else:\n    469             if self._recv_callback:\n    470                 callback = self._recv_callback\n    471                 # self._recv_callback = None\n--> 472                 self._run_callback(callback, msg)\n        self._run_callback = <bound method ZMQStream._run_callback of <zmq.eventloop.zmqstream.ZMQStream object>>\n        callback = <function wrap.<locals>.null_wrapper>\n        msg = [<zmq.sugar.frame.Frame object>, <zmq.sugar.frame.Frame object>, <zmq.sugar.frame.Frame object>, <zmq.sugar.frame.Frame object>, <zmq.sugar.frame.Frame object>, <zmq.sugar.frame.Frame object>, <zmq.sugar.frame.Frame object>]\n    473                 \n    474         # self.update_state()\n    475         \n    476 \n\n...........................................................................\n/home/bob/.local/lib/python3.6/site-packages/zmq/eventloop/zmqstream.py in _run_callback(self=<zmq.eventloop.zmqstream.ZMQStream object>, callback=<function wrap.<locals>.null_wrapper>, *args=([<zmq.sugar.frame.Frame object>, <zmq.sugar.frame.Frame object>, <zmq.sugar.frame.Frame object>, <zmq.sugar.frame.Frame object>, <zmq.sugar.frame.Frame object>, <zmq.sugar.frame.Frame object>, <zmq.sugar.frame.Frame object>],), **kwargs={})\n    409         close our socket.\"\"\"\n    410         try:\n    411             # Use a NullContext to ensure that all StackContexts are run\n    412             # inside our blanket exception handler rather than outside.\n    413             with stack_context.NullContext():\n--> 414                 callback(*args, **kwargs)\n        callback = <function wrap.<locals>.null_wrapper>\n        args = ([<zmq.sugar.frame.Frame object>, <zmq.sugar.frame.Frame object>, <zmq.sugar.frame.Frame object>, <zmq.sugar.frame.Frame object>, <zmq.sugar.frame.Frame object>, <zmq.sugar.frame.Frame object>, <zmq.sugar.frame.Frame object>],)\n        kwargs = {}\n    415         except:\n    416             gen_log.error(\"Uncaught exception, closing connection.\",\n    417                           exc_info=True)\n    418             # Close the socket on an uncaught exception from a user callback\n\n...........................................................................\n/home/bob/.local/lib/python3.6/site-packages/tornado/stack_context.py in null_wrapper(*args=([<zmq.sugar.frame.Frame object>, <zmq.sugar.frame.Frame object>, <zmq.sugar.frame.Frame object>, <zmq.sugar.frame.Frame object>, <zmq.sugar.frame.Frame object>, <zmq.sugar.frame.Frame object>, <zmq.sugar.frame.Frame object>],), **kwargs={})\n    272         # Fast path when there are no active contexts.\n    273         def null_wrapper(*args, **kwargs):\n    274             try:\n    275                 current_state = _state.contexts\n    276                 _state.contexts = cap_contexts[0]\n--> 277                 return fn(*args, **kwargs)\n        args = ([<zmq.sugar.frame.Frame object>, <zmq.sugar.frame.Frame object>, <zmq.sugar.frame.Frame object>, <zmq.sugar.frame.Frame object>, <zmq.sugar.frame.Frame object>, <zmq.sugar.frame.Frame object>, <zmq.sugar.frame.Frame object>],)\n        kwargs = {}\n    278             finally:\n    279                 _state.contexts = current_state\n    280         null_wrapper._wrapped = True\n    281         return null_wrapper\n\n...........................................................................\n/home/bob/.local/lib/python3.6/site-packages/ipykernel/kernelbase.py in dispatcher(msg=[<zmq.sugar.frame.Frame object>, <zmq.sugar.frame.Frame object>, <zmq.sugar.frame.Frame object>, <zmq.sugar.frame.Frame object>, <zmq.sugar.frame.Frame object>, <zmq.sugar.frame.Frame object>, <zmq.sugar.frame.Frame object>])\n    278         if self.control_stream:\n    279             self.control_stream.on_recv(self.dispatch_control, copy=False)\n    280 \n    281         def make_dispatcher(stream):\n    282             def dispatcher(msg):\n--> 283                 return self.dispatch_shell(stream, msg)\n        msg = [<zmq.sugar.frame.Frame object>, <zmq.sugar.frame.Frame object>, <zmq.sugar.frame.Frame object>, <zmq.sugar.frame.Frame object>, <zmq.sugar.frame.Frame object>, <zmq.sugar.frame.Frame object>, <zmq.sugar.frame.Frame object>]\n    284             return dispatcher\n    285 \n    286         for s in self.shell_streams:\n    287             s.on_recv(make_dispatcher(s), copy=False)\n\n...........................................................................\n/home/bob/.local/lib/python3.6/site-packages/ipykernel/kernelbase.py in dispatch_shell(self=<ipykernel.ipkernel.IPythonKernel object>, stream=<zmq.eventloop.zmqstream.ZMQStream object>, msg={'buffers': [], 'content': {'allow_stdin': True, 'code': 'from sklearn.pipeline import Pipeline\\nfrom sklea...core(pipeline, x_train, y_train, cv=3, n_jobs=3)\\n', 'silent': False, 'stop_on_error': True, 'store_history': True, 'user_expressions': {}}, 'header': {'date': datetime.datetime(2017, 11, 17, 16, 51, 16, 471364, tzinfo=tzutc()), 'msg_id': '2359DEBEC3694564B85924EDCB37D87D', 'msg_type': 'execute_request', 'session': '8E7DD302869C4BEDA952BFA896A2D5BF', 'username': 'username', 'version': '5.0'}, 'metadata': {}, 'msg_id': '2359DEBEC3694564B85924EDCB37D87D', 'msg_type': 'execute_request', 'parent_header': {}})\n    230             self.log.warn(\"Unknown message type: %r\", msg_type)\n    231         else:\n    232             self.log.debug(\"%s: %s\", msg_type, msg)\n    233             self.pre_handler_hook()\n    234             try:\n--> 235                 handler(stream, idents, msg)\n        handler = <bound method Kernel.execute_request of <ipykernel.ipkernel.IPythonKernel object>>\n        stream = <zmq.eventloop.zmqstream.ZMQStream object>\n        idents = [b'8E7DD302869C4BEDA952BFA896A2D5BF']\n        msg = {'buffers': [], 'content': {'allow_stdin': True, 'code': 'from sklearn.pipeline import Pipeline\\nfrom sklea...core(pipeline, x_train, y_train, cv=3, n_jobs=3)\\n', 'silent': False, 'stop_on_error': True, 'store_history': True, 'user_expressions': {}}, 'header': {'date': datetime.datetime(2017, 11, 17, 16, 51, 16, 471364, tzinfo=tzutc()), 'msg_id': '2359DEBEC3694564B85924EDCB37D87D', 'msg_type': 'execute_request', 'session': '8E7DD302869C4BEDA952BFA896A2D5BF', 'username': 'username', 'version': '5.0'}, 'metadata': {}, 'msg_id': '2359DEBEC3694564B85924EDCB37D87D', 'msg_type': 'execute_request', 'parent_header': {}}\n    236             except Exception:\n    237                 self.log.error(\"Exception in message handler:\", exc_info=True)\n    238             finally:\n    239                 self.post_handler_hook()\n\n...........................................................................\n/home/bob/.local/lib/python3.6/site-packages/ipykernel/kernelbase.py in execute_request(self=<ipykernel.ipkernel.IPythonKernel object>, stream=<zmq.eventloop.zmqstream.ZMQStream object>, ident=[b'8E7DD302869C4BEDA952BFA896A2D5BF'], parent={'buffers': [], 'content': {'allow_stdin': True, 'code': 'from sklearn.pipeline import Pipeline\\nfrom sklea...core(pipeline, x_train, y_train, cv=3, n_jobs=3)\\n', 'silent': False, 'stop_on_error': True, 'store_history': True, 'user_expressions': {}}, 'header': {'date': datetime.datetime(2017, 11, 17, 16, 51, 16, 471364, tzinfo=tzutc()), 'msg_id': '2359DEBEC3694564B85924EDCB37D87D', 'msg_type': 'execute_request', 'session': '8E7DD302869C4BEDA952BFA896A2D5BF', 'username': 'username', 'version': '5.0'}, 'metadata': {}, 'msg_id': '2359DEBEC3694564B85924EDCB37D87D', 'msg_type': 'execute_request', 'parent_header': {}})\n    394         if not silent:\n    395             self.execution_count += 1\n    396             self._publish_execute_input(code, parent, self.execution_count)\n    397 \n    398         reply_content = self.do_execute(code, silent, store_history,\n--> 399                                         user_expressions, allow_stdin)\n        user_expressions = {}\n        allow_stdin = True\n    400 \n    401         # Flush output before sending the reply.\n    402         sys.stdout.flush()\n    403         sys.stderr.flush()\n\n...........................................................................\n/home/bob/.local/lib/python3.6/site-packages/ipykernel/ipkernel.py in do_execute(self=<ipykernel.ipkernel.IPythonKernel object>, code='from sklearn.pipeline import Pipeline\\nfrom sklea...core(pipeline, x_train, y_train, cv=3, n_jobs=3)\\n', silent=False, store_history=True, user_expressions={}, allow_stdin=True)\n    191 \n    192         self._forward_input(allow_stdin)\n    193 \n    194         reply_content = {}\n    195         try:\n--> 196             res = shell.run_cell(code, store_history=store_history, silent=silent)\n        res = undefined\n        shell.run_cell = <bound method ZMQInteractiveShell.run_cell of <ipykernel.zmqshell.ZMQInteractiveShell object>>\n        code = 'from sklearn.pipeline import Pipeline\\nfrom sklea...core(pipeline, x_train, y_train, cv=3, n_jobs=3)\\n'\n        store_history = True\n        silent = False\n    197         finally:\n    198             self._restore_input()\n    199 \n    200         if res.error_before_exec is not None:\n\n...........................................................................\n/home/bob/.local/lib/python3.6/site-packages/ipykernel/zmqshell.py in run_cell(self=<ipykernel.zmqshell.ZMQInteractiveShell object>, *args=('from sklearn.pipeline import Pipeline\\nfrom sklea...core(pipeline, x_train, y_train, cv=3, n_jobs=3)\\n',), **kwargs={'silent': False, 'store_history': True})\n    528             )\n    529         self.payload_manager.write_payload(payload)\n    530 \n    531     def run_cell(self, *args, **kwargs):\n    532         self._last_traceback = None\n--> 533         return super(ZMQInteractiveShell, self).run_cell(*args, **kwargs)\n        self.run_cell = <bound method ZMQInteractiveShell.run_cell of <ipykernel.zmqshell.ZMQInteractiveShell object>>\n        args = ('from sklearn.pipeline import Pipeline\\nfrom sklea...core(pipeline, x_train, y_train, cv=3, n_jobs=3)\\n',)\n        kwargs = {'silent': False, 'store_history': True}\n    534 \n    535     def _showtraceback(self, etype, evalue, stb):\n    536         # try to preserve ordering of tracebacks and print statements\n    537         sys.stdout.flush()\n\n...........................................................................\n/home/bob/.local/lib/python3.6/site-packages/IPython/core/interactiveshell.py in run_cell(self=<ipykernel.zmqshell.ZMQInteractiveShell object>, raw_cell='from sklearn.pipeline import Pipeline\\nfrom sklea...core(pipeline, x_train, y_train, cv=3, n_jobs=3)\\n', store_history=True, silent=False, shell_futures=True)\n   2723                 self.displayhook.exec_result = result\n   2724 \n   2725                 # Execute the user code\n   2726                 interactivity = \"none\" if silent else self.ast_node_interactivity\n   2727                 has_raised = self.run_ast_nodes(code_ast.body, cell_name,\n-> 2728                    interactivity=interactivity, compiler=compiler, result=result)\n        interactivity = 'last_expr'\n        compiler = <IPython.core.compilerop.CachingCompiler object>\n   2729                 \n   2730                 self.last_execution_succeeded = not has_raised\n   2731                 self.last_execution_result = result\n   2732 \n\n...........................................................................\n/home/bob/.local/lib/python3.6/site-packages/IPython/core/interactiveshell.py in run_ast_nodes(self=<ipykernel.zmqshell.ZMQInteractiveShell object>, nodelist=[<_ast.ImportFrom object>, <_ast.ImportFrom object>, <_ast.ImportFrom object>, <_ast.Assign object>, <_ast.Expr object>], cell_name='<ipython-input-219-1ec2341e6fe4>', interactivity='last', compiler=<IPython.core.compilerop.CachingCompiler object>, result=<ExecutionResult object at 7fefefea3780, executi..._before_exec=None error_in_exec=None result=None>)\n   2851                     return True\n   2852 \n   2853             for i, node in enumerate(to_run_interactive):\n   2854                 mod = ast.Interactive([node])\n   2855                 code = compiler(mod, cell_name, \"single\")\n-> 2856                 if self.run_code(code, result):\n        self.run_code = <bound method InteractiveShell.run_code of <ipykernel.zmqshell.ZMQInteractiveShell object>>\n        code = <code object <module> at 0x7fefefaad5d0, file \"<ipython-input-219-1ec2341e6fe4>\", line 10>\n        result = <ExecutionResult object at 7fefefea3780, executi..._before_exec=None error_in_exec=None result=None>\n   2857                     return True\n   2858 \n   2859             # Flush softspace\n   2860             if softspace(sys.stdout, 0):\n\n...........................................................................\n/home/bob/.local/lib/python3.6/site-packages/IPython/core/interactiveshell.py in run_code(self=<ipykernel.zmqshell.ZMQInteractiveShell object>, code_obj=<code object <module> at 0x7fefefaad5d0, file \"<ipython-input-219-1ec2341e6fe4>\", line 10>, result=<ExecutionResult object at 7fefefea3780, executi..._before_exec=None error_in_exec=None result=None>)\n   2905         outflag = True  # happens in more places, so it's easier as default\n   2906         try:\n   2907             try:\n   2908                 self.hooks.pre_run_code_hook()\n   2909                 #rprint('Running code', repr(code_obj)) # dbg\n-> 2910                 exec(code_obj, self.user_global_ns, self.user_ns)\n        code_obj = <code object <module> at 0x7fefefaad5d0, file \"<ipython-input-219-1ec2341e6fe4>\", line 10>\n        self.user_global_ns = {'CountVectorizer': <class 'sklearn.feature_extraction.text.CountVectorizer'>, 'In': ['', 'x_train', 'fail here', \"import numpy as np\\nimport matplotlib.pyplot as p...lib', 'inline')\\n\\npd.options.display.max_rows = 10\", \"multi = pd.read_csv('data/multipleChoiceResponse...e:', multi.shape)\\nprint('free form:', free.shape)\", 'multi.columns', \"get_ipython().system('head data/schema.csv')\", 'numeric_column_names = multi.describe().columns\\nprint(numeric_column_names)', \"for col in numeric_column_names:\\n    print(col, '# not NaNs:', sum(multi[col].isnull()))\", 'print(multi.GenderSelect.value_counts())', \"multi.GenderSelect.value_counts().plot(kind='bar');#, legend=True);\", 'print(multi.Country.value_counts())', 'print(multi.Age.value_counts());', 'try:\\n    sns.distplot(multi.Age);\\nexcept ValueError as e:\\n    print(e)', 'sns.distplot(multi.Age[multi.Age.notnull()]);', 'try:\\n    sns.distplot(multi.CompensationAmount[m....notnull()]);\\nexcept TypeError as e:\\n    print(e)', 'multi[:20].CompensationAmount.apply(lambda x: print(x, type(x)));', 'multi[:0].CompensationAmount.convert_objects(convert_numeric=True)', \"try:\\n    pd.to_numeric(multi.CompensationAmount,...ors='raise')\\nexcept ValueError as e:\\n    print(e)\", \"temp = pd.to_numeric(multi.CompensationAmount.st...unt.iloc[10364:10374], 'new': temp[10364:10374]})\", ...], 'LinearRegression': <class 'sklearn.linear_model.base.LinearRegression'>, 'OneHotEncoder': <class 'sklearn.preprocessing.data.OneHotEncoder'>, 'Out': {5: Index(['GenderSelect', 'Country', 'Age', 'Employ...gOpportunity'],\n      dtype='object', length=228), 17: Series([], Name: CompensationAmount, dtype: object), 19:               new    original\n10364         nan ...0000.00      130000\n10373    90000.00       90000, 23:    Unnamed: 0 originCountry  exchangeRate\n0     ...   0.01\n9          10           CNY          0.15, 26:                exchangeRate\noriginCountry       ...                 0.01\nCNY                    0.15, 28:       GenderSelect        Country   Age  \\\n3    ...    NaN     10000.00  \n\n[4374 rows x 229 columns], 30: {'SPL'}, 32: 3       250000.00\n8        64184.80\n9        208...\nName: compensation, Length: 4374, dtype: float64, 34:        CompensationAmount   compensation Compens...           United States  \n\n[20 rows x 4 columns], 35: <pandas.io.formats.style.Styler object>, ...}, 'Pipeline': <class 'sklearn.pipeline.Pipeline'>, 'TextToOneHot': <function TextToOneHot>, '_':         Age        Country                   Job...    0               0  \n\n[3061 rows x 23 columns], '_100': [('a', ''), ('a', ','), ('b', ''), ('b', ','), ('c', ''), ('c', ','), ('e', ''), ('e', ','), ('f', ''), ('f', ','), ('g', ''), ('g', ','), ('k', ''), ('k', ','), ('n', ''), ('n', ','), ('o', ''), ('o', ','), ('p', ''), ('p', ','), ...], '_102': ['arxiv', 'blogs', 'book', 'college', 'communities', 'community', 'company', 'conferences', 'courses', 'documentation', 'friends', 'internal', 'kaggle', 'mentoring', 'network', 'newsletters', 'non', 'official', 'online', 'other', ...], ...}\n        self.user_ns = {'CountVectorizer': <class 'sklearn.feature_extraction.text.CountVectorizer'>, 'In': ['', 'x_train', 'fail here', \"import numpy as np\\nimport matplotlib.pyplot as p...lib', 'inline')\\n\\npd.options.display.max_rows = 10\", \"multi = pd.read_csv('data/multipleChoiceResponse...e:', multi.shape)\\nprint('free form:', free.shape)\", 'multi.columns', \"get_ipython().system('head data/schema.csv')\", 'numeric_column_names = multi.describe().columns\\nprint(numeric_column_names)', \"for col in numeric_column_names:\\n    print(col, '# not NaNs:', sum(multi[col].isnull()))\", 'print(multi.GenderSelect.value_counts())', \"multi.GenderSelect.value_counts().plot(kind='bar');#, legend=True);\", 'print(multi.Country.value_counts())', 'print(multi.Age.value_counts());', 'try:\\n    sns.distplot(multi.Age);\\nexcept ValueError as e:\\n    print(e)', 'sns.distplot(multi.Age[multi.Age.notnull()]);', 'try:\\n    sns.distplot(multi.CompensationAmount[m....notnull()]);\\nexcept TypeError as e:\\n    print(e)', 'multi[:20].CompensationAmount.apply(lambda x: print(x, type(x)));', 'multi[:0].CompensationAmount.convert_objects(convert_numeric=True)', \"try:\\n    pd.to_numeric(multi.CompensationAmount,...ors='raise')\\nexcept ValueError as e:\\n    print(e)\", \"temp = pd.to_numeric(multi.CompensationAmount.st...unt.iloc[10364:10374], 'new': temp[10364:10374]})\", ...], 'LinearRegression': <class 'sklearn.linear_model.base.LinearRegression'>, 'OneHotEncoder': <class 'sklearn.preprocessing.data.OneHotEncoder'>, 'Out': {5: Index(['GenderSelect', 'Country', 'Age', 'Employ...gOpportunity'],\n      dtype='object', length=228), 17: Series([], Name: CompensationAmount, dtype: object), 19:               new    original\n10364         nan ...0000.00      130000\n10373    90000.00       90000, 23:    Unnamed: 0 originCountry  exchangeRate\n0     ...   0.01\n9          10           CNY          0.15, 26:                exchangeRate\noriginCountry       ...                 0.01\nCNY                    0.15, 28:       GenderSelect        Country   Age  \\\n3    ...    NaN     10000.00  \n\n[4374 rows x 229 columns], 30: {'SPL'}, 32: 3       250000.00\n8        64184.80\n9        208...\nName: compensation, Length: 4374, dtype: float64, 34:        CompensationAmount   compensation Compens...           United States  \n\n[20 rows x 4 columns], 35: <pandas.io.formats.style.Styler object>, ...}, 'Pipeline': <class 'sklearn.pipeline.Pipeline'>, 'TextToOneHot': <function TextToOneHot>, '_':         Age        Country                   Job...    0               0  \n\n[3061 rows x 23 columns], '_100': [('a', ''), ('a', ','), ('b', ''), ('b', ','), ('c', ''), ('c', ','), ('e', ''), ('e', ','), ('f', ''), ('f', ','), ('g', ''), ('g', ','), ('k', ''), ('k', ','), ('n', ''), ('n', ','), ('o', ''), ('o', ','), ('p', ''), ('p', ','), ...], '_102': ['arxiv', 'blogs', 'book', 'college', 'communities', 'community', 'company', 'conferences', 'courses', 'documentation', 'friends', 'internal', 'kaggle', 'mentoring', 'network', 'newsletters', 'non', 'official', 'online', 'other', ...], ...}\n   2911             finally:\n   2912                 # Reset our crash handler in place\n   2913                 sys.excepthook = old_excepthook\n   2914         except SystemExit as e:\n\n...........................................................................\n/home/bob/gits/kaggle_survey-17/<ipython-input-219-1ec2341e6fe4> in <module>()\n      5 pipeline = Pipeline([\n      6             ('features', OneHotEncoder()),\n      7             ('clf', LinearRegression())\n      8         ])\n      9 \n---> 10 cross_val_score(pipeline, x_train, y_train, cv=3, n_jobs=3)\n\n...........................................................................\n/home/bob/.local/lib/python3.6/site-packages/sklearn/model_selection/_validation.py in cross_val_score(estimator=Pipeline(memory=None,\n     steps=[('features', O...fit_intercept=True, n_jobs=1, normalize=False))]), X=        Age        Country                   Job...    0               0  \n\n[3061 rows x 23 columns], y=       Compensation\n8416       19808.18\n3587    ...0.00\n10373      74131.92\n\n[3061 rows x 1 columns], groups=None, scoring=None, cv=3, n_jobs=3, verbose=0, fit_params=None, pre_dispatch='2*n_jobs')\n    337     cv_results = cross_validate(estimator=estimator, X=X, y=y, groups=groups,\n    338                                 scoring={'score': scorer}, cv=cv,\n    339                                 return_train_score=False,\n    340                                 n_jobs=n_jobs, verbose=verbose,\n    341                                 fit_params=fit_params,\n--> 342                                 pre_dispatch=pre_dispatch)\n        pre_dispatch = '2*n_jobs'\n    343     return cv_results['test_score']\n    344 \n    345 \n    346 def _fit_and_score(estimator, X, y, scorer, train, test, verbose,\n\n...........................................................................\n/home/bob/.local/lib/python3.6/site-packages/sklearn/model_selection/_validation.py in cross_validate(estimator=Pipeline(memory=None,\n     steps=[('features', O...fit_intercept=True, n_jobs=1, normalize=False))]), X=        Age        Country                   Job...    0               0  \n\n[3061 rows x 23 columns], y=       Compensation\n8416       19808.18\n3587    ...0.00\n10373      74131.92\n\n[3061 rows x 1 columns], groups=None, scoring={'score': <function _passthrough_scorer>}, cv=KFold(n_splits=3, random_state=None, shuffle=False), n_jobs=3, verbose=0, fit_params=None, pre_dispatch='2*n_jobs', return_train_score=False)\n    201     scores = parallel(\n    202         delayed(_fit_and_score)(\n    203             clone(estimator), X, y, scorers, train, test, verbose, None,\n    204             fit_params, return_train_score=return_train_score,\n    205             return_times=True)\n--> 206         for train, test in cv.split(X, y, groups))\n        cv.split = <bound method _BaseKFold.split of KFold(n_splits=3, random_state=None, shuffle=False)>\n        X =         Age        Country                   Job...    0               0  \n\n[3061 rows x 23 columns]\n        y =        Compensation\n8416       19808.18\n3587    ...0.00\n10373      74131.92\n\n[3061 rows x 1 columns]\n        groups = None\n    207 \n    208     if return_train_score:\n    209         train_scores, test_scores, fit_times, score_times = zip(*scores)\n    210         train_scores = _aggregate_score_dicts(train_scores)\n\n...........................................................................\n/home/bob/.local/lib/python3.6/site-packages/sklearn/externals/joblib/parallel.py in __call__(self=Parallel(n_jobs=3), iterable=<generator object cross_validate.<locals>.<genexpr>>)\n    784             if pre_dispatch == \"all\" or n_jobs == 1:\n    785                 # The iterable was consumed all at once by the above for loop.\n    786                 # No need to wait for async callbacks to trigger to\n    787                 # consumption.\n    788                 self._iterating = False\n--> 789             self.retrieve()\n        self.retrieve = <bound method Parallel.retrieve of Parallel(n_jobs=3)>\n    790             # Make sure that we get a last message telling us we are done\n    791             elapsed_time = time.time() - self._start_time\n    792             self._print('Done %3i out of %3i | elapsed: %s finished',\n    793                         (len(self._output), len(self._output),\n\n---------------------------------------------------------------------------\nSub-process traceback:\n---------------------------------------------------------------------------\nValueError                                         Fri Nov 17 08:51:16 2017\nPID: 1852                                    Python 3.6.3: /usr/bin/python3\n...........................................................................\n/home/bob/.local/lib/python3.6/site-packages/sklearn/externals/joblib/parallel.py in __call__(self=<sklearn.externals.joblib.parallel.BatchedCalls object>)\n    126     def __init__(self, iterator_slice):\n    127         self.items = list(iterator_slice)\n    128         self._size = len(self.items)\n    129 \n    130     def __call__(self):\n--> 131         return [func(*args, **kwargs) for func, args, kwargs in self.items]\n        self.items = [(<function _fit_and_score>, (Pipeline(memory=None,\n     steps=[('features', O...fit_intercept=True, n_jobs=1, normalize=False))]),         Age        Country                   Job...    0               0  \n\n[3061 rows x 23 columns],        Compensation\n8416       19808.18\n3587    ...0.00\n10373      74131.92\n\n[3061 rows x 1 columns], {'score': <function _passthrough_scorer>}, array([1021, 1022, 1023, ..., 3058, 3059, 3060]), array([   0,    1,    2, ..., 1018, 1019, 1020]), 0, None, None), {'return_times': True, 'return_train_score': False})]\n    132 \n    133     def __len__(self):\n    134         return self._size\n    135 \n\n...........................................................................\n/home/bob/.local/lib/python3.6/site-packages/sklearn/externals/joblib/parallel.py in <listcomp>(.0=<list_iterator object>)\n    126     def __init__(self, iterator_slice):\n    127         self.items = list(iterator_slice)\n    128         self._size = len(self.items)\n    129 \n    130     def __call__(self):\n--> 131         return [func(*args, **kwargs) for func, args, kwargs in self.items]\n        func = <function _fit_and_score>\n        args = (Pipeline(memory=None,\n     steps=[('features', O...fit_intercept=True, n_jobs=1, normalize=False))]),         Age        Country                   Job...    0               0  \n\n[3061 rows x 23 columns],        Compensation\n8416       19808.18\n3587    ...0.00\n10373      74131.92\n\n[3061 rows x 1 columns], {'score': <function _passthrough_scorer>}, array([1021, 1022, 1023, ..., 3058, 3059, 3060]), array([   0,    1,    2, ..., 1018, 1019, 1020]), 0, None, None)\n        kwargs = {'return_times': True, 'return_train_score': False}\n    132 \n    133     def __len__(self):\n    134         return self._size\n    135 \n\n...........................................................................\n/home/bob/.local/lib/python3.6/site-packages/sklearn/model_selection/_validation.py in _fit_and_score(estimator=Pipeline(memory=None,\n     steps=[('features', O...fit_intercept=True, n_jobs=1, normalize=False))]), X=        Age        Country                   Job...    0               0  \n\n[3061 rows x 23 columns], y=       Compensation\n8416       19808.18\n3587    ...0.00\n10373      74131.92\n\n[3061 rows x 1 columns], scorer={'score': <function _passthrough_scorer>}, train=array([1021, 1022, 1023, ..., 3058, 3059, 3060]), test=array([   0,    1,    2, ..., 1018, 1019, 1020]), verbose=0, parameters=None, fit_params={}, return_train_score=False, return_parameters=False, return_n_test_samples=False, return_times=True, error_score='raise')\n    453 \n    454     try:\n    455         if y_train is None:\n    456             estimator.fit(X_train, **fit_params)\n    457         else:\n--> 458             estimator.fit(X_train, y_train, **fit_params)\n        estimator.fit = <bound method Pipeline.fit of Pipeline(memory=No...it_intercept=True, n_jobs=1, normalize=False))])>\n        X_train =         Age        Country                      ...    0               0  \n\n[2040 rows x 23 columns]\n        y_train =        Compensation\n7850       13725.60\n11322   ...0.00\n10373      74131.92\n\n[2040 rows x 1 columns]\n        fit_params = {}\n    459 \n    460     except Exception as e:\n    461         # Note fit time as time until error\n    462         fit_time = time.time() - start_time\n\n...........................................................................\n/home/bob/.local/lib/python3.6/site-packages/sklearn/pipeline.py in fit(self=Pipeline(memory=None,\n     steps=[('features', O...fit_intercept=True, n_jobs=1, normalize=False))]), X=        Age        Country                      ...    0               0  \n\n[2040 rows x 23 columns], y=       Compensation\n7850       13725.60\n11322   ...0.00\n10373      74131.92\n\n[2040 rows x 1 columns], **fit_params={})\n    243         Returns\n    244         -------\n    245         self : Pipeline\n    246             This estimator\n    247         \"\"\"\n--> 248         Xt, fit_params = self._fit(X, y, **fit_params)\n        Xt = undefined\n        fit_params = {}\n        self._fit = <bound method Pipeline._fit of Pipeline(memory=N...it_intercept=True, n_jobs=1, normalize=False))])>\n        X =         Age        Country                      ...    0               0  \n\n[2040 rows x 23 columns]\n        y =        Compensation\n7850       13725.60\n11322   ...0.00\n10373      74131.92\n\n[2040 rows x 1 columns]\n    249         if self._final_estimator is not None:\n    250             self._final_estimator.fit(Xt, y, **fit_params)\n    251         return self\n    252 \n\n...........................................................................\n/home/bob/.local/lib/python3.6/site-packages/sklearn/pipeline.py in _fit(self=Pipeline(memory=None,\n     steps=[('features', O...fit_intercept=True, n_jobs=1, normalize=False))]), X=        Age        Country                      ...    0               0  \n\n[2040 rows x 23 columns], y=       Compensation\n7850       13725.60\n11322   ...0.00\n10373      74131.92\n\n[2040 rows x 1 columns], **fit_params={})\n    208                 else:\n    209                     cloned_transformer = clone(transformer)\n    210                 # Fit or load from cache the current transfomer\n    211                 Xt, fitted_transformer = fit_transform_one_cached(\n    212                     cloned_transformer, None, Xt, y,\n--> 213                     **fit_params_steps[name])\n        fit_params_steps = {'clf': {}, 'features': {}}\n        name = 'features'\n    214                 # Replace the transformer of the step with the fitted\n    215                 # transformer. This is necessary when loading the transformer\n    216                 # from the cache.\n    217                 self.steps[step_idx] = (name, fitted_transformer)\n\n...........................................................................\n/home/bob/.local/lib/python3.6/site-packages/sklearn/externals/joblib/memory.py in __call__(self=NotMemorizedFunc(func=<function _fit_transform_one at 0x7feff26b1840>), *args=(OneHotEncoder(categorical_features='all', dtype=...le_unknown='error', n_values='auto', sparse=True), None,         Age        Country                      ...    0               0  \n\n[2040 rows x 23 columns],        Compensation\n7850       13725.60\n11322   ...0.00\n10373      74131.92\n\n[2040 rows x 1 columns]), **kwargs={})\n    357     # Should be a light as possible (for speed)\n    358     def __init__(self, func):\n    359         self.func = func\n    360 \n    361     def __call__(self, *args, **kwargs):\n--> 362         return self.func(*args, **kwargs)\n        self.func = <function _fit_transform_one>\n        args = (OneHotEncoder(categorical_features='all', dtype=...le_unknown='error', n_values='auto', sparse=True), None,         Age        Country                      ...    0               0  \n\n[2040 rows x 23 columns],        Compensation\n7850       13725.60\n11322   ...0.00\n10373      74131.92\n\n[2040 rows x 1 columns])\n        kwargs = {}\n    363 \n    364     def call_and_shelve(self, *args, **kwargs):\n    365         return NotMemorizedResult(self.func(*args, **kwargs))\n    366 \n\n...........................................................................\n/home/bob/.local/lib/python3.6/site-packages/sklearn/pipeline.py in _fit_transform_one(transformer=OneHotEncoder(categorical_features='all', dtype=...le_unknown='error', n_values='auto', sparse=True), weight=None, X=        Age        Country                      ...    0               0  \n\n[2040 rows x 23 columns], y=       Compensation\n7850       13725.60\n11322   ...0.00\n10373      74131.92\n\n[2040 rows x 1 columns], **fit_params={})\n    576 \n    577 \n    578 def _fit_transform_one(transformer, weight, X, y,\n    579                        **fit_params):\n    580     if hasattr(transformer, 'fit_transform'):\n--> 581         res = transformer.fit_transform(X, y, **fit_params)\n        res = undefined\n        transformer.fit_transform = <bound method OneHotEncoder.fit_transform of One...e_unknown='error', n_values='auto', sparse=True)>\n        X =         Age        Country                      ...    0               0  \n\n[2040 rows x 23 columns]\n        y =        Compensation\n7850       13725.60\n11322   ...0.00\n10373      74131.92\n\n[2040 rows x 1 columns]\n        fit_params = {}\n    582     else:\n    583         res = transformer.fit(X, y, **fit_params).transform(X)\n    584     # if we have a weight for this transformer, multiply output\n    585     if weight is None:\n\n...........................................................................\n/home/bob/.local/lib/python3.6/site-packages/sklearn/preprocessing/data.py in fit_transform(self=OneHotEncoder(categorical_features='all', dtype=...le_unknown='error', n_values='auto', sparse=True), X=        Age        Country                      ...    0               0  \n\n[2040 rows x 23 columns], y=       Compensation\n7850       13725.60\n11322   ...0.00\n10373      74131.92\n\n[2040 rows x 1 columns])\n   2014         ----------\n   2015         X : array-like, shape [n_samples, n_feature]\n   2016             Input array of type int.\n   2017         \"\"\"\n   2018         return _transform_selected(X, self._fit_transform,\n-> 2019                                    self.categorical_features, copy=True)\n        self.categorical_features = 'all'\n   2020 \n   2021     def _transform(self, X):\n   2022         \"\"\"Assumes X contains only categorical features.\"\"\"\n   2023         X = check_array(X, dtype=np.int)\n\n...........................................................................\n/home/bob/.local/lib/python3.6/site-packages/sklearn/preprocessing/data.py in _transform_selected(X=        Age        Country                      ...    0               0  \n\n[2040 rows x 23 columns], transform=<bound method OneHotEncoder._fit_transform of On...e_unknown='error', n_values='auto', sparse=True)>, selected='all', copy=True)\n   1804 \n   1805     Returns\n   1806     -------\n   1807     X : array or sparse matrix, shape=(n_samples, n_features_new)\n   1808     \"\"\"\n-> 1809     X = check_array(X, accept_sparse='csc', copy=copy, dtype=FLOAT_DTYPES)\n        X =         Age        Country                      ...    0               0  \n\n[2040 rows x 23 columns]\n        copy = True\n   1810 \n   1811     if isinstance(selected, six.string_types) and selected == \"all\":\n   1812         return transform(X)\n   1813 \n\n...........................................................................\n/home/bob/.local/lib/python3.6/site-packages/sklearn/utils/validation.py in check_array(array=        Age        Country                      ...    0               0  \n\n[2040 rows x 23 columns], accept_sparse='csc', dtype=<class 'numpy.float64'>, order=None, copy=True, force_all_finite=True, ensure_2d=True, allow_nd=False, ensure_min_samples=1, ensure_min_features=1, warn_on_dtype=False, estimator=None)\n    428 \n    429     if sp.issparse(array):\n    430         array = _ensure_sparse_format(array, accept_sparse, dtype, copy,\n    431                                       force_all_finite)\n    432     else:\n--> 433         array = np.array(array, dtype=dtype, order=order, copy=copy)\n        array =         Age        Country                      ...    0               0  \n\n[2040 rows x 23 columns]\n        dtype = <class 'numpy.float64'>\n        order = None\n        copy = True\n    434 \n    435         if ensure_2d:\n    436             if array.ndim == 1:\n    437                 raise ValueError(\n\nValueError: could not convert string to float: 'Male'\n___________________________________________________________________________",
     "output_type": "error",
     "traceback": [
      "\u001b[0;31m---------------------------------------------------------------------------\u001b[0m",
      "\u001b[0;31mRemoteTraceback\u001b[0m                           Traceback (most recent call last)",
      "\u001b[0;31mRemoteTraceback\u001b[0m: \n\"\"\"\nTraceback (most recent call last):\n  File \"/home/bob/.local/lib/python3.6/site-packages/sklearn/externals/joblib/_parallel_backends.py\", line 350, in __call__\n    return self.func(*args, **kwargs)\n  File \"/home/bob/.local/lib/python3.6/site-packages/sklearn/externals/joblib/parallel.py\", line 131, in __call__\n    return [func(*args, **kwargs) for func, args, kwargs in self.items]\n  File \"/home/bob/.local/lib/python3.6/site-packages/sklearn/externals/joblib/parallel.py\", line 131, in <listcomp>\n    return [func(*args, **kwargs) for func, args, kwargs in self.items]\n  File \"/home/bob/.local/lib/python3.6/site-packages/sklearn/model_selection/_validation.py\", line 458, in _fit_and_score\n    estimator.fit(X_train, y_train, **fit_params)\n  File \"/home/bob/.local/lib/python3.6/site-packages/sklearn/pipeline.py\", line 248, in fit\n    Xt, fit_params = self._fit(X, y, **fit_params)\n  File \"/home/bob/.local/lib/python3.6/site-packages/sklearn/pipeline.py\", line 213, in _fit\n    **fit_params_steps[name])\n  File \"/home/bob/.local/lib/python3.6/site-packages/sklearn/externals/joblib/memory.py\", line 362, in __call__\n    return self.func(*args, **kwargs)\n  File \"/home/bob/.local/lib/python3.6/site-packages/sklearn/pipeline.py\", line 581, in _fit_transform_one\n    res = transformer.fit_transform(X, y, **fit_params)\n  File \"/home/bob/.local/lib/python3.6/site-packages/sklearn/preprocessing/data.py\", line 2019, in fit_transform\n    self.categorical_features, copy=True)\n  File \"/home/bob/.local/lib/python3.6/site-packages/sklearn/preprocessing/data.py\", line 1809, in _transform_selected\n    X = check_array(X, accept_sparse='csc', copy=copy, dtype=FLOAT_DTYPES)\n  File \"/home/bob/.local/lib/python3.6/site-packages/sklearn/utils/validation.py\", line 433, in check_array\n    array = np.array(array, dtype=dtype, order=order, copy=copy)\nValueError: could not convert string to float: 'Male'\n\nDuring handling of the above exception, another exception occurred:\n\nTraceback (most recent call last):\n  File \"/usr/lib/python3.6/multiprocessing/pool.py\", line 119, in worker\n    result = (True, func(*args, **kwds))\n  File \"/home/bob/.local/lib/python3.6/site-packages/sklearn/externals/joblib/_parallel_backends.py\", line 359, in __call__\n    raise TransportableException(text, e_type)\nsklearn.externals.joblib.my_exceptions.TransportableException: TransportableException\n___________________________________________________________________________\nValueError                                         Fri Nov 17 08:51:16 2017\nPID: 1852                                    Python 3.6.3: /usr/bin/python3\n...........................................................................\n/home/bob/.local/lib/python3.6/site-packages/sklearn/externals/joblib/parallel.py in __call__(self=<sklearn.externals.joblib.parallel.BatchedCalls object>)\n    126     def __init__(self, iterator_slice):\n    127         self.items = list(iterator_slice)\n    128         self._size = len(self.items)\n    129 \n    130     def __call__(self):\n--> 131         return [func(*args, **kwargs) for func, args, kwargs in self.items]\n        self.items = [(<function _fit_and_score>, (Pipeline(memory=None,\n     steps=[('features', O...fit_intercept=True, n_jobs=1, normalize=False))]),         Age        Country                   Job...    0               0  \n\n[3061 rows x 23 columns],        Compensation\n8416       19808.18\n3587    ...0.00\n10373      74131.92\n\n[3061 rows x 1 columns], {'score': <function _passthrough_scorer>}, array([1021, 1022, 1023, ..., 3058, 3059, 3060]), array([   0,    1,    2, ..., 1018, 1019, 1020]), 0, None, None), {'return_times': True, 'return_train_score': False})]\n    132 \n    133     def __len__(self):\n    134         return self._size\n    135 \n\n...........................................................................\n/home/bob/.local/lib/python3.6/site-packages/sklearn/externals/joblib/parallel.py in <listcomp>(.0=<list_iterator object>)\n    126     def __init__(self, iterator_slice):\n    127         self.items = list(iterator_slice)\n    128         self._size = len(self.items)\n    129 \n    130     def __call__(self):\n--> 131         return [func(*args, **kwargs) for func, args, kwargs in self.items]\n        func = <function _fit_and_score>\n        args = (Pipeline(memory=None,\n     steps=[('features', O...fit_intercept=True, n_jobs=1, normalize=False))]),         Age        Country                   Job...    0               0  \n\n[3061 rows x 23 columns],        Compensation\n8416       19808.18\n3587    ...0.00\n10373      74131.92\n\n[3061 rows x 1 columns], {'score': <function _passthrough_scorer>}, array([1021, 1022, 1023, ..., 3058, 3059, 3060]), array([   0,    1,    2, ..., 1018, 1019, 1020]), 0, None, None)\n        kwargs = {'return_times': True, 'return_train_score': False}\n    132 \n    133     def __len__(self):\n    134         return self._size\n    135 \n\n...........................................................................\n/home/bob/.local/lib/python3.6/site-packages/sklearn/model_selection/_validation.py in _fit_and_score(estimator=Pipeline(memory=None,\n     steps=[('features', O...fit_intercept=True, n_jobs=1, normalize=False))]), X=        Age        Country                   Job...    0               0  \n\n[3061 rows x 23 columns], y=       Compensation\n8416       19808.18\n3587    ...0.00\n10373      74131.92\n\n[3061 rows x 1 columns], scorer={'score': <function _passthrough_scorer>}, train=array([1021, 1022, 1023, ..., 3058, 3059, 3060]), test=array([   0,    1,    2, ..., 1018, 1019, 1020]), verbose=0, parameters=None, fit_params={}, return_train_score=False, return_parameters=False, return_n_test_samples=False, return_times=True, error_score='raise')\n    453 \n    454     try:\n    455         if y_train is None:\n    456             estimator.fit(X_train, **fit_params)\n    457         else:\n--> 458             estimator.fit(X_train, y_train, **fit_params)\n        estimator.fit = <bound method Pipeline.fit of Pipeline(memory=No...it_intercept=True, n_jobs=1, normalize=False))])>\n        X_train =         Age        Country                      ...    0               0  \n\n[2040 rows x 23 columns]\n        y_train =        Compensation\n7850       13725.60\n11322   ...0.00\n10373      74131.92\n\n[2040 rows x 1 columns]\n        fit_params = {}\n    459 \n    460     except Exception as e:\n    461         # Note fit time as time until error\n    462         fit_time = time.time() - start_time\n\n...........................................................................\n/home/bob/.local/lib/python3.6/site-packages/sklearn/pipeline.py in fit(self=Pipeline(memory=None,\n     steps=[('features', O...fit_intercept=True, n_jobs=1, normalize=False))]), X=        Age        Country                      ...    0               0  \n\n[2040 rows x 23 columns], y=       Compensation\n7850       13725.60\n11322   ...0.00\n10373      74131.92\n\n[2040 rows x 1 columns], **fit_params={})\n    243         Returns\n    244         -------\n    245         self : Pipeline\n    246             This estimator\n    247         \"\"\"\n--> 248         Xt, fit_params = self._fit(X, y, **fit_params)\n        Xt = undefined\n        fit_params = {}\n        self._fit = <bound method Pipeline._fit of Pipeline(memory=N...it_intercept=True, n_jobs=1, normalize=False))])>\n        X =         Age        Country                      ...    0               0  \n\n[2040 rows x 23 columns]\n        y =        Compensation\n7850       13725.60\n11322   ...0.00\n10373      74131.92\n\n[2040 rows x 1 columns]\n    249         if self._final_estimator is not None:\n    250             self._final_estimator.fit(Xt, y, **fit_params)\n    251         return self\n    252 \n\n...........................................................................\n/home/bob/.local/lib/python3.6/site-packages/sklearn/pipeline.py in _fit(self=Pipeline(memory=None,\n     steps=[('features', O...fit_intercept=True, n_jobs=1, normalize=False))]), X=        Age        Country                      ...    0               0  \n\n[2040 rows x 23 columns], y=       Compensation\n7850       13725.60\n11322   ...0.00\n10373      74131.92\n\n[2040 rows x 1 columns], **fit_params={})\n    208                 else:\n    209                     cloned_transformer = clone(transformer)\n    210                 # Fit or load from cache the current transfomer\n    211                 Xt, fitted_transformer = fit_transform_one_cached(\n    212                     cloned_transformer, None, Xt, y,\n--> 213                     **fit_params_steps[name])\n        fit_params_steps = {'clf': {}, 'features': {}}\n        name = 'features'\n    214                 # Replace the transformer of the step with the fitted\n    215                 # transformer. This is necessary when loading the transformer\n    216                 # from the cache.\n    217                 self.steps[step_idx] = (name, fitted_transformer)\n\n...........................................................................\n/home/bob/.local/lib/python3.6/site-packages/sklearn/externals/joblib/memory.py in __call__(self=NotMemorizedFunc(func=<function _fit_transform_one at 0x7feff26b1840>), *args=(OneHotEncoder(categorical_features='all', dtype=...le_unknown='error', n_values='auto', sparse=True), None,         Age        Country                      ...    0               0  \n\n[2040 rows x 23 columns],        Compensation\n7850       13725.60\n11322   ...0.00\n10373      74131.92\n\n[2040 rows x 1 columns]), **kwargs={})\n    357     # Should be a light as possible (for speed)\n    358     def __init__(self, func):\n    359         self.func = func\n    360 \n    361     def __call__(self, *args, **kwargs):\n--> 362         return self.func(*args, **kwargs)\n        self.func = <function _fit_transform_one>\n        args = (OneHotEncoder(categorical_features='all', dtype=...le_unknown='error', n_values='auto', sparse=True), None,         Age        Country                      ...    0               0  \n\n[2040 rows x 23 columns],        Compensation\n7850       13725.60\n11322   ...0.00\n10373      74131.92\n\n[2040 rows x 1 columns])\n        kwargs = {}\n    363 \n    364     def call_and_shelve(self, *args, **kwargs):\n    365         return NotMemorizedResult(self.func(*args, **kwargs))\n    366 \n\n...........................................................................\n/home/bob/.local/lib/python3.6/site-packages/sklearn/pipeline.py in _fit_transform_one(transformer=OneHotEncoder(categorical_features='all', dtype=...le_unknown='error', n_values='auto', sparse=True), weight=None, X=        Age        Country                      ...    0               0  \n\n[2040 rows x 23 columns], y=       Compensation\n7850       13725.60\n11322   ...0.00\n10373      74131.92\n\n[2040 rows x 1 columns], **fit_params={})\n    576 \n    577 \n    578 def _fit_transform_one(transformer, weight, X, y,\n    579                        **fit_params):\n    580     if hasattr(transformer, 'fit_transform'):\n--> 581         res = transformer.fit_transform(X, y, **fit_params)\n        res = undefined\n        transformer.fit_transform = <bound method OneHotEncoder.fit_transform of One...e_unknown='error', n_values='auto', sparse=True)>\n        X =         Age        Country                      ...    0               0  \n\n[2040 rows x 23 columns]\n        y =        Compensation\n7850       13725.60\n11322   ...0.00\n10373      74131.92\n\n[2040 rows x 1 columns]\n        fit_params = {}\n    582     else:\n    583         res = transformer.fit(X, y, **fit_params).transform(X)\n    584     # if we have a weight for this transformer, multiply output\n    585     if weight is None:\n\n...........................................................................\n/home/bob/.local/lib/python3.6/site-packages/sklearn/preprocessing/data.py in fit_transform(self=OneHotEncoder(categorical_features='all', dtype=...le_unknown='error', n_values='auto', sparse=True), X=        Age        Country                      ...    0               0  \n\n[2040 rows x 23 columns], y=       Compensation\n7850       13725.60\n11322   ...0.00\n10373      74131.92\n\n[2040 rows x 1 columns])\n   2014         ----------\n   2015         X : array-like, shape [n_samples, n_feature]\n   2016             Input array of type int.\n   2017         \"\"\"\n   2018         return _transform_selected(X, self._fit_transform,\n-> 2019                                    self.categorical_features, copy=True)\n        self.categorical_features = 'all'\n   2020 \n   2021     def _transform(self, X):\n   2022         \"\"\"Assumes X contains only categorical features.\"\"\"\n   2023         X = check_array(X, dtype=np.int)\n\n...........................................................................\n/home/bob/.local/lib/python3.6/site-packages/sklearn/preprocessing/data.py in _transform_selected(X=        Age        Country                      ...    0               0  \n\n[2040 rows x 23 columns], transform=<bound method OneHotEncoder._fit_transform of On...e_unknown='error', n_values='auto', sparse=True)>, selected='all', copy=True)\n   1804 \n   1805     Returns\n   1806     -------\n   1807     X : array or sparse matrix, shape=(n_samples, n_features_new)\n   1808     \"\"\"\n-> 1809     X = check_array(X, accept_sparse='csc', copy=copy, dtype=FLOAT_DTYPES)\n        X =         Age        Country                      ...    0               0  \n\n[2040 rows x 23 columns]\n        copy = True\n   1810 \n   1811     if isinstance(selected, six.string_types) and selected == \"all\":\n   1812         return transform(X)\n   1813 \n\n...........................................................................\n/home/bob/.local/lib/python3.6/site-packages/sklearn/utils/validation.py in check_array(array=        Age        Country                      ...    0               0  \n\n[2040 rows x 23 columns], accept_sparse='csc', dtype=<class 'numpy.float64'>, order=None, copy=True, force_all_finite=True, ensure_2d=True, allow_nd=False, ensure_min_samples=1, ensure_min_features=1, warn_on_dtype=False, estimator=None)\n    428 \n    429     if sp.issparse(array):\n    430         array = _ensure_sparse_format(array, accept_sparse, dtype, copy,\n    431                                       force_all_finite)\n    432     else:\n--> 433         array = np.array(array, dtype=dtype, order=order, copy=copy)\n        array =         Age        Country                      ...    0               0  \n\n[2040 rows x 23 columns]\n        dtype = <class 'numpy.float64'>\n        order = None\n        copy = True\n    434 \n    435         if ensure_2d:\n    436             if array.ndim == 1:\n    437                 raise ValueError(\n\nValueError: could not convert string to float: 'Male'\n___________________________________________________________________________\n\"\"\"",
      "\nThe above exception was the direct cause of the following exception:\n",
      "\u001b[0;31mTransportableException\u001b[0m                    Traceback (most recent call last)",
      "\u001b[0;32m~/.local/lib/python3.6/site-packages/sklearn/externals/joblib/parallel.py\u001b[0m in \u001b[0;36mretrieve\u001b[0;34m(self)\u001b[0m\n\u001b[1;32m    698\u001b[0m                 \u001b[0;32mif\u001b[0m \u001b[0mgetattr\u001b[0m\u001b[0;34m(\u001b[0m\u001b[0mself\u001b[0m\u001b[0;34m.\u001b[0m\u001b[0m_backend\u001b[0m\u001b[0;34m,\u001b[0m \u001b[0;34m'supports_timeout'\u001b[0m\u001b[0;34m,\u001b[0m \u001b[0;32mFalse\u001b[0m\u001b[0;34m)\u001b[0m\u001b[0;34m:\u001b[0m\u001b[0;34m\u001b[0m\u001b[0m\n\u001b[0;32m--> 699\u001b[0;31m                     \u001b[0mself\u001b[0m\u001b[0;34m.\u001b[0m\u001b[0m_output\u001b[0m\u001b[0;34m.\u001b[0m\u001b[0mextend\u001b[0m\u001b[0;34m(\u001b[0m\u001b[0mjob\u001b[0m\u001b[0;34m.\u001b[0m\u001b[0mget\u001b[0m\u001b[0;34m(\u001b[0m\u001b[0mtimeout\u001b[0m\u001b[0;34m=\u001b[0m\u001b[0mself\u001b[0m\u001b[0;34m.\u001b[0m\u001b[0mtimeout\u001b[0m\u001b[0;34m)\u001b[0m\u001b[0;34m)\u001b[0m\u001b[0;34m\u001b[0m\u001b[0m\n\u001b[0m\u001b[1;32m    700\u001b[0m                 \u001b[0;32melse\u001b[0m\u001b[0;34m:\u001b[0m\u001b[0;34m\u001b[0m\u001b[0m\n",
      "\u001b[0;32m/usr/lib/python3.6/multiprocessing/pool.py\u001b[0m in \u001b[0;36mget\u001b[0;34m(self, timeout)\u001b[0m\n\u001b[1;32m    643\u001b[0m         \u001b[0;32melse\u001b[0m\u001b[0;34m:\u001b[0m\u001b[0;34m\u001b[0m\u001b[0m\n\u001b[0;32m--> 644\u001b[0;31m             \u001b[0;32mraise\u001b[0m \u001b[0mself\u001b[0m\u001b[0;34m.\u001b[0m\u001b[0m_value\u001b[0m\u001b[0;34m\u001b[0m\u001b[0m\n\u001b[0m\u001b[1;32m    645\u001b[0m \u001b[0;34m\u001b[0m\u001b[0m\n",
      "\u001b[0;31mTransportableException\u001b[0m: TransportableException\n___________________________________________________________________________\nValueError                                         Fri Nov 17 08:51:16 2017\nPID: 1852                                    Python 3.6.3: /usr/bin/python3\n...........................................................................\n/home/bob/.local/lib/python3.6/site-packages/sklearn/externals/joblib/parallel.py in __call__(self=<sklearn.externals.joblib.parallel.BatchedCalls object>)\n    126     def __init__(self, iterator_slice):\n    127         self.items = list(iterator_slice)\n    128         self._size = len(self.items)\n    129 \n    130     def __call__(self):\n--> 131         return [func(*args, **kwargs) for func, args, kwargs in self.items]\n        self.items = [(<function _fit_and_score>, (Pipeline(memory=None,\n     steps=[('features', O...fit_intercept=True, n_jobs=1, normalize=False))]),         Age        Country                   Job...    0               0  \n\n[3061 rows x 23 columns],        Compensation\n8416       19808.18\n3587    ...0.00\n10373      74131.92\n\n[3061 rows x 1 columns], {'score': <function _passthrough_scorer>}, array([1021, 1022, 1023, ..., 3058, 3059, 3060]), array([   0,    1,    2, ..., 1018, 1019, 1020]), 0, None, None), {'return_times': True, 'return_train_score': False})]\n    132 \n    133     def __len__(self):\n    134         return self._size\n    135 \n\n...........................................................................\n/home/bob/.local/lib/python3.6/site-packages/sklearn/externals/joblib/parallel.py in <listcomp>(.0=<list_iterator object>)\n    126     def __init__(self, iterator_slice):\n    127         self.items = list(iterator_slice)\n    128         self._size = len(self.items)\n    129 \n    130     def __call__(self):\n--> 131         return [func(*args, **kwargs) for func, args, kwargs in self.items]\n        func = <function _fit_and_score>\n        args = (Pipeline(memory=None,\n     steps=[('features', O...fit_intercept=True, n_jobs=1, normalize=False))]),         Age        Country                   Job...    0               0  \n\n[3061 rows x 23 columns],        Compensation\n8416       19808.18\n3587    ...0.00\n10373      74131.92\n\n[3061 rows x 1 columns], {'score': <function _passthrough_scorer>}, array([1021, 1022, 1023, ..., 3058, 3059, 3060]), array([   0,    1,    2, ..., 1018, 1019, 1020]), 0, None, None)\n        kwargs = {'return_times': True, 'return_train_score': False}\n    132 \n    133     def __len__(self):\n    134         return self._size\n    135 \n\n...........................................................................\n/home/bob/.local/lib/python3.6/site-packages/sklearn/model_selection/_validation.py in _fit_and_score(estimator=Pipeline(memory=None,\n     steps=[('features', O...fit_intercept=True, n_jobs=1, normalize=False))]), X=        Age        Country                   Job...    0               0  \n\n[3061 rows x 23 columns], y=       Compensation\n8416       19808.18\n3587    ...0.00\n10373      74131.92\n\n[3061 rows x 1 columns], scorer={'score': <function _passthrough_scorer>}, train=array([1021, 1022, 1023, ..., 3058, 3059, 3060]), test=array([   0,    1,    2, ..., 1018, 1019, 1020]), verbose=0, parameters=None, fit_params={}, return_train_score=False, return_parameters=False, return_n_test_samples=False, return_times=True, error_score='raise')\n    453 \n    454     try:\n    455         if y_train is None:\n    456             estimator.fit(X_train, **fit_params)\n    457         else:\n--> 458             estimator.fit(X_train, y_train, **fit_params)\n        estimator.fit = <bound method Pipeline.fit of Pipeline(memory=No...it_intercept=True, n_jobs=1, normalize=False))])>\n        X_train =         Age        Country                      ...    0               0  \n\n[2040 rows x 23 columns]\n        y_train =        Compensation\n7850       13725.60\n11322   ...0.00\n10373      74131.92\n\n[2040 rows x 1 columns]\n        fit_params = {}\n    459 \n    460     except Exception as e:\n    461         # Note fit time as time until error\n    462         fit_time = time.time() - start_time\n\n...........................................................................\n/home/bob/.local/lib/python3.6/site-packages/sklearn/pipeline.py in fit(self=Pipeline(memory=None,\n     steps=[('features', O...fit_intercept=True, n_jobs=1, normalize=False))]), X=        Age        Country                      ...    0               0  \n\n[2040 rows x 23 columns], y=       Compensation\n7850       13725.60\n11322   ...0.00\n10373      74131.92\n\n[2040 rows x 1 columns], **fit_params={})\n    243         Returns\n    244         -------\n    245         self : Pipeline\n    246             This estimator\n    247         \"\"\"\n--> 248         Xt, fit_params = self._fit(X, y, **fit_params)\n        Xt = undefined\n        fit_params = {}\n        self._fit = <bound method Pipeline._fit of Pipeline(memory=N...it_intercept=True, n_jobs=1, normalize=False))])>\n        X =         Age        Country                      ...    0               0  \n\n[2040 rows x 23 columns]\n        y =        Compensation\n7850       13725.60\n11322   ...0.00\n10373      74131.92\n\n[2040 rows x 1 columns]\n    249         if self._final_estimator is not None:\n    250             self._final_estimator.fit(Xt, y, **fit_params)\n    251         return self\n    252 \n\n...........................................................................\n/home/bob/.local/lib/python3.6/site-packages/sklearn/pipeline.py in _fit(self=Pipeline(memory=None,\n     steps=[('features', O...fit_intercept=True, n_jobs=1, normalize=False))]), X=        Age        Country                      ...    0               0  \n\n[2040 rows x 23 columns], y=       Compensation\n7850       13725.60\n11322   ...0.00\n10373      74131.92\n\n[2040 rows x 1 columns], **fit_params={})\n    208                 else:\n    209                     cloned_transformer = clone(transformer)\n    210                 # Fit or load from cache the current transfomer\n    211                 Xt, fitted_transformer = fit_transform_one_cached(\n    212                     cloned_transformer, None, Xt, y,\n--> 213                     **fit_params_steps[name])\n        fit_params_steps = {'clf': {}, 'features': {}}\n        name = 'features'\n    214                 # Replace the transformer of the step with the fitted\n    215                 # transformer. This is necessary when loading the transformer\n    216                 # from the cache.\n    217                 self.steps[step_idx] = (name, fitted_transformer)\n\n...........................................................................\n/home/bob/.local/lib/python3.6/site-packages/sklearn/externals/joblib/memory.py in __call__(self=NotMemorizedFunc(func=<function _fit_transform_one at 0x7feff26b1840>), *args=(OneHotEncoder(categorical_features='all', dtype=...le_unknown='error', n_values='auto', sparse=True), None,         Age        Country                      ...    0               0  \n\n[2040 rows x 23 columns],        Compensation\n7850       13725.60\n11322   ...0.00\n10373      74131.92\n\n[2040 rows x 1 columns]), **kwargs={})\n    357     # Should be a light as possible (for speed)\n    358     def __init__(self, func):\n    359         self.func = func\n    360 \n    361     def __call__(self, *args, **kwargs):\n--> 362         return self.func(*args, **kwargs)\n        self.func = <function _fit_transform_one>\n        args = (OneHotEncoder(categorical_features='all', dtype=...le_unknown='error', n_values='auto', sparse=True), None,         Age        Country                      ...    0               0  \n\n[2040 rows x 23 columns],        Compensation\n7850       13725.60\n11322   ...0.00\n10373      74131.92\n\n[2040 rows x 1 columns])\n        kwargs = {}\n    363 \n    364     def call_and_shelve(self, *args, **kwargs):\n    365         return NotMemorizedResult(self.func(*args, **kwargs))\n    366 \n\n...........................................................................\n/home/bob/.local/lib/python3.6/site-packages/sklearn/pipeline.py in _fit_transform_one(transformer=OneHotEncoder(categorical_features='all', dtype=...le_unknown='error', n_values='auto', sparse=True), weight=None, X=        Age        Country                      ...    0               0  \n\n[2040 rows x 23 columns], y=       Compensation\n7850       13725.60\n11322   ...0.00\n10373      74131.92\n\n[2040 rows x 1 columns], **fit_params={})\n    576 \n    577 \n    578 def _fit_transform_one(transformer, weight, X, y,\n    579                        **fit_params):\n    580     if hasattr(transformer, 'fit_transform'):\n--> 581         res = transformer.fit_transform(X, y, **fit_params)\n        res = undefined\n        transformer.fit_transform = <bound method OneHotEncoder.fit_transform of One...e_unknown='error', n_values='auto', sparse=True)>\n        X =         Age        Country                      ...    0               0  \n\n[2040 rows x 23 columns]\n        y =        Compensation\n7850       13725.60\n11322   ...0.00\n10373      74131.92\n\n[2040 rows x 1 columns]\n        fit_params = {}\n    582     else:\n    583         res = transformer.fit(X, y, **fit_params).transform(X)\n    584     # if we have a weight for this transformer, multiply output\n    585     if weight is None:\n\n...........................................................................\n/home/bob/.local/lib/python3.6/site-packages/sklearn/preprocessing/data.py in fit_transform(self=OneHotEncoder(categorical_features='all', dtype=...le_unknown='error', n_values='auto', sparse=True), X=        Age        Country                      ...    0               0  \n\n[2040 rows x 23 columns], y=       Compensation\n7850       13725.60\n11322   ...0.00\n10373      74131.92\n\n[2040 rows x 1 columns])\n   2014         ----------\n   2015         X : array-like, shape [n_samples, n_feature]\n   2016             Input array of type int.\n   2017         \"\"\"\n   2018         return _transform_selected(X, self._fit_transform,\n-> 2019                                    self.categorical_features, copy=True)\n        self.categorical_features = 'all'\n   2020 \n   2021     def _transform(self, X):\n   2022         \"\"\"Assumes X contains only categorical features.\"\"\"\n   2023         X = check_array(X, dtype=np.int)\n\n...........................................................................\n/home/bob/.local/lib/python3.6/site-packages/sklearn/preprocessing/data.py in _transform_selected(X=        Age        Country                      ...    0               0  \n\n[2040 rows x 23 columns], transform=<bound method OneHotEncoder._fit_transform of On...e_unknown='error', n_values='auto', sparse=True)>, selected='all', copy=True)\n   1804 \n   1805     Returns\n   1806     -------\n   1807     X : array or sparse matrix, shape=(n_samples, n_features_new)\n   1808     \"\"\"\n-> 1809     X = check_array(X, accept_sparse='csc', copy=copy, dtype=FLOAT_DTYPES)\n        X =         Age        Country                      ...    0               0  \n\n[2040 rows x 23 columns]\n        copy = True\n   1810 \n   1811     if isinstance(selected, six.string_types) and selected == \"all\":\n   1812         return transform(X)\n   1813 \n\n...........................................................................\n/home/bob/.local/lib/python3.6/site-packages/sklearn/utils/validation.py in check_array(array=        Age        Country                      ...    0               0  \n\n[2040 rows x 23 columns], accept_sparse='csc', dtype=<class 'numpy.float64'>, order=None, copy=True, force_all_finite=True, ensure_2d=True, allow_nd=False, ensure_min_samples=1, ensure_min_features=1, warn_on_dtype=False, estimator=None)\n    428 \n    429     if sp.issparse(array):\n    430         array = _ensure_sparse_format(array, accept_sparse, dtype, copy,\n    431                                       force_all_finite)\n    432     else:\n--> 433         array = np.array(array, dtype=dtype, order=order, copy=copy)\n        array =         Age        Country                      ...    0               0  \n\n[2040 rows x 23 columns]\n        dtype = <class 'numpy.float64'>\n        order = None\n        copy = True\n    434 \n    435         if ensure_2d:\n    436             if array.ndim == 1:\n    437                 raise ValueError(\n\nValueError: could not convert string to float: 'Male'\n___________________________________________________________________________",
      "\nDuring handling of the above exception, another exception occurred:\n",
      "\u001b[0;31mJoblibValueError\u001b[0m                          Traceback (most recent call last)",
      "\u001b[0;32m<ipython-input-219-1ec2341e6fe4>\u001b[0m in \u001b[0;36m<module>\u001b[0;34m()\u001b[0m\n\u001b[1;32m      8\u001b[0m         ])\n\u001b[1;32m      9\u001b[0m \u001b[0;34m\u001b[0m\u001b[0m\n\u001b[0;32m---> 10\u001b[0;31m \u001b[0mcross_val_score\u001b[0m\u001b[0;34m(\u001b[0m\u001b[0mpipeline\u001b[0m\u001b[0;34m,\u001b[0m \u001b[0mx_train\u001b[0m\u001b[0;34m,\u001b[0m \u001b[0my_train\u001b[0m\u001b[0;34m,\u001b[0m \u001b[0mcv\u001b[0m\u001b[0;34m=\u001b[0m\u001b[0;36m3\u001b[0m\u001b[0;34m,\u001b[0m \u001b[0mn_jobs\u001b[0m\u001b[0;34m=\u001b[0m\u001b[0;36m3\u001b[0m\u001b[0;34m)\u001b[0m\u001b[0;34m\u001b[0m\u001b[0m\n\u001b[0m",
      "\u001b[0;32m~/.local/lib/python3.6/site-packages/sklearn/model_selection/_validation.py\u001b[0m in \u001b[0;36mcross_val_score\u001b[0;34m(estimator, X, y, groups, scoring, cv, n_jobs, verbose, fit_params, pre_dispatch)\u001b[0m\n\u001b[1;32m    340\u001b[0m                                 \u001b[0mn_jobs\u001b[0m\u001b[0;34m=\u001b[0m\u001b[0mn_jobs\u001b[0m\u001b[0;34m,\u001b[0m \u001b[0mverbose\u001b[0m\u001b[0;34m=\u001b[0m\u001b[0mverbose\u001b[0m\u001b[0;34m,\u001b[0m\u001b[0;34m\u001b[0m\u001b[0m\n\u001b[1;32m    341\u001b[0m                                 \u001b[0mfit_params\u001b[0m\u001b[0;34m=\u001b[0m\u001b[0mfit_params\u001b[0m\u001b[0;34m,\u001b[0m\u001b[0;34m\u001b[0m\u001b[0m\n\u001b[0;32m--> 342\u001b[0;31m                                 pre_dispatch=pre_dispatch)\n\u001b[0m\u001b[1;32m    343\u001b[0m     \u001b[0;32mreturn\u001b[0m \u001b[0mcv_results\u001b[0m\u001b[0;34m[\u001b[0m\u001b[0;34m'test_score'\u001b[0m\u001b[0;34m]\u001b[0m\u001b[0;34m\u001b[0m\u001b[0m\n\u001b[1;32m    344\u001b[0m \u001b[0;34m\u001b[0m\u001b[0m\n",
      "\u001b[0;32m~/.local/lib/python3.6/site-packages/sklearn/model_selection/_validation.py\u001b[0m in \u001b[0;36mcross_validate\u001b[0;34m(estimator, X, y, groups, scoring, cv, n_jobs, verbose, fit_params, pre_dispatch, return_train_score)\u001b[0m\n\u001b[1;32m    204\u001b[0m             \u001b[0mfit_params\u001b[0m\u001b[0;34m,\u001b[0m \u001b[0mreturn_train_score\u001b[0m\u001b[0;34m=\u001b[0m\u001b[0mreturn_train_score\u001b[0m\u001b[0;34m,\u001b[0m\u001b[0;34m\u001b[0m\u001b[0m\n\u001b[1;32m    205\u001b[0m             return_times=True)\n\u001b[0;32m--> 206\u001b[0;31m         for train, test in cv.split(X, y, groups))\n\u001b[0m\u001b[1;32m    207\u001b[0m \u001b[0;34m\u001b[0m\u001b[0m\n\u001b[1;32m    208\u001b[0m     \u001b[0;32mif\u001b[0m \u001b[0mreturn_train_score\u001b[0m\u001b[0;34m:\u001b[0m\u001b[0;34m\u001b[0m\u001b[0m\n",
      "\u001b[0;32m~/.local/lib/python3.6/site-packages/sklearn/externals/joblib/parallel.py\u001b[0m in \u001b[0;36m__call__\u001b[0;34m(self, iterable)\u001b[0m\n\u001b[1;32m    787\u001b[0m                 \u001b[0;31m# consumption.\u001b[0m\u001b[0;34m\u001b[0m\u001b[0;34m\u001b[0m\u001b[0m\n\u001b[1;32m    788\u001b[0m                 \u001b[0mself\u001b[0m\u001b[0;34m.\u001b[0m\u001b[0m_iterating\u001b[0m \u001b[0;34m=\u001b[0m \u001b[0;32mFalse\u001b[0m\u001b[0;34m\u001b[0m\u001b[0m\n\u001b[0;32m--> 789\u001b[0;31m             \u001b[0mself\u001b[0m\u001b[0;34m.\u001b[0m\u001b[0mretrieve\u001b[0m\u001b[0;34m(\u001b[0m\u001b[0;34m)\u001b[0m\u001b[0;34m\u001b[0m\u001b[0m\n\u001b[0m\u001b[1;32m    790\u001b[0m             \u001b[0;31m# Make sure that we get a last message telling us we are done\u001b[0m\u001b[0;34m\u001b[0m\u001b[0;34m\u001b[0m\u001b[0m\n\u001b[1;32m    791\u001b[0m             \u001b[0melapsed_time\u001b[0m \u001b[0;34m=\u001b[0m \u001b[0mtime\u001b[0m\u001b[0;34m.\u001b[0m\u001b[0mtime\u001b[0m\u001b[0;34m(\u001b[0m\u001b[0;34m)\u001b[0m \u001b[0;34m-\u001b[0m \u001b[0mself\u001b[0m\u001b[0;34m.\u001b[0m\u001b[0m_start_time\u001b[0m\u001b[0;34m\u001b[0m\u001b[0m\n",
      "\u001b[0;32m~/.local/lib/python3.6/site-packages/sklearn/externals/joblib/parallel.py\u001b[0m in \u001b[0;36mretrieve\u001b[0;34m(self)\u001b[0m\n\u001b[1;32m    738\u001b[0m                     \u001b[0mexception\u001b[0m \u001b[0;34m=\u001b[0m \u001b[0mexception_type\u001b[0m\u001b[0;34m(\u001b[0m\u001b[0mreport\u001b[0m\u001b[0;34m)\u001b[0m\u001b[0;34m\u001b[0m\u001b[0m\n\u001b[1;32m    739\u001b[0m \u001b[0;34m\u001b[0m\u001b[0m\n\u001b[0;32m--> 740\u001b[0;31m                     \u001b[0;32mraise\u001b[0m \u001b[0mexception\u001b[0m\u001b[0;34m\u001b[0m\u001b[0m\n\u001b[0m\u001b[1;32m    741\u001b[0m \u001b[0;34m\u001b[0m\u001b[0m\n\u001b[1;32m    742\u001b[0m     \u001b[0;32mdef\u001b[0m \u001b[0m__call__\u001b[0m\u001b[0;34m(\u001b[0m\u001b[0mself\u001b[0m\u001b[0;34m,\u001b[0m \u001b[0miterable\u001b[0m\u001b[0;34m)\u001b[0m\u001b[0;34m:\u001b[0m\u001b[0;34m\u001b[0m\u001b[0m\n",
      "\u001b[0;31mJoblibValueError\u001b[0m: JoblibValueError\n___________________________________________________________________________\nMultiprocessing exception:\n...........................................................................\n/usr/lib/python3.6/runpy.py in _run_module_as_main(mod_name='ipykernel_launcher', alter_argv=1)\n    188         sys.exit(msg)\n    189     main_globals = sys.modules[\"__main__\"].__dict__\n    190     if alter_argv:\n    191         sys.argv[0] = mod_spec.origin\n    192     return _run_code(code, main_globals, None,\n--> 193                      \"__main__\", mod_spec)\n        mod_spec = ModuleSpec(name='ipykernel_launcher', loader=<_f...b/python3.6/site-packages/ipykernel_launcher.py')\n    194 \n    195 def run_module(mod_name, init_globals=None,\n    196                run_name=None, alter_sys=False):\n    197     \"\"\"Execute a module's code without importing it\n\n...........................................................................\n/usr/lib/python3.6/runpy.py in _run_code(code=<code object <module> at 0x7ff038aff1e0, file \"/...3.6/site-packages/ipykernel_launcher.py\", line 5>, run_globals={'__annotations__': {}, '__builtins__': <module 'builtins' (built-in)>, '__cached__': '/home/bob/.local/lib/python3.6/site-packages/__pycache__/ipykernel_launcher.cpython-36.pyc', '__doc__': 'Entry point for launching an IPython kernel.\\n\\nTh...orts until\\nafter removing the cwd from sys.path.\\n', '__file__': '/home/bob/.local/lib/python3.6/site-packages/ipykernel_launcher.py', '__loader__': <_frozen_importlib_external.SourceFileLoader object>, '__name__': '__main__', '__package__': '', '__spec__': ModuleSpec(name='ipykernel_launcher', loader=<_f...b/python3.6/site-packages/ipykernel_launcher.py'), 'app': <module 'ipykernel.kernelapp' from '/home/bob/.l.../python3.6/site-packages/ipykernel/kernelapp.py'>, ...}, init_globals=None, mod_name='__main__', mod_spec=ModuleSpec(name='ipykernel_launcher', loader=<_f...b/python3.6/site-packages/ipykernel_launcher.py'), pkg_name='', script_name=None)\n     80                        __cached__ = cached,\n     81                        __doc__ = None,\n     82                        __loader__ = loader,\n     83                        __package__ = pkg_name,\n     84                        __spec__ = mod_spec)\n---> 85     exec(code, run_globals)\n        code = <code object <module> at 0x7ff038aff1e0, file \"/...3.6/site-packages/ipykernel_launcher.py\", line 5>\n        run_globals = {'__annotations__': {}, '__builtins__': <module 'builtins' (built-in)>, '__cached__': '/home/bob/.local/lib/python3.6/site-packages/__pycache__/ipykernel_launcher.cpython-36.pyc', '__doc__': 'Entry point for launching an IPython kernel.\\n\\nTh...orts until\\nafter removing the cwd from sys.path.\\n', '__file__': '/home/bob/.local/lib/python3.6/site-packages/ipykernel_launcher.py', '__loader__': <_frozen_importlib_external.SourceFileLoader object>, '__name__': '__main__', '__package__': '', '__spec__': ModuleSpec(name='ipykernel_launcher', loader=<_f...b/python3.6/site-packages/ipykernel_launcher.py'), 'app': <module 'ipykernel.kernelapp' from '/home/bob/.l.../python3.6/site-packages/ipykernel/kernelapp.py'>, ...}\n     86     return run_globals\n     87 \n     88 def _run_module_code(code, init_globals=None,\n     89                     mod_name=None, mod_spec=None,\n\n...........................................................................\n/home/bob/.local/lib/python3.6/site-packages/ipykernel_launcher.py in <module>()\n     11     # This is added back by InteractiveShellApp.init_path()\n     12     if sys.path[0] == '':\n     13         del sys.path[0]\n     14 \n     15     from ipykernel import kernelapp as app\n---> 16     app.launch_new_instance()\n\n...........................................................................\n/home/bob/.local/lib/python3.6/site-packages/traitlets/config/application.py in launch_instance(cls=<class 'ipykernel.kernelapp.IPKernelApp'>, argv=None, **kwargs={})\n    653 \n    654         If a global instance already exists, this reinitializes and starts it\n    655         \"\"\"\n    656         app = cls.instance(**kwargs)\n    657         app.initialize(argv)\n--> 658         app.start()\n        app.start = <bound method IPKernelApp.start of <ipykernel.kernelapp.IPKernelApp object>>\n    659 \n    660 #-----------------------------------------------------------------------------\n    661 # utility functions, for convenience\n    662 #-----------------------------------------------------------------------------\n\n...........................................................................\n/home/bob/.local/lib/python3.6/site-packages/ipykernel/kernelapp.py in start(self=<ipykernel.kernelapp.IPKernelApp object>)\n    472             return self.subapp.start()\n    473         if self.poller is not None:\n    474             self.poller.start()\n    475         self.kernel.start()\n    476         try:\n--> 477             ioloop.IOLoop.instance().start()\n    478         except KeyboardInterrupt:\n    479             pass\n    480 \n    481 launch_new_instance = IPKernelApp.launch_instance\n\n...........................................................................\n/home/bob/.local/lib/python3.6/site-packages/zmq/eventloop/ioloop.py in start(self=<zmq.eventloop.ioloop.ZMQIOLoop object>)\n    172             )\n    173         return loop\n    174     \n    175     def start(self):\n    176         try:\n--> 177             super(ZMQIOLoop, self).start()\n        self.start = <bound method ZMQIOLoop.start of <zmq.eventloop.ioloop.ZMQIOLoop object>>\n    178         except ZMQError as e:\n    179             if e.errno == ETERM:\n    180                 # quietly return on ETERM\n    181                 pass\n\n...........................................................................\n/home/bob/.local/lib/python3.6/site-packages/tornado/ioloop.py in start(self=<zmq.eventloop.ioloop.ZMQIOLoop object>)\n    883                 self._events.update(event_pairs)\n    884                 while self._events:\n    885                     fd, events = self._events.popitem()\n    886                     try:\n    887                         fd_obj, handler_func = self._handlers[fd]\n--> 888                         handler_func(fd_obj, events)\n        handler_func = <function wrap.<locals>.null_wrapper>\n        fd_obj = <zmq.sugar.socket.Socket object>\n        events = 1\n    889                     except (OSError, IOError) as e:\n    890                         if errno_from_exception(e) == errno.EPIPE:\n    891                             # Happens when the client closes the connection\n    892                             pass\n\n...........................................................................\n/home/bob/.local/lib/python3.6/site-packages/tornado/stack_context.py in null_wrapper(*args=(<zmq.sugar.socket.Socket object>, 1), **kwargs={})\n    272         # Fast path when there are no active contexts.\n    273         def null_wrapper(*args, **kwargs):\n    274             try:\n    275                 current_state = _state.contexts\n    276                 _state.contexts = cap_contexts[0]\n--> 277                 return fn(*args, **kwargs)\n        args = (<zmq.sugar.socket.Socket object>, 1)\n        kwargs = {}\n    278             finally:\n    279                 _state.contexts = current_state\n    280         null_wrapper._wrapped = True\n    281         return null_wrapper\n\n...........................................................................\n/home/bob/.local/lib/python3.6/site-packages/zmq/eventloop/zmqstream.py in _handle_events(self=<zmq.eventloop.zmqstream.ZMQStream object>, fd=<zmq.sugar.socket.Socket object>, events=1)\n    435             # dispatch events:\n    436             if events & IOLoop.ERROR:\n    437                 gen_log.error(\"got POLLERR event on ZMQStream, which doesn't make sense\")\n    438                 return\n    439             if events & IOLoop.READ:\n--> 440                 self._handle_recv()\n        self._handle_recv = <bound method ZMQStream._handle_recv of <zmq.eventloop.zmqstream.ZMQStream object>>\n    441                 if not self.socket:\n    442                     return\n    443             if events & IOLoop.WRITE:\n    444                 self._handle_send()\n\n...........................................................................\n/home/bob/.local/lib/python3.6/site-packages/zmq/eventloop/zmqstream.py in _handle_recv(self=<zmq.eventloop.zmqstream.ZMQStream object>)\n    467                 gen_log.error(\"RECV Error: %s\"%zmq.strerror(e.errno))\n    468         else:\n    469             if self._recv_callback:\n    470                 callback = self._recv_callback\n    471                 # self._recv_callback = None\n--> 472                 self._run_callback(callback, msg)\n        self._run_callback = <bound method ZMQStream._run_callback of <zmq.eventloop.zmqstream.ZMQStream object>>\n        callback = <function wrap.<locals>.null_wrapper>\n        msg = [<zmq.sugar.frame.Frame object>, <zmq.sugar.frame.Frame object>, <zmq.sugar.frame.Frame object>, <zmq.sugar.frame.Frame object>, <zmq.sugar.frame.Frame object>, <zmq.sugar.frame.Frame object>, <zmq.sugar.frame.Frame object>]\n    473                 \n    474         # self.update_state()\n    475         \n    476 \n\n...........................................................................\n/home/bob/.local/lib/python3.6/site-packages/zmq/eventloop/zmqstream.py in _run_callback(self=<zmq.eventloop.zmqstream.ZMQStream object>, callback=<function wrap.<locals>.null_wrapper>, *args=([<zmq.sugar.frame.Frame object>, <zmq.sugar.frame.Frame object>, <zmq.sugar.frame.Frame object>, <zmq.sugar.frame.Frame object>, <zmq.sugar.frame.Frame object>, <zmq.sugar.frame.Frame object>, <zmq.sugar.frame.Frame object>],), **kwargs={})\n    409         close our socket.\"\"\"\n    410         try:\n    411             # Use a NullContext to ensure that all StackContexts are run\n    412             # inside our blanket exception handler rather than outside.\n    413             with stack_context.NullContext():\n--> 414                 callback(*args, **kwargs)\n        callback = <function wrap.<locals>.null_wrapper>\n        args = ([<zmq.sugar.frame.Frame object>, <zmq.sugar.frame.Frame object>, <zmq.sugar.frame.Frame object>, <zmq.sugar.frame.Frame object>, <zmq.sugar.frame.Frame object>, <zmq.sugar.frame.Frame object>, <zmq.sugar.frame.Frame object>],)\n        kwargs = {}\n    415         except:\n    416             gen_log.error(\"Uncaught exception, closing connection.\",\n    417                           exc_info=True)\n    418             # Close the socket on an uncaught exception from a user callback\n\n...........................................................................\n/home/bob/.local/lib/python3.6/site-packages/tornado/stack_context.py in null_wrapper(*args=([<zmq.sugar.frame.Frame object>, <zmq.sugar.frame.Frame object>, <zmq.sugar.frame.Frame object>, <zmq.sugar.frame.Frame object>, <zmq.sugar.frame.Frame object>, <zmq.sugar.frame.Frame object>, <zmq.sugar.frame.Frame object>],), **kwargs={})\n    272         # Fast path when there are no active contexts.\n    273         def null_wrapper(*args, **kwargs):\n    274             try:\n    275                 current_state = _state.contexts\n    276                 _state.contexts = cap_contexts[0]\n--> 277                 return fn(*args, **kwargs)\n        args = ([<zmq.sugar.frame.Frame object>, <zmq.sugar.frame.Frame object>, <zmq.sugar.frame.Frame object>, <zmq.sugar.frame.Frame object>, <zmq.sugar.frame.Frame object>, <zmq.sugar.frame.Frame object>, <zmq.sugar.frame.Frame object>],)\n        kwargs = {}\n    278             finally:\n    279                 _state.contexts = current_state\n    280         null_wrapper._wrapped = True\n    281         return null_wrapper\n\n...........................................................................\n/home/bob/.local/lib/python3.6/site-packages/ipykernel/kernelbase.py in dispatcher(msg=[<zmq.sugar.frame.Frame object>, <zmq.sugar.frame.Frame object>, <zmq.sugar.frame.Frame object>, <zmq.sugar.frame.Frame object>, <zmq.sugar.frame.Frame object>, <zmq.sugar.frame.Frame object>, <zmq.sugar.frame.Frame object>])\n    278         if self.control_stream:\n    279             self.control_stream.on_recv(self.dispatch_control, copy=False)\n    280 \n    281         def make_dispatcher(stream):\n    282             def dispatcher(msg):\n--> 283                 return self.dispatch_shell(stream, msg)\n        msg = [<zmq.sugar.frame.Frame object>, <zmq.sugar.frame.Frame object>, <zmq.sugar.frame.Frame object>, <zmq.sugar.frame.Frame object>, <zmq.sugar.frame.Frame object>, <zmq.sugar.frame.Frame object>, <zmq.sugar.frame.Frame object>]\n    284             return dispatcher\n    285 \n    286         for s in self.shell_streams:\n    287             s.on_recv(make_dispatcher(s), copy=False)\n\n...........................................................................\n/home/bob/.local/lib/python3.6/site-packages/ipykernel/kernelbase.py in dispatch_shell(self=<ipykernel.ipkernel.IPythonKernel object>, stream=<zmq.eventloop.zmqstream.ZMQStream object>, msg={'buffers': [], 'content': {'allow_stdin': True, 'code': 'from sklearn.pipeline import Pipeline\\nfrom sklea...core(pipeline, x_train, y_train, cv=3, n_jobs=3)\\n', 'silent': False, 'stop_on_error': True, 'store_history': True, 'user_expressions': {}}, 'header': {'date': datetime.datetime(2017, 11, 17, 16, 51, 16, 471364, tzinfo=tzutc()), 'msg_id': '2359DEBEC3694564B85924EDCB37D87D', 'msg_type': 'execute_request', 'session': '8E7DD302869C4BEDA952BFA896A2D5BF', 'username': 'username', 'version': '5.0'}, 'metadata': {}, 'msg_id': '2359DEBEC3694564B85924EDCB37D87D', 'msg_type': 'execute_request', 'parent_header': {}})\n    230             self.log.warn(\"Unknown message type: %r\", msg_type)\n    231         else:\n    232             self.log.debug(\"%s: %s\", msg_type, msg)\n    233             self.pre_handler_hook()\n    234             try:\n--> 235                 handler(stream, idents, msg)\n        handler = <bound method Kernel.execute_request of <ipykernel.ipkernel.IPythonKernel object>>\n        stream = <zmq.eventloop.zmqstream.ZMQStream object>\n        idents = [b'8E7DD302869C4BEDA952BFA896A2D5BF']\n        msg = {'buffers': [], 'content': {'allow_stdin': True, 'code': 'from sklearn.pipeline import Pipeline\\nfrom sklea...core(pipeline, x_train, y_train, cv=3, n_jobs=3)\\n', 'silent': False, 'stop_on_error': True, 'store_history': True, 'user_expressions': {}}, 'header': {'date': datetime.datetime(2017, 11, 17, 16, 51, 16, 471364, tzinfo=tzutc()), 'msg_id': '2359DEBEC3694564B85924EDCB37D87D', 'msg_type': 'execute_request', 'session': '8E7DD302869C4BEDA952BFA896A2D5BF', 'username': 'username', 'version': '5.0'}, 'metadata': {}, 'msg_id': '2359DEBEC3694564B85924EDCB37D87D', 'msg_type': 'execute_request', 'parent_header': {}}\n    236             except Exception:\n    237                 self.log.error(\"Exception in message handler:\", exc_info=True)\n    238             finally:\n    239                 self.post_handler_hook()\n\n...........................................................................\n/home/bob/.local/lib/python3.6/site-packages/ipykernel/kernelbase.py in execute_request(self=<ipykernel.ipkernel.IPythonKernel object>, stream=<zmq.eventloop.zmqstream.ZMQStream object>, ident=[b'8E7DD302869C4BEDA952BFA896A2D5BF'], parent={'buffers': [], 'content': {'allow_stdin': True, 'code': 'from sklearn.pipeline import Pipeline\\nfrom sklea...core(pipeline, x_train, y_train, cv=3, n_jobs=3)\\n', 'silent': False, 'stop_on_error': True, 'store_history': True, 'user_expressions': {}}, 'header': {'date': datetime.datetime(2017, 11, 17, 16, 51, 16, 471364, tzinfo=tzutc()), 'msg_id': '2359DEBEC3694564B85924EDCB37D87D', 'msg_type': 'execute_request', 'session': '8E7DD302869C4BEDA952BFA896A2D5BF', 'username': 'username', 'version': '5.0'}, 'metadata': {}, 'msg_id': '2359DEBEC3694564B85924EDCB37D87D', 'msg_type': 'execute_request', 'parent_header': {}})\n    394         if not silent:\n    395             self.execution_count += 1\n    396             self._publish_execute_input(code, parent, self.execution_count)\n    397 \n    398         reply_content = self.do_execute(code, silent, store_history,\n--> 399                                         user_expressions, allow_stdin)\n        user_expressions = {}\n        allow_stdin = True\n    400 \n    401         # Flush output before sending the reply.\n    402         sys.stdout.flush()\n    403         sys.stderr.flush()\n\n...........................................................................\n/home/bob/.local/lib/python3.6/site-packages/ipykernel/ipkernel.py in do_execute(self=<ipykernel.ipkernel.IPythonKernel object>, code='from sklearn.pipeline import Pipeline\\nfrom sklea...core(pipeline, x_train, y_train, cv=3, n_jobs=3)\\n', silent=False, store_history=True, user_expressions={}, allow_stdin=True)\n    191 \n    192         self._forward_input(allow_stdin)\n    193 \n    194         reply_content = {}\n    195         try:\n--> 196             res = shell.run_cell(code, store_history=store_history, silent=silent)\n        res = undefined\n        shell.run_cell = <bound method ZMQInteractiveShell.run_cell of <ipykernel.zmqshell.ZMQInteractiveShell object>>\n        code = 'from sklearn.pipeline import Pipeline\\nfrom sklea...core(pipeline, x_train, y_train, cv=3, n_jobs=3)\\n'\n        store_history = True\n        silent = False\n    197         finally:\n    198             self._restore_input()\n    199 \n    200         if res.error_before_exec is not None:\n\n...........................................................................\n/home/bob/.local/lib/python3.6/site-packages/ipykernel/zmqshell.py in run_cell(self=<ipykernel.zmqshell.ZMQInteractiveShell object>, *args=('from sklearn.pipeline import Pipeline\\nfrom sklea...core(pipeline, x_train, y_train, cv=3, n_jobs=3)\\n',), **kwargs={'silent': False, 'store_history': True})\n    528             )\n    529         self.payload_manager.write_payload(payload)\n    530 \n    531     def run_cell(self, *args, **kwargs):\n    532         self._last_traceback = None\n--> 533         return super(ZMQInteractiveShell, self).run_cell(*args, **kwargs)\n        self.run_cell = <bound method ZMQInteractiveShell.run_cell of <ipykernel.zmqshell.ZMQInteractiveShell object>>\n        args = ('from sklearn.pipeline import Pipeline\\nfrom sklea...core(pipeline, x_train, y_train, cv=3, n_jobs=3)\\n',)\n        kwargs = {'silent': False, 'store_history': True}\n    534 \n    535     def _showtraceback(self, etype, evalue, stb):\n    536         # try to preserve ordering of tracebacks and print statements\n    537         sys.stdout.flush()\n\n...........................................................................\n/home/bob/.local/lib/python3.6/site-packages/IPython/core/interactiveshell.py in run_cell(self=<ipykernel.zmqshell.ZMQInteractiveShell object>, raw_cell='from sklearn.pipeline import Pipeline\\nfrom sklea...core(pipeline, x_train, y_train, cv=3, n_jobs=3)\\n', store_history=True, silent=False, shell_futures=True)\n   2723                 self.displayhook.exec_result = result\n   2724 \n   2725                 # Execute the user code\n   2726                 interactivity = \"none\" if silent else self.ast_node_interactivity\n   2727                 has_raised = self.run_ast_nodes(code_ast.body, cell_name,\n-> 2728                    interactivity=interactivity, compiler=compiler, result=result)\n        interactivity = 'last_expr'\n        compiler = <IPython.core.compilerop.CachingCompiler object>\n   2729                 \n   2730                 self.last_execution_succeeded = not has_raised\n   2731                 self.last_execution_result = result\n   2732 \n\n...........................................................................\n/home/bob/.local/lib/python3.6/site-packages/IPython/core/interactiveshell.py in run_ast_nodes(self=<ipykernel.zmqshell.ZMQInteractiveShell object>, nodelist=[<_ast.ImportFrom object>, <_ast.ImportFrom object>, <_ast.ImportFrom object>, <_ast.Assign object>, <_ast.Expr object>], cell_name='<ipython-input-219-1ec2341e6fe4>', interactivity='last', compiler=<IPython.core.compilerop.CachingCompiler object>, result=<ExecutionResult object at 7fefefea3780, executi..._before_exec=None error_in_exec=None result=None>)\n   2851                     return True\n   2852 \n   2853             for i, node in enumerate(to_run_interactive):\n   2854                 mod = ast.Interactive([node])\n   2855                 code = compiler(mod, cell_name, \"single\")\n-> 2856                 if self.run_code(code, result):\n        self.run_code = <bound method InteractiveShell.run_code of <ipykernel.zmqshell.ZMQInteractiveShell object>>\n        code = <code object <module> at 0x7fefefaad5d0, file \"<ipython-input-219-1ec2341e6fe4>\", line 10>\n        result = <ExecutionResult object at 7fefefea3780, executi..._before_exec=None error_in_exec=None result=None>\n   2857                     return True\n   2858 \n   2859             # Flush softspace\n   2860             if softspace(sys.stdout, 0):\n\n...........................................................................\n/home/bob/.local/lib/python3.6/site-packages/IPython/core/interactiveshell.py in run_code(self=<ipykernel.zmqshell.ZMQInteractiveShell object>, code_obj=<code object <module> at 0x7fefefaad5d0, file \"<ipython-input-219-1ec2341e6fe4>\", line 10>, result=<ExecutionResult object at 7fefefea3780, executi..._before_exec=None error_in_exec=None result=None>)\n   2905         outflag = True  # happens in more places, so it's easier as default\n   2906         try:\n   2907             try:\n   2908                 self.hooks.pre_run_code_hook()\n   2909                 #rprint('Running code', repr(code_obj)) # dbg\n-> 2910                 exec(code_obj, self.user_global_ns, self.user_ns)\n        code_obj = <code object <module> at 0x7fefefaad5d0, file \"<ipython-input-219-1ec2341e6fe4>\", line 10>\n        self.user_global_ns = {'CountVectorizer': <class 'sklearn.feature_extraction.text.CountVectorizer'>, 'In': ['', 'x_train', 'fail here', \"import numpy as np\\nimport matplotlib.pyplot as p...lib', 'inline')\\n\\npd.options.display.max_rows = 10\", \"multi = pd.read_csv('data/multipleChoiceResponse...e:', multi.shape)\\nprint('free form:', free.shape)\", 'multi.columns', \"get_ipython().system('head data/schema.csv')\", 'numeric_column_names = multi.describe().columns\\nprint(numeric_column_names)', \"for col in numeric_column_names:\\n    print(col, '# not NaNs:', sum(multi[col].isnull()))\", 'print(multi.GenderSelect.value_counts())', \"multi.GenderSelect.value_counts().plot(kind='bar');#, legend=True);\", 'print(multi.Country.value_counts())', 'print(multi.Age.value_counts());', 'try:\\n    sns.distplot(multi.Age);\\nexcept ValueError as e:\\n    print(e)', 'sns.distplot(multi.Age[multi.Age.notnull()]);', 'try:\\n    sns.distplot(multi.CompensationAmount[m....notnull()]);\\nexcept TypeError as e:\\n    print(e)', 'multi[:20].CompensationAmount.apply(lambda x: print(x, type(x)));', 'multi[:0].CompensationAmount.convert_objects(convert_numeric=True)', \"try:\\n    pd.to_numeric(multi.CompensationAmount,...ors='raise')\\nexcept ValueError as e:\\n    print(e)\", \"temp = pd.to_numeric(multi.CompensationAmount.st...unt.iloc[10364:10374], 'new': temp[10364:10374]})\", ...], 'LinearRegression': <class 'sklearn.linear_model.base.LinearRegression'>, 'OneHotEncoder': <class 'sklearn.preprocessing.data.OneHotEncoder'>, 'Out': {5: Index(['GenderSelect', 'Country', 'Age', 'Employ...gOpportunity'],\n      dtype='object', length=228), 17: Series([], Name: CompensationAmount, dtype: object), 19:               new    original\n10364         nan ...0000.00      130000\n10373    90000.00       90000, 23:    Unnamed: 0 originCountry  exchangeRate\n0     ...   0.01\n9          10           CNY          0.15, 26:                exchangeRate\noriginCountry       ...                 0.01\nCNY                    0.15, 28:       GenderSelect        Country   Age  \\\n3    ...    NaN     10000.00  \n\n[4374 rows x 229 columns], 30: {'SPL'}, 32: 3       250000.00\n8        64184.80\n9        208...\nName: compensation, Length: 4374, dtype: float64, 34:        CompensationAmount   compensation Compens...           United States  \n\n[20 rows x 4 columns], 35: <pandas.io.formats.style.Styler object>, ...}, 'Pipeline': <class 'sklearn.pipeline.Pipeline'>, 'TextToOneHot': <function TextToOneHot>, '_':         Age        Country                   Job...    0               0  \n\n[3061 rows x 23 columns], '_100': [('a', ''), ('a', ','), ('b', ''), ('b', ','), ('c', ''), ('c', ','), ('e', ''), ('e', ','), ('f', ''), ('f', ','), ('g', ''), ('g', ','), ('k', ''), ('k', ','), ('n', ''), ('n', ','), ('o', ''), ('o', ','), ('p', ''), ('p', ','), ...], '_102': ['arxiv', 'blogs', 'book', 'college', 'communities', 'community', 'company', 'conferences', 'courses', 'documentation', 'friends', 'internal', 'kaggle', 'mentoring', 'network', 'newsletters', 'non', 'official', 'online', 'other', ...], ...}\n        self.user_ns = {'CountVectorizer': <class 'sklearn.feature_extraction.text.CountVectorizer'>, 'In': ['', 'x_train', 'fail here', \"import numpy as np\\nimport matplotlib.pyplot as p...lib', 'inline')\\n\\npd.options.display.max_rows = 10\", \"multi = pd.read_csv('data/multipleChoiceResponse...e:', multi.shape)\\nprint('free form:', free.shape)\", 'multi.columns', \"get_ipython().system('head data/schema.csv')\", 'numeric_column_names = multi.describe().columns\\nprint(numeric_column_names)', \"for col in numeric_column_names:\\n    print(col, '# not NaNs:', sum(multi[col].isnull()))\", 'print(multi.GenderSelect.value_counts())', \"multi.GenderSelect.value_counts().plot(kind='bar');#, legend=True);\", 'print(multi.Country.value_counts())', 'print(multi.Age.value_counts());', 'try:\\n    sns.distplot(multi.Age);\\nexcept ValueError as e:\\n    print(e)', 'sns.distplot(multi.Age[multi.Age.notnull()]);', 'try:\\n    sns.distplot(multi.CompensationAmount[m....notnull()]);\\nexcept TypeError as e:\\n    print(e)', 'multi[:20].CompensationAmount.apply(lambda x: print(x, type(x)));', 'multi[:0].CompensationAmount.convert_objects(convert_numeric=True)', \"try:\\n    pd.to_numeric(multi.CompensationAmount,...ors='raise')\\nexcept ValueError as e:\\n    print(e)\", \"temp = pd.to_numeric(multi.CompensationAmount.st...unt.iloc[10364:10374], 'new': temp[10364:10374]})\", ...], 'LinearRegression': <class 'sklearn.linear_model.base.LinearRegression'>, 'OneHotEncoder': <class 'sklearn.preprocessing.data.OneHotEncoder'>, 'Out': {5: Index(['GenderSelect', 'Country', 'Age', 'Employ...gOpportunity'],\n      dtype='object', length=228), 17: Series([], Name: CompensationAmount, dtype: object), 19:               new    original\n10364         nan ...0000.00      130000\n10373    90000.00       90000, 23:    Unnamed: 0 originCountry  exchangeRate\n0     ...   0.01\n9          10           CNY          0.15, 26:                exchangeRate\noriginCountry       ...                 0.01\nCNY                    0.15, 28:       GenderSelect        Country   Age  \\\n3    ...    NaN     10000.00  \n\n[4374 rows x 229 columns], 30: {'SPL'}, 32: 3       250000.00\n8        64184.80\n9        208...\nName: compensation, Length: 4374, dtype: float64, 34:        CompensationAmount   compensation Compens...           United States  \n\n[20 rows x 4 columns], 35: <pandas.io.formats.style.Styler object>, ...}, 'Pipeline': <class 'sklearn.pipeline.Pipeline'>, 'TextToOneHot': <function TextToOneHot>, '_':         Age        Country                   Job...    0               0  \n\n[3061 rows x 23 columns], '_100': [('a', ''), ('a', ','), ('b', ''), ('b', ','), ('c', ''), ('c', ','), ('e', ''), ('e', ','), ('f', ''), ('f', ','), ('g', ''), ('g', ','), ('k', ''), ('k', ','), ('n', ''), ('n', ','), ('o', ''), ('o', ','), ('p', ''), ('p', ','), ...], '_102': ['arxiv', 'blogs', 'book', 'college', 'communities', 'community', 'company', 'conferences', 'courses', 'documentation', 'friends', 'internal', 'kaggle', 'mentoring', 'network', 'newsletters', 'non', 'official', 'online', 'other', ...], ...}\n   2911             finally:\n   2912                 # Reset our crash handler in place\n   2913                 sys.excepthook = old_excepthook\n   2914         except SystemExit as e:\n\n...........................................................................\n/home/bob/gits/kaggle_survey-17/<ipython-input-219-1ec2341e6fe4> in <module>()\n      5 pipeline = Pipeline([\n      6             ('features', OneHotEncoder()),\n      7             ('clf', LinearRegression())\n      8         ])\n      9 \n---> 10 cross_val_score(pipeline, x_train, y_train, cv=3, n_jobs=3)\n\n...........................................................................\n/home/bob/.local/lib/python3.6/site-packages/sklearn/model_selection/_validation.py in cross_val_score(estimator=Pipeline(memory=None,\n     steps=[('features', O...fit_intercept=True, n_jobs=1, normalize=False))]), X=        Age        Country                   Job...    0               0  \n\n[3061 rows x 23 columns], y=       Compensation\n8416       19808.18\n3587    ...0.00\n10373      74131.92\n\n[3061 rows x 1 columns], groups=None, scoring=None, cv=3, n_jobs=3, verbose=0, fit_params=None, pre_dispatch='2*n_jobs')\n    337     cv_results = cross_validate(estimator=estimator, X=X, y=y, groups=groups,\n    338                                 scoring={'score': scorer}, cv=cv,\n    339                                 return_train_score=False,\n    340                                 n_jobs=n_jobs, verbose=verbose,\n    341                                 fit_params=fit_params,\n--> 342                                 pre_dispatch=pre_dispatch)\n        pre_dispatch = '2*n_jobs'\n    343     return cv_results['test_score']\n    344 \n    345 \n    346 def _fit_and_score(estimator, X, y, scorer, train, test, verbose,\n\n...........................................................................\n/home/bob/.local/lib/python3.6/site-packages/sklearn/model_selection/_validation.py in cross_validate(estimator=Pipeline(memory=None,\n     steps=[('features', O...fit_intercept=True, n_jobs=1, normalize=False))]), X=        Age        Country                   Job...    0               0  \n\n[3061 rows x 23 columns], y=       Compensation\n8416       19808.18\n3587    ...0.00\n10373      74131.92\n\n[3061 rows x 1 columns], groups=None, scoring={'score': <function _passthrough_scorer>}, cv=KFold(n_splits=3, random_state=None, shuffle=False), n_jobs=3, verbose=0, fit_params=None, pre_dispatch='2*n_jobs', return_train_score=False)\n    201     scores = parallel(\n    202         delayed(_fit_and_score)(\n    203             clone(estimator), X, y, scorers, train, test, verbose, None,\n    204             fit_params, return_train_score=return_train_score,\n    205             return_times=True)\n--> 206         for train, test in cv.split(X, y, groups))\n        cv.split = <bound method _BaseKFold.split of KFold(n_splits=3, random_state=None, shuffle=False)>\n        X =         Age        Country                   Job...    0               0  \n\n[3061 rows x 23 columns]\n        y =        Compensation\n8416       19808.18\n3587    ...0.00\n10373      74131.92\n\n[3061 rows x 1 columns]\n        groups = None\n    207 \n    208     if return_train_score:\n    209         train_scores, test_scores, fit_times, score_times = zip(*scores)\n    210         train_scores = _aggregate_score_dicts(train_scores)\n\n...........................................................................\n/home/bob/.local/lib/python3.6/site-packages/sklearn/externals/joblib/parallel.py in __call__(self=Parallel(n_jobs=3), iterable=<generator object cross_validate.<locals>.<genexpr>>)\n    784             if pre_dispatch == \"all\" or n_jobs == 1:\n    785                 # The iterable was consumed all at once by the above for loop.\n    786                 # No need to wait for async callbacks to trigger to\n    787                 # consumption.\n    788                 self._iterating = False\n--> 789             self.retrieve()\n        self.retrieve = <bound method Parallel.retrieve of Parallel(n_jobs=3)>\n    790             # Make sure that we get a last message telling us we are done\n    791             elapsed_time = time.time() - self._start_time\n    792             self._print('Done %3i out of %3i | elapsed: %s finished',\n    793                         (len(self._output), len(self._output),\n\n---------------------------------------------------------------------------\nSub-process traceback:\n---------------------------------------------------------------------------\nValueError                                         Fri Nov 17 08:51:16 2017\nPID: 1852                                    Python 3.6.3: /usr/bin/python3\n...........................................................................\n/home/bob/.local/lib/python3.6/site-packages/sklearn/externals/joblib/parallel.py in __call__(self=<sklearn.externals.joblib.parallel.BatchedCalls object>)\n    126     def __init__(self, iterator_slice):\n    127         self.items = list(iterator_slice)\n    128         self._size = len(self.items)\n    129 \n    130     def __call__(self):\n--> 131         return [func(*args, **kwargs) for func, args, kwargs in self.items]\n        self.items = [(<function _fit_and_score>, (Pipeline(memory=None,\n     steps=[('features', O...fit_intercept=True, n_jobs=1, normalize=False))]),         Age        Country                   Job...    0               0  \n\n[3061 rows x 23 columns],        Compensation\n8416       19808.18\n3587    ...0.00\n10373      74131.92\n\n[3061 rows x 1 columns], {'score': <function _passthrough_scorer>}, array([1021, 1022, 1023, ..., 3058, 3059, 3060]), array([   0,    1,    2, ..., 1018, 1019, 1020]), 0, None, None), {'return_times': True, 'return_train_score': False})]\n    132 \n    133     def __len__(self):\n    134         return self._size\n    135 \n\n...........................................................................\n/home/bob/.local/lib/python3.6/site-packages/sklearn/externals/joblib/parallel.py in <listcomp>(.0=<list_iterator object>)\n    126     def __init__(self, iterator_slice):\n    127         self.items = list(iterator_slice)\n    128         self._size = len(self.items)\n    129 \n    130     def __call__(self):\n--> 131         return [func(*args, **kwargs) for func, args, kwargs in self.items]\n        func = <function _fit_and_score>\n        args = (Pipeline(memory=None,\n     steps=[('features', O...fit_intercept=True, n_jobs=1, normalize=False))]),         Age        Country                   Job...    0               0  \n\n[3061 rows x 23 columns],        Compensation\n8416       19808.18\n3587    ...0.00\n10373      74131.92\n\n[3061 rows x 1 columns], {'score': <function _passthrough_scorer>}, array([1021, 1022, 1023, ..., 3058, 3059, 3060]), array([   0,    1,    2, ..., 1018, 1019, 1020]), 0, None, None)\n        kwargs = {'return_times': True, 'return_train_score': False}\n    132 \n    133     def __len__(self):\n    134         return self._size\n    135 \n\n...........................................................................\n/home/bob/.local/lib/python3.6/site-packages/sklearn/model_selection/_validation.py in _fit_and_score(estimator=Pipeline(memory=None,\n     steps=[('features', O...fit_intercept=True, n_jobs=1, normalize=False))]), X=        Age        Country                   Job...    0               0  \n\n[3061 rows x 23 columns], y=       Compensation\n8416       19808.18\n3587    ...0.00\n10373      74131.92\n\n[3061 rows x 1 columns], scorer={'score': <function _passthrough_scorer>}, train=array([1021, 1022, 1023, ..., 3058, 3059, 3060]), test=array([   0,    1,    2, ..., 1018, 1019, 1020]), verbose=0, parameters=None, fit_params={}, return_train_score=False, return_parameters=False, return_n_test_samples=False, return_times=True, error_score='raise')\n    453 \n    454     try:\n    455         if y_train is None:\n    456             estimator.fit(X_train, **fit_params)\n    457         else:\n--> 458             estimator.fit(X_train, y_train, **fit_params)\n        estimator.fit = <bound method Pipeline.fit of Pipeline(memory=No...it_intercept=True, n_jobs=1, normalize=False))])>\n        X_train =         Age        Country                      ...    0               0  \n\n[2040 rows x 23 columns]\n        y_train =        Compensation\n7850       13725.60\n11322   ...0.00\n10373      74131.92\n\n[2040 rows x 1 columns]\n        fit_params = {}\n    459 \n    460     except Exception as e:\n    461         # Note fit time as time until error\n    462         fit_time = time.time() - start_time\n\n...........................................................................\n/home/bob/.local/lib/python3.6/site-packages/sklearn/pipeline.py in fit(self=Pipeline(memory=None,\n     steps=[('features', O...fit_intercept=True, n_jobs=1, normalize=False))]), X=        Age        Country                      ...    0               0  \n\n[2040 rows x 23 columns], y=       Compensation\n7850       13725.60\n11322   ...0.00\n10373      74131.92\n\n[2040 rows x 1 columns], **fit_params={})\n    243         Returns\n    244         -------\n    245         self : Pipeline\n    246             This estimator\n    247         \"\"\"\n--> 248         Xt, fit_params = self._fit(X, y, **fit_params)\n        Xt = undefined\n        fit_params = {}\n        self._fit = <bound method Pipeline._fit of Pipeline(memory=N...it_intercept=True, n_jobs=1, normalize=False))])>\n        X =         Age        Country                      ...    0               0  \n\n[2040 rows x 23 columns]\n        y =        Compensation\n7850       13725.60\n11322   ...0.00\n10373      74131.92\n\n[2040 rows x 1 columns]\n    249         if self._final_estimator is not None:\n    250             self._final_estimator.fit(Xt, y, **fit_params)\n    251         return self\n    252 \n\n...........................................................................\n/home/bob/.local/lib/python3.6/site-packages/sklearn/pipeline.py in _fit(self=Pipeline(memory=None,\n     steps=[('features', O...fit_intercept=True, n_jobs=1, normalize=False))]), X=        Age        Country                      ...    0               0  \n\n[2040 rows x 23 columns], y=       Compensation\n7850       13725.60\n11322   ...0.00\n10373      74131.92\n\n[2040 rows x 1 columns], **fit_params={})\n    208                 else:\n    209                     cloned_transformer = clone(transformer)\n    210                 # Fit or load from cache the current transfomer\n    211                 Xt, fitted_transformer = fit_transform_one_cached(\n    212                     cloned_transformer, None, Xt, y,\n--> 213                     **fit_params_steps[name])\n        fit_params_steps = {'clf': {}, 'features': {}}\n        name = 'features'\n    214                 # Replace the transformer of the step with the fitted\n    215                 # transformer. This is necessary when loading the transformer\n    216                 # from the cache.\n    217                 self.steps[step_idx] = (name, fitted_transformer)\n\n...........................................................................\n/home/bob/.local/lib/python3.6/site-packages/sklearn/externals/joblib/memory.py in __call__(self=NotMemorizedFunc(func=<function _fit_transform_one at 0x7feff26b1840>), *args=(OneHotEncoder(categorical_features='all', dtype=...le_unknown='error', n_values='auto', sparse=True), None,         Age        Country                      ...    0               0  \n\n[2040 rows x 23 columns],        Compensation\n7850       13725.60\n11322   ...0.00\n10373      74131.92\n\n[2040 rows x 1 columns]), **kwargs={})\n    357     # Should be a light as possible (for speed)\n    358     def __init__(self, func):\n    359         self.func = func\n    360 \n    361     def __call__(self, *args, **kwargs):\n--> 362         return self.func(*args, **kwargs)\n        self.func = <function _fit_transform_one>\n        args = (OneHotEncoder(categorical_features='all', dtype=...le_unknown='error', n_values='auto', sparse=True), None,         Age        Country                      ...    0               0  \n\n[2040 rows x 23 columns],        Compensation\n7850       13725.60\n11322   ...0.00\n10373      74131.92\n\n[2040 rows x 1 columns])\n        kwargs = {}\n    363 \n    364     def call_and_shelve(self, *args, **kwargs):\n    365         return NotMemorizedResult(self.func(*args, **kwargs))\n    366 \n\n...........................................................................\n/home/bob/.local/lib/python3.6/site-packages/sklearn/pipeline.py in _fit_transform_one(transformer=OneHotEncoder(categorical_features='all', dtype=...le_unknown='error', n_values='auto', sparse=True), weight=None, X=        Age        Country                      ...    0               0  \n\n[2040 rows x 23 columns], y=       Compensation\n7850       13725.60\n11322   ...0.00\n10373      74131.92\n\n[2040 rows x 1 columns], **fit_params={})\n    576 \n    577 \n    578 def _fit_transform_one(transformer, weight, X, y,\n    579                        **fit_params):\n    580     if hasattr(transformer, 'fit_transform'):\n--> 581         res = transformer.fit_transform(X, y, **fit_params)\n        res = undefined\n        transformer.fit_transform = <bound method OneHotEncoder.fit_transform of One...e_unknown='error', n_values='auto', sparse=True)>\n        X =         Age        Country                      ...    0               0  \n\n[2040 rows x 23 columns]\n        y =        Compensation\n7850       13725.60\n11322   ...0.00\n10373      74131.92\n\n[2040 rows x 1 columns]\n        fit_params = {}\n    582     else:\n    583         res = transformer.fit(X, y, **fit_params).transform(X)\n    584     # if we have a weight for this transformer, multiply output\n    585     if weight is None:\n\n...........................................................................\n/home/bob/.local/lib/python3.6/site-packages/sklearn/preprocessing/data.py in fit_transform(self=OneHotEncoder(categorical_features='all', dtype=...le_unknown='error', n_values='auto', sparse=True), X=        Age        Country                      ...    0               0  \n\n[2040 rows x 23 columns], y=       Compensation\n7850       13725.60\n11322   ...0.00\n10373      74131.92\n\n[2040 rows x 1 columns])\n   2014         ----------\n   2015         X : array-like, shape [n_samples, n_feature]\n   2016             Input array of type int.\n   2017         \"\"\"\n   2018         return _transform_selected(X, self._fit_transform,\n-> 2019                                    self.categorical_features, copy=True)\n        self.categorical_features = 'all'\n   2020 \n   2021     def _transform(self, X):\n   2022         \"\"\"Assumes X contains only categorical features.\"\"\"\n   2023         X = check_array(X, dtype=np.int)\n\n...........................................................................\n/home/bob/.local/lib/python3.6/site-packages/sklearn/preprocessing/data.py in _transform_selected(X=        Age        Country                      ...    0               0  \n\n[2040 rows x 23 columns], transform=<bound method OneHotEncoder._fit_transform of On...e_unknown='error', n_values='auto', sparse=True)>, selected='all', copy=True)\n   1804 \n   1805     Returns\n   1806     -------\n   1807     X : array or sparse matrix, shape=(n_samples, n_features_new)\n   1808     \"\"\"\n-> 1809     X = check_array(X, accept_sparse='csc', copy=copy, dtype=FLOAT_DTYPES)\n        X =         Age        Country                      ...    0               0  \n\n[2040 rows x 23 columns]\n        copy = True\n   1810 \n   1811     if isinstance(selected, six.string_types) and selected == \"all\":\n   1812         return transform(X)\n   1813 \n\n...........................................................................\n/home/bob/.local/lib/python3.6/site-packages/sklearn/utils/validation.py in check_array(array=        Age        Country                      ...    0               0  \n\n[2040 rows x 23 columns], accept_sparse='csc', dtype=<class 'numpy.float64'>, order=None, copy=True, force_all_finite=True, ensure_2d=True, allow_nd=False, ensure_min_samples=1, ensure_min_features=1, warn_on_dtype=False, estimator=None)\n    428 \n    429     if sp.issparse(array):\n    430         array = _ensure_sparse_format(array, accept_sparse, dtype, copy,\n    431                                       force_all_finite)\n    432     else:\n--> 433         array = np.array(array, dtype=dtype, order=order, copy=copy)\n        array =         Age        Country                      ...    0               0  \n\n[2040 rows x 23 columns]\n        dtype = <class 'numpy.float64'>\n        order = None\n        copy = True\n    434 \n    435         if ensure_2d:\n    436             if array.ndim == 1:\n    437                 raise ValueError(\n\nValueError: could not convert string to float: 'Male'\n___________________________________________________________________________"
     ]
    }
   ],
   "source": [
    "from sklearn.pipeline import Pipeline\n",
    "from sklearn.linear_model import LinearRegression\n",
    "from sklearn.model_selection import cross_val_score\n",
    "\n",
    "pipeline = Pipeline([\n",
    "            ('features', OneHotEncoder()),\n",
    "            ('clf', LinearRegression())\n",
    "        ])\n",
    "\n",
    "cross_val_score(pipeline, x_train, y_train, cv=3, n_jobs=3)\n"
   ]
  },
  {
   "cell_type": "markdown",
   "metadata": {},
   "source": [
    "-----------------------"
   ]
  },
  {
   "cell_type": "markdown",
   "metadata": {},
   "source": [
    "-----------------------"
   ]
  },
  {
   "cell_type": "markdown",
   "metadata": {},
   "source": [
    "Съществен проблем е, че числовите данни са оскъдни [числови колони](#numeric_column_names), а малкото които са включени не са особено свързани с размера компенсацията. Например категориите започващи с 'LearningCategory' се отнасят към въпроси от рода на:\n",
    "**What percentage of your current machine learning / data science training falls under each category? (Total must equal 100%)**\n",
    "Като всяка колкона съответества на процент за конкретна категория от:\n",
    " * SelftTaught\n",
    " * OnlineCourses\n",
    " * Work\n",
    " * University\n",
    " * Kaggle\n",
    " * Other\n",
    "\n",
    "Съмнявам се, че оценката на респондентите за източника им на познание в процени е много прецизна - например разликата между 30% и 33% едва ли разликата е обективна. Мисля, че групирането на тези \"процентни\" категории данни в една категория отговаряща на въпроса **Which category has contributed the most to your current ML learning/training?**. "
   ]
  },
  {
   "cell_type": "markdown",
   "metadata": {},
   "source": [
    "-----------------------"
   ]
  },
  {
   "cell_type": "markdown",
   "metadata": {},
   "source": [
    "-----------------------"
   ]
  },
  {
   "cell_type": "markdown",
   "metadata": {},
   "source": [
    "-----------------------"
   ]
  },
  {
   "cell_type": "markdown",
   "metadata": {},
   "source": [
    "-----------------------"
   ]
  },
  {
   "cell_type": "code",
   "execution_count": null,
   "metadata": {
    "collapsed": true
   },
   "outputs": [],
   "source": [
    "# for column in ['Age', 'Country', 'Job', 'Platform', 'Sex']:\n",
    "#     TextToOneHot()\n",
    "\n",
    "# TextToOneHot(source_df, target_feature, categories=None,\\\n",
    "#                  separator=',', fillna='NA', drop_target_at_fin=False):"
   ]
  },
  {
   "cell_type": "code",
   "execution_count": null,
   "metadata": {
    "collapsed": false
   },
   "outputs": [],
   "source": [
    "print(x_train['Platform'].index, x_train['Platform'].nonzero()[0])"
   ]
  },
  {
   "cell_type": "code",
   "execution_count": null,
   "metadata": {
    "collapsed": false
   },
   "outputs": [],
   "source": [
    "print('counts', x_train.Sex.value_counts(), '\\n\\nzeros', len(x_train.Sex.nonzero()))"
   ]
  },
  {
   "cell_type": "code",
   "execution_count": null,
   "metadata": {
    "collapsed": false
   },
   "outputs": [],
   "source": [
    "numeric_column_names = x_train.describe().columns\n",
    "print(numeric_column_names)"
   ]
  },
  {
   "cell_type": "code",
   "execution_count": null,
   "metadata": {
    "collapsed": true
   },
   "outputs": [],
   "source": []
  }
 ],
 "metadata": {
  "kernelspec": {
   "display_name": "Python 3",
   "language": "python",
   "name": "python3"
  },
  "language_info": {
   "codemirror_mode": {
    "name": "ipython",
    "version": 3
   },
   "file_extension": ".py",
   "mimetype": "text/x-python",
   "name": "python",
   "nbconvert_exporter": "python",
   "pygments_lexer": "ipython3",
   "version": "3.6.3"
  }
 },
 "nbformat": 4,
 "nbformat_minor": 2
}
