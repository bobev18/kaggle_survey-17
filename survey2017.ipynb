{
 "cells": [
  {
   "cell_type": "code",
   "execution_count": 3,
   "metadata": {
    "collapsed": false
   },
   "outputs": [],
   "source": [
    "import numpy as np\n",
    "import matplotlib.pyplot as plt\n",
    "import pandas as pd\n",
    "import mglearn\n",
    "from IPython.display import display\n",
    "\n",
    "#%matplotlib notebook\n",
    "\n",
    "import sys\n",
    "import sklearn\n",
    "#import pandas as pd\n",
    "import matplotlib as mpl\n",
    "#import matplotlib.pyplot as plt\n",
    "import seaborn as sns\n",
    "\n",
    "import re\n",
    "\n",
    "%matplotlib inline\n",
    "\n",
    "pd.options.display.max_rows = 10"
   ]
  },
  {
   "cell_type": "markdown",
   "metadata": {},
   "source": [
    "### Зареждане и проверка на формата на данните:"
   ]
  },
  {
   "cell_type": "code",
   "execution_count": 4,
   "metadata": {
    "collapsed": false
   },
   "outputs": [
    {
     "name": "stdout",
     "output_type": "stream",
     "text": [
      "multiple choice: (16716, 228)\n",
      "free form: (16716, 62)\n"
     ]
    }
   ],
   "source": [
    "multi = pd.read_csv('data/multipleChoiceResponses.csv', encoding='latin_1', low_memory=False)\n",
    "free  = pd.read_csv('data/freeformResponses.csv', encoding='latin_1', low_memory=False)\n",
    "print('multiple choice:', multi.shape)\n",
    "print('free form:', free.shape)"
   ]
  },
  {
   "cell_type": "markdown",
   "metadata": {},
   "source": [
    "Ще започна с `multiple coice` данните, защото ми се вижда по-лесно."
   ]
  },
  {
   "cell_type": "markdown",
   "metadata": {
    "collapsed": true
   },
   "source": [
    "### Наименования на колоните"
   ]
  },
  {
   "cell_type": "code",
   "execution_count": 5,
   "metadata": {
    "collapsed": false
   },
   "outputs": [
    {
     "data": {
      "text/plain": [
       "Index(['GenderSelect', 'Country', 'Age', 'EmploymentStatus', 'StudentStatus',\n",
       "       'LearningDataScience', 'CodeWriter', 'CareerSwitcher',\n",
       "       'CurrentJobTitleSelect', 'TitleFit',\n",
       "       ...\n",
       "       'JobFactorExperienceLevel', 'JobFactorDepartment', 'JobFactorTitle',\n",
       "       'JobFactorCompanyFunding', 'JobFactorImpact', 'JobFactorRemote',\n",
       "       'JobFactorIndustry', 'JobFactorLeaderReputation', 'JobFactorDiversity',\n",
       "       'JobFactorPublishingOpportunity'],\n",
       "      dtype='object', length=228)"
      ]
     },
     "execution_count": 5,
     "metadata": {},
     "output_type": "execute_result"
    }
   ],
   "source": [
    "multi.columns"
   ]
  },
  {
   "cell_type": "markdown",
   "metadata": {},
   "source": [
    "Всъщност имаме фаил с информация за колоните. Да не забравя, че тук може да се изпълняват bash команди."
   ]
  },
  {
   "cell_type": "code",
   "execution_count": 6,
   "metadata": {
    "collapsed": false
   },
   "outputs": [
    {
     "name": "stdout",
     "output_type": "stream",
     "text": [
      "Column,Question,Asked\r",
      "\r\n",
      "GenderSelect,Select your gender identity. - Selected Choice,All\r",
      "\r\n",
      "GenderFreeForm,Select your gender identity. - A different identity - Text,All\r",
      "\r\n",
      "Country,Select the country you currently live in.,All\r",
      "\r\n",
      "Age,What's your age?,All\r",
      "\r\n",
      "EmploymentStatus,What's your current employment status?,All\r",
      "\r\n",
      "StudentStatus,Are you currently enrolled as a student at a degree granting school?,Non-worker\r",
      "\r\n",
      "LearningDataScience,Are you currently focused on learning data science skills either formally or informally?,Non-worker\r",
      "\r\n",
      "KaggleMotivationFreeForm,What's your motivation for being a Kaggle user?,Non-switcher\r",
      "\r\n",
      "CodeWriter,\"Do you write code to analyze data in your current job, freelance contracts, or most recent job if retired?\",Worker1\r",
      "\r\n"
     ]
    }
   ],
   "source": [
    "!head data/schema.csv"
   ]
  },
  {
   "cell_type": "markdown",
   "metadata": {},
   "source": [
    "schema.csv файла съдържа информация за:\n",
    " * наименованието на колоната използвано в другите файлове\n",
    " * въпроса зададен в анкетата, на който съответстват отговорите в данните\n",
    " * дали въпроса е за \"множествен избор\" или в свободна форма\n",
    " * дали въпроса е зададен на определена подгрупа респонденти"
   ]
  },
  {
   "cell_type": "markdown",
   "metadata": {},
   "source": [
    "Повечето от данните са категории а не числа 😣."
   ]
  },
  {
   "cell_type": "markdown",
   "metadata": {},
   "source": [
    "### Статистика на избрани колони:"
   ]
  },
  {
   "cell_type": "markdown",
   "metadata": {},
   "source": [
    "#### Пол"
   ]
  },
  {
   "cell_type": "code",
   "execution_count": 7,
   "metadata": {
    "collapsed": false
   },
   "outputs": [
    {
     "name": "stdout",
     "output_type": "stream",
     "text": [
      "Male                                                 13610\n",
      "Female                                                2778\n",
      "A different identity                                   159\n",
      "Non-binary, genderqueer, or gender non-conforming       74\n",
      "Name: GenderSelect, dtype: int64\n"
     ]
    }
   ],
   "source": [
    "print(multi.GenderSelect.value_counts())"
   ]
  },
  {
   "cell_type": "markdown",
   "metadata": {},
   "source": [
    "Може и графгики:"
   ]
  },
  {
   "cell_type": "code",
   "execution_count": 8,
   "metadata": {
    "collapsed": false
   },
   "outputs": [
    {
     "data": {
      "image/png": "[encoded data removed]",
      "text/plain": [
       "<matplotlib.figure.Figure at 0x7fc0dff699b0>"
      ]
     },
     "metadata": {},
     "output_type": "display_data"
    }
   ],
   "source": [
    "multi.GenderSelect.value_counts().plot(kind='bar');#, legend=True);"
   ]
  },
  {
   "cell_type": "markdown",
   "metadata": {},
   "source": [
    "#### Държава:"
   ]
  },
  {
   "cell_type": "code",
   "execution_count": 9,
   "metadata": {
    "collapsed": false
   },
   "outputs": [
    {
     "name": "stdout",
     "output_type": "stream",
     "text": [
      "United States     4197\n",
      "India             2704\n",
      "Other             1023\n",
      "Russia             578\n",
      "United Kingdom     535\n",
      "                  ... \n",
      "Kenya               59\n",
      "Belarus             54\n",
      "Czech Republic      53\n",
      "Norway              53\n",
      "Chile               51\n",
      "Name: Country, Length: 52, dtype: int64\n"
     ]
    }
   ],
   "source": [
    "print(multi.Country.value_counts())"
   ]
  },
  {
   "cell_type": "markdown",
   "metadata": {},
   "source": [
    "Целта на курса е догодина България да е в статистиката 😆"
   ]
  },
  {
   "cell_type": "markdown",
   "metadata": {},
   "source": [
    "#### Възраст:"
   ]
  },
  {
   "cell_type": "code",
   "execution_count": 10,
   "metadata": {
    "collapsed": false
   },
   "outputs": [
    {
     "name": "stdout",
     "output_type": "stream",
     "text": [
      "25.0    969\n",
      "24.0    898\n",
      "26.0    886\n",
      "27.0    842\n",
      "23.0    839\n",
      "       ... \n",
      "83.0      1\n",
      "94.0      1\n",
      "10.0      1\n",
      "82.0      1\n",
      "9.0       1\n",
      "Name: Age, Length: 84, dtype: int64\n"
     ]
    }
   ],
   "source": [
    "print(multi.Age.value_counts());"
   ]
  },
  {
   "cell_type": "markdown",
   "metadata": {},
   "source": [
    "Интересно - точно десет от анкетираните са на 100 години 👴. Да видим и графично."
   ]
  },
  {
   "cell_type": "code",
   "execution_count": 11,
   "metadata": {
    "collapsed": false
   },
   "outputs": [
    {
     "ename": "ValueError",
     "evalue": "cannot convert float NaN to integer",
     "output_type": "error",
     "traceback": [
      "\u001b[0;31m---------------------------------------------------------------------------\u001b[0m",
      "\u001b[0;31mValueError\u001b[0m                                Traceback (most recent call last)",
      "\u001b[0;32m<ipython-input-11-ff4d40b726ec>\u001b[0m in \u001b[0;36m<module>\u001b[0;34m()\u001b[0m\n\u001b[0;32m----> 1\u001b[0;31m \u001b[0msns\u001b[0m\u001b[0;34m.\u001b[0m\u001b[0mdistplot\u001b[0m\u001b[0;34m(\u001b[0m\u001b[0mmulti\u001b[0m\u001b[0;34m.\u001b[0m\u001b[0mAge\u001b[0m\u001b[0;34m)\u001b[0m\u001b[0;34m;\u001b[0m\u001b[0;34m\u001b[0m\u001b[0m\n\u001b[0m",
      "\u001b[0;32m~/.local/lib/python3.6/site-packages/seaborn/distributions.py\u001b[0m in \u001b[0;36mdistplot\u001b[0;34m(a, bins, hist, kde, rug, fit, hist_kws, kde_kws, rug_kws, fit_kws, color, vertical, norm_hist, axlabel, label, ax)\u001b[0m\n\u001b[1;32m    210\u001b[0m     \u001b[0;32mif\u001b[0m \u001b[0mhist\u001b[0m\u001b[0;34m:\u001b[0m\u001b[0;34m\u001b[0m\u001b[0m\n\u001b[1;32m    211\u001b[0m         \u001b[0;32mif\u001b[0m \u001b[0mbins\u001b[0m \u001b[0;32mis\u001b[0m \u001b[0;32mNone\u001b[0m\u001b[0;34m:\u001b[0m\u001b[0;34m\u001b[0m\u001b[0m\n\u001b[0;32m--> 212\u001b[0;31m             \u001b[0mbins\u001b[0m \u001b[0;34m=\u001b[0m \u001b[0mmin\u001b[0m\u001b[0;34m(\u001b[0m\u001b[0m_freedman_diaconis_bins\u001b[0m\u001b[0;34m(\u001b[0m\u001b[0ma\u001b[0m\u001b[0;34m)\u001b[0m\u001b[0;34m,\u001b[0m \u001b[0;36m50\u001b[0m\u001b[0;34m)\u001b[0m\u001b[0;34m\u001b[0m\u001b[0m\n\u001b[0m\u001b[1;32m    213\u001b[0m         \u001b[0mhist_kws\u001b[0m\u001b[0;34m.\u001b[0m\u001b[0msetdefault\u001b[0m\u001b[0;34m(\u001b[0m\u001b[0;34m\"alpha\"\u001b[0m\u001b[0;34m,\u001b[0m \u001b[0;36m0.4\u001b[0m\u001b[0;34m)\u001b[0m\u001b[0;34m\u001b[0m\u001b[0m\n\u001b[1;32m    214\u001b[0m         \u001b[0mhist_kws\u001b[0m\u001b[0;34m.\u001b[0m\u001b[0msetdefault\u001b[0m\u001b[0;34m(\u001b[0m\u001b[0;34m\"normed\"\u001b[0m\u001b[0;34m,\u001b[0m \u001b[0mnorm_hist\u001b[0m\u001b[0;34m)\u001b[0m\u001b[0;34m\u001b[0m\u001b[0m\n",
      "\u001b[0;32m~/.local/lib/python3.6/site-packages/seaborn/distributions.py\u001b[0m in \u001b[0;36m_freedman_diaconis_bins\u001b[0;34m(a)\u001b[0m\n\u001b[1;32m     34\u001b[0m         \u001b[0;32mreturn\u001b[0m \u001b[0mint\u001b[0m\u001b[0;34m(\u001b[0m\u001b[0mnp\u001b[0m\u001b[0;34m.\u001b[0m\u001b[0msqrt\u001b[0m\u001b[0;34m(\u001b[0m\u001b[0ma\u001b[0m\u001b[0;34m.\u001b[0m\u001b[0msize\u001b[0m\u001b[0;34m)\u001b[0m\u001b[0;34m)\u001b[0m\u001b[0;34m\u001b[0m\u001b[0m\n\u001b[1;32m     35\u001b[0m     \u001b[0;32melse\u001b[0m\u001b[0;34m:\u001b[0m\u001b[0;34m\u001b[0m\u001b[0m\n\u001b[0;32m---> 36\u001b[0;31m         \u001b[0;32mreturn\u001b[0m \u001b[0mint\u001b[0m\u001b[0;34m(\u001b[0m\u001b[0mnp\u001b[0m\u001b[0;34m.\u001b[0m\u001b[0mceil\u001b[0m\u001b[0;34m(\u001b[0m\u001b[0;34m(\u001b[0m\u001b[0ma\u001b[0m\u001b[0;34m.\u001b[0m\u001b[0mmax\u001b[0m\u001b[0;34m(\u001b[0m\u001b[0;34m)\u001b[0m \u001b[0;34m-\u001b[0m \u001b[0ma\u001b[0m\u001b[0;34m.\u001b[0m\u001b[0mmin\u001b[0m\u001b[0;34m(\u001b[0m\u001b[0;34m)\u001b[0m\u001b[0;34m)\u001b[0m \u001b[0;34m/\u001b[0m \u001b[0mh\u001b[0m\u001b[0;34m)\u001b[0m\u001b[0;34m)\u001b[0m\u001b[0;34m\u001b[0m\u001b[0m\n\u001b[0m\u001b[1;32m     37\u001b[0m \u001b[0;34m\u001b[0m\u001b[0m\n\u001b[1;32m     38\u001b[0m \u001b[0;34m\u001b[0m\u001b[0m\n",
      "\u001b[0;31mValueError\u001b[0m: cannot convert float NaN to integer"
     ]
    },
    {
     "data": {
      "image/png": "[encoded data removed]",
      "text/plain": [
       "<matplotlib.figure.Figure at 0x7fc0dfc58828>"
      ]
     },
     "metadata": {},
     "output_type": "display_data"
    }
   ],
   "source": [
    "sns.distplot(multi.Age);"
   ]
  },
  {
   "cell_type": "markdown",
   "metadata": {},
   "source": [
    "Разбира се че ще има NaNs. Втори опит:"
   ]
  },
  {
   "cell_type": "code",
   "execution_count": 12,
   "metadata": {
    "collapsed": false
   },
   "outputs": [
    {
     "data": {
      "image/png": "[encoded data removed]",
      "text/plain": [
       "<matplotlib.figure.Figure at 0x7fc0dfb8cbe0>"
      ]
     },
     "metadata": {},
     "output_type": "display_data"
    }
   ],
   "source": [
    "sns.distplot(multi.Age[multi.Age.notnull()]);"
   ]
  },
  {
   "cell_type": "markdown",
   "metadata": {},
   "source": [
    "#### Заплати:"
   ]
  },
  {
   "cell_type": "code",
   "execution_count": 13,
   "metadata": {
    "collapsed": false
   },
   "outputs": [
    {
     "ename": "TypeError",
     "evalue": "unsupported operand type(s) for /: 'str' and 'int'",
     "output_type": "error",
     "traceback": [
      "\u001b[0;31m---------------------------------------------------------------------------\u001b[0m",
      "\u001b[0;31mTypeError\u001b[0m                                 Traceback (most recent call last)",
      "\u001b[0;32m<ipython-input-13-407747cf0d20>\u001b[0m in \u001b[0;36m<module>\u001b[0;34m()\u001b[0m\n\u001b[0;32m----> 1\u001b[0;31m \u001b[0msns\u001b[0m\u001b[0;34m.\u001b[0m\u001b[0mdistplot\u001b[0m\u001b[0;34m(\u001b[0m\u001b[0mmulti\u001b[0m\u001b[0;34m.\u001b[0m\u001b[0mCompensationAmount\u001b[0m\u001b[0;34m[\u001b[0m\u001b[0mmulti\u001b[0m\u001b[0;34m.\u001b[0m\u001b[0mCompensationAmount\u001b[0m\u001b[0;34m.\u001b[0m\u001b[0mnotnull\u001b[0m\u001b[0;34m(\u001b[0m\u001b[0;34m)\u001b[0m\u001b[0;34m]\u001b[0m\u001b[0;34m)\u001b[0m\u001b[0;34m;\u001b[0m\u001b[0;34m\u001b[0m\u001b[0m\n\u001b[0m",
      "\u001b[0;32m~/.local/lib/python3.6/site-packages/seaborn/distributions.py\u001b[0m in \u001b[0;36mdistplot\u001b[0;34m(a, bins, hist, kde, rug, fit, hist_kws, kde_kws, rug_kws, fit_kws, color, vertical, norm_hist, axlabel, label, ax)\u001b[0m\n\u001b[1;32m    193\u001b[0m             \u001b[0mline\u001b[0m\u001b[0;34m,\u001b[0m \u001b[0;34m=\u001b[0m \u001b[0max\u001b[0m\u001b[0;34m.\u001b[0m\u001b[0mplot\u001b[0m\u001b[0;34m(\u001b[0m\u001b[0;36m0\u001b[0m\u001b[0;34m,\u001b[0m \u001b[0ma\u001b[0m\u001b[0;34m.\u001b[0m\u001b[0mmean\u001b[0m\u001b[0;34m(\u001b[0m\u001b[0;34m)\u001b[0m\u001b[0;34m)\u001b[0m\u001b[0;34m\u001b[0m\u001b[0m\n\u001b[1;32m    194\u001b[0m         \u001b[0;32melse\u001b[0m\u001b[0;34m:\u001b[0m\u001b[0;34m\u001b[0m\u001b[0m\n\u001b[0;32m--> 195\u001b[0;31m             \u001b[0mline\u001b[0m\u001b[0;34m,\u001b[0m \u001b[0;34m=\u001b[0m \u001b[0max\u001b[0m\u001b[0;34m.\u001b[0m\u001b[0mplot\u001b[0m\u001b[0;34m(\u001b[0m\u001b[0ma\u001b[0m\u001b[0;34m.\u001b[0m\u001b[0mmean\u001b[0m\u001b[0;34m(\u001b[0m\u001b[0;34m)\u001b[0m\u001b[0;34m,\u001b[0m \u001b[0;36m0\u001b[0m\u001b[0;34m)\u001b[0m\u001b[0;34m\u001b[0m\u001b[0m\n\u001b[0m\u001b[1;32m    196\u001b[0m         \u001b[0mcolor\u001b[0m \u001b[0;34m=\u001b[0m \u001b[0mline\u001b[0m\u001b[0;34m.\u001b[0m\u001b[0mget_color\u001b[0m\u001b[0;34m(\u001b[0m\u001b[0;34m)\u001b[0m\u001b[0;34m\u001b[0m\u001b[0m\n\u001b[1;32m    197\u001b[0m         \u001b[0mline\u001b[0m\u001b[0;34m.\u001b[0m\u001b[0mremove\u001b[0m\u001b[0;34m(\u001b[0m\u001b[0;34m)\u001b[0m\u001b[0;34m\u001b[0m\u001b[0m\n",
      "\u001b[0;32m~/.local/lib/python3.6/site-packages/numpy/core/_methods.py\u001b[0m in \u001b[0;36m_mean\u001b[0;34m(a, axis, dtype, out, keepdims)\u001b[0m\n\u001b[1;32m     80\u001b[0m             \u001b[0mret\u001b[0m \u001b[0;34m=\u001b[0m \u001b[0mret\u001b[0m\u001b[0;34m.\u001b[0m\u001b[0mdtype\u001b[0m\u001b[0;34m.\u001b[0m\u001b[0mtype\u001b[0m\u001b[0;34m(\u001b[0m\u001b[0mret\u001b[0m \u001b[0;34m/\u001b[0m \u001b[0mrcount\u001b[0m\u001b[0;34m)\u001b[0m\u001b[0;34m\u001b[0m\u001b[0m\n\u001b[1;32m     81\u001b[0m     \u001b[0;32melse\u001b[0m\u001b[0;34m:\u001b[0m\u001b[0;34m\u001b[0m\u001b[0m\n\u001b[0;32m---> 82\u001b[0;31m         \u001b[0mret\u001b[0m \u001b[0;34m=\u001b[0m \u001b[0mret\u001b[0m \u001b[0;34m/\u001b[0m \u001b[0mrcount\u001b[0m\u001b[0;34m\u001b[0m\u001b[0m\n\u001b[0m\u001b[1;32m     83\u001b[0m \u001b[0;34m\u001b[0m\u001b[0m\n\u001b[1;32m     84\u001b[0m     \u001b[0;32mreturn\u001b[0m \u001b[0mret\u001b[0m\u001b[0;34m\u001b[0m\u001b[0m\n",
      "\u001b[0;31mTypeError\u001b[0m: unsupported operand type(s) for /: 'str' and 'int'"
     ]
    },
    {
     "data": {
      "image/png": "[encoded data removed]",
      "text/plain": [
       "<matplotlib.figure.Figure at 0x7fc0dfd5f198>"
      ]
     },
     "metadata": {},
     "output_type": "display_data"
    }
   ],
   "source": [
    "sns.distplot(multi.CompensationAmount[multi.CompensationAmount.notnull()]);"
   ]
  },
  {
   "cell_type": "markdown",
   "metadata": {},
   "source": [
    "Чудесно, сега и типа ще оправяме. След малко опити установих, че това е някаква легендарна структура, която миксира `float` за NaNs и `String` за числовите стойности:"
   ]
  },
  {
   "cell_type": "code",
   "execution_count": 14,
   "metadata": {
    "collapsed": false
   },
   "outputs": [
    {
     "name": "stdout",
     "output_type": "stream",
     "text": [
      "nan <class 'float'>\n",
      "nan <class 'float'>\n",
      "nan <class 'float'>\n",
      "250,000 <class 'str'>\n",
      "nan <class 'float'>\n",
      "nan <class 'float'>\n",
      "nan <class 'float'>\n",
      "nan <class 'float'>\n",
      "80000 <class 'str'>\n",
      "1200000 <class 'str'>\n",
      "nan <class 'float'>\n",
      "95,000 <class 'str'>\n",
      "nan <class 'float'>\n",
      "nan <class 'float'>\n",
      "1100000 <class 'str'>\n",
      "120,000 <class 'str'>\n",
      "nan <class 'float'>\n",
      "nan <class 'float'>\n",
      "nan <class 'float'>\n",
      "nan <class 'float'>\n"
     ]
    }
   ],
   "source": [
    "multi[:20].CompensationAmount.apply(lambda x: print(x, type(x)));"
   ]
  },
  {
   "cell_type": "markdown",
   "metadata": {},
   "source": [
    "Следващия ред по принцип работи, но дава \"FUTURE WARNING\" 😕! (Отрязването [:0] е за да демонстрирам Warning-a без да печатам данните.)"
   ]
  },
  {
   "cell_type": "code",
   "execution_count": 15,
   "metadata": {
    "collapsed": false
   },
   "outputs": [
    {
     "name": "stderr",
     "output_type": "stream",
     "text": [
      "/home/bob/.local/lib/python3.6/site-packages/ipykernel_launcher.py:1: FutureWarning: convert_objects is deprecated.  To re-infer data dtypes for object columns, use Series.infer_objects()\n",
      "For all other conversions use the data-type specific converters pd.to_datetime, pd.to_timedelta and pd.to_numeric.\n",
      "  \"\"\"Entry point for launching an IPython kernel.\n"
     ]
    },
    {
     "data": {
      "text/plain": [
       "Series([], Name: CompensationAmount, dtype: object)"
      ]
     },
     "execution_count": 15,
     "metadata": {},
     "output_type": "execute_result"
    }
   ],
   "source": [
    "multi[:0].CompensationAmount.convert_objects(convert_numeric=True)"
   ]
  },
  {
   "cell_type": "markdown",
   "metadata": {},
   "source": [
    "Ще пробвам да сменя типа по друг начин:"
   ]
  },
  {
   "cell_type": "code",
   "execution_count": 16,
   "metadata": {
    "collapsed": false
   },
   "outputs": [
    {
     "ename": "ValueError",
     "evalue": "Unable to parse string \"250,000\" at position 3",
     "output_type": "error",
     "traceback": [
      "\u001b[0;31m---------------------------------------------------------------------------\u001b[0m",
      "\u001b[0;31mValueError\u001b[0m                                Traceback (most recent call last)",
      "\u001b[0;32mpandas/_libs/src/inference.pyx\u001b[0m in \u001b[0;36mpandas._libs.lib.maybe_convert_numeric\u001b[0;34m()\u001b[0m\n",
      "\u001b[0;31mValueError\u001b[0m: Unable to parse string \"250,000\"",
      "\nDuring handling of the above exception, another exception occurred:\n",
      "\u001b[0;31mValueError\u001b[0m                                Traceback (most recent call last)",
      "\u001b[0;32m<ipython-input-16-f14f1b68338b>\u001b[0m in \u001b[0;36m<module>\u001b[0;34m()\u001b[0m\n\u001b[0;32m----> 1\u001b[0;31m \u001b[0mpd\u001b[0m\u001b[0;34m.\u001b[0m\u001b[0mto_numeric\u001b[0m\u001b[0;34m(\u001b[0m\u001b[0mmulti\u001b[0m\u001b[0;34m.\u001b[0m\u001b[0mCompensationAmount\u001b[0m\u001b[0;34m,\u001b[0m \u001b[0merrors\u001b[0m\u001b[0;34m=\u001b[0m\u001b[0;34m'raise'\u001b[0m\u001b[0;34m)\u001b[0m\u001b[0;34m\u001b[0m\u001b[0m\n\u001b[0m",
      "\u001b[0;32m~/.local/lib/python3.6/site-packages/pandas/core/tools/numeric.py\u001b[0m in \u001b[0;36mto_numeric\u001b[0;34m(arg, errors, downcast)\u001b[0m\n\u001b[1;32m    131\u001b[0m             \u001b[0mcoerce_numeric\u001b[0m \u001b[0;34m=\u001b[0m \u001b[0;32mFalse\u001b[0m \u001b[0;32mif\u001b[0m \u001b[0merrors\u001b[0m \u001b[0;32min\u001b[0m \u001b[0;34m(\u001b[0m\u001b[0;34m'ignore'\u001b[0m\u001b[0;34m,\u001b[0m \u001b[0;34m'raise'\u001b[0m\u001b[0;34m)\u001b[0m \u001b[0;32melse\u001b[0m \u001b[0;32mTrue\u001b[0m\u001b[0;34m\u001b[0m\u001b[0m\n\u001b[1;32m    132\u001b[0m             values = lib.maybe_convert_numeric(values, set(),\n\u001b[0;32m--> 133\u001b[0;31m                                                coerce_numeric=coerce_numeric)\n\u001b[0m\u001b[1;32m    134\u001b[0m \u001b[0;34m\u001b[0m\u001b[0m\n\u001b[1;32m    135\u001b[0m     \u001b[0;32mexcept\u001b[0m \u001b[0mException\u001b[0m\u001b[0;34m:\u001b[0m\u001b[0;34m\u001b[0m\u001b[0m\n",
      "\u001b[0;32mpandas/_libs/src/inference.pyx\u001b[0m in \u001b[0;36mpandas._libs.lib.maybe_convert_numeric\u001b[0;34m()\u001b[0m\n",
      "\u001b[0;31mValueError\u001b[0m: Unable to parse string \"250,000\" at position 3"
     ]
    }
   ],
   "source": [
    "pd.to_numeric(multi.CompensationAmount, errors='raise')"
   ]
  },
  {
   "cell_type": "markdown",
   "metadata": {},
   "source": [
    "Освен запетайка за хилядите, имаме още един чупещ символ - тире. Преди да презапишем в дата фрейма ще направим проверка."
   ]
  },
  {
   "cell_type": "code",
   "execution_count": 17,
   "metadata": {
    "collapsed": false
   },
   "outputs": [
    {
     "data": {
      "text/html": [
       "<div>\n",
       "<style scoped>\n",
       "    .dataframe tbody tr th:only-of-type {\n",
       "        vertical-align: middle;\n",
       "    }\n",
       "\n",
       "    .dataframe tbody tr th {\n",
       "        vertical-align: top;\n",
       "    }\n",
       "\n",
       "    .dataframe thead th {\n",
       "        text-align: right;\n",
       "    }\n",
       "</style>\n",
       "<table border=\"1\" class=\"dataframe\">\n",
       "  <thead>\n",
       "    <tr style=\"text-align: right;\">\n",
       "      <th></th>\n",
       "      <th>new</th>\n",
       "      <th>original</th>\n",
       "    </tr>\n",
       "  </thead>\n",
       "  <tbody>\n",
       "    <tr>\n",
       "      <th>10364</th>\n",
       "      <td>NaN</td>\n",
       "      <td>NaN</td>\n",
       "    </tr>\n",
       "    <tr>\n",
       "      <th>10365</th>\n",
       "      <td>NaN</td>\n",
       "      <td>-</td>\n",
       "    </tr>\n",
       "    <tr>\n",
       "      <th>10366</th>\n",
       "      <td>NaN</td>\n",
       "      <td>NaN</td>\n",
       "    </tr>\n",
       "    <tr>\n",
       "      <th>10367</th>\n",
       "      <td>NaN</td>\n",
       "      <td>NaN</td>\n",
       "    </tr>\n",
       "    <tr>\n",
       "      <th>10368</th>\n",
       "      <td>NaN</td>\n",
       "      <td>NaN</td>\n",
       "    </tr>\n",
       "    <tr>\n",
       "      <th>10369</th>\n",
       "      <td>NaN</td>\n",
       "      <td>NaN</td>\n",
       "    </tr>\n",
       "    <tr>\n",
       "      <th>10370</th>\n",
       "      <td>12000000.0</td>\n",
       "      <td>12,000,000</td>\n",
       "    </tr>\n",
       "    <tr>\n",
       "      <th>10371</th>\n",
       "      <td>NaN</td>\n",
       "      <td>NaN</td>\n",
       "    </tr>\n",
       "    <tr>\n",
       "      <th>10372</th>\n",
       "      <td>130000.0</td>\n",
       "      <td>130000</td>\n",
       "    </tr>\n",
       "    <tr>\n",
       "      <th>10373</th>\n",
       "      <td>90000.0</td>\n",
       "      <td>90000</td>\n",
       "    </tr>\n",
       "  </tbody>\n",
       "</table>\n",
       "</div>"
      ],
      "text/plain": [
       "              new    original\n",
       "10364         NaN         NaN\n",
       "10365         NaN           -\n",
       "10366         NaN         NaN\n",
       "10367         NaN         NaN\n",
       "10368         NaN         NaN\n",
       "10369         NaN         NaN\n",
       "10370  12000000.0  12,000,000\n",
       "10371         NaN         NaN\n",
       "10372    130000.0      130000\n",
       "10373     90000.0       90000"
      ]
     },
     "execution_count": 17,
     "metadata": {},
     "output_type": "execute_result"
    }
   ],
   "source": [
    "temp = pd.to_numeric(multi.CompensationAmount.str.replace(',', '').str.replace('-', ''), errors='raise')\n",
    "pd.DataFrame(data={'original': multi.CompensationAmount.iloc[10364:10374], 'new': temp[10364:10374]})"
   ]
  },
  {
   "cell_type": "markdown",
   "metadata": {},
   "source": [
    "Сега да омажем DataFrame-a"
   ]
  },
  {
   "cell_type": "code",
   "execution_count": 18,
   "metadata": {
    "collapsed": false
   },
   "outputs": [],
   "source": [
    "multi.CompensationAmount = pd.to_numeric(multi.CompensationAmount.str.replace(',', '').str.replace('-', ''), errors='raise')"
   ]
  },
  {
   "cell_type": "markdown",
   "metadata": {},
   "source": [
    "Графика"
   ]
  },
  {
   "cell_type": "code",
   "execution_count": 19,
   "metadata": {
    "collapsed": false
   },
   "outputs": [
    {
     "data": {
      "image/png": "[encoded data removed]",
      "text/plain": [
       "<matplotlib.figure.Figure at 0x7fc0dfc52a90>"
      ]
     },
     "metadata": {},
     "output_type": "display_data"
    }
   ],
   "source": [
    "sns.distplot(multi.CompensationAmount[multi.CompensationAmount.notnull()]);"
   ]
  },
  {
   "cell_type": "markdown",
   "metadata": {},
   "source": [
    "Я, някакви високи стойности изкривяват графиката."
   ]
  },
  {
   "cell_type": "code",
   "execution_count": 20,
   "metadata": {
    "collapsed": false
   },
   "outputs": [
    {
     "name": "stdout",
     "output_type": "stream",
     "text": [
      "       CompensationAmount\n",
      "10525                 0.0\n",
      "11978                 0.0\n",
      "5960                  0.0\n",
      "1693                  0.0\n",
      "6420                  0.0\n",
      "       CompensationAmount\n",
      "9747         7.500000e+08\n",
      "13418        8.000000e+08\n",
      "5761         1.194000e+09\n",
      "804          1.000000e+11\n",
      "5458         1.000000e+11\n"
     ]
    }
   ],
   "source": [
    "compensation = pd.DataFrame(multi.CompensationAmount[multi.CompensationAmount.notnull()])\n",
    "print(compensation.sort_values('CompensationAmount').head(5))\n",
    "print(compensation.sort_values('CompensationAmount').tail(5))"
   ]
  },
  {
   "cell_type": "markdown",
   "metadata": {},
   "source": [
    "Ще вземем логаритъм, за целта ще трябва да разкараме нулевите стойности:"
   ]
  },
  {
   "cell_type": "code",
   "execution_count": 21,
   "metadata": {
    "collapsed": false
   },
   "outputs": [
    {
     "name": "stdout",
     "output_type": "stream",
     "text": [
      "       CompensationAmount\n",
      "3                250000.0\n",
      "8                 80000.0\n",
      "9               1200000.0\n",
      "11                95000.0\n",
      "14              1100000.0\n",
      "...                   ...\n",
      "16525            200000.0\n",
      "16532             82000.0\n",
      "16577             75000.0\n",
      "16673             90000.0\n",
      "16700             10000.0\n",
      "\n",
      "[5162 rows x 1 columns]\n"
     ]
    }
   ],
   "source": [
    "print(compensation.iloc[compensation.CompensationAmount.nonzero()])\n",
    "log_compensation = compensation.iloc[compensation.CompensationAmount.nonzero()]"
   ]
  },
  {
   "cell_type": "markdown",
   "metadata": {},
   "source": [
    "Графика - \"Преди и сега\":"
   ]
  },
  {
   "cell_type": "code",
   "execution_count": 22,
   "metadata": {
    "collapsed": false,
    "scrolled": false
   },
   "outputs": [
    {
     "data": {
      "image/png": "[encoded data removed]",
      "text/plain": [
       "<matplotlib.figure.Figure at 0x7fc0e02c6978>"
      ]
     },
     "metadata": {},
     "output_type": "display_data"
    }
   ],
   "source": [
    "fig, (ax1, ax2) = plt.subplots(nrows=2, figsize=(10, 7), sharey=False)\n",
    "sns.distplot(multi.CompensationAmount[multi.CompensationAmount.notnull()], ax=ax1)\n",
    "sns.distplot(pd.np.log10(log_compensation.CompensationAmount), ax=ax2);"
   ]
  },
  {
   "cell_type": "markdown",
   "metadata": {},
   "source": [
    "Страхотно, ама е грешно, защото не сме използвали валутните курсове."
   ]
  },
  {
   "cell_type": "code",
   "execution_count": 23,
   "metadata": {
    "collapsed": false
   },
   "outputs": [
    {
     "data": {
      "text/html": [
       "<div>\n",
       "<style scoped>\n",
       "    .dataframe tbody tr th:only-of-type {\n",
       "        vertical-align: middle;\n",
       "    }\n",
       "\n",
       "    .dataframe tbody tr th {\n",
       "        vertical-align: top;\n",
       "    }\n",
       "\n",
       "    .dataframe thead th {\n",
       "        text-align: right;\n",
       "    }\n",
       "</style>\n",
       "<table border=\"1\" class=\"dataframe\">\n",
       "  <thead>\n",
       "    <tr style=\"text-align: right;\">\n",
       "      <th></th>\n",
       "      <th>Unnamed: 0</th>\n",
       "      <th>originCountry</th>\n",
       "      <th>exchangeRate</th>\n",
       "    </tr>\n",
       "  </thead>\n",
       "  <tbody>\n",
       "    <tr>\n",
       "      <th>0</th>\n",
       "      <td>1</td>\n",
       "      <td>USD</td>\n",
       "      <td>1.000000</td>\n",
       "    </tr>\n",
       "    <tr>\n",
       "      <th>1</th>\n",
       "      <td>2</td>\n",
       "      <td>EUR</td>\n",
       "      <td>1.195826</td>\n",
       "    </tr>\n",
       "    <tr>\n",
       "      <th>2</th>\n",
       "      <td>3</td>\n",
       "      <td>INR</td>\n",
       "      <td>0.015620</td>\n",
       "    </tr>\n",
       "    <tr>\n",
       "      <th>3</th>\n",
       "      <td>4</td>\n",
       "      <td>GBP</td>\n",
       "      <td>1.324188</td>\n",
       "    </tr>\n",
       "    <tr>\n",
       "      <th>4</th>\n",
       "      <td>5</td>\n",
       "      <td>BRL</td>\n",
       "      <td>0.321350</td>\n",
       "    </tr>\n",
       "    <tr>\n",
       "      <th>5</th>\n",
       "      <td>6</td>\n",
       "      <td>RUB</td>\n",
       "      <td>0.017402</td>\n",
       "    </tr>\n",
       "    <tr>\n",
       "      <th>6</th>\n",
       "      <td>7</td>\n",
       "      <td>CAD</td>\n",
       "      <td>0.823688</td>\n",
       "    </tr>\n",
       "    <tr>\n",
       "      <th>7</th>\n",
       "      <td>8</td>\n",
       "      <td>AUD</td>\n",
       "      <td>0.802310</td>\n",
       "    </tr>\n",
       "    <tr>\n",
       "      <th>8</th>\n",
       "      <td>9</td>\n",
       "      <td>JPY</td>\n",
       "      <td>0.009108</td>\n",
       "    </tr>\n",
       "    <tr>\n",
       "      <th>9</th>\n",
       "      <td>10</td>\n",
       "      <td>CNY</td>\n",
       "      <td>0.153000</td>\n",
       "    </tr>\n",
       "  </tbody>\n",
       "</table>\n",
       "</div>"
      ],
      "text/plain": [
       "   Unnamed: 0 originCountry  exchangeRate\n",
       "0           1           USD      1.000000\n",
       "1           2           EUR      1.195826\n",
       "2           3           INR      0.015620\n",
       "3           4           GBP      1.324188\n",
       "4           5           BRL      0.321350\n",
       "5           6           RUB      0.017402\n",
       "6           7           CAD      0.823688\n",
       "7           8           AUD      0.802310\n",
       "8           9           JPY      0.009108\n",
       "9          10           CNY      0.153000"
      ]
     },
     "execution_count": 23,
     "metadata": {},
     "output_type": "execute_result"
    }
   ],
   "source": [
    "rates = pd.read_csv('data/conversionRates.csv', encoding='latin_1', low_memory=False)\n",
    "rates[:10]"
   ]
  },
  {
   "cell_type": "code",
   "execution_count": 24,
   "metadata": {
    "collapsed": false
   },
   "outputs": [
    {
     "name": "stdout",
     "output_type": "stream",
     "text": [
      "Има ли дупликати в originCountry? False\n"
     ]
    }
   ],
   "source": [
    "print('Има ли дупликати в originCountry?', all(rates.originCountry.duplicated()))"
   ]
  },
  {
   "cell_type": "markdown",
   "metadata": {},
   "source": [
    "Тогава да сменим индекса:"
   ]
  },
  {
   "cell_type": "code",
   "execution_count": 25,
   "metadata": {
    "collapsed": false
   },
   "outputs": [
    {
     "name": "stdout",
     "output_type": "stream",
     "text": [
      "Index(['Unnamed: 0', 'exchangeRate'], dtype='object')\n"
     ]
    }
   ],
   "source": [
    "rates = rates.set_index('originCountry')\n",
    "print(rates.columns)"
   ]
  },
  {
   "cell_type": "markdown",
   "metadata": {},
   "source": [
    "Да разкараме излишната колона:"
   ]
  },
  {
   "cell_type": "code",
   "execution_count": 26,
   "metadata": {
    "collapsed": false,
    "scrolled": true
   },
   "outputs": [
    {
     "data": {
      "text/html": [
       "<div>\n",
       "<style scoped>\n",
       "    .dataframe tbody tr th:only-of-type {\n",
       "        vertical-align: middle;\n",
       "    }\n",
       "\n",
       "    .dataframe tbody tr th {\n",
       "        vertical-align: top;\n",
       "    }\n",
       "\n",
       "    .dataframe thead th {\n",
       "        text-align: right;\n",
       "    }\n",
       "</style>\n",
       "<table border=\"1\" class=\"dataframe\">\n",
       "  <thead>\n",
       "    <tr style=\"text-align: right;\">\n",
       "      <th></th>\n",
       "      <th>exchangeRate</th>\n",
       "    </tr>\n",
       "    <tr>\n",
       "      <th>originCountry</th>\n",
       "      <th></th>\n",
       "    </tr>\n",
       "  </thead>\n",
       "  <tbody>\n",
       "    <tr>\n",
       "      <th>USD</th>\n",
       "      <td>1.000000</td>\n",
       "    </tr>\n",
       "    <tr>\n",
       "      <th>EUR</th>\n",
       "      <td>1.195826</td>\n",
       "    </tr>\n",
       "    <tr>\n",
       "      <th>INR</th>\n",
       "      <td>0.015620</td>\n",
       "    </tr>\n",
       "    <tr>\n",
       "      <th>GBP</th>\n",
       "      <td>1.324188</td>\n",
       "    </tr>\n",
       "    <tr>\n",
       "      <th>BRL</th>\n",
       "      <td>0.321350</td>\n",
       "    </tr>\n",
       "    <tr>\n",
       "      <th>RUB</th>\n",
       "      <td>0.017402</td>\n",
       "    </tr>\n",
       "    <tr>\n",
       "      <th>CAD</th>\n",
       "      <td>0.823688</td>\n",
       "    </tr>\n",
       "    <tr>\n",
       "      <th>AUD</th>\n",
       "      <td>0.802310</td>\n",
       "    </tr>\n",
       "    <tr>\n",
       "      <th>JPY</th>\n",
       "      <td>0.009108</td>\n",
       "    </tr>\n",
       "    <tr>\n",
       "      <th>CNY</th>\n",
       "      <td>0.153000</td>\n",
       "    </tr>\n",
       "  </tbody>\n",
       "</table>\n",
       "</div>"
      ],
      "text/plain": [
       "               exchangeRate\n",
       "originCountry              \n",
       "USD                1.000000\n",
       "EUR                1.195826\n",
       "INR                0.015620\n",
       "GBP                1.324188\n",
       "BRL                0.321350\n",
       "RUB                0.017402\n",
       "CAD                0.823688\n",
       "AUD                0.802310\n",
       "JPY                0.009108\n",
       "CNY                0.153000"
      ]
     },
     "execution_count": 26,
     "metadata": {},
     "output_type": "execute_result"
    }
   ],
   "source": [
    "rates = rates.drop('Unnamed: 0', axis=1)\n",
    "rates[:10]"
   ]
  },
  {
   "cell_type": "code",
   "execution_count": 27,
   "metadata": {
    "collapsed": false
   },
   "outputs": [
    {
     "data": {
      "text/html": [
       "<div>\n",
       "<style scoped>\n",
       "    .dataframe tbody tr th:only-of-type {\n",
       "        vertical-align: middle;\n",
       "    }\n",
       "\n",
       "    .dataframe tbody tr th {\n",
       "        vertical-align: top;\n",
       "    }\n",
       "\n",
       "    .dataframe thead th {\n",
       "        text-align: right;\n",
       "    }\n",
       "</style>\n",
       "<table border=\"1\" class=\"dataframe\">\n",
       "  <thead>\n",
       "    <tr style=\"text-align: right;\">\n",
       "      <th></th>\n",
       "      <th>code</th>\n",
       "      <th>compensation</th>\n",
       "    </tr>\n",
       "  </thead>\n",
       "  <tbody>\n",
       "    <tr>\n",
       "      <th>0</th>\n",
       "      <td>NaN</td>\n",
       "      <td>NaN</td>\n",
       "    </tr>\n",
       "    <tr>\n",
       "      <th>1</th>\n",
       "      <td>NaN</td>\n",
       "      <td>NaN</td>\n",
       "    </tr>\n",
       "    <tr>\n",
       "      <th>2</th>\n",
       "      <td>NaN</td>\n",
       "      <td>NaN</td>\n",
       "    </tr>\n",
       "    <tr>\n",
       "      <th>3</th>\n",
       "      <td>USD</td>\n",
       "      <td>250000.0</td>\n",
       "    </tr>\n",
       "    <tr>\n",
       "      <th>4</th>\n",
       "      <td>NaN</td>\n",
       "      <td>NaN</td>\n",
       "    </tr>\n",
       "    <tr>\n",
       "      <th>5</th>\n",
       "      <td>NaN</td>\n",
       "      <td>NaN</td>\n",
       "    </tr>\n",
       "    <tr>\n",
       "      <th>6</th>\n",
       "      <td>NaN</td>\n",
       "      <td>NaN</td>\n",
       "    </tr>\n",
       "    <tr>\n",
       "      <th>7</th>\n",
       "      <td>NaN</td>\n",
       "      <td>NaN</td>\n",
       "    </tr>\n",
       "    <tr>\n",
       "      <th>8</th>\n",
       "      <td>AUD</td>\n",
       "      <td>80000.0</td>\n",
       "    </tr>\n",
       "    <tr>\n",
       "      <th>9</th>\n",
       "      <td>RUB</td>\n",
       "      <td>1200000.0</td>\n",
       "    </tr>\n",
       "  </tbody>\n",
       "</table>\n",
       "</div>"
      ],
      "text/plain": [
       "  code  compensation\n",
       "0  NaN           NaN\n",
       "1  NaN           NaN\n",
       "2  NaN           NaN\n",
       "3  USD      250000.0\n",
       "4  NaN           NaN\n",
       "5  NaN           NaN\n",
       "6  NaN           NaN\n",
       "7  NaN           NaN\n",
       "8  AUD       80000.0\n",
       "9  RUB     1200000.0"
      ]
     },
     "execution_count": 27,
     "metadata": {},
     "output_type": "execute_result"
    }
   ],
   "source": [
    "pd.DataFrame(data={'compensation': multi.CompensationAmount, 'code': multi.CompensationCurrency})[:10]"
   ]
  },
  {
   "cell_type": "markdown",
   "metadata": {},
   "source": [
    "Имаме както стйности за които липсва валута, така и валута за която липсва стойност. Ще сложим USD за липсващата валута, а тъй като ще работим само с не-NaN стойности, другите няма да е необходимо да ги променяме."
   ]
  },
  {
   "cell_type": "code",
   "execution_count": 28,
   "metadata": {
    "collapsed": false
   },
   "outputs": [
    {
     "data": {
      "text/html": [
       "<div>\n",
       "<style scoped>\n",
       "    .dataframe tbody tr th:only-of-type {\n",
       "        vertical-align: middle;\n",
       "    }\n",
       "\n",
       "    .dataframe tbody tr th {\n",
       "        vertical-align: top;\n",
       "    }\n",
       "\n",
       "    .dataframe thead th {\n",
       "        text-align: right;\n",
       "    }\n",
       "</style>\n",
       "<table border=\"1\" class=\"dataframe\">\n",
       "  <thead>\n",
       "    <tr style=\"text-align: right;\">\n",
       "      <th></th>\n",
       "      <th>code</th>\n",
       "      <th>compensation</th>\n",
       "    </tr>\n",
       "  </thead>\n",
       "  <tbody>\n",
       "    <tr>\n",
       "      <th>0</th>\n",
       "      <td>USD</td>\n",
       "      <td>NaN</td>\n",
       "    </tr>\n",
       "    <tr>\n",
       "      <th>1</th>\n",
       "      <td>USD</td>\n",
       "      <td>NaN</td>\n",
       "    </tr>\n",
       "    <tr>\n",
       "      <th>2</th>\n",
       "      <td>USD</td>\n",
       "      <td>NaN</td>\n",
       "    </tr>\n",
       "    <tr>\n",
       "      <th>3</th>\n",
       "      <td>USD</td>\n",
       "      <td>250000.0</td>\n",
       "    </tr>\n",
       "    <tr>\n",
       "      <th>4</th>\n",
       "      <td>USD</td>\n",
       "      <td>NaN</td>\n",
       "    </tr>\n",
       "    <tr>\n",
       "      <th>5</th>\n",
       "      <td>USD</td>\n",
       "      <td>NaN</td>\n",
       "    </tr>\n",
       "    <tr>\n",
       "      <th>6</th>\n",
       "      <td>USD</td>\n",
       "      <td>NaN</td>\n",
       "    </tr>\n",
       "    <tr>\n",
       "      <th>7</th>\n",
       "      <td>USD</td>\n",
       "      <td>NaN</td>\n",
       "    </tr>\n",
       "    <tr>\n",
       "      <th>8</th>\n",
       "      <td>AUD</td>\n",
       "      <td>80000.0</td>\n",
       "    </tr>\n",
       "    <tr>\n",
       "      <th>9</th>\n",
       "      <td>RUB</td>\n",
       "      <td>1200000.0</td>\n",
       "    </tr>\n",
       "  </tbody>\n",
       "</table>\n",
       "</div>"
      ],
      "text/plain": [
       "  code  compensation\n",
       "0  USD           NaN\n",
       "1  USD           NaN\n",
       "2  USD           NaN\n",
       "3  USD      250000.0\n",
       "4  USD           NaN\n",
       "5  USD           NaN\n",
       "6  USD           NaN\n",
       "7  USD           NaN\n",
       "8  AUD       80000.0\n",
       "9  RUB     1200000.0"
      ]
     },
     "execution_count": 28,
     "metadata": {},
     "output_type": "execute_result"
    }
   ],
   "source": [
    "multi.CompensationCurrency = multi.CompensationCurrency.fillna('USD');\n",
    "pd.DataFrame(data={'compensation': multi.CompensationAmount, 'code': multi.CompensationCurrency}) [:10]"
   ]
  },
  {
   "cell_type": "markdown",
   "metadata": {},
   "source": [
    "Да калкулираме компенсацията в USD:"
   ]
  },
  {
   "cell_type": "code",
   "execution_count": 29,
   "metadata": {
    "collapsed": false
   },
   "outputs": [
    {
     "ename": "KeyError",
     "evalue": "('the label [SPL] is not in the [index]', 'occurred at index 12623')",
     "output_type": "error",
     "traceback": [
      "\u001b[0;31m---------------------------------------------------------------------------\u001b[0m",
      "\u001b[0;31mKeyError\u001b[0m                                  Traceback (most recent call last)",
      "\u001b[0;32m~/.local/lib/python3.6/site-packages/pandas/core/indexing.py\u001b[0m in \u001b[0;36m_has_valid_type\u001b[0;34m(self, key, axis)\u001b[0m\n\u001b[1;32m   1505\u001b[0m                 \u001b[0;32mif\u001b[0m \u001b[0;32mnot\u001b[0m \u001b[0max\u001b[0m\u001b[0;34m.\u001b[0m\u001b[0mcontains\u001b[0m\u001b[0;34m(\u001b[0m\u001b[0mkey\u001b[0m\u001b[0;34m)\u001b[0m\u001b[0;34m:\u001b[0m\u001b[0;34m\u001b[0m\u001b[0m\n\u001b[0;32m-> 1506\u001b[0;31m                     \u001b[0merror\u001b[0m\u001b[0;34m(\u001b[0m\u001b[0;34m)\u001b[0m\u001b[0;34m\u001b[0m\u001b[0m\n\u001b[0m\u001b[1;32m   1507\u001b[0m             \u001b[0;32mexcept\u001b[0m \u001b[0mTypeError\u001b[0m \u001b[0;32mas\u001b[0m \u001b[0me\u001b[0m\u001b[0;34m:\u001b[0m\u001b[0;34m\u001b[0m\u001b[0m\n",
      "\u001b[0;32m~/.local/lib/python3.6/site-packages/pandas/core/indexing.py\u001b[0m in \u001b[0;36merror\u001b[0;34m()\u001b[0m\n\u001b[1;32m   1500\u001b[0m                                .format(key=key,\n\u001b[0;32m-> 1501\u001b[0;31m                                        axis=self.obj._get_axis_name(axis)))\n\u001b[0m\u001b[1;32m   1502\u001b[0m \u001b[0;34m\u001b[0m\u001b[0m\n",
      "\u001b[0;31mKeyError\u001b[0m: 'the label [SPL] is not in the [index]'",
      "\nDuring handling of the above exception, another exception occurred:\n",
      "\u001b[0;31mKeyError\u001b[0m                                  Traceback (most recent call last)",
      "\u001b[0;32m<ipython-input-29-7653e49f671d>\u001b[0m in \u001b[0;36m<module>\u001b[0;34m()\u001b[0m\n\u001b[0;32m----> 1\u001b[0;31m \u001b[0mmulti\u001b[0m\u001b[0;34m[\u001b[0m\u001b[0;34m'compensation'\u001b[0m\u001b[0;34m]\u001b[0m \u001b[0;34m=\u001b[0m \u001b[0mmulti\u001b[0m\u001b[0;34m.\u001b[0m\u001b[0mapply\u001b[0m\u001b[0;34m(\u001b[0m\u001b[0;32mlambda\u001b[0m \u001b[0mrow\u001b[0m\u001b[0;34m:\u001b[0m \u001b[0mrow\u001b[0m\u001b[0;34m[\u001b[0m\u001b[0;34m'CompensationAmount'\u001b[0m\u001b[0;34m]\u001b[0m \u001b[0;34m*\u001b[0m \u001b[0mrates\u001b[0m\u001b[0;34m.\u001b[0m\u001b[0mloc\u001b[0m\u001b[0;34m[\u001b[0m\u001b[0mrow\u001b[0m\u001b[0;34m[\u001b[0m\u001b[0;34m'CompensationCurrency'\u001b[0m\u001b[0;34m]\u001b[0m\u001b[0;34m]\u001b[0m\u001b[0;34m,\u001b[0m \u001b[0maxis\u001b[0m\u001b[0;34m=\u001b[0m\u001b[0;36m1\u001b[0m\u001b[0;34m)\u001b[0m\u001b[0;34m\u001b[0m\u001b[0m\n\u001b[0m",
      "\u001b[0;32m~/.local/lib/python3.6/site-packages/pandas/core/frame.py\u001b[0m in \u001b[0;36mapply\u001b[0;34m(self, func, axis, broadcast, raw, reduce, args, **kwds)\u001b[0m\n\u001b[1;32m   4852\u001b[0m                         \u001b[0mf\u001b[0m\u001b[0;34m,\u001b[0m \u001b[0maxis\u001b[0m\u001b[0;34m,\u001b[0m\u001b[0;34m\u001b[0m\u001b[0m\n\u001b[1;32m   4853\u001b[0m                         \u001b[0mreduce\u001b[0m\u001b[0;34m=\u001b[0m\u001b[0mreduce\u001b[0m\u001b[0;34m,\u001b[0m\u001b[0;34m\u001b[0m\u001b[0m\n\u001b[0;32m-> 4854\u001b[0;31m                         ignore_failures=ignore_failures)\n\u001b[0m\u001b[1;32m   4855\u001b[0m             \u001b[0;32melse\u001b[0m\u001b[0;34m:\u001b[0m\u001b[0;34m\u001b[0m\u001b[0m\n\u001b[1;32m   4856\u001b[0m                 \u001b[0;32mreturn\u001b[0m \u001b[0mself\u001b[0m\u001b[0;34m.\u001b[0m\u001b[0m_apply_broadcast\u001b[0m\u001b[0;34m(\u001b[0m\u001b[0mf\u001b[0m\u001b[0;34m,\u001b[0m \u001b[0maxis\u001b[0m\u001b[0;34m)\u001b[0m\u001b[0;34m\u001b[0m\u001b[0m\n",
      "\u001b[0;32m~/.local/lib/python3.6/site-packages/pandas/core/frame.py\u001b[0m in \u001b[0;36m_apply_standard\u001b[0;34m(self, func, axis, ignore_failures, reduce)\u001b[0m\n\u001b[1;32m   4948\u001b[0m             \u001b[0;32mtry\u001b[0m\u001b[0;34m:\u001b[0m\u001b[0;34m\u001b[0m\u001b[0m\n\u001b[1;32m   4949\u001b[0m                 \u001b[0;32mfor\u001b[0m \u001b[0mi\u001b[0m\u001b[0;34m,\u001b[0m \u001b[0mv\u001b[0m \u001b[0;32min\u001b[0m \u001b[0menumerate\u001b[0m\u001b[0;34m(\u001b[0m\u001b[0mseries_gen\u001b[0m\u001b[0;34m)\u001b[0m\u001b[0;34m:\u001b[0m\u001b[0;34m\u001b[0m\u001b[0m\n\u001b[0;32m-> 4950\u001b[0;31m                     \u001b[0mresults\u001b[0m\u001b[0;34m[\u001b[0m\u001b[0mi\u001b[0m\u001b[0;34m]\u001b[0m \u001b[0;34m=\u001b[0m \u001b[0mfunc\u001b[0m\u001b[0;34m(\u001b[0m\u001b[0mv\u001b[0m\u001b[0;34m)\u001b[0m\u001b[0;34m\u001b[0m\u001b[0m\n\u001b[0m\u001b[1;32m   4951\u001b[0m                     \u001b[0mkeys\u001b[0m\u001b[0;34m.\u001b[0m\u001b[0mappend\u001b[0m\u001b[0;34m(\u001b[0m\u001b[0mv\u001b[0m\u001b[0;34m.\u001b[0m\u001b[0mname\u001b[0m\u001b[0;34m)\u001b[0m\u001b[0;34m\u001b[0m\u001b[0m\n\u001b[1;32m   4952\u001b[0m             \u001b[0;32mexcept\u001b[0m \u001b[0mException\u001b[0m \u001b[0;32mas\u001b[0m \u001b[0me\u001b[0m\u001b[0;34m:\u001b[0m\u001b[0;34m\u001b[0m\u001b[0m\n",
      "\u001b[0;32m<ipython-input-29-7653e49f671d>\u001b[0m in \u001b[0;36m<lambda>\u001b[0;34m(row)\u001b[0m\n\u001b[0;32m----> 1\u001b[0;31m \u001b[0mmulti\u001b[0m\u001b[0;34m[\u001b[0m\u001b[0;34m'compensation'\u001b[0m\u001b[0;34m]\u001b[0m \u001b[0;34m=\u001b[0m \u001b[0mmulti\u001b[0m\u001b[0;34m.\u001b[0m\u001b[0mapply\u001b[0m\u001b[0;34m(\u001b[0m\u001b[0;32mlambda\u001b[0m \u001b[0mrow\u001b[0m\u001b[0;34m:\u001b[0m \u001b[0mrow\u001b[0m\u001b[0;34m[\u001b[0m\u001b[0;34m'CompensationAmount'\u001b[0m\u001b[0;34m]\u001b[0m \u001b[0;34m*\u001b[0m \u001b[0mrates\u001b[0m\u001b[0;34m.\u001b[0m\u001b[0mloc\u001b[0m\u001b[0;34m[\u001b[0m\u001b[0mrow\u001b[0m\u001b[0;34m[\u001b[0m\u001b[0;34m'CompensationCurrency'\u001b[0m\u001b[0;34m]\u001b[0m\u001b[0;34m]\u001b[0m\u001b[0;34m,\u001b[0m \u001b[0maxis\u001b[0m\u001b[0;34m=\u001b[0m\u001b[0;36m1\u001b[0m\u001b[0;34m)\u001b[0m\u001b[0;34m\u001b[0m\u001b[0m\n\u001b[0m",
      "\u001b[0;32m~/.local/lib/python3.6/site-packages/pandas/core/indexing.py\u001b[0m in \u001b[0;36m__getitem__\u001b[0;34m(self, key)\u001b[0m\n\u001b[1;32m   1371\u001b[0m \u001b[0;34m\u001b[0m\u001b[0m\n\u001b[1;32m   1372\u001b[0m             \u001b[0mmaybe_callable\u001b[0m \u001b[0;34m=\u001b[0m \u001b[0mcom\u001b[0m\u001b[0;34m.\u001b[0m\u001b[0m_apply_if_callable\u001b[0m\u001b[0;34m(\u001b[0m\u001b[0mkey\u001b[0m\u001b[0;34m,\u001b[0m \u001b[0mself\u001b[0m\u001b[0;34m.\u001b[0m\u001b[0mobj\u001b[0m\u001b[0;34m)\u001b[0m\u001b[0;34m\u001b[0m\u001b[0m\n\u001b[0;32m-> 1373\u001b[0;31m             \u001b[0;32mreturn\u001b[0m \u001b[0mself\u001b[0m\u001b[0;34m.\u001b[0m\u001b[0m_getitem_axis\u001b[0m\u001b[0;34m(\u001b[0m\u001b[0mmaybe_callable\u001b[0m\u001b[0;34m,\u001b[0m \u001b[0maxis\u001b[0m\u001b[0;34m=\u001b[0m\u001b[0maxis\u001b[0m\u001b[0;34m)\u001b[0m\u001b[0;34m\u001b[0m\u001b[0m\n\u001b[0m\u001b[1;32m   1374\u001b[0m \u001b[0;34m\u001b[0m\u001b[0m\n\u001b[1;32m   1375\u001b[0m     \u001b[0;32mdef\u001b[0m \u001b[0m_is_scalar_access\u001b[0m\u001b[0;34m(\u001b[0m\u001b[0mself\u001b[0m\u001b[0;34m,\u001b[0m \u001b[0mkey\u001b[0m\u001b[0;34m)\u001b[0m\u001b[0;34m:\u001b[0m\u001b[0;34m\u001b[0m\u001b[0m\n",
      "\u001b[0;32m~/.local/lib/python3.6/site-packages/pandas/core/indexing.py\u001b[0m in \u001b[0;36m_getitem_axis\u001b[0;34m(self, key, axis)\u001b[0m\n\u001b[1;32m   1624\u001b[0m \u001b[0;34m\u001b[0m\u001b[0m\n\u001b[1;32m   1625\u001b[0m         \u001b[0;31m# fall thru to straight lookup\u001b[0m\u001b[0;34m\u001b[0m\u001b[0;34m\u001b[0m\u001b[0m\n\u001b[0;32m-> 1626\u001b[0;31m         \u001b[0mself\u001b[0m\u001b[0;34m.\u001b[0m\u001b[0m_has_valid_type\u001b[0m\u001b[0;34m(\u001b[0m\u001b[0mkey\u001b[0m\u001b[0;34m,\u001b[0m \u001b[0maxis\u001b[0m\u001b[0;34m)\u001b[0m\u001b[0;34m\u001b[0m\u001b[0m\n\u001b[0m\u001b[1;32m   1627\u001b[0m         \u001b[0;32mreturn\u001b[0m \u001b[0mself\u001b[0m\u001b[0;34m.\u001b[0m\u001b[0m_get_label\u001b[0m\u001b[0;34m(\u001b[0m\u001b[0mkey\u001b[0m\u001b[0;34m,\u001b[0m \u001b[0maxis\u001b[0m\u001b[0;34m=\u001b[0m\u001b[0maxis\u001b[0m\u001b[0;34m)\u001b[0m\u001b[0;34m\u001b[0m\u001b[0m\n\u001b[1;32m   1628\u001b[0m \u001b[0;34m\u001b[0m\u001b[0m\n",
      "\u001b[0;32m~/.local/lib/python3.6/site-packages/pandas/core/indexing.py\u001b[0m in \u001b[0;36m_has_valid_type\u001b[0;34m(self, key, axis)\u001b[0m\n\u001b[1;32m   1512\u001b[0m                 \u001b[0;32mraise\u001b[0m\u001b[0;34m\u001b[0m\u001b[0m\n\u001b[1;32m   1513\u001b[0m             \u001b[0;32mexcept\u001b[0m\u001b[0;34m:\u001b[0m\u001b[0;34m\u001b[0m\u001b[0m\n\u001b[0;32m-> 1514\u001b[0;31m                 \u001b[0merror\u001b[0m\u001b[0;34m(\u001b[0m\u001b[0;34m)\u001b[0m\u001b[0;34m\u001b[0m\u001b[0m\n\u001b[0m\u001b[1;32m   1515\u001b[0m \u001b[0;34m\u001b[0m\u001b[0m\n\u001b[1;32m   1516\u001b[0m         \u001b[0;32mreturn\u001b[0m \u001b[0;32mTrue\u001b[0m\u001b[0;34m\u001b[0m\u001b[0m\n",
      "\u001b[0;32m~/.local/lib/python3.6/site-packages/pandas/core/indexing.py\u001b[0m in \u001b[0;36merror\u001b[0;34m()\u001b[0m\n\u001b[1;32m   1499\u001b[0m                 raise KeyError(u\"the label [{key}] is not in the [{axis}]\"\n\u001b[1;32m   1500\u001b[0m                                .format(key=key,\n\u001b[0;32m-> 1501\u001b[0;31m                                        axis=self.obj._get_axis_name(axis)))\n\u001b[0m\u001b[1;32m   1502\u001b[0m \u001b[0;34m\u001b[0m\u001b[0m\n\u001b[1;32m   1503\u001b[0m             \u001b[0;32mtry\u001b[0m\u001b[0;34m:\u001b[0m\u001b[0;34m\u001b[0m\u001b[0m\n",
      "\u001b[0;31mKeyError\u001b[0m: ('the label [SPL] is not in the [index]', 'occurred at index 12623')"
     ]
    }
   ],
   "source": [
    "multi['compensation'] = multi.apply(lambda row: row['CompensationAmount'] * rates.loc[row['CompensationCurrency']], axis=1)"
   ]
  },
  {
   "cell_type": "markdown",
   "metadata": {},
   "source": [
    "Разбира се че ще има нечия заплата дадена в [Себоргийско](https://bg.wikipedia.org/wiki/%D0%A1%D0%B5%D0%B1%D0%BE%D1%80%D0%B3%D0%B0) Луиджино, а други изненади има ли?"
   ]
  },
  {
   "cell_type": "code",
   "execution_count": 30,
   "metadata": {
    "collapsed": false
   },
   "outputs": [
    {
     "data": {
      "text/plain": [
       "{'SPL'}"
      ]
     },
     "execution_count": 30,
     "metadata": {},
     "output_type": "execute_result"
    }
   ],
   "source": [
    "set(multi.CompensationCurrency.unique()) - set(rates.index)"
   ]
  },
  {
   "cell_type": "markdown",
   "metadata": {},
   "source": [
    "Просто ще го добавим - проверих курса USD/SPL = 6"
   ]
  },
  {
   "cell_type": "code",
   "execution_count": 31,
   "metadata": {
    "collapsed": false
   },
   "outputs": [
    {
     "data": {
      "text/plain": [
       "set()"
      ]
     },
     "execution_count": 31,
     "metadata": {},
     "output_type": "execute_result"
    }
   ],
   "source": [
    "rates.loc['SPL'] = 6.0\n",
    "set(multi.CompensationCurrency.unique()) - set(rates.index)"
   ]
  },
  {
   "cell_type": "code",
   "execution_count": 32,
   "metadata": {
    "collapsed": false
   },
   "outputs": [
    {
     "data": {
      "text/plain": [
       "Index(['GenderSelect', 'Country', 'Age', 'EmploymentStatus', 'StudentStatus',\n",
       "       'LearningDataScience', 'CodeWriter', 'CareerSwitcher',\n",
       "       'CurrentJobTitleSelect', 'TitleFit',\n",
       "       ...\n",
       "       'JobFactorDepartment', 'JobFactorTitle', 'JobFactorCompanyFunding',\n",
       "       'JobFactorImpact', 'JobFactorRemote', 'JobFactorIndustry',\n",
       "       'JobFactorLeaderReputation', 'JobFactorDiversity',\n",
       "       'JobFactorPublishingOpportunity', 'compensation'],\n",
       "      dtype='object', length=229)"
      ]
     },
     "execution_count": 32,
     "metadata": {},
     "output_type": "execute_result"
    }
   ],
   "source": [
    "multi['compensation'] = multi.apply(lambda row: row['CompensationAmount'] * rates.loc[row['CompensationCurrency']], axis=1)\n",
    "multi.columns"
   ]
  },
  {
   "cell_type": "code",
   "execution_count": 33,
   "metadata": {
    "collapsed": false
   },
   "outputs": [
    {
     "data": {
      "text/plain": [
       "3     250000.000\n",
       "8      64184.800\n",
       "9      20882.400\n",
       "11      1483.900\n",
       "14     36634.400\n",
       "15    120000.000\n",
       "21     20000.000\n",
       "22    100000.000\n",
       "23       916.400\n",
       "25     10858.848\n",
       "Name: compensation, dtype: float64"
      ]
     },
     "execution_count": 33,
     "metadata": {},
     "output_type": "execute_result"
    }
   ],
   "source": [
    "logable = multi.compensation[multi.compensation.notnull()]\n",
    "logable = logable[logable != 0]\n",
    "logable[:10]"
   ]
  },
  {
   "cell_type": "code",
   "execution_count": 34,
   "metadata": {
    "collapsed": false
   },
   "outputs": [
    {
     "data": {
      "text/plain": [
       "<matplotlib.axes._subplots.AxesSubplot at 0x7fc0dc843978>"
      ]
     },
     "execution_count": 34,
     "metadata": {},
     "output_type": "execute_result"
    },
    {
     "data": {
      "image/png": "[encoded data removed]",
      "text/plain": [
       "<matplotlib.figure.Figure at 0x7fc0dd364da0>"
      ]
     },
     "metadata": {},
     "output_type": "display_data"
    }
   ],
   "source": [
    "fig, axes = plt.subplots(2, 2, figsize=(7, 7), sharey=False)\n",
    "sns.distplot(compensation.CompensationAmount, ax=axes[0, 0])\n",
    "sns.distplot(pd.np.log10(log_compensation.CompensationAmount), ax=axes[0, 1])\n",
    "sns.distplot(multi.compensation[multi.compensation.notnull()], ax=axes[1, 0])\n",
    "sns.distplot(pd.np.log10(logable), ax=axes[1, 1])"
   ]
  },
  {
   "cell_type": "markdown",
   "metadata": {},
   "source": [
    "Балкан разлика."
   ]
  },
  {
   "cell_type": "markdown",
   "metadata": {},
   "source": [
    "#### Платформа за обучение:"
   ]
  },
  {
   "cell_type": "code",
   "execution_count": 35,
   "metadata": {
    "collapsed": false
   },
   "outputs": [
    {
     "data": {
      "text/plain": [
       "0        College/University,Conferences,Podcasts,Trade ...\n",
       "1                                                   Kaggle\n",
       "2        Arxiv,College/University,Kaggle,Online courses...\n",
       "3        Blogs,College/University,Conferences,Friends n...\n",
       "4                        Arxiv,Conferences,Kaggle,Textbook\n",
       "5        Kaggle,Online courses,Stack Overflow Q&A,Textbook\n",
       "6            Arxiv,Blogs,Kaggle,Personal Projects,Textbook\n",
       "7        College/University,Kaggle,Online courses,Stack...\n",
       "8        Blogs,Company internal community,Conferences,F...\n",
       "9        Arxiv,Blogs,Conferences,Kaggle,Non-Kaggle onli...\n",
       "                               ...                        \n",
       "16706                                                  NaN\n",
       "16707                                                  NaN\n",
       "16708                                                  NaN\n",
       "16709                                                  NaN\n",
       "16710                                                  NaN\n",
       "16711                                                  NaN\n",
       "16712    Kaggle,Non-Kaggle online communities,Online co...\n",
       "16713                                                  NaN\n",
       "16714                                                  NaN\n",
       "16715                                                  NaN\n",
       "Name: LearningPlatformSelect, Length: 16716, dtype: object"
      ]
     },
     "execution_count": 35,
     "metadata": {},
     "output_type": "execute_result"
    }
   ],
   "source": [
    "pd.options.display.max_rows = 20\n",
    "multi.LearningPlatformSelect"
   ]
  },
  {
   "cell_type": "code",
   "execution_count": 36,
   "metadata": {
    "collapsed": true
   },
   "outputs": [],
   "source": [
    "pd.options.display.max_rows = 10"
   ]
  },
  {
   "cell_type": "markdown",
   "metadata": {},
   "source": [
    "Calls към `DataFrame` обекти се форматират в таблици"
   ]
  },
  {
   "cell_type": "code",
   "execution_count": 37,
   "metadata": {
    "collapsed": false
   },
   "outputs": [
    {
     "data": {
      "text/html": [
       "<div>\n",
       "<style scoped>\n",
       "    .dataframe tbody tr th:only-of-type {\n",
       "        vertical-align: middle;\n",
       "    }\n",
       "\n",
       "    .dataframe tbody tr th {\n",
       "        vertical-align: top;\n",
       "    }\n",
       "\n",
       "    .dataframe thead th {\n",
       "        text-align: right;\n",
       "    }\n",
       "</style>\n",
       "<table border=\"1\" class=\"dataframe\">\n",
       "  <thead>\n",
       "    <tr style=\"text-align: right;\">\n",
       "      <th></th>\n",
       "      <th>LearningPlatformSelect</th>\n",
       "    </tr>\n",
       "  </thead>\n",
       "  <tbody>\n",
       "    <tr>\n",
       "      <th>Kaggle</th>\n",
       "      <td>210</td>\n",
       "    </tr>\n",
       "    <tr>\n",
       "      <th>Online courses</th>\n",
       "      <td>209</td>\n",
       "    </tr>\n",
       "    <tr>\n",
       "      <th>Personal Projects</th>\n",
       "      <td>155</td>\n",
       "    </tr>\n",
       "    <tr>\n",
       "      <th>College/University</th>\n",
       "      <td>127</td>\n",
       "    </tr>\n",
       "    <tr>\n",
       "      <th>YouTube Videos</th>\n",
       "      <td>127</td>\n",
       "    </tr>\n",
       "    <tr>\n",
       "      <th>...</th>\n",
       "      <td>...</td>\n",
       "    </tr>\n",
       "    <tr>\n",
       "      <th>Arxiv,Online courses,Personal Projects,Textbook,YouTube Videos</th>\n",
       "      <td>1</td>\n",
       "    </tr>\n",
       "    <tr>\n",
       "      <th>Blogs,College/University,Conferences,Friends network,Non-Kaggle online communities,Online courses,Textbook,Tutoring/mentoring,YouTube Videos</th>\n",
       "      <td>1</td>\n",
       "    </tr>\n",
       "    <tr>\n",
       "      <th>Company internal community,Conferences,Kaggle,Online courses,Stack Overflow Q&amp;A</th>\n",
       "      <td>1</td>\n",
       "    </tr>\n",
       "    <tr>\n",
       "      <th>College/University,Company internal community,Non-Kaggle online communities,Online courses,Personal Projects,Tutoring/mentoring</th>\n",
       "      <td>1</td>\n",
       "    </tr>\n",
       "    <tr>\n",
       "      <th>Blogs,Conferences,Official documentation,Online courses,Personal Projects,Stack Overflow Q&amp;A,Textbook</th>\n",
       "      <td>1</td>\n",
       "    </tr>\n",
       "  </tbody>\n",
       "</table>\n",
       "<p>5362 rows × 1 columns</p>\n",
       "</div>"
      ],
      "text/plain": [
       "                                                    LearningPlatformSelect\n",
       "Kaggle                                                                 210\n",
       "Online courses                                                         209\n",
       "Personal Projects                                                      155\n",
       "College/University                                                     127\n",
       "YouTube Videos                                                         127\n",
       "...                                                                    ...\n",
       "Arxiv,Online courses,Personal Projects,Textbook...                       1\n",
       "Blogs,College/University,Conferences,Friends ne...                       1\n",
       "Company internal community,Conferences,Kaggle,O...                       1\n",
       "College/University,Company internal community,N...                       1\n",
       "Blogs,Conferences,Official documentation,Online...                       1\n",
       "\n",
       "[5362 rows x 1 columns]"
      ]
     },
     "execution_count": 37,
     "metadata": {},
     "output_type": "execute_result"
    }
   ],
   "source": [
    "pd.DataFrame(multi.LearningPlatformSelect.value_counts())"
   ]
  },
  {
   "cell_type": "markdown",
   "metadata": {},
   "source": [
    "Ясно е, че отговорите на въпроса са конкатанирани в стринг и ще трябва да се разбият на отделни колони. За целта първо ще зачистим NaNs."
   ]
  },
  {
   "cell_type": "code",
   "execution_count": 38,
   "metadata": {
    "collapsed": false
   },
   "outputs": [
    {
     "data": {
      "text/plain": [
       "0        College/University,Conferences,Podcasts,Trade ...\n",
       "1                                                   Kaggle\n",
       "2        Arxiv,College/University,Kaggle,Online courses...\n",
       "3        Blogs,College/University,Conferences,Friends n...\n",
       "4                        Arxiv,Conferences,Kaggle,Textbook\n",
       "                               ...                        \n",
       "16711                                                     \n",
       "16712    Kaggle,Non-Kaggle online communities,Online co...\n",
       "16713                                                     \n",
       "16714                                                     \n",
       "16715                                                     \n",
       "Name: LearningPlatformSelect, Length: 16716, dtype: object"
      ]
     },
     "execution_count": 38,
     "metadata": {},
     "output_type": "execute_result"
    }
   ],
   "source": [
    "multi['LearningPlatformSelect'] = multi['LearningPlatformSelect'].fillna('')\n",
    "multi.LearningPlatformSelect"
   ]
  },
  {
   "cell_type": "markdown",
   "metadata": {},
   "source": [
    "Да съберем речник от възможните стойности:"
   ]
  },
  {
   "cell_type": "code",
   "execution_count": 39,
   "metadata": {
    "collapsed": false
   },
   "outputs": [
    {
     "name": "stdout",
     "output_type": "stream",
     "text": [
      "19 {'Non-Kaggle online communities', 'Stack Overflow Q&A', 'Blogs', 'YouTube Videos', 'Company internal community', 'Official documentation', 'Podcasts', 'Conferences', 'Textbook', 'Friends network', 'Newsletters', 'Tutoring/mentoring', 'Online courses', 'College/University', 'Arxiv', 'Personal Projects', 'Trade book', 'Other', 'Kaggle'}\n"
     ]
    }
   ],
   "source": [
    "accumulator = set([])\n",
    "multi.apply(lambda row: accumulator.update(set(row['LearningPlatformSelect'].split(','))), axis=1)\n",
    "accumulator = accumulator - set([''])\n",
    "print(len(accumulator), accumulator)"
   ]
  },
  {
   "cell_type": "markdown",
   "metadata": {},
   "source": [
    "Имам чувството, че този фичър няма да е единствения, при който ще е нужно подобно преформатиране. Затова ще си напишем процедура. (вариант с трансформатор ще пробвам в следващия notebook)"
   ]
  },
  {
   "cell_type": "code",
   "execution_count": 40,
   "metadata": {
    "collapsed": true
   },
   "outputs": [],
   "source": [
    "def TextToOneHot(source_df, target_feature, categories=None, separator=','):\n",
    "    # Returns new DataFrame with OneHotEncoding of Categories\n",
    "    #    extracted from the text of the target feature.\n",
    "    \n",
    "    # backup the data\n",
    "    df = source_df.copy()\n",
    "    \n",
    "    # clear NaNs\n",
    "    df[target_feature] = df[target_feature].fillna('')\n",
    "    \n",
    "    # extract categories, if not provided\n",
    "    if not categories:\n",
    "        categories = set([])\n",
    "        df.apply(lambda row: categories.update(set(row[target_feature].split(separator))), axis=1)\n",
    "        categories -= set([''])\n",
    "        \n",
    "    # loop the categories and map to new features\n",
    "    pattern = re.compile('[\\W]+')\n",
    "    for category in categories:\n",
    "        new_feature_name = target_feature + '_' + category.replace(' ', '_')\n",
    "        new_feature_name = pattern.sub('', new_feature_name)\n",
    "        df[new_feature_name] = df.apply(lambda row: float(bool(row[target_feature].count(category))), axis=1)\n",
    "    \n",
    "    return df\n"
   ]
  },
  {
   "cell_type": "markdown",
   "metadata": {},
   "source": [
    "Първо ще тествам с откъс от данните - приготвям dummy_df:"
   ]
  },
  {
   "cell_type": "code",
   "execution_count": 41,
   "metadata": {
    "collapsed": false
   },
   "outputs": [
    {
     "data": {
      "text/html": [
       "<div>\n",
       "<style scoped>\n",
       "    .dataframe tbody tr th:only-of-type {\n",
       "        vertical-align: middle;\n",
       "    }\n",
       "\n",
       "    .dataframe tbody tr th {\n",
       "        vertical-align: top;\n",
       "    }\n",
       "\n",
       "    .dataframe thead th {\n",
       "        text-align: right;\n",
       "    }\n",
       "</style>\n",
       "<table border=\"1\" class=\"dataframe\">\n",
       "  <thead>\n",
       "    <tr style=\"text-align: right;\">\n",
       "      <th></th>\n",
       "      <th>PersonalProjectsChallengeFreeForm</th>\n",
       "      <th>LearningPlatformSelect</th>\n",
       "      <th>LearningPlatformCommunityFreeForm</th>\n",
       "    </tr>\n",
       "  </thead>\n",
       "  <tbody>\n",
       "    <tr>\n",
       "      <th>0</th>\n",
       "      <td>Dataset aggregator/platform (i.e. Socrata/Kagg...</td>\n",
       "      <td>Arxiv,College/University,Kaggle,Online courses...</td>\n",
       "      <td>Very useful</td>\n",
       "    </tr>\n",
       "    <tr>\n",
       "      <th>1</th>\n",
       "      <td>GitHub</td>\n",
       "      <td>Arxiv,Conferences,Kaggle,Textbook</td>\n",
       "      <td>Very useful</td>\n",
       "    </tr>\n",
       "    <tr>\n",
       "      <th>2</th>\n",
       "      <td>Dataset aggregator/platform (i.e. Socrata/Kagg...</td>\n",
       "      <td>Arxiv,Blogs,Kaggle,Personal Projects,Textbook</td>\n",
       "      <td>Somewhat useful</td>\n",
       "    </tr>\n",
       "    <tr>\n",
       "      <th>3</th>\n",
       "      <td>I collect my own data (e.g. web-scraping)</td>\n",
       "      <td>Arxiv,Blogs,Conferences,Kaggle,Non-Kaggle onli...</td>\n",
       "      <td>Somewhat useful</td>\n",
       "    </tr>\n",
       "    <tr>\n",
       "      <th>4</th>\n",
       "      <td>Dataset aggregator/platform (i.e. Socrata/Kagg...</td>\n",
       "      <td>Arxiv,College/University,Kaggle,Stack Overflow...</td>\n",
       "      <td>Somewhat useful</td>\n",
       "    </tr>\n",
       "    <tr>\n",
       "      <th>...</th>\n",
       "      <td>...</td>\n",
       "      <td>...</td>\n",
       "      <td>...</td>\n",
       "    </tr>\n",
       "    <tr>\n",
       "      <th>8</th>\n",
       "      <td>University/Non-profit research group websites</td>\n",
       "      <td>None</td>\n",
       "      <td>Very useful</td>\n",
       "    </tr>\n",
       "    <tr>\n",
       "      <th>9</th>\n",
       "      <td>Dataset aggregator/platform (i.e. Socrata/Kagg...</td>\n",
       "      <td>Arxiv,Blogs,College/University,Kaggle,Newslett...</td>\n",
       "      <td>Very useful</td>\n",
       "    </tr>\n",
       "    <tr>\n",
       "      <th>10</th>\n",
       "      <td>Dataset aggregator/platform (i.e. Socrata/Kagg...</td>\n",
       "      <td>Arxiv,Blogs,College/University,Company interna...</td>\n",
       "      <td>Somewhat useful</td>\n",
       "    </tr>\n",
       "    <tr>\n",
       "      <th>11</th>\n",
       "      <td>University/Non-profit research group websites</td>\n",
       "      <td>Arxiv,Kaggle,Official documentation,Online cou...</td>\n",
       "      <td>Somewhat useful</td>\n",
       "    </tr>\n",
       "    <tr>\n",
       "      <th>12</th>\n",
       "      <td>Dataset aggregator/platform (i.e. Socrata/Kagg...</td>\n",
       "      <td>Arxiv,Blogs,Conferences,Kaggle,Non-Kaggle onli...</td>\n",
       "      <td>Very useful</td>\n",
       "    </tr>\n",
       "  </tbody>\n",
       "</table>\n",
       "<p>13 rows × 3 columns</p>\n",
       "</div>"
      ],
      "text/plain": [
       "                    PersonalProjectsChallengeFreeForm  \\\n",
       "0   Dataset aggregator/platform (i.e. Socrata/Kagg...   \n",
       "1                                              GitHub   \n",
       "2   Dataset aggregator/platform (i.e. Socrata/Kagg...   \n",
       "3           I collect my own data (e.g. web-scraping)   \n",
       "4   Dataset aggregator/platform (i.e. Socrata/Kagg...   \n",
       "..                                                ...   \n",
       "8       University/Non-profit research group websites   \n",
       "9   Dataset aggregator/platform (i.e. Socrata/Kagg...   \n",
       "10  Dataset aggregator/platform (i.e. Socrata/Kagg...   \n",
       "11      University/Non-profit research group websites   \n",
       "12  Dataset aggregator/platform (i.e. Socrata/Kagg...   \n",
       "\n",
       "                               LearningPlatformSelect  \\\n",
       "0   Arxiv,College/University,Kaggle,Online courses...   \n",
       "1                   Arxiv,Conferences,Kaggle,Textbook   \n",
       "2       Arxiv,Blogs,Kaggle,Personal Projects,Textbook   \n",
       "3   Arxiv,Blogs,Conferences,Kaggle,Non-Kaggle onli...   \n",
       "4   Arxiv,College/University,Kaggle,Stack Overflow...   \n",
       "..                                                ...   \n",
       "8                                                None   \n",
       "9   Arxiv,Blogs,College/University,Kaggle,Newslett...   \n",
       "10  Arxiv,Blogs,College/University,Company interna...   \n",
       "11  Arxiv,Kaggle,Official documentation,Online cou...   \n",
       "12  Arxiv,Blogs,Conferences,Kaggle,Non-Kaggle onli...   \n",
       "\n",
       "   LearningPlatformCommunityFreeForm  \n",
       "0                        Very useful  \n",
       "1                        Very useful  \n",
       "2                    Somewhat useful  \n",
       "3                    Somewhat useful  \n",
       "4                    Somewhat useful  \n",
       "..                               ...  \n",
       "8                        Very useful  \n",
       "9                        Very useful  \n",
       "10                   Somewhat useful  \n",
       "11                   Somewhat useful  \n",
       "12                       Very useful  \n",
       "\n",
       "[13 rows x 3 columns]"
      ]
     },
     "execution_count": 41,
     "metadata": {},
     "output_type": "execute_result"
    }
   ],
   "source": [
    "dummy_data = [[\"Dataset aggregator/platform (i.e. Socrata/Kaggle Datasets/data.world/etc.)\",\"Arxiv,College/University,Kaggle,Online courses,YouTube Videos\",\"Very useful\"],\n",
    "[\"GitHub\",\"Arxiv,Conferences,Kaggle,Textbook\",\"Very useful\"],\n",
    "[\"Dataset aggregator/platform (i.e. Socrata/Kaggle Datasets/data.world/etc.)\",\"Arxiv,Blogs,Kaggle,Personal Projects,Textbook\",\"Somewhat useful\"],\n",
    "[\"I collect my own data (e.g. web-scraping)\",\"Arxiv,Blogs,Conferences,Kaggle,Non-Kaggle online communities,Official documentation,Online courses,Personal Projects,Podcasts,Stack Overflow Q&A,Textbook,YouTube Videos\",\"Somewhat useful\"],\n",
    "[\"Dataset aggregator/platform (i.e. Socrata/Kaggle Datasets/data.world/etc.)\",\"Arxiv,College/University,Kaggle,Stack Overflow Q&A,Textbook,Tutoring/mentoring\",\"Somewhat useful\"],\n",
    "[\"Dataset aggregator/platform (i.e. Socrata/Kaggle Datasets/data.world/etc.)\",\"Arxiv,Blogs,Company internal community,Conferences,Kaggle,Non-Kaggle online communities,Personal Projects,Podcasts,Stack Overflow Q&A,Textbook,YouTube Videos\",\"Very useful\"],\n",
    "[\"Google Search\",\"Arxiv,Blogs,College/University,Company internal community,Conferences,Kaggle,Newsletters,Non-Kaggle online communities,Official documentation,Online courses,Personal Projects,Podcasts,Stack Overflow Q&A,Textbook,Trade book,Tutoring/mentoring,YouTube Videos\",\"Very useful\"],\n",
    "[\"I collect my own data (e.g. web-scraping)\",\"Arxiv,Blogs,Kaggle,Online courses,Personal Projects,Stack Overflow Q&A,YouTube Videos\",\"Very useful\"],\n",
    "[\"University/Non-profit research group websites\",\"Arxiv,Blogs,College/University,Conferences,Kaggle,Non-Kaggle online communities,Official documentation,Stack Overflow Q&A\",\"Very useful\"],\n",
    "[\"Dataset aggregator/platform (i.e. Socrata/Kaggle Datasets/data.world/etc.)\",\"Arxiv,Blogs,College/University,Kaggle,Newsletters,Stack Overflow Q&A,YouTube Videos\",\"Very useful\"],\n",
    "[\"Dataset aggregator/platform (i.e. Socrata/Kaggle Datasets/data.world/etc.)\",\"Arxiv,Blogs,College/University,Company internal community,Friends network,Kaggle,Non-Kaggle online communities,Official documentation,Online courses,Personal Projects,Stack Overflow Q&A,Textbook,YouTube Videos\",\"Somewhat useful\"],\n",
    "[\"University/Non-profit research group websites\",\"Arxiv,Kaggle,Official documentation,Online courses,Stack Overflow Q&A,YouTube Videos\",\"Somewhat useful\"],\n",
    "[\"Dataset aggregator/platform (i.e. Socrata/Kaggle Datasets/data.world/etc.)\",\"Arxiv,Blogs,Conferences,Kaggle,Non-Kaggle online communities\",\"Very useful\"]]\n",
    "\n",
    "dummy_df = pd.DataFrame(data=dummy_data)\n",
    "dummy_df.columns = ['PersonalProjectsChallengeFreeForm','LearningPlatformSelect','LearningPlatformCommunityFreeForm']\n",
    "\n",
    "# adding NaN to make it more realistic\n",
    "dummy_df['LearningPlatformSelect'][8] = None\n",
    "dummy_df"
   ]
  },
  {
   "cell_type": "markdown",
   "metadata": {},
   "source": [
    "Прилагаме процедурата за енкодинг:"
   ]
  },
  {
   "cell_type": "code",
   "execution_count": 42,
   "metadata": {
    "collapsed": false
   },
   "outputs": [
    {
     "data": {
      "text/html": [
       "<div>\n",
       "<style scoped>\n",
       "    .dataframe tbody tr th:only-of-type {\n",
       "        vertical-align: middle;\n",
       "    }\n",
       "\n",
       "    .dataframe tbody tr th {\n",
       "        vertical-align: top;\n",
       "    }\n",
       "\n",
       "    .dataframe thead th {\n",
       "        text-align: right;\n",
       "    }\n",
       "</style>\n",
       "<table border=\"1\" class=\"dataframe\">\n",
       "  <thead>\n",
       "    <tr style=\"text-align: right;\">\n",
       "      <th></th>\n",
       "      <th>PersonalProjectsChallengeFreeForm</th>\n",
       "      <th>LearningPlatformSelect</th>\n",
       "      <th>LearningPlatformCommunityFreeForm</th>\n",
       "      <th>LearningPlatformSelect_NonKaggle_online_communities</th>\n",
       "      <th>LearningPlatformSelect_Stack_Overflow_QA</th>\n",
       "      <th>LearningPlatformSelect_Blogs</th>\n",
       "      <th>LearningPlatformSelect_YouTube_Videos</th>\n",
       "      <th>LearningPlatformSelect_Company_internal_community</th>\n",
       "      <th>LearningPlatformSelect_Official_documentation</th>\n",
       "      <th>LearningPlatformSelect_Podcasts</th>\n",
       "      <th>...</th>\n",
       "      <th>LearningPlatformSelect_Textbook</th>\n",
       "      <th>LearningPlatformSelect_Newsletters</th>\n",
       "      <th>LearningPlatformSelect_Friends_network</th>\n",
       "      <th>LearningPlatformSelect_Tutoringmentoring</th>\n",
       "      <th>LearningPlatformSelect_Online_courses</th>\n",
       "      <th>LearningPlatformSelect_CollegeUniversity</th>\n",
       "      <th>LearningPlatformSelect_Arxiv</th>\n",
       "      <th>LearningPlatformSelect_Personal_Projects</th>\n",
       "      <th>LearningPlatformSelect_Trade_book</th>\n",
       "      <th>LearningPlatformSelect_Kaggle</th>\n",
       "    </tr>\n",
       "  </thead>\n",
       "  <tbody>\n",
       "    <tr>\n",
       "      <th>0</th>\n",
       "      <td>Dataset aggregator/platform (i.e. Socrata/Kagg...</td>\n",
       "      <td>Arxiv,College/University,Kaggle,Online courses...</td>\n",
       "      <td>Very useful</td>\n",
       "      <td>0.0</td>\n",
       "      <td>0.0</td>\n",
       "      <td>0.0</td>\n",
       "      <td>1.0</td>\n",
       "      <td>0.0</td>\n",
       "      <td>0.0</td>\n",
       "      <td>0.0</td>\n",
       "      <td>...</td>\n",
       "      <td>0.0</td>\n",
       "      <td>0.0</td>\n",
       "      <td>0.0</td>\n",
       "      <td>0.0</td>\n",
       "      <td>1.0</td>\n",
       "      <td>1.0</td>\n",
       "      <td>1.0</td>\n",
       "      <td>0.0</td>\n",
       "      <td>0.0</td>\n",
       "      <td>1.0</td>\n",
       "    </tr>\n",
       "    <tr>\n",
       "      <th>1</th>\n",
       "      <td>GitHub</td>\n",
       "      <td>Arxiv,Conferences,Kaggle,Textbook</td>\n",
       "      <td>Very useful</td>\n",
       "      <td>0.0</td>\n",
       "      <td>0.0</td>\n",
       "      <td>0.0</td>\n",
       "      <td>0.0</td>\n",
       "      <td>0.0</td>\n",
       "      <td>0.0</td>\n",
       "      <td>0.0</td>\n",
       "      <td>...</td>\n",
       "      <td>1.0</td>\n",
       "      <td>0.0</td>\n",
       "      <td>0.0</td>\n",
       "      <td>0.0</td>\n",
       "      <td>0.0</td>\n",
       "      <td>0.0</td>\n",
       "      <td>1.0</td>\n",
       "      <td>0.0</td>\n",
       "      <td>0.0</td>\n",
       "      <td>1.0</td>\n",
       "    </tr>\n",
       "    <tr>\n",
       "      <th>2</th>\n",
       "      <td>Dataset aggregator/platform (i.e. Socrata/Kagg...</td>\n",
       "      <td>Arxiv,Blogs,Kaggle,Personal Projects,Textbook</td>\n",
       "      <td>Somewhat useful</td>\n",
       "      <td>0.0</td>\n",
       "      <td>0.0</td>\n",
       "      <td>1.0</td>\n",
       "      <td>0.0</td>\n",
       "      <td>0.0</td>\n",
       "      <td>0.0</td>\n",
       "      <td>0.0</td>\n",
       "      <td>...</td>\n",
       "      <td>1.0</td>\n",
       "      <td>0.0</td>\n",
       "      <td>0.0</td>\n",
       "      <td>0.0</td>\n",
       "      <td>0.0</td>\n",
       "      <td>0.0</td>\n",
       "      <td>1.0</td>\n",
       "      <td>1.0</td>\n",
       "      <td>0.0</td>\n",
       "      <td>1.0</td>\n",
       "    </tr>\n",
       "    <tr>\n",
       "      <th>3</th>\n",
       "      <td>I collect my own data (e.g. web-scraping)</td>\n",
       "      <td>Arxiv,Blogs,Conferences,Kaggle,Non-Kaggle onli...</td>\n",
       "      <td>Somewhat useful</td>\n",
       "      <td>1.0</td>\n",
       "      <td>1.0</td>\n",
       "      <td>1.0</td>\n",
       "      <td>1.0</td>\n",
       "      <td>0.0</td>\n",
       "      <td>1.0</td>\n",
       "      <td>1.0</td>\n",
       "      <td>...</td>\n",
       "      <td>1.0</td>\n",
       "      <td>0.0</td>\n",
       "      <td>0.0</td>\n",
       "      <td>0.0</td>\n",
       "      <td>1.0</td>\n",
       "      <td>0.0</td>\n",
       "      <td>1.0</td>\n",
       "      <td>1.0</td>\n",
       "      <td>0.0</td>\n",
       "      <td>1.0</td>\n",
       "    </tr>\n",
       "    <tr>\n",
       "      <th>4</th>\n",
       "      <td>Dataset aggregator/platform (i.e. Socrata/Kagg...</td>\n",
       "      <td>Arxiv,College/University,Kaggle,Stack Overflow...</td>\n",
       "      <td>Somewhat useful</td>\n",
       "      <td>0.0</td>\n",
       "      <td>1.0</td>\n",
       "      <td>0.0</td>\n",
       "      <td>0.0</td>\n",
       "      <td>0.0</td>\n",
       "      <td>0.0</td>\n",
       "      <td>0.0</td>\n",
       "      <td>...</td>\n",
       "      <td>1.0</td>\n",
       "      <td>0.0</td>\n",
       "      <td>0.0</td>\n",
       "      <td>1.0</td>\n",
       "      <td>0.0</td>\n",
       "      <td>1.0</td>\n",
       "      <td>1.0</td>\n",
       "      <td>0.0</td>\n",
       "      <td>0.0</td>\n",
       "      <td>1.0</td>\n",
       "    </tr>\n",
       "    <tr>\n",
       "      <th>...</th>\n",
       "      <td>...</td>\n",
       "      <td>...</td>\n",
       "      <td>...</td>\n",
       "      <td>...</td>\n",
       "      <td>...</td>\n",
       "      <td>...</td>\n",
       "      <td>...</td>\n",
       "      <td>...</td>\n",
       "      <td>...</td>\n",
       "      <td>...</td>\n",
       "      <td>...</td>\n",
       "      <td>...</td>\n",
       "      <td>...</td>\n",
       "      <td>...</td>\n",
       "      <td>...</td>\n",
       "      <td>...</td>\n",
       "      <td>...</td>\n",
       "      <td>...</td>\n",
       "      <td>...</td>\n",
       "      <td>...</td>\n",
       "      <td>...</td>\n",
       "    </tr>\n",
       "    <tr>\n",
       "      <th>8</th>\n",
       "      <td>University/Non-profit research group websites</td>\n",
       "      <td></td>\n",
       "      <td>Very useful</td>\n",
       "      <td>0.0</td>\n",
       "      <td>0.0</td>\n",
       "      <td>0.0</td>\n",
       "      <td>0.0</td>\n",
       "      <td>0.0</td>\n",
       "      <td>0.0</td>\n",
       "      <td>0.0</td>\n",
       "      <td>...</td>\n",
       "      <td>0.0</td>\n",
       "      <td>0.0</td>\n",
       "      <td>0.0</td>\n",
       "      <td>0.0</td>\n",
       "      <td>0.0</td>\n",
       "      <td>0.0</td>\n",
       "      <td>0.0</td>\n",
       "      <td>0.0</td>\n",
       "      <td>0.0</td>\n",
       "      <td>0.0</td>\n",
       "    </tr>\n",
       "    <tr>\n",
       "      <th>9</th>\n",
       "      <td>Dataset aggregator/platform (i.e. Socrata/Kagg...</td>\n",
       "      <td>Arxiv,Blogs,College/University,Kaggle,Newslett...</td>\n",
       "      <td>Very useful</td>\n",
       "      <td>0.0</td>\n",
       "      <td>1.0</td>\n",
       "      <td>1.0</td>\n",
       "      <td>1.0</td>\n",
       "      <td>0.0</td>\n",
       "      <td>0.0</td>\n",
       "      <td>0.0</td>\n",
       "      <td>...</td>\n",
       "      <td>0.0</td>\n",
       "      <td>1.0</td>\n",
       "      <td>0.0</td>\n",
       "      <td>0.0</td>\n",
       "      <td>0.0</td>\n",
       "      <td>1.0</td>\n",
       "      <td>1.0</td>\n",
       "      <td>0.0</td>\n",
       "      <td>0.0</td>\n",
       "      <td>1.0</td>\n",
       "    </tr>\n",
       "    <tr>\n",
       "      <th>10</th>\n",
       "      <td>Dataset aggregator/platform (i.e. Socrata/Kagg...</td>\n",
       "      <td>Arxiv,Blogs,College/University,Company interna...</td>\n",
       "      <td>Somewhat useful</td>\n",
       "      <td>1.0</td>\n",
       "      <td>1.0</td>\n",
       "      <td>1.0</td>\n",
       "      <td>1.0</td>\n",
       "      <td>1.0</td>\n",
       "      <td>1.0</td>\n",
       "      <td>0.0</td>\n",
       "      <td>...</td>\n",
       "      <td>1.0</td>\n",
       "      <td>0.0</td>\n",
       "      <td>1.0</td>\n",
       "      <td>0.0</td>\n",
       "      <td>1.0</td>\n",
       "      <td>1.0</td>\n",
       "      <td>1.0</td>\n",
       "      <td>1.0</td>\n",
       "      <td>0.0</td>\n",
       "      <td>1.0</td>\n",
       "    </tr>\n",
       "    <tr>\n",
       "      <th>11</th>\n",
       "      <td>University/Non-profit research group websites</td>\n",
       "      <td>Arxiv,Kaggle,Official documentation,Online cou...</td>\n",
       "      <td>Somewhat useful</td>\n",
       "      <td>0.0</td>\n",
       "      <td>1.0</td>\n",
       "      <td>0.0</td>\n",
       "      <td>1.0</td>\n",
       "      <td>0.0</td>\n",
       "      <td>1.0</td>\n",
       "      <td>0.0</td>\n",
       "      <td>...</td>\n",
       "      <td>0.0</td>\n",
       "      <td>0.0</td>\n",
       "      <td>0.0</td>\n",
       "      <td>0.0</td>\n",
       "      <td>1.0</td>\n",
       "      <td>0.0</td>\n",
       "      <td>1.0</td>\n",
       "      <td>0.0</td>\n",
       "      <td>0.0</td>\n",
       "      <td>1.0</td>\n",
       "    </tr>\n",
       "    <tr>\n",
       "      <th>12</th>\n",
       "      <td>Dataset aggregator/platform (i.e. Socrata/Kagg...</td>\n",
       "      <td>Arxiv,Blogs,Conferences,Kaggle,Non-Kaggle onli...</td>\n",
       "      <td>Very useful</td>\n",
       "      <td>1.0</td>\n",
       "      <td>0.0</td>\n",
       "      <td>1.0</td>\n",
       "      <td>0.0</td>\n",
       "      <td>0.0</td>\n",
       "      <td>0.0</td>\n",
       "      <td>0.0</td>\n",
       "      <td>...</td>\n",
       "      <td>0.0</td>\n",
       "      <td>0.0</td>\n",
       "      <td>0.0</td>\n",
       "      <td>0.0</td>\n",
       "      <td>0.0</td>\n",
       "      <td>0.0</td>\n",
       "      <td>1.0</td>\n",
       "      <td>0.0</td>\n",
       "      <td>0.0</td>\n",
       "      <td>1.0</td>\n",
       "    </tr>\n",
       "  </tbody>\n",
       "</table>\n",
       "<p>13 rows × 21 columns</p>\n",
       "</div>"
      ],
      "text/plain": [
       "                    PersonalProjectsChallengeFreeForm  \\\n",
       "0   Dataset aggregator/platform (i.e. Socrata/Kagg...   \n",
       "1                                              GitHub   \n",
       "2   Dataset aggregator/platform (i.e. Socrata/Kagg...   \n",
       "3           I collect my own data (e.g. web-scraping)   \n",
       "4   Dataset aggregator/platform (i.e. Socrata/Kagg...   \n",
       "..                                                ...   \n",
       "8       University/Non-profit research group websites   \n",
       "9   Dataset aggregator/platform (i.e. Socrata/Kagg...   \n",
       "10  Dataset aggregator/platform (i.e. Socrata/Kagg...   \n",
       "11      University/Non-profit research group websites   \n",
       "12  Dataset aggregator/platform (i.e. Socrata/Kagg...   \n",
       "\n",
       "                               LearningPlatformSelect  \\\n",
       "0   Arxiv,College/University,Kaggle,Online courses...   \n",
       "1                   Arxiv,Conferences,Kaggle,Textbook   \n",
       "2       Arxiv,Blogs,Kaggle,Personal Projects,Textbook   \n",
       "3   Arxiv,Blogs,Conferences,Kaggle,Non-Kaggle onli...   \n",
       "4   Arxiv,College/University,Kaggle,Stack Overflow...   \n",
       "..                                                ...   \n",
       "8                                                       \n",
       "9   Arxiv,Blogs,College/University,Kaggle,Newslett...   \n",
       "10  Arxiv,Blogs,College/University,Company interna...   \n",
       "11  Arxiv,Kaggle,Official documentation,Online cou...   \n",
       "12  Arxiv,Blogs,Conferences,Kaggle,Non-Kaggle onli...   \n",
       "\n",
       "   LearningPlatformCommunityFreeForm  \\\n",
       "0                        Very useful   \n",
       "1                        Very useful   \n",
       "2                    Somewhat useful   \n",
       "3                    Somewhat useful   \n",
       "4                    Somewhat useful   \n",
       "..                               ...   \n",
       "8                        Very useful   \n",
       "9                        Very useful   \n",
       "10                   Somewhat useful   \n",
       "11                   Somewhat useful   \n",
       "12                       Very useful   \n",
       "\n",
       "    LearningPlatformSelect_NonKaggle_online_communities  \\\n",
       "0                                                 0.0     \n",
       "1                                                 0.0     \n",
       "2                                                 0.0     \n",
       "3                                                 1.0     \n",
       "4                                                 0.0     \n",
       "..                                                ...     \n",
       "8                                                 0.0     \n",
       "9                                                 0.0     \n",
       "10                                                1.0     \n",
       "11                                                0.0     \n",
       "12                                                1.0     \n",
       "\n",
       "    LearningPlatformSelect_Stack_Overflow_QA  LearningPlatformSelect_Blogs  \\\n",
       "0                                        0.0                           0.0   \n",
       "1                                        0.0                           0.0   \n",
       "2                                        0.0                           1.0   \n",
       "3                                        1.0                           1.0   \n",
       "4                                        1.0                           0.0   \n",
       "..                                       ...                           ...   \n",
       "8                                        0.0                           0.0   \n",
       "9                                        1.0                           1.0   \n",
       "10                                       1.0                           1.0   \n",
       "11                                       1.0                           0.0   \n",
       "12                                       0.0                           1.0   \n",
       "\n",
       "    LearningPlatformSelect_YouTube_Videos  \\\n",
       "0                                     1.0   \n",
       "1                                     0.0   \n",
       "2                                     0.0   \n",
       "3                                     1.0   \n",
       "4                                     0.0   \n",
       "..                                    ...   \n",
       "8                                     0.0   \n",
       "9                                     1.0   \n",
       "10                                    1.0   \n",
       "11                                    1.0   \n",
       "12                                    0.0   \n",
       "\n",
       "    LearningPlatformSelect_Company_internal_community  \\\n",
       "0                                                 0.0   \n",
       "1                                                 0.0   \n",
       "2                                                 0.0   \n",
       "3                                                 0.0   \n",
       "4                                                 0.0   \n",
       "..                                                ...   \n",
       "8                                                 0.0   \n",
       "9                                                 0.0   \n",
       "10                                                1.0   \n",
       "11                                                0.0   \n",
       "12                                                0.0   \n",
       "\n",
       "    LearningPlatformSelect_Official_documentation  \\\n",
       "0                                             0.0   \n",
       "1                                             0.0   \n",
       "2                                             0.0   \n",
       "3                                             1.0   \n",
       "4                                             0.0   \n",
       "..                                            ...   \n",
       "8                                             0.0   \n",
       "9                                             0.0   \n",
       "10                                            1.0   \n",
       "11                                            1.0   \n",
       "12                                            0.0   \n",
       "\n",
       "    LearningPlatformSelect_Podcasts              ...                \\\n",
       "0                               0.0              ...                 \n",
       "1                               0.0              ...                 \n",
       "2                               0.0              ...                 \n",
       "3                               1.0              ...                 \n",
       "4                               0.0              ...                 \n",
       "..                              ...              ...                 \n",
       "8                               0.0              ...                 \n",
       "9                               0.0              ...                 \n",
       "10                              0.0              ...                 \n",
       "11                              0.0              ...                 \n",
       "12                              0.0              ...                 \n",
       "\n",
       "    LearningPlatformSelect_Textbook  LearningPlatformSelect_Newsletters  \\\n",
       "0                               0.0                                 0.0   \n",
       "1                               1.0                                 0.0   \n",
       "2                               1.0                                 0.0   \n",
       "3                               1.0                                 0.0   \n",
       "4                               1.0                                 0.0   \n",
       "..                              ...                                 ...   \n",
       "8                               0.0                                 0.0   \n",
       "9                               0.0                                 1.0   \n",
       "10                              1.0                                 0.0   \n",
       "11                              0.0                                 0.0   \n",
       "12                              0.0                                 0.0   \n",
       "\n",
       "    LearningPlatformSelect_Friends_network  \\\n",
       "0                                      0.0   \n",
       "1                                      0.0   \n",
       "2                                      0.0   \n",
       "3                                      0.0   \n",
       "4                                      0.0   \n",
       "..                                     ...   \n",
       "8                                      0.0   \n",
       "9                                      0.0   \n",
       "10                                     1.0   \n",
       "11                                     0.0   \n",
       "12                                     0.0   \n",
       "\n",
       "    LearningPlatformSelect_Tutoringmentoring  \\\n",
       "0                                        0.0   \n",
       "1                                        0.0   \n",
       "2                                        0.0   \n",
       "3                                        0.0   \n",
       "4                                        1.0   \n",
       "..                                       ...   \n",
       "8                                        0.0   \n",
       "9                                        0.0   \n",
       "10                                       0.0   \n",
       "11                                       0.0   \n",
       "12                                       0.0   \n",
       "\n",
       "    LearningPlatformSelect_Online_courses  \\\n",
       "0                                     1.0   \n",
       "1                                     0.0   \n",
       "2                                     0.0   \n",
       "3                                     1.0   \n",
       "4                                     0.0   \n",
       "..                                    ...   \n",
       "8                                     0.0   \n",
       "9                                     0.0   \n",
       "10                                    1.0   \n",
       "11                                    1.0   \n",
       "12                                    0.0   \n",
       "\n",
       "    LearningPlatformSelect_CollegeUniversity  LearningPlatformSelect_Arxiv  \\\n",
       "0                                        1.0                           1.0   \n",
       "1                                        0.0                           1.0   \n",
       "2                                        0.0                           1.0   \n",
       "3                                        0.0                           1.0   \n",
       "4                                        1.0                           1.0   \n",
       "..                                       ...                           ...   \n",
       "8                                        0.0                           0.0   \n",
       "9                                        1.0                           1.0   \n",
       "10                                       1.0                           1.0   \n",
       "11                                       0.0                           1.0   \n",
       "12                                       0.0                           1.0   \n",
       "\n",
       "    LearningPlatformSelect_Personal_Projects  \\\n",
       "0                                        0.0   \n",
       "1                                        0.0   \n",
       "2                                        1.0   \n",
       "3                                        1.0   \n",
       "4                                        0.0   \n",
       "..                                       ...   \n",
       "8                                        0.0   \n",
       "9                                        0.0   \n",
       "10                                       1.0   \n",
       "11                                       0.0   \n",
       "12                                       0.0   \n",
       "\n",
       "    LearningPlatformSelect_Trade_book  LearningPlatformSelect_Kaggle  \n",
       "0                                 0.0                            1.0  \n",
       "1                                 0.0                            1.0  \n",
       "2                                 0.0                            1.0  \n",
       "3                                 0.0                            1.0  \n",
       "4                                 0.0                            1.0  \n",
       "..                                ...                            ...  \n",
       "8                                 0.0                            0.0  \n",
       "9                                 0.0                            1.0  \n",
       "10                                0.0                            1.0  \n",
       "11                                0.0                            1.0  \n",
       "12                                0.0                            1.0  \n",
       "\n",
       "[13 rows x 21 columns]"
      ]
     },
     "execution_count": 42,
     "metadata": {},
     "output_type": "execute_result"
    }
   ],
   "source": [
    "new_df = TextToOneHot(dummy_df, 'LearningPlatformSelect')\n",
    "new_df"
   ]
  },
  {
   "cell_type": "markdown",
   "metadata": {},
   "source": [
    "Проверяваме резултата:\n",
    " * стойността в новия DataFrame\n",
    " * стойността в оригиналния, dummy DataFrame\n",
    " * `str.count('LearningPlatformSelect')` върху стойността от dummy DataFrame"
   ]
  },
  {
   "cell_type": "code",
   "execution_count": 43,
   "metadata": {
    "collapsed": false
   },
   "outputs": [
    {
     "data": {
      "text/html": [
       "<div>\n",
       "<style scoped>\n",
       "    .dataframe tbody tr th:only-of-type {\n",
       "        vertical-align: middle;\n",
       "    }\n",
       "\n",
       "    .dataframe tbody tr th {\n",
       "        vertical-align: top;\n",
       "    }\n",
       "\n",
       "    .dataframe thead th {\n",
       "        text-align: right;\n",
       "    }\n",
       "</style>\n",
       "<table border=\"1\" class=\"dataframe\">\n",
       "  <thead>\n",
       "    <tr style=\"text-align: right;\">\n",
       "      <th></th>\n",
       "      <th>NonKaggle_online_communities</th>\n",
       "      <th>count `Non-Kaggle`</th>\n",
       "      <th>old</th>\n",
       "    </tr>\n",
       "  </thead>\n",
       "  <tbody>\n",
       "    <tr>\n",
       "      <th>0</th>\n",
       "      <td>0.0</td>\n",
       "      <td>0</td>\n",
       "      <td>Arxiv,College/University,Kaggle,Online courses...</td>\n",
       "    </tr>\n",
       "    <tr>\n",
       "      <th>1</th>\n",
       "      <td>0.0</td>\n",
       "      <td>0</td>\n",
       "      <td>Arxiv,Conferences,Kaggle,Textbook</td>\n",
       "    </tr>\n",
       "    <tr>\n",
       "      <th>2</th>\n",
       "      <td>0.0</td>\n",
       "      <td>0</td>\n",
       "      <td>Arxiv,Blogs,Kaggle,Personal Projects,Textbook</td>\n",
       "    </tr>\n",
       "    <tr>\n",
       "      <th>3</th>\n",
       "      <td>1.0</td>\n",
       "      <td>1</td>\n",
       "      <td>Arxiv,Blogs,Conferences,Kaggle,Non-Kaggle onli...</td>\n",
       "    </tr>\n",
       "    <tr>\n",
       "      <th>4</th>\n",
       "      <td>0.0</td>\n",
       "      <td>0</td>\n",
       "      <td>Arxiv,College/University,Kaggle,Stack Overflow...</td>\n",
       "    </tr>\n",
       "    <tr>\n",
       "      <th>...</th>\n",
       "      <td>...</td>\n",
       "      <td>...</td>\n",
       "      <td>...</td>\n",
       "    </tr>\n",
       "    <tr>\n",
       "      <th>8</th>\n",
       "      <td>0.0</td>\n",
       "      <td></td>\n",
       "      <td>None</td>\n",
       "    </tr>\n",
       "    <tr>\n",
       "      <th>9</th>\n",
       "      <td>0.0</td>\n",
       "      <td>0</td>\n",
       "      <td>Arxiv,Blogs,College/University,Kaggle,Newslett...</td>\n",
       "    </tr>\n",
       "    <tr>\n",
       "      <th>10</th>\n",
       "      <td>1.0</td>\n",
       "      <td>1</td>\n",
       "      <td>Arxiv,Blogs,College/University,Company interna...</td>\n",
       "    </tr>\n",
       "    <tr>\n",
       "      <th>11</th>\n",
       "      <td>0.0</td>\n",
       "      <td>0</td>\n",
       "      <td>Arxiv,Kaggle,Official documentation,Online cou...</td>\n",
       "    </tr>\n",
       "    <tr>\n",
       "      <th>12</th>\n",
       "      <td>1.0</td>\n",
       "      <td>1</td>\n",
       "      <td>Arxiv,Blogs,Conferences,Kaggle,Non-Kaggle onli...</td>\n",
       "    </tr>\n",
       "  </tbody>\n",
       "</table>\n",
       "<p>13 rows × 3 columns</p>\n",
       "</div>"
      ],
      "text/plain": [
       "    NonKaggle_online_communities count `Non-Kaggle`  \\\n",
       "0                            0.0                  0   \n",
       "1                            0.0                  0   \n",
       "2                            0.0                  0   \n",
       "3                            1.0                  1   \n",
       "4                            0.0                  0   \n",
       "..                           ...                ...   \n",
       "8                            0.0                      \n",
       "9                            0.0                  0   \n",
       "10                           1.0                  1   \n",
       "11                           0.0                  0   \n",
       "12                           1.0                  1   \n",
       "\n",
       "                                                  old  \n",
       "0   Arxiv,College/University,Kaggle,Online courses...  \n",
       "1                   Arxiv,Conferences,Kaggle,Textbook  \n",
       "2       Arxiv,Blogs,Kaggle,Personal Projects,Textbook  \n",
       "3   Arxiv,Blogs,Conferences,Kaggle,Non-Kaggle onli...  \n",
       "4   Arxiv,College/University,Kaggle,Stack Overflow...  \n",
       "..                                                ...  \n",
       "8                                                None  \n",
       "9   Arxiv,Blogs,College/University,Kaggle,Newslett...  \n",
       "10  Arxiv,Blogs,College/University,Company interna...  \n",
       "11  Arxiv,Kaggle,Official documentation,Online cou...  \n",
       "12  Arxiv,Blogs,Conferences,Kaggle,Non-Kaggle onli...  \n",
       "\n",
       "[13 rows x 3 columns]"
      ]
     },
     "execution_count": 43,
     "metadata": {},
     "output_type": "execute_result"
    }
   ],
   "source": [
    "pd.DataFrame(data = {'old': dummy_df['LearningPlatformSelect'],\\\n",
    "                     'NonKaggle_online_communities': new_df.LearningPlatformSelect_NonKaggle_online_communities,\\\n",
    "                     'count `Non-Kaggle`': dummy_df['LearningPlatformSelect'].apply(lambda row: '' if not row else row.count('Non-Kaggle online communities'))\n",
    "                    })"
   ]
  },
  {
   "cell_type": "markdown",
   "metadata": {},
   "source": [
    "To be continued..."
   ]
  }
 ],
 "metadata": {
  "kernelspec": {
   "display_name": "Python 3",
   "language": "python",
   "name": "python3"
  },
  "language_info": {
   "codemirror_mode": {
    "name": "ipython",
    "version": 3
   },
   "file_extension": ".py",
   "mimetype": "text/x-python",
   "name": "python",
   "nbconvert_exporter": "python",
   "pygments_lexer": "ipython3",
   "version": "3.6.3"
  }
 },
 "nbformat": 4,
 "nbformat_minor": 2
}
